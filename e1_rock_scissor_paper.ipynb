{
 "cells": [
  {
   "cell_type": "markdown",
   "metadata": {},
   "source": [
    "# 학습 데이터와 테스트 데이터 준비 함수"
   ]
  },
  {
   "cell_type": "code",
   "execution_count": 107,
   "metadata": {},
   "outputs": [],
   "source": [
    "import os, glob\n",
    "from PIL import Image\n",
    "\n",
    "def load_data(img_path):\n",
    "    # 가위 : 0, 바위 : 1, 보 : 2\n",
    "    number_of_data=300   # 가위바위보 이미지 개수 총합에 주의하세요.\n",
    "    img_size=28\n",
    "    color=3\n",
    "    #이미지 데이터와 라벨(가위 : 0, 바위 : 1, 보 : 2) 데이터를 담을 행렬(matrix) 영역을 생성합니다.\n",
    "    imgs=np.zeros(number_of_data*img_size*img_size*color,dtype=np.int32).reshape(number_of_data,img_size,img_size,color)\n",
    "    labels=np.zeros(number_of_data,dtype=np.int32)\n",
    "\n",
    "    idx=0\n",
    "    for file in glob.iglob(img_path+'/scissor/*.jpg'):\n",
    "        img = np.array(Image.open(file),dtype=np.int32)\n",
    "        imgs[idx,:,:,:]=img    # 데이터 영역에 이미지 행렬을 복사\n",
    "        labels[idx]=0   # 가위 : 0\n",
    "        idx=idx+1\n",
    "\n",
    "    for file in glob.iglob(img_path+'/rock/*.jpg'):\n",
    "        img = np.array(Image.open(file),dtype=np.int32)\n",
    "        imgs[idx,:,:,:]=img    # 데이터 영역에 이미지 행렬을 복사\n",
    "        labels[idx]=1   # 바위 : 1\n",
    "        idx=idx+1       \n",
    "    \n",
    "    for file in glob.iglob(img_path+'/paper/*.jpg'):\n",
    "        img = np.array(Image.open(file),dtype=np.int32)\n",
    "        imgs[idx,:,:,:]=img    # 데이터 영역에 이미지 행렬을 복사\n",
    "        labels[idx]=2   # 보 : 2\n",
    "        idx=idx+1\n",
    "        \n",
    "    print(\"데이터(x_train)의 이미지 개수는\",idx,\"입니다.\")\n",
    "    \n",
    "    imgs_norm= imgs / 255.0   # 입력은 0~1 사이의 값으로 정규화\n",
    "\n",
    "    print(\"x_train shape: {}\".format(imgs_norm.shape))\n",
    "    print(\"y_train shape: {}\".format(labels.shape))\n",
    "\n",
    "    return imgs, labels"
   ]
  },
  {
   "cell_type": "markdown",
   "metadata": {},
   "source": [
    "#  이미지 데이터 그리기 함수"
   ]
  },
  {
   "cell_type": "code",
   "execution_count": 108,
   "metadata": {},
   "outputs": [],
   "source": [
    "import matplotlib.pyplot as plt\n",
    "\n",
    "def draw_data(images, labels, index):\n",
    "    plt.imshow(images[index])\n",
    "    print('라벨: ', labels[index])"
   ]
  },
  {
   "cell_type": "markdown",
   "metadata": {},
   "source": [
    "# 모델 생성 함수"
   ]
  },
  {
   "cell_type": "code",
   "execution_count": 244,
   "metadata": {},
   "outputs": [],
   "source": [
    "import tensorflow as tf\n",
    "from tensorflow import keras\n",
    "import numpy as np\n",
    "from tensorflow.keras import optimizers\n",
    "\n",
    "# model을 직접 만들어 보세요.\n",
    "def make_model():\n",
    "    n_channel_1=32\n",
    "    n_channel_2=64\n",
    "    n_dense_1=16\n",
    "\n",
    "    model=keras.models.Sequential()\n",
    "    model.add(keras.layers.Conv2D(n_channel_1, (3,3), activation='relu', input_shape=(28,28,3)))\n",
    "    model.add(keras.layers.MaxPool2D(2,2))\n",
    "    model.add(keras.layers.Conv2D(n_channel_2, (3,3), activation='relu'))\n",
    "    model.add(keras.layers.MaxPooling2D((2,2)))\n",
    "    model.add(keras.layers.Flatten())\n",
    "    model.add(keras.layers.Dense(n_dense_1, activation='relu'))\n",
    "    model.add(keras.layers.Dense(3, activation='softmax'))\n",
    "\n",
    "    model.summary()\n",
    "    \n",
    "    optimizer = optimizers.Nadam()\n",
    "    model.compile(optimizer=optimizer,\n",
    "                 loss='sparse_categorical_crossentropy',\n",
    "                 metrics=['accuracy'])\n",
    "    return model"
   ]
  },
  {
   "cell_type": "markdown",
   "metadata": {},
   "source": [
    "# 메인 코드"
   ]
  },
  {
   "cell_type": "markdown",
   "metadata": {},
   "source": [
    "훈련 데이터 준비"
   ]
  },
  {
   "cell_type": "code",
   "execution_count": 245,
   "metadata": {},
   "outputs": [
    {
     "name": "stdout",
     "output_type": "stream",
     "text": [
      "데이터(x_train)의 이미지 개수는 300 입니다.\n",
      "x_train shape: (300, 28, 28, 3)\n",
      "y_train shape: (300,)\n",
      "라벨:  0\n"
     ]
    },
    {
     "data": {
      "image/png": "[encoded data removed]",
      "text/plain": [
       "<Figure size 432x288 with 1 Axes>"
      ]
     },
     "metadata": {
      "needs_background": "light"
     },
     "output_type": "display_data"
    }
   ],
   "source": [
    "# 훈련 데이터를 준비합니다.\n",
    "image_dir_path = os.getenv(\"HOME\") + \"/aiffel/rock_scissor_paper/train\"\n",
    "(x_train, y_train)=load_data(image_dir_path)\n",
    "\n",
    "# 훈련 데이터를 그려봅니다.\n",
    "draw_data(x_train, y_train, 0)"
   ]
  },
  {
   "cell_type": "markdown",
   "metadata": {},
   "source": [
    "모델 준비"
   ]
  },
  {
   "cell_type": "code",
   "execution_count": 250,
   "metadata": {},
   "outputs": [
    {
     "name": "stdout",
     "output_type": "stream",
     "text": [
      "Model: \"sequential_40\"\n",
      "_________________________________________________________________\n",
      "Layer (type)                 Output Shape              Param #   \n",
      "=================================================================\n",
      "conv2d_80 (Conv2D)           (None, 26, 26, 32)        896       \n",
      "_________________________________________________________________\n",
      "max_pooling2d_80 (MaxPooling (None, 13, 13, 32)        0         \n",
      "_________________________________________________________________\n",
      "conv2d_81 (Conv2D)           (None, 11, 11, 64)        18496     \n",
      "_________________________________________________________________\n",
      "max_pooling2d_81 (MaxPooling (None, 5, 5, 64)          0         \n",
      "_________________________________________________________________\n",
      "flatten_40 (Flatten)         (None, 1600)              0         \n",
      "_________________________________________________________________\n",
      "dense_80 (Dense)             (None, 16)                25616     \n",
      "_________________________________________________________________\n",
      "dense_81 (Dense)             (None, 3)                 51        \n",
      "=================================================================\n",
      "Total params: 45,059\n",
      "Trainable params: 45,059\n",
      "Non-trainable params: 0\n",
      "_________________________________________________________________\n"
     ]
    }
   ],
   "source": [
    "model = make_model()"
   ]
  },
  {
   "cell_type": "markdown",
   "metadata": {},
   "source": [
    "모델 훈련"
   ]
  },
  {
   "cell_type": "code",
   "execution_count": 251,
   "metadata": {},
   "outputs": [
    {
     "name": "stdout",
     "output_type": "stream",
     "text": [
      "Epoch 1/100\n",
      "14/14 [==============================] - 0s 14ms/step - loss: 14.6746 - accuracy: 0.4179 - val_loss: 1.6114 - val_accuracy: 0.4500\n",
      "Epoch 2/100\n",
      "14/14 [==============================] - 0s 10ms/step - loss: 2.8015 - accuracy: 0.5571 - val_loss: 10.6103 - val_accuracy: 0.0000e+00\n",
      "Epoch 3/100\n",
      "14/14 [==============================] - 0s 10ms/step - loss: 1.5022 - accuracy: 0.6571 - val_loss: 1.7316 - val_accuracy: 0.4500\n",
      "Epoch 4/100\n",
      "14/14 [==============================] - 0s 10ms/step - loss: 1.0384 - accuracy: 0.7393 - val_loss: 1.8094 - val_accuracy: 0.5500\n",
      "Epoch 5/100\n",
      "14/14 [==============================] - 0s 10ms/step - loss: 1.0312 - accuracy: 0.7429 - val_loss: 0.0927 - val_accuracy: 0.9500\n",
      "Epoch 6/100\n",
      "14/14 [==============================] - 0s 10ms/step - loss: 0.9126 - accuracy: 0.7643 - val_loss: 1.2299 - val_accuracy: 0.4500\n",
      "Epoch 7/100\n",
      "14/14 [==============================] - 0s 10ms/step - loss: 0.9067 - accuracy: 0.7250 - val_loss: 0.9823 - val_accuracy: 0.5000\n",
      "Epoch 8/100\n",
      "14/14 [==============================] - 0s 10ms/step - loss: 0.6500 - accuracy: 0.7857 - val_loss: 0.4511 - val_accuracy: 0.8500\n",
      "Epoch 9/100\n",
      "14/14 [==============================] - 0s 10ms/step - loss: 0.7798 - accuracy: 0.7500 - val_loss: 0.3629 - val_accuracy: 0.7500\n",
      "Epoch 10/100\n",
      "14/14 [==============================] - 0s 9ms/step - loss: 0.4751 - accuracy: 0.8000 - val_loss: 1.2015 - val_accuracy: 0.5500\n",
      "Epoch 11/100\n",
      "14/14 [==============================] - 0s 10ms/step - loss: 0.3777 - accuracy: 0.8679 - val_loss: 0.1454 - val_accuracy: 1.0000\n",
      "Epoch 12/100\n",
      "14/14 [==============================] - 0s 10ms/step - loss: 0.6429 - accuracy: 0.8036 - val_loss: 0.1498 - val_accuracy: 1.0000\n",
      "Epoch 13/100\n",
      "14/14 [==============================] - 0s 10ms/step - loss: 0.5514 - accuracy: 0.8179 - val_loss: 0.4127 - val_accuracy: 0.7500\n",
      "Epoch 14/100\n",
      "14/14 [==============================] - 0s 10ms/step - loss: 0.3506 - accuracy: 0.8714 - val_loss: 0.1043 - val_accuracy: 1.0000\n",
      "Epoch 15/100\n",
      "14/14 [==============================] - 0s 10ms/step - loss: 0.3009 - accuracy: 0.8786 - val_loss: 1.7029 - val_accuracy: 0.5500\n",
      "Epoch 16/100\n",
      "14/14 [==============================] - 0s 10ms/step - loss: 0.3409 - accuracy: 0.8786 - val_loss: 0.0307 - val_accuracy: 1.0000\n",
      "Epoch 17/100\n",
      "14/14 [==============================] - 0s 10ms/step - loss: 0.2645 - accuracy: 0.9214 - val_loss: 0.2808 - val_accuracy: 0.9000\n",
      "Epoch 18/100\n",
      "14/14 [==============================] - 0s 11ms/step - loss: 0.1663 - accuracy: 0.9464 - val_loss: 0.1825 - val_accuracy: 0.8000\n",
      "Epoch 19/100\n",
      "14/14 [==============================] - 0s 10ms/step - loss: 0.2507 - accuracy: 0.9000 - val_loss: 0.0897 - val_accuracy: 1.0000\n",
      "Epoch 20/100\n",
      "14/14 [==============================] - 0s 9ms/step - loss: 0.2016 - accuracy: 0.9357 - val_loss: 0.0142 - val_accuracy: 1.0000\n",
      "Epoch 21/100\n",
      "14/14 [==============================] - 0s 10ms/step - loss: 0.3913 - accuracy: 0.8714 - val_loss: 1.7923 - val_accuracy: 0.4000\n",
      "Epoch 22/100\n",
      "14/14 [==============================] - 0s 9ms/step - loss: 0.4097 - accuracy: 0.8571 - val_loss: 0.0953 - val_accuracy: 1.0000\n",
      "Epoch 23/100\n",
      "14/14 [==============================] - 0s 10ms/step - loss: 0.2838 - accuracy: 0.9071 - val_loss: 0.0290 - val_accuracy: 1.0000\n",
      "Epoch 24/100\n",
      "14/14 [==============================] - 0s 10ms/step - loss: 0.1694 - accuracy: 0.9286 - val_loss: 0.0465 - val_accuracy: 1.0000\n",
      "Epoch 25/100\n",
      "14/14 [==============================] - 0s 12ms/step - loss: 0.1701 - accuracy: 0.9429 - val_loss: 0.0596 - val_accuracy: 1.0000\n",
      "Epoch 26/100\n",
      "14/14 [==============================] - 0s 10ms/step - loss: 0.1466 - accuracy: 0.9464 - val_loss: 0.0252 - val_accuracy: 1.0000\n",
      "Epoch 27/100\n",
      "14/14 [==============================] - 0s 10ms/step - loss: 0.2085 - accuracy: 0.9179 - val_loss: 0.0444 - val_accuracy: 1.0000\n",
      "Epoch 28/100\n",
      "14/14 [==============================] - 0s 10ms/step - loss: 0.1633 - accuracy: 0.9357 - val_loss: 0.0871 - val_accuracy: 1.0000\n",
      "Epoch 29/100\n",
      "14/14 [==============================] - 0s 10ms/step - loss: 0.1037 - accuracy: 0.9607 - val_loss: 0.1019 - val_accuracy: 0.9500\n",
      "Epoch 30/100\n",
      "14/14 [==============================] - 0s 10ms/step - loss: 0.1346 - accuracy: 0.9500 - val_loss: 0.0337 - val_accuracy: 1.0000\n",
      "Epoch 31/100\n",
      "14/14 [==============================] - 0s 10ms/step - loss: 0.0975 - accuracy: 0.9571 - val_loss: 0.0672 - val_accuracy: 1.0000\n",
      "Epoch 32/100\n",
      "14/14 [==============================] - 0s 10ms/step - loss: 0.0669 - accuracy: 0.9786 - val_loss: 0.0075 - val_accuracy: 1.0000\n",
      "Epoch 33/100\n",
      "14/14 [==============================] - 0s 10ms/step - loss: 0.1151 - accuracy: 0.9607 - val_loss: 0.0010 - val_accuracy: 1.0000\n",
      "Epoch 34/100\n",
      "14/14 [==============================] - 0s 10ms/step - loss: 0.0624 - accuracy: 0.9643 - val_loss: 0.0180 - val_accuracy: 1.0000\n",
      "Epoch 35/100\n",
      "14/14 [==============================] - 0s 10ms/step - loss: 0.0929 - accuracy: 0.9679 - val_loss: 0.0697 - val_accuracy: 1.0000\n",
      "Epoch 36/100\n",
      "14/14 [==============================] - 0s 10ms/step - loss: 0.1493 - accuracy: 0.9429 - val_loss: 0.0594 - val_accuracy: 1.0000\n",
      "Epoch 37/100\n",
      "14/14 [==============================] - 0s 10ms/step - loss: 0.1050 - accuracy: 0.9500 - val_loss: 0.1251 - val_accuracy: 0.9500\n",
      "Epoch 38/100\n",
      "14/14 [==============================] - 0s 10ms/step - loss: 0.0787 - accuracy: 0.9786 - val_loss: 0.2780 - val_accuracy: 0.9000\n",
      "Epoch 39/100\n",
      "14/14 [==============================] - 0s 10ms/step - loss: 0.0573 - accuracy: 0.9750 - val_loss: 0.0566 - val_accuracy: 1.0000\n",
      "Epoch 40/100\n",
      "14/14 [==============================] - 0s 10ms/step - loss: 0.1280 - accuracy: 0.9429 - val_loss: 0.2536 - val_accuracy: 0.8500\n",
      "Epoch 41/100\n",
      "14/14 [==============================] - 0s 10ms/step - loss: 0.1072 - accuracy: 0.9536 - val_loss: 1.2968 - val_accuracy: 0.5000\n",
      "Epoch 42/100\n",
      "14/14 [==============================] - 0s 10ms/step - loss: 0.0923 - accuracy: 0.9714 - val_loss: 0.0887 - val_accuracy: 1.0000\n",
      "Epoch 43/100\n",
      "14/14 [==============================] - 0s 10ms/step - loss: 0.1319 - accuracy: 0.9464 - val_loss: 0.2121 - val_accuracy: 0.9000\n",
      "Epoch 44/100\n",
      "14/14 [==============================] - 0s 10ms/step - loss: 0.1117 - accuracy: 0.9571 - val_loss: 0.2313 - val_accuracy: 0.9500\n",
      "Epoch 45/100\n",
      "14/14 [==============================] - 0s 10ms/step - loss: 0.1490 - accuracy: 0.9464 - val_loss: 0.0317 - val_accuracy: 1.0000\n",
      "Epoch 46/100\n",
      "14/14 [==============================] - 0s 10ms/step - loss: 0.0969 - accuracy: 0.9714 - val_loss: 0.0762 - val_accuracy: 1.0000\n",
      "Epoch 47/100\n",
      "14/14 [==============================] - 0s 10ms/step - loss: 0.1085 - accuracy: 0.9679 - val_loss: 0.2201 - val_accuracy: 0.9500\n",
      "Epoch 48/100\n",
      "14/14 [==============================] - 0s 10ms/step - loss: 0.0774 - accuracy: 0.9714 - val_loss: 0.0307 - val_accuracy: 1.0000\n",
      "Epoch 49/100\n",
      "14/14 [==============================] - 0s 12ms/step - loss: 0.0571 - accuracy: 0.9821 - val_loss: 0.0078 - val_accuracy: 1.0000\n",
      "Epoch 50/100\n",
      "14/14 [==============================] - 0s 10ms/step - loss: 0.0378 - accuracy: 0.9929 - val_loss: 0.0017 - val_accuracy: 1.0000\n",
      "Epoch 51/100\n",
      "14/14 [==============================] - 0s 10ms/step - loss: 0.0214 - accuracy: 0.9964 - val_loss: 0.0015 - val_accuracy: 1.0000\n",
      "Epoch 52/100\n",
      "14/14 [==============================] - 0s 9ms/step - loss: 0.0484 - accuracy: 0.9857 - val_loss: 0.1147 - val_accuracy: 0.9000\n",
      "Epoch 53/100\n",
      "14/14 [==============================] - 0s 9ms/step - loss: 0.0952 - accuracy: 0.9500 - val_loss: 0.0119 - val_accuracy: 1.0000\n",
      "Epoch 54/100\n",
      "14/14 [==============================] - 0s 10ms/step - loss: 0.0386 - accuracy: 0.9893 - val_loss: 0.0336 - val_accuracy: 1.0000\n",
      "Epoch 55/100\n",
      "14/14 [==============================] - 0s 9ms/step - loss: 0.1428 - accuracy: 0.9500 - val_loss: 0.0443 - val_accuracy: 1.0000\n",
      "Epoch 56/100\n",
      "14/14 [==============================] - 0s 10ms/step - loss: 0.0451 - accuracy: 0.9893 - val_loss: 0.0209 - val_accuracy: 1.0000\n",
      "Epoch 57/100\n",
      "14/14 [==============================] - 0s 10ms/step - loss: 0.0455 - accuracy: 0.9893 - val_loss: 0.0166 - val_accuracy: 1.0000\n",
      "Epoch 58/100\n"
     ]
    },
    {
     "name": "stdout",
     "output_type": "stream",
     "text": [
      "14/14 [==============================] - 0s 10ms/step - loss: 0.0596 - accuracy: 0.9857 - val_loss: 0.0015 - val_accuracy: 1.0000\n",
      "Epoch 59/100\n",
      "14/14 [==============================] - 0s 10ms/step - loss: 0.1032 - accuracy: 0.9607 - val_loss: 0.0238 - val_accuracy: 1.0000\n",
      "Epoch 60/100\n",
      "14/14 [==============================] - 0s 9ms/step - loss: 0.0245 - accuracy: 0.9929 - val_loss: 0.0167 - val_accuracy: 1.0000\n",
      "Epoch 61/100\n",
      "14/14 [==============================] - 0s 10ms/step - loss: 0.0122 - accuracy: 1.0000 - val_loss: 0.0024 - val_accuracy: 1.0000\n",
      "Epoch 62/100\n",
      "14/14 [==============================] - 0s 9ms/step - loss: 0.0175 - accuracy: 0.9929 - val_loss: 0.0032 - val_accuracy: 1.0000\n",
      "Epoch 63/100\n",
      "13/14 [==========================>...] - ETA: 0s - loss: 0.0148 - accuracy: 1.0000Restoring model weights from the end of the best epoch.\n",
      "14/14 [==============================] - 0s 10ms/step - loss: 0.0138 - accuracy: 1.0000 - val_loss: 0.0028 - val_accuracy: 1.0000\n",
      "Epoch 00063: early stopping\n"
     ]
    },
    {
     "data": {
      "text/plain": [
       "<tensorflow.python.keras.callbacks.History at 0x7fefa87c1cd0>"
      ]
     },
     "execution_count": 251,
     "metadata": {},
     "output_type": "execute_result"
    }
   ],
   "source": [
    "from tensorflow.keras import optimizers\n",
    "from tensorflow.keras.callbacks import EarlyStopping\n",
    "from tensorflow.keras.preprocessing.image import ImageDataGenerator\n",
    "\n",
    "# 모델 훈련\n",
    "n_train_epoch=100       # 최대 epoch 수, EarlyStopping을 도입하므로 100 이하로 적용됨\n",
    "x_train_batch_size = 20 # ImageDataGenerator에서 생성할 데이터 양 \n",
    "validation_count = 20   # 훈련 데이터 300개 중 검증 데이터로 60개 사용\n",
    "\n",
    "# 부족한 데이터 수를 보강하기 위해 이미지를 생성\n",
    "x_train_generator = ImageDataGenerator(\n",
    "        width_shift_range=0.1,\n",
    "        height_shift_range=0.1,\n",
    "        shear_range=0.1,\n",
    "        horizontal_flip=True)\n",
    "x_train_generator.fit(x_train[:-validation_count])\n",
    "\n",
    "# epoch를 조절하기 위한 EarlyStopping 도입\n",
    "train_batch = x_train_generator.flow(x_train[:-validation_count], y_train[:-validation_count], batch_size=x_train_batch_size)\n",
    "early_stopping = EarlyStopping(monitor='val_loss', mode='min', verbose=1, patience=30, restore_best_weights=True)\n",
    "\n",
    "# 훈련 시작\n",
    "model.fit(train_batch, steps_per_epoch=len(x_train[:-validation_count])/x_train_batch_size, epochs=n_train_epoch, validation_data=(x_train[-validation_count:], y_train[-validation_count:]), callbacks=[early_stopping])"
   ]
  },
  {
   "cell_type": "markdown",
   "metadata": {},
   "source": [
    "100장의 데이터만 가지고 학습하기 힘들기 때문에, ImageDataGenerator를 이용하여 비슷한 이미지를 생성한다.\n",
    "ImageDataGenerator는 이미지를 상하좌우로 이동, 회전, 수직/수평 반전 등을 이용해서 사람 눈에는 같지만, 데이터로는 다른 이미지를 생성한다.\n",
    "28x28 이미지는 너무 작기 때문에 회전은 적용하지 않는다.\n",
    "\n",
    "또 cross_validator? 와 같은 방법을 사용할 수 있다고 하지만 이번에 적용하지 못했다.\n",
    "\n",
    "기본 데이터가 너무 적기 때문인지 학습 진행마다 편차가 너무 크다."
   ]
  },
  {
   "cell_type": "markdown",
   "metadata": {},
   "source": [
    "테스트 데이터 준비"
   ]
  },
  {
   "cell_type": "code",
   "execution_count": 252,
   "metadata": {},
   "outputs": [
    {
     "name": "stdout",
     "output_type": "stream",
     "text": [
      "데이터(x_train)의 이미지 개수는 300 입니다.\n",
      "x_train shape: (300, 28, 28, 3)\n",
      "y_train shape: (300,)\n"
     ]
    }
   ],
   "source": [
    "test_img_path = os.getenv(\"HOME\") + \"/aiffel/rock_scissor_paper/test\"\n",
    "\n",
    "(x_test, y_test) = load_data(test_img_path)"
   ]
  },
  {
   "cell_type": "markdown",
   "metadata": {},
   "source": [
    "정확도 측정"
   ]
  },
  {
   "cell_type": "code",
   "execution_count": 253,
   "metadata": {
    "scrolled": true
   },
   "outputs": [
    {
     "name": "stdout",
     "output_type": "stream",
     "text": [
      "10/10 - 0s - loss: 2.2294 - accuracy: 0.6400\n",
      "test_loss: 2.2293972969055176 \n",
      "test_accuracy: 0.6399999856948853\n"
     ]
    }
   ],
   "source": [
    "test_loss, test_accuracy = model.evaluate(x_test, y_test, verbose=2)\n",
    "print(\"test_loss: {} \".format(test_loss))\n",
    "print(\"test_accuracy: {}\".format(test_accuracy))"
   ]
  },
  {
   "cell_type": "code",
   "execution_count": null,
   "metadata": {},
   "outputs": [],
   "source": []
  }
 ],
 "metadata": {
  "kernelspec": {
   "display_name": "aiffel",
   "language": "python",
   "name": "aiffel"
  },
  "language_info": {
   "codemirror_mode": {
    "name": "ipython",
    "version": 3
   },
   "file_extension": ".py",
   "mimetype": "text/x-python",
   "name": "python",
   "nbconvert_exporter": "python",
   "pygments_lexer": "ipython3",
   "version": "3.7.9"
  }
 },
 "nbformat": 4,
 "nbformat_minor": 4
}

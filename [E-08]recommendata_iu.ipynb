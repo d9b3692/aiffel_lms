{
 "cells": [
  {
   "cell_type": "markdown",
   "metadata": {},
   "source": [
    "# 시작"
   ]
  },
  {
   "cell_type": "code",
   "execution_count": 334,
   "metadata": {},
   "outputs": [],
   "source": [
    "import os, pandas, numpy\n",
    "from scipy.sparse import csr_matrix\n",
    "from implicit.als import AlternatingLeastSquares\n",
    "\n",
    "os.environ['OPENBLAS_NUM_THREADS']='1'\n",
    "os.environ['KMP_DUPLICATE_LIB_OK']='True'\n",
    "os.environ['MKL_NUM_THREADS']='1'"
   ]
  },
  {
   "cell_type": "markdown",
   "metadata": {},
   "source": [
    "# 데이터 준비"
   ]
  },
  {
   "cell_type": "code",
   "execution_count": 335,
   "metadata": {},
   "outputs": [],
   "source": [
    "def load_data():\n",
    "    rating_file = os.getenv('HOME') + '/aiffel/recommendata_iu/data/ml-1m/ratings.dat'\n",
    "    rating_col_names = ['user_id', 'movie_id', 'rating', 'timestamp']\n",
    "    rating_data = pandas.read_csv(rating_file, sep='::', names=rating_col_names, engine='python')\n",
    "    print('{}개 자료를 불러왔습니다'.format(len(rating_data)))\n",
    "    print(rating_data)\n",
    "    print('')\n",
    "    \n",
    "    movie_file = os.getenv('HOME') + '/aiffel/recommendata_iu/data/ml-1m/movies.dat'\n",
    "    movie_col_names = ['movie_id', 'title', 'genre']\n",
    "    movie_data = pandas.read_csv(movie_file, sep='::', names=movie_col_names, engine='python')\n",
    "    print('{}개 영화 정보를 불러왔습니다'.format(len(movie_data)))\n",
    "    print(movie_data)\n",
    "    print('')\n",
    "    \n",
    "    user_file = os.getenv('HOME') + '/aiffel/recommendata_iu/data/ml-1m/users.dat'\n",
    "    user_col_names = ['user_id', 'gender', 'age', 'occupation', 'zip_code']\n",
    "    user_data = pandas.read_csv(user_file, sep='::', names=user_col_names, engine='python')\n",
    "    print('{}개의 사용자 정보를 불러왔습니다'.format(len(user_data)))\n",
    "    print(user_data)\n",
    "    \n",
    "    return rating_data, movie_data, user_data"
   ]
  },
  {
   "cell_type": "markdown",
   "metadata": {},
   "source": [
    "# 데이터 탐색"
   ]
  },
  {
   "cell_type": "code",
   "execution_count": 336,
   "metadata": {},
   "outputs": [],
   "source": [
    "def explorate_data(ratings, movies, users):\n",
    "    unique_rated_movie_count = ratings.movie_id.nunique()\n",
    "    print('{}개의 영화가 별점을 받았습니다'.format(unique_rated_movie_count))\n",
    "    unknown_rated_movie_ids = ratings[~ratings.movie_id.isin(movies.movie_id)].movie_id\n",
    "    print('{}개의 알 수 없는 영화가 별점을 받았습니다'.format(len(unknown_rated_movie_ids)))\n",
    "    unrated_movies = movies[~movies.movie_id.isin(ratings.movie_id)]\n",
    "    print('{}개의 영화가 별점을 받지 못했습니다'.format(len(unrated_movies)))\n",
    "    print('')\n",
    "    \n",
    "    unique_rating_user_count = ratings.user_id.nunique()\n",
    "    print('{}명의 사용자가 별점을 남겼습니다'.format(unique_rating_user_count))\n",
    "    unknown_rating_user_ids = ratings[~ratings.user_id.isin(users.user_id)].user_id\n",
    "    print('{}명의 알 수 없는 사용자가 별점을 남겼습니다'.format(len(unknown_rating_user_ids)))\n",
    "    unrating_users = users[~users.user_id.isin(ratings.user_id)]\n",
    "    print('{}명의 사용자가 별점을 남기지 않았습니다'.format(len(unrating_users)))\n",
    "    print('')\n",
    "    \n",
    "def show_rank(ratings, movies, top=30, base_rating=3):\n",
    "\n",
    "    high_ratings = ratings[ratings.rating > base_rating]\n",
    "    high_rating_rank = high_ratings.groupby('movie_id').movie_id.agg('count').to_frame('rated_times').reset_index().nlargest(top, 'rated_times')\n",
    "    high_rating_rank = pandas.merge(high_rating_rank, movies[['movie_id', 'title']], on=['movie_id'])\n",
    "    print('인기가 많은 영화 TOP {}'.format(top))\n",
    "    print('인기의 기준은 {}점 이상의 별점을 받은 횟수입니다'.format(base_rating))\n",
    "    print(high_rating_rank)\n",
    "    print('')\n",
    "    "
   ]
  },
  {
   "cell_type": "markdown",
   "metadata": {},
   "source": [
    "# 데이터 가공"
   ]
  },
  {
   "cell_type": "code",
   "execution_count": 337,
   "metadata": {},
   "outputs": [],
   "source": [
    "def filter_ratings(ratings, base=3):\n",
    "    print('평점 {} 이상인 데이터만 추출합니다'.format(base))\n",
    "    before_count = len(ratings)\n",
    "    filtered_ratings = ratings[ratings.rating>=base]\n",
    "    after_count = len(ratings)\n",
    "    print('{}개 평점 데이터중 {}개가 추출되었습니다'.format(before_count, after_count))\n",
    "    return filtered_ratings"
   ]
  },
  {
   "cell_type": "code",
   "execution_count": 338,
   "metadata": {},
   "outputs": [],
   "source": [
    "def append_ratings(ratings, movies, my_movies):\n",
    "    print('{}개 영화에 나의 평점을 남깁니다'.format(len(my_movies)))\n",
    "    print(my_movies)\n",
    "    print('')\n",
    "    my_movie_ids = movies[movies.title.isin(my_movies)].movie_id\n",
    "    my_ratings = pandas.DataFrame({'user_id': [-1]*5, 'movie_id': my_movie_ids, 'rating': [5]*5, 'timestamp': [-1]*5})\n",
    "    appended_ratings = ratings.append(my_ratings, ignore_index=True)\n",
    "\n",
    "    print('아래와 같이 평점이 추가되었습니다. 사용자 아이디는 -1입니다')\n",
    "    print(appended_ratings.tail(10))\n",
    "    return appended_ratings"
   ]
  },
  {
   "cell_type": "code",
   "execution_count": 339,
   "metadata": {},
   "outputs": [],
   "source": [
    "def encode_ratings(ratings):\n",
    "    unique_users = ratings.user_id.unique()\n",
    "    unique_movies = ratings.movie_id.unique()\n",
    "    \n",
    "    user_to_index = { u:i for i, u in enumerate(unique_users) }\n",
    "    movie_to_index = { m:i for i, m in enumerate(unique_movies)}\n",
    "    \n",
    "    encoded_user_id = ratings.user_id.map(user_to_index.get).dropna()\n",
    "    if len(encoded_user_id) == len(ratings):\n",
    "        print('user_id가 정상적으로 인코딩 되었습니다')\n",
    "        ratings['encoded_user_id'] = encoded_user_id\n",
    "    else:\n",
    "        print('user_id 인코딩에 실패했습니다')\n",
    "        return\n",
    "    \n",
    "    encoded_movie_id = ratings.movie_id.map(movie_to_index.get).dropna()\n",
    "    if len(encoded_movie_id) == len(ratings):\n",
    "        print('movie_id가 정상적으로 인코딩 되었습니다')\n",
    "        ratings['encoded_movie_id'] = encoded_movie_id\n",
    "    else:\n",
    "        print('movie_id 인코딩에 실패했습니다')\n",
    "        return\n",
    "\n",
    "    return user_to_index, movie_to_index"
   ]
  },
  {
   "cell_type": "markdown",
   "metadata": {},
   "source": [
    "# 행렬 생성과 학습"
   ]
  },
  {
   "cell_type": "code",
   "execution_count": 340,
   "metadata": {},
   "outputs": [],
   "source": [
    "def make_csr_matrix(ratings):\n",
    "    num_user = ratings.encoded_user_id.nunique()\n",
    "    num_movie = ratings.encoded_movie_id.nunique()\n",
    "    matrix = csr_matrix((ratings.rating, (ratings.encoded_movie_id, ratings.encoded_user_id)), shape=(num_movie, num_user))\n",
    "    print('{} x {} 행렬(영화x사용자)이 생성되었습니다'.format(num_movie, num_user))\n",
    "    print(matrix)\n",
    "    return matrix"
   ]
  },
  {
   "cell_type": "code",
   "execution_count": 341,
   "metadata": {},
   "outputs": [],
   "source": [
    "def get_trained_model(data, iteration=15):\n",
    "    model = AlternatingLeastSquares(factors=80, regularization=0.01, use_gpu=False, iterations=iteration, dtype=numpy.float32)\n",
    "    model.fit(data)\n",
    "    return model"
   ]
  },
  {
   "cell_type": "markdown",
   "metadata": {},
   "source": [
    "# 학습 결과"
   ]
  },
  {
   "cell_type": "code",
   "execution_count": 342,
   "metadata": {},
   "outputs": [],
   "source": [
    "def get_movie_title(movies, index_to_movie, index):\n",
    "    movie_id = index_to_movie[index]\n",
    "    return movies[movies.movie_id==movie_id].title.values[0]\n",
    "\n",
    "def validate_model(model, movies, movie_to_index, user_id, my_movies):\n",
    "    my_user_vector = model.user_factors[user_id]\n",
    "    \n",
    "    index_to_movie = { v:k for k,v in movie_to_index.items() }\n",
    "    my_movie_ids = movies[movies.title.isin(my_movies)].movie_id\n",
    "    my_movie_indexes = [movie_to_index[id] for id in my_movie_ids]\n",
    "    print('내가 평점을 남긴 영화의 선호도')\n",
    "    for title, index in zip(my_movies, my_movie_indexes):\n",
    "        vector = model.item_factors[index]\n",
    "        point = numpy.dot(my_user_vector, vector)\n",
    "        print('{}: {}'.format(title, point))\n",
    "        print('비슷한 영화')\n",
    "        similar_movies = model.similar_items(index, N=6)\n",
    "        for similar_movie_index, similarity in similar_movies:\n",
    "            if similar_movie_index in my_movie_indexes:\n",
    "                continue\n",
    "            similar_title = get_movie_title(movies, index_to_movie, similar_movie_index)\n",
    "            print('    {}(유사도:{})'.format(similar_title, similarity))\n",
    "        print('')\n",
    "        \n",
    "def show_recommendation(model, matrix, movies, movie_to_index, user_id):\n",
    "    index_to_movie = { v:k for k,v in movie_to_index.items() }\n",
    "    recommendeds = model.recommend(user_id, matrix.T, N=50, filter_already_liked_items=True)\n",
    "    print('추천 영화')\n",
    "    for movie_index, similarity in recommendeds:\n",
    "        title = get_movie_title(movies, index_to_movie, movie_index)\n",
    "        print('{}({})'.format(title, similarity))"
   ]
  },
  {
   "cell_type": "markdown",
   "metadata": {},
   "source": [
    "# 메인"
   ]
  },
  {
   "cell_type": "markdown",
   "metadata": {},
   "source": [
    "데이터 준비 & 확인"
   ]
  },
  {
   "cell_type": "code",
   "execution_count": 343,
   "metadata": {
    "scrolled": true
   },
   "outputs": [
    {
     "name": "stdout",
     "output_type": "stream",
     "text": [
      "1000209개 자료를 불러왔습니다\n",
      "         user_id  movie_id  rating  timestamp\n",
      "0              1      1193       5  978300760\n",
      "1              1       661       3  978302109\n",
      "2              1       914       3  978301968\n",
      "3              1      3408       4  978300275\n",
      "4              1      2355       5  978824291\n",
      "...          ...       ...     ...        ...\n",
      "1000204     6040      1091       1  956716541\n",
      "1000205     6040      1094       5  956704887\n",
      "1000206     6040       562       5  956704746\n",
      "1000207     6040      1096       4  956715648\n",
      "1000208     6040      1097       4  956715569\n",
      "\n",
      "[1000209 rows x 4 columns]\n",
      "\n",
      "3883개 영화 정보를 불러왔습니다\n",
      "      movie_id                               title  \\\n",
      "0            1                    Toy Story (1995)   \n",
      "1            2                      Jumanji (1995)   \n",
      "2            3             Grumpier Old Men (1995)   \n",
      "3            4            Waiting to Exhale (1995)   \n",
      "4            5  Father of the Bride Part II (1995)   \n",
      "...        ...                                 ...   \n",
      "3878      3948             Meet the Parents (2000)   \n",
      "3879      3949          Requiem for a Dream (2000)   \n",
      "3880      3950                    Tigerland (2000)   \n",
      "3881      3951             Two Family House (2000)   \n",
      "3882      3952               Contender, The (2000)   \n",
      "\n",
      "                             genre  \n",
      "0      Animation|Children's|Comedy  \n",
      "1     Adventure|Children's|Fantasy  \n",
      "2                   Comedy|Romance  \n",
      "3                     Comedy|Drama  \n",
      "4                           Comedy  \n",
      "...                            ...  \n",
      "3878                        Comedy  \n",
      "3879                         Drama  \n",
      "3880                         Drama  \n",
      "3881                         Drama  \n",
      "3882                Drama|Thriller  \n",
      "\n",
      "[3883 rows x 3 columns]\n",
      "\n",
      "6040개의 사용자 정보를 불러왔습니다\n",
      "      user_id gender  age  occupation zip_code\n",
      "0           1      F    1          10    48067\n",
      "1           2      M   56          16    70072\n",
      "2           3      M   25          15    55117\n",
      "3           4      M   45           7    02460\n",
      "4           5      M   25          20    55455\n",
      "...       ...    ...  ...         ...      ...\n",
      "6035     6036      F   25          15    32603\n",
      "6036     6037      F   45           1    76006\n",
      "6037     6038      F   56           1    14706\n",
      "6038     6039      F   45           0    01060\n",
      "6039     6040      M   25           6    11106\n",
      "\n",
      "[6040 rows x 5 columns]\n"
     ]
    }
   ],
   "source": [
    "ratings, movies, users = load_data()"
   ]
  },
  {
   "cell_type": "code",
   "execution_count": 344,
   "metadata": {
    "scrolled": false
   },
   "outputs": [
    {
     "name": "stdout",
     "output_type": "stream",
     "text": [
      "3706개의 영화가 별점을 받았습니다\n",
      "0개의 알 수 없는 영화가 별점을 받았습니다\n",
      "177개의 영화가 별점을 받지 못했습니다\n",
      "\n",
      "6040명의 사용자가 별점을 남겼습니다\n",
      "0명의 알 수 없는 사용자가 별점을 남겼습니다\n",
      "0명의 사용자가 별점을 남기지 않았습니다\n",
      "\n"
     ]
    }
   ],
   "source": [
    "explorate_data(ratings, movies, users)"
   ]
  },
  {
   "cell_type": "code",
   "execution_count": 345,
   "metadata": {
    "scrolled": true
   },
   "outputs": [
    {
     "name": "stdout",
     "output_type": "stream",
     "text": [
      "인기가 많은 영화 TOP 30\n",
      "인기의 기준은 3점 이상의 별점을 받은 횟수입니다\n",
      "    movie_id  rated_times                                              title\n",
      "0       2858         2853                             American Beauty (1999)\n",
      "1        260         2622          Star Wars: Episode IV - A New Hope (1977)\n",
      "2       1196         2510  Star Wars: Episode V - The Empire Strikes Back...\n",
      "3       1198         2260                     Raiders of the Lost Ark (1981)\n",
      "4       2028         2260                         Saving Private Ryan (1998)\n",
      "5        593         2252                   Silence of the Lambs, The (1991)\n",
      "6       2571         2171                                 Matrix, The (1999)\n",
      "7       2762         2163                            Sixth Sense, The (1999)\n",
      "8       1210         2127  Star Wars: Episode VI - Return of the Jedi (1983)\n",
      "9        608         2074                                       Fargo (1996)\n",
      "10       527         2071                            Schindler's List (1993)\n",
      "11       318         2046                   Shawshank Redemption, The (1994)\n",
      "12       589         2044                  Terminator 2: Judgment Day (1991)\n",
      "13       858         1989                              Godfather, The (1972)\n",
      "14       110         1977                                  Braveheart (1995)\n",
      "15      1197         1924                         Princess Bride, The (1987)\n",
      "16      1270         1910                          Back to the Future (1985)\n",
      "17      2396         1877                         Shakespeare in Love (1998)\n",
      "18      1617         1876                           L.A. Confidential (1997)\n",
      "19       296         1770                                Pulp Fiction (1994)\n",
      "20      2997         1759                        Being John Malkovich (1999)\n",
      "21       480         1730                               Jurassic Park (1993)\n",
      "22      1240         1683                             Terminator, The (1984)\n",
      "23       356         1668                                Forrest Gump (1994)\n",
      "24      1265         1661                               Groundhog Day (1993)\n",
      "25         1         1655                                   Toy Story (1995)\n",
      "26      1580         1644                                Men in Black (1997)\n",
      "27      1097         1643                  E.T. the Extra-Terrestrial (1982)\n",
      "28      1214         1623                                       Alien (1979)\n",
      "29       457         1615                               Fugitive, The (1993)\n",
      "\n"
     ]
    }
   ],
   "source": [
    "show_rank(ratings, movies)"
   ]
  },
  {
   "cell_type": "markdown",
   "metadata": {},
   "source": [
    "--------------------------------------------"
   ]
  },
  {
   "cell_type": "markdown",
   "metadata": {},
   "source": [
    "데이터 가공"
   ]
  },
  {
   "cell_type": "code",
   "execution_count": 346,
   "metadata": {},
   "outputs": [
    {
     "name": "stdout",
     "output_type": "stream",
     "text": [
      "평점 3 이상인 데이터만 추출합니다\n",
      "1000209개 평점 데이터중 1000209개가 추출되었습니다\n"
     ]
    }
   ],
   "source": [
    "filtered_ratings = filter_ratings(ratings, base=3)"
   ]
  },
  {
   "cell_type": "code",
   "execution_count": 347,
   "metadata": {
    "scrolled": true
   },
   "outputs": [
    {
     "name": "stdout",
     "output_type": "stream",
     "text": [
      "5개 영화에 나의 평점을 남깁니다\n",
      "['Star Wars: Episode IV - A New Hope (1977)', 'Matrix, The (1999)', 'Sixth Sense, The (1999)', 'Jurassic Park (1993)', 'E.T. the Extra-Terrestrial (1982)']\n",
      "\n",
      "아래와 같이 평점이 추가되었습니다. 사용자 아이디는 -1입니다\n",
      "        user_id  movie_id  rating  timestamp\n",
      "836473     6040      1090       3  956715518\n",
      "836474     6040      1094       5  956704887\n",
      "836475     6040       562       5  956704746\n",
      "836476     6040      1096       4  956715648\n",
      "836477     6040      1097       4  956715569\n",
      "836478       -1       260       5         -1\n",
      "836479       -1       480       5         -1\n",
      "836480       -1      1097       5         -1\n",
      "836481       -1      2571       5         -1\n",
      "836482       -1      2762       5         -1\n"
     ]
    }
   ],
   "source": [
    "my_movies = [\n",
    "    'Star Wars: Episode IV - A New Hope (1977)',\n",
    "    'Matrix, The (1999)',\n",
    "    'Sixth Sense, The (1999)',\n",
    "    'Jurassic Park (1993)',\n",
    "    'E.T. the Extra-Terrestrial (1982)'\n",
    "]\n",
    "appended_ratings = append_ratings(filtered_ratings, movies, my_movies)"
   ]
  },
  {
   "cell_type": "markdown",
   "metadata": {},
   "source": [
    "인코딩"
   ]
  },
  {
   "cell_type": "code",
   "execution_count": 348,
   "metadata": {
    "scrolled": false
   },
   "outputs": [
    {
     "name": "stdout",
     "output_type": "stream",
     "text": [
      "user_id가 정상적으로 인코딩 되었습니다\n",
      "movie_id가 정상적으로 인코딩 되었습니다\n"
     ]
    }
   ],
   "source": [
    "user_to_index, movie_to_index = encode_ratings(appended_ratings)"
   ]
  },
  {
   "cell_type": "markdown",
   "metadata": {},
   "source": [
    "행렬 생성 & 학습"
   ]
  },
  {
   "cell_type": "code",
   "execution_count": 349,
   "metadata": {
    "scrolled": false
   },
   "outputs": [
    {
     "name": "stdout",
     "output_type": "stream",
     "text": [
      "3628 x 6040 행렬(영화x사용자)이 생성되었습니다\n",
      "  (0, 0)\t5\n",
      "  (0, 1)\t5\n",
      "  (0, 11)\t4\n",
      "  (0, 14)\t4\n",
      "  (0, 16)\t5\n",
      "  (0, 17)\t4\n",
      "  (0, 18)\t5\n",
      "  (0, 23)\t5\n",
      "  (0, 27)\t3\n",
      "  (0, 32)\t5\n",
      "  (0, 38)\t5\n",
      "  (0, 41)\t3\n",
      "  (0, 43)\t4\n",
      "  (0, 46)\t4\n",
      "  (0, 47)\t4\n",
      "  (0, 48)\t4\n",
      "  (0, 52)\t5\n",
      "  (0, 53)\t5\n",
      "  (0, 57)\t5\n",
      "  (0, 58)\t4\n",
      "  (0, 61)\t4\n",
      "  (0, 79)\t4\n",
      "  (0, 80)\t5\n",
      "  (0, 87)\t5\n",
      "  (0, 88)\t5\n",
      "  :\t:\n",
      "  (3607, 5183)\t4\n",
      "  (3607, 5530)\t5\n",
      "  (3607, 5541)\t3\n",
      "  (3608, 5151)\t3\n",
      "  (3609, 5180)\t3\n",
      "  (3610, 5218)\t3\n",
      "  (3610, 5752)\t4\n",
      "  (3611, 5225)\t3\n",
      "  (3612, 5287)\t3\n",
      "  (3613, 5311)\t5\n",
      "  (3614, 5326)\t4\n",
      "  (3615, 5332)\t3\n",
      "  (3616, 5332)\t5\n",
      "  (3617, 5418)\t3\n",
      "  (3618, 5431)\t3\n",
      "  (3619, 5492)\t4\n",
      "  (3620, 5554)\t3\n",
      "  (3620, 5947)\t5\n",
      "  (3621, 5673)\t3\n",
      "  (3622, 5715)\t4\n",
      "  (3623, 5849)\t5\n",
      "  (3624, 5852)\t4\n",
      "  (3625, 5852)\t3\n",
      "  (3626, 5936)\t4\n",
      "  (3627, 5946)\t5\n"
     ]
    }
   ],
   "source": [
    "matrix = make_csr_matrix(appended_ratings)"
   ]
  },
  {
   "cell_type": "code",
   "execution_count": 350,
   "metadata": {
    "scrolled": true
   },
   "outputs": [
    {
     "data": {
      "application/vnd.jupyter.widget-view+json": {
       "model_id": "b7992ba97bca44afa8b289f1d44efad8",
       "version_major": 2,
       "version_minor": 0
      },
      "text/plain": [
       "  0%|          | 0/50 [00:00<?, ?it/s]"
      ]
     },
     "metadata": {},
     "output_type": "display_data"
    }
   ],
   "source": [
    "model = get_trained_model(matrix, iteration=50)"
   ]
  },
  {
   "cell_type": "markdown",
   "metadata": {},
   "source": [
    "학습 결과"
   ]
  },
  {
   "cell_type": "code",
   "execution_count": 351,
   "metadata": {
    "scrolled": true
   },
   "outputs": [
    {
     "name": "stdout",
     "output_type": "stream",
     "text": [
      "내가 평점을 남긴 영화의 선호도\n",
      "Star Wars: Episode IV - A New Hope (1977): 0.6278454065322876\n",
      "비슷한 영화\n",
      "    Star Wars: Episode V - The Empire Strikes Back (1980)(유사도:0.9008286595344543)\n",
      "    Star Wars: Episode VI - Return of the Jedi (1983)(유사도:0.8004236817359924)\n",
      "    Raiders of the Lost Ark (1981)(유사도:0.7307040691375732)\n",
      "    Terminator, The (1984)(유사도:0.5386630296707153)\n",
      "    Alien (1979)(유사도:0.503733217716217)\n",
      "\n",
      "Matrix, The (1999): 0.5630890727043152\n",
      "비슷한 영화\n",
      "    Men in Black (1997)(유사도:0.8544582724571228)\n",
      "    Terminator 2: Judgment Day (1991)(유사도:0.7625496983528137)\n",
      "    Total Recall (1990)(유사도:0.6260068416595459)\n",
      "    Braveheart (1995)(유사도:0.5704169273376465)\n",
      "\n",
      "Sixth Sense, The (1999): 0.5447432994842529\n",
      "비슷한 영화\n",
      "    Close Encounters of the Third Kind (1977)(유사도:0.5493741035461426)\n",
      "    Back to the Future (1985)(유사도:0.5298430323600769)\n",
      "    Time Bandits (1981)(유사도:0.4582599699497223)\n",
      "    Dark Crystal, The (1982)(유사도:0.4543989896774292)\n",
      "    Star Wars: Episode V - The Empire Strikes Back (1980)(유사도:0.4444723427295685)\n",
      "\n",
      "Jurassic Park (1993): 0.5950902700424194\n",
      "비슷한 영화\n",
      "    Terminator 2: Judgment Day (1991)(유사도:0.7924925684928894)\n",
      "    Total Recall (1990)(유사도:0.6690142154693604)\n",
      "    Fugitive, The (1993)(유사도:0.6098514795303345)\n",
      "    Terminator, The (1984)(유사도:0.5493380427360535)\n",
      "\n",
      "E.T. the Extra-Terrestrial (1982): 0.5485532283782959\n",
      "비슷한 영화\n",
      "    Silence of the Lambs, The (1991)(유사도:0.5392146110534668)\n",
      "    Usual Suspects, The (1995)(유사도:0.4630197584629059)\n",
      "    Being John Malkovich (1999)(유사도:0.42731666564941406)\n",
      "    Fight Club (1999)(유사도:0.4230775833129883)\n",
      "    Sleepy Hollow (1999)(유사도:0.39181023836135864)\n",
      "\n"
     ]
    }
   ],
   "source": [
    "my_index = user_to_index[-1]\n",
    "validate_model(model, movies, movie_to_index, my_index, my_movies)"
   ]
  },
  {
   "cell_type": "code",
   "execution_count": 352,
   "metadata": {},
   "outputs": [
    {
     "name": "stdout",
     "output_type": "stream",
     "text": [
      "추천 영화\n",
      "Star Wars: Episode IV - A New Hope (1977)(0.6278453469276428)\n",
      "Terminator 2: Judgment Day (1991)(0.6079736351966858)\n",
      "Matrix, The (1999)(0.5950902104377747)\n",
      "Jurassic Park (1993)(0.5630890727043152)\n",
      "Star Wars: Episode VI - Return of the Jedi (1983)(0.5591349601745605)\n",
      "Sixth Sense, The (1999)(0.5485532283782959)\n",
      "E.T. the Extra-Terrestrial (1982)(0.5447432994842529)\n",
      "Star Wars: Episode V - The Empire Strikes Back (1980)(0.5232497453689575)\n",
      "Star Wars: Episode I - The Phantom Menace (1999)(0.5084088444709778)\n",
      "Men in Black (1997)(0.42914795875549316)\n",
      "Back to the Future (1985)(0.42888301610946655)\n",
      "Terminator, The (1984)(0.35830026865005493)\n",
      "American Beauty (1999)(0.3512277603149414)\n",
      "Raiders of the Lost Ark (1981)(0.33951881527900696)\n",
      "Silence of the Lambs, The (1991)(0.33397459983825684)\n",
      "Galaxy Quest (1999)(0.3299926221370697)\n",
      "Fugitive, The (1993)(0.3243441879749298)\n",
      "Braveheart (1995)(0.32012033462524414)\n",
      "Total Recall (1990)(0.3115364909172058)\n",
      "Saving Private Ryan (1998)(0.29264551401138306)\n",
      "Titanic (1997)(0.26600396633148193)\n",
      "Forrest Gump (1994)(0.2546742260456085)\n",
      "2001: A Space Odyssey (1968)(0.2341400682926178)\n",
      "Close Encounters of the Third Kind (1977)(0.2196701169013977)\n",
      "Ghostbusters (1984)(0.21354195475578308)\n",
      "Hunt for Red October, The (1990)(0.20659813284873962)\n",
      "Alien (1979)(0.19570234417915344)\n",
      "Shawshank Redemption, The (1994)(0.19247117638587952)\n",
      "Blade Runner (1982)(0.19226667284965515)\n",
      "Dr. Strangelove or: How I Learned to Stop Worrying and Love the Bomb (1963)(0.19205497205257416)\n",
      "Twelve Monkeys (1995)(0.18788978457450867)\n",
      "Fargo (1996)(0.18631982803344727)\n",
      "X-Men (2000)(0.18262732028961182)\n",
      "Planet of the Apes (1968)(0.17974328994750977)\n",
      "Time Bandits (1981)(0.17973092198371887)\n",
      "Lost World: Jurassic Park, The (1997)(0.17739605903625488)\n",
      "Erin Brockovich (2000)(0.17297743260860443)\n",
      "Schindler's List (1993)(0.17057886719703674)\n",
      "Talented Mr. Ripley, The (1999)(0.16571536660194397)\n",
      "Indiana Jones and the Last Crusade (1989)(0.16346310079097748)\n",
      "Aliens (1986)(0.1604800671339035)\n",
      "Shakespeare in Love (1998)(0.15714441239833832)\n",
      "Green Mile, The (1999)(0.1549728512763977)\n",
      "Willy Wonka and the Chocolate Factory (1971)(0.15419666469097137)\n",
      "Princess Bride, The (1987)(0.1508154422044754)\n",
      "Clockwork Orange, A (1971)(0.15076428651809692)\n",
      "Contact (1997)(0.14712974429130554)\n",
      "L.A. Confidential (1997)(0.14391759037971497)\n",
      "Independence Day (ID4) (1996)(0.137151300907135)\n",
      "Sleepy Hollow (1999)(0.13712725043296814)\n"
     ]
    }
   ],
   "source": [
    "show_recommendation(model, matrix, movies, movie_to_index, my_index)"
   ]
  },
  {
   "cell_type": "markdown",
   "metadata": {},
   "source": [
    "# 결론"
   ]
  },
  {
   "cell_type": "markdown",
   "metadata": {},
   "source": [
    "평점 데이터 중 평점을 받지 않은 영화가 있기 때문에 다시 인코딩을 하여 index를 다시 부여하였다.   \n",
    "csr 행렬은 (사용자, 영화) 순이 아닌 (영화, 사용자)순으로 만들어 보았다.     \n",
    "그렇기 때문에 훈련시에는 Transpose를 하지 않고, 추천 내역을 만들 때 Transpose를 하였다.   "
   ]
  },
  {
   "cell_type": "markdown",
   "metadata": {},
   "source": [
    "이미 평점을 남긴(평점을 추가한) 영화에 대해 높은 선호도가 나온 것으로 보아 모델의 훈련이 잘 이루어진 것으로 보인다.   \n",
    "또 이와 비슷한 영화를 추출했을 때 관련이 잇는 영화를 얻을 수 있었다.   "
   ]
  },
  {
   "cell_type": "markdown",
   "metadata": {},
   "source": [
    "훈련된 모델을 바탕으로 추천 영화를 만들었을 때 내적 수치는 0.5 미만으로 낮더라도 비슷한 장르이거나 비슷한 느낌의 영화가 추천되었다.   \n",
    "훈련 반복 횟수나 regularization수치를 바꾸어도, 추천 영화 목록은 바뀌지만 모두 비슷한 장르나 비슷한 느낌의 영화였다.  \n",
    "여러 파라미터를 바꾸면 내적 값은 바뀌지만, 추천 결과는 대체로 비슷한 양상을 보였고, 내적 결과의 절대적 수치는 큰 영향이 없다고 추측할 수 있다.   "
   ]
  }
 ],
 "metadata": {
  "kernelspec": {
   "display_name": "aiffel",
   "language": "python",
   "name": "aiffel"
  },
  "language_info": {
   "codemirror_mode": {
    "name": "ipython",
    "version": 3
   },
   "file_extension": ".py",
   "mimetype": "text/x-python",
   "name": "python",
   "nbconvert_exporter": "python",
   "pygments_lexer": "ipython3",
   "version": "3.7.9"
  }
 },
 "nbformat": 4,
 "nbformat_minor": 4
}

{
 "cells": [
  {
   "cell_type": "markdown",
   "id": "buried-bubble",
   "metadata": {},
   "source": [
    "# 시작"
   ]
  },
  {
   "cell_type": "code",
   "execution_count": 23,
   "id": "aggregate-vertical",
   "metadata": {},
   "outputs": [],
   "source": [
    "import os, glob, math\n",
    "import numpy as np\n",
    "import tensorflow as tf\n",
    "import tensorflow_hub as hub\n",
    "import matplotlib.pyplot as plt\n",
    "import dlib, cv2\n",
    "\n",
    "LFW_PATH = os.getenv('HOME') + '/lfw'\n",
    "DATA_PATH = os.getenv('HOME') + '/aiffel/coarse_to_fine/lfw_data'\n",
    "TRAIN_IMAGE_PATH = os.path.join(DATA_PATH, 'train', 'input')\n",
    "TRAIN_LABEL_PATH = os.path.join(DATA_PATH, 'train', 'label')\n",
    "VALID_IMAGE_PATH = os.path.join(DATA_PATH, 'val', 'input')\n",
    "VALID_LABEL_PATH = os.path.join(DATA_PATH, 'val', 'label')\n",
    "\n",
    "IMAGE_SHAPE = (80, 120)"
   ]
  },
  {
   "cell_type": "markdown",
   "id": "ancient-briefs",
   "metadata": {},
   "source": [
    "# MEAN-SHIFT를 이용하여 데이터 추출"
   ]
  },
  {
   "cell_type": "code",
   "execution_count": 27,
   "id": "horizontal-sussex",
   "metadata": {},
   "outputs": [],
   "source": [
    "def search_face_files(directory):\n",
    "    files = []\n",
    "    for file in os.listdir(directory):\n",
    "        current = os.path.join(directory, file)\n",
    "        if os.path.isdir(current):\n",
    "            files.extend(search_face_files(current))\n",
    "        else:\n",
    "            ext = os.path.splitext(current)[-1]\n",
    "            if ext == '.jpg' or ext == '.png':\n",
    "                files.append(current)\n",
    "    return files\n",
    "\n",
    "def eye_crop(image, landmark):\n",
    "    # dlib eye landmark: 36~41 (6), 42~47 (6)\n",
    "    left_eye_points = np.array(landmark[36:42])\n",
    "    right_eye_points = np.array(landmark[42:48])\n",
    "\n",
    "    left_top_left = left_eye_points.min(axis=0)\n",
    "    left_bottom_right = left_eye_points.max(axis=0)\n",
    "    right_top_left = right_eye_points.min(axis=0)\n",
    "    right_bottom_right = right_eye_points.max(axis=0)\n",
    "\n",
    "    left_eye_size = left_bottom_right - left_top_left\n",
    "    right_eye_size = right_bottom_right - right_top_left\n",
    "\n",
    "    ### if eye size is small\n",
    "    if left_eye_size[1] < 5:\n",
    "        margin = 1\n",
    "    else:\n",
    "        margin = 2\n",
    "\n",
    "    img_left_eye = image[left_top_left[1] - margin:left_bottom_right[1] + margin,\n",
    "                   left_top_left[0] - margin:left_bottom_right[0] + margin]\n",
    "    img_right_eye = image[right_top_left[1] - margin:right_bottom_right[1] + margin,\n",
    "                    right_top_left[0] - margin:right_bottom_right[0] + margin]\n",
    "\n",
    "    return [img_left_eye, img_right_eye]\n",
    "\n",
    "\n",
    "# 눈 이미지에서 중심을 찾는 함수\n",
    "def findCenterPoint(gray_eye, str_direction='left'):\n",
    "    filtered_eye = cv2.bilateralFilter(gray_eye, 7, 75, 75)\n",
    "    filtered_eye = cv2.bilateralFilter(filtered_eye, 7, 75, 75)\n",
    "    filtered_eye = cv2.bilateralFilter(filtered_eye, 7, 75, 75)\n",
    "\n",
    "    # 2D images -> 1D signals\n",
    "    row_sum = 255 - np.sum(filtered_eye, axis=0) // gray_eye.shape[0]\n",
    "    col_sum = 255 - np.sum(filtered_eye, axis=1) // gray_eye.shape[1]\n",
    "\n",
    "    # normalization & stabilization\n",
    "    def vector_normalization(vector):\n",
    "        vector = vector.astype(np.float32)\n",
    "        vector = (vector - vector.min()) / (vector.max() - vector.min() + 1e-6) * 255\n",
    "        vector = vector.astype(np.uint8)\n",
    "        vector = cv2.blur(vector, (5, 1)).reshape((vector.shape[0],))\n",
    "        vector = cv2.blur(vector, (5, 1)).reshape((vector.shape[0],))\n",
    "        return vector\n",
    "\n",
    "    row_sum = vector_normalization(row_sum)\n",
    "    col_sum = vector_normalization(col_sum)\n",
    "\n",
    "    def findOptimalCenter(gray_eye, vector, str_axis='x'):\n",
    "        axis = 1 if str_axis == 'x' else 0\n",
    "        center_from_start = np.argmax(vector)\n",
    "        center_from_end = gray_eye.shape[axis] - 1 - np.argmax(np.flip(vector, axis=0))\n",
    "        return (center_from_end + center_from_start) // 2\n",
    "\n",
    "\n",
    "    # x 축 center 를 찾는 알고리즘을 mean shift 로 대체합니다.\n",
    "    # center_x = findOptimalCenter(gray_eye, row_sum, 'x')\n",
    "    center_y = findOptimalCenter(gray_eye, col_sum, 'y')\n",
    "\n",
    "    # 수정된 부분\n",
    "    inv_eye = (255 - filtered_eye).astype(np.float32)\n",
    "    inv_eye = (255 * (inv_eye - inv_eye.min()) / (inv_eye.max() - inv_eye.min())).astype(np.uint8)\n",
    "\n",
    "    resized_inv_eye = cv2.resize(inv_eye, (inv_eye.shape[1] // 3, inv_eye.shape[0] // 3))\n",
    "    init_point = np.unravel_index(np.argmax(resized_inv_eye), resized_inv_eye.shape)\n",
    "\n",
    "    x_candidate = init_point[1] * 3 + 1\n",
    "    for idx in range(10):\n",
    "        temp_sum = row_sum[x_candidate - 2:x_candidate + 3].sum()\n",
    "        if temp_sum == 0:\n",
    "            break\n",
    "        normalized_row_sum_part = row_sum[x_candidate - 2:x_candidate + 3].astype(np.float32) // temp_sum\n",
    "        moving_factor = normalized_row_sum_part[3:5].sum() - normalized_row_sum_part[0:2].sum()\n",
    "        if moving_factor > 0.0:\n",
    "            x_candidate += 1\n",
    "        elif moving_factor < 0.0:\n",
    "            x_candidate -= 1\n",
    "\n",
    "    center_x = x_candidate\n",
    "\n",
    "    if center_x >= gray_eye.shape[1] - 2 or center_x <= 2:\n",
    "        center_x = -1\n",
    "    elif center_y >= gray_eye.shape[0] - 1 or center_y <= 1:\n",
    "        center_y = -1\n",
    "\n",
    "    return [center_x, center_y]\n",
    "\n",
    "# 눈동자 검출 wrapper 함수\n",
    "def detectPupil(left_eye, right_eye):\n",
    "    gray_left_eye = cv2.cvtColor(left_eye, cv2.COLOR_BGR2GRAY)\n",
    "    gray_right_eye = cv2.cvtColor(right_eye, cv2.COLOR_BGR2GRAY)\n",
    "\n",
    "    left_center_x, left_center_y = findCenterPoint(gray_left_eye, 'left')\n",
    "    right_center_x, right_center_y = findCenterPoint(gray_right_eye, 'right')\n",
    "\n",
    "    return left_center_x, left_center_y, right_center_x, right_center_y"
   ]
  },
  {
   "cell_type": "code",
   "execution_count": 30,
   "id": "revised-chinese",
   "metadata": {},
   "outputs": [],
   "source": [
    "def crop_eyes_from_files(files):\n",
    "    detector_hog = dlib.get_frontal_face_detector()  # detector 선언\n",
    "    landmark_file = os.getenv('HOME') + '/aiffel/coarse_to_fine/models/shape_predictor_68_face_landmarks.dat'\n",
    "    landmark_predictor = dlib.shape_predictor(landmark_file)\n",
    "\n",
    "    for idx, img_file in enumerate(files):\n",
    "        img = cv2.imread(img_file)\n",
    "        img_rgb = cv2.cvtColor(img, cv2.COLOR_BGR2RGB)\n",
    "\n",
    "        if idx % 10 == 0:  # for validation\n",
    "            input_dir = os.path.join(VALID_IMAGE_PATH, 'img')\n",
    "            label_dir = os.path.join(VALID_LABEL_PATH, 'mask')\n",
    "        else:    # for train\n",
    "            input_dir = os.path.join(TRAIN_IMAGE_PATH, 'img')\n",
    "            label_dir = os.path.join(TRAIN_LABEL_PATH, 'mask')\n",
    "\n",
    "        left_eye_img_path = os.path.join(input_dir, ('eye_%06d_l.png' % idx))\n",
    "        right_eye_img_path = os.path.join(input_dir, ('eye_%06d_r.png' % idx))\n",
    "        left_eye_label_path = os.path.join(label_dir, ('eye_%06d_l.png' % idx))\n",
    "        right_eye_label_path = os.path.join(label_dir, ('eye_%06d_r.png' % idx))\n",
    "\n",
    "        dlib_rects = detector_hog(img_rgb, 1)  # (image, num of img pyramid)\n",
    "\n",
    "        list_landmarks = []\n",
    "        for dlib_rect in dlib_rects:\n",
    "            points = landmark_predictor(img_rgb, dlib_rect)\n",
    "            list_points = list(map(lambda p: (p.x, p.y), points.parts()))\n",
    "            list_landmarks.append(list_points)\n",
    "        if not list_landmarks:\n",
    "            continue\n",
    "        landmark = list_landmarks[0]\n",
    "\n",
    "        # 눈 이미지 crop\n",
    "        img_left_eye, img_right_eye = eye_crop(img, landmark)\n",
    "        if not np.any(img_left_eye) or not np.any(img_right_eye):\n",
    "            continue\n",
    "        # 눈동자 중심 좌표 출력\n",
    "        left_center_x, left_center_y, right_center_x, right_center_y = detectPupil(img_left_eye, img_right_eye)\n",
    "\n",
    "        left_left_x = landmark[36][0]\n",
    "        left_left_y = landmark[36][1]\n",
    "        left_right_x = landmark[39][0]\n",
    "        left_right_y = landmark[39][1]\n",
    "        right_left_x = landmark[42][0]\n",
    "        right_left_y = landmark[42][1]\n",
    "        right_right_x = landmark[45][0]\n",
    "        right_right_y = landmark[45][1]\n",
    "\n",
    "        # left eye 이미지 출력\n",
    "        cv2.imwrite(left_eye_img_path, img_left_eye)\n",
    "\n",
    "        img_label_left = cv2.circle(np.zeros_like(img_left_eye), (left_left_x, left_left_y), 3, (1), -1) \n",
    "        img_label_left = cv2.circle(img_label_left, (left_right_x, left_right_y), 3, (2), -1) \n",
    "        img_label_left = cv2.circle(img_label_left, (left_center_x, left_center_y), 3, (3), -1) \n",
    "        cv2.imwrite(left_eye_label_path, img_label_left)\n",
    "\n",
    "        # right eye 이미지 출력\n",
    "        cv2.imwrite(right_eye_img_path, img_right_eye)\n",
    "\n",
    "        img_label_right = cv2.circle(np.zeros_like(img_right_eye), (right_left_x, right_left_y), 3, (1), -1)\n",
    "        img_label_right = cv2.circle(img_label_right, (right_right_x, right_right_y), 3, (2), -1)\n",
    "        img_label_right = cv2.circle(img_label_right, (right_center_x, right_center_y), 3, (3), -1)\n",
    "        cv2.imwrite(right_eye_label_path, img_label_right)\n",
    "\n",
    "        if idx % 1000 == 0:\n",
    "            print('%d image OK..' % idx)\n",
    "\n",
    "    print('Finished!!')\n"
   ]
  },
  {
   "cell_type": "markdown",
   "id": "indirect-complement",
   "metadata": {},
   "source": [
    "# 데이터 생성기"
   ]
  },
  {
   "cell_type": "code",
   "execution_count": 4,
   "id": "female-delivery",
   "metadata": {},
   "outputs": [],
   "source": [
    "def user_generation(train_generator, label_generator):\n",
    "    h, w = train_generator.target_size\n",
    "    for images, labels in zip(train_generator, label_generator):\n",
    "        images /= 255.\n",
    "        images = images[..., ::-1] # rgb to bgr\n",
    "\n",
    "        list_point_labels = []\n",
    "        for img, label in zip(images, labels):\n",
    "\n",
    "            eye_ls = np.where(label==1) # leftside\n",
    "            eye_rs = np.where(label==2) # rightside\n",
    "            eye_center = np.where(label==3)\n",
    "\n",
    "            lx, ly = [eye_ls[1].mean(), eye_ls[0].mean()]\n",
    "            rx, ry = [eye_rs[1].mean(), eye_rs[0].mean()]\n",
    "            cx, cy = [eye_center[1].mean(), eye_center[0].mean()]\n",
    "\n",
    "            if len(eye_ls[0])==0 or len(eye_ls[1])==0:\n",
    "                lx, ly = [0, 0]\n",
    "            if len(eye_rs[0])==0 or len(eye_rs[1])==0:\n",
    "                rx, ry = [w, h]\n",
    "            if len(eye_center[0])==0 or len(eye_center[1])==0:\n",
    "                cx, cy = [0, 0]\n",
    "\n",
    "            np_point_label = np.array([lx/w,ly/h,rx/w,ry/h,cx/w,cy/h], dtype=np.float32)\n",
    "\n",
    "            list_point_labels.append(np_point_label)\n",
    "        np_point_labels = np.array(list_point_labels)\n",
    "        yield (images, np_point_labels)"
   ]
  },
  {
   "cell_type": "markdown",
   "id": "atomic-blocking",
   "metadata": {},
   "source": [
    "# 모델 훈련"
   ]
  },
  {
   "cell_type": "code",
   "execution_count": 35,
   "id": "animated-savannah",
   "metadata": {},
   "outputs": [],
   "source": [
    "def lr_step_decay(epoch):\n",
    "    init_lr = 0.0005 #self.flag.initial_learning_rate\n",
    "    lr_decay = 0.5 #self.flag.learning_rate_decay_factor\n",
    "    epoch_per_decay = 2 #self.flag.epoch_per_decay\n",
    "    lrate = init_lr * math.pow(lr_decay, math.floor((1+epoch)/epoch_per_decay))\n",
    "    return lrate"
   ]
  },
  {
   "cell_type": "markdown",
   "id": "simplified-groove",
   "metadata": {},
   "source": [
    "# 메인"
   ]
  },
  {
   "cell_type": "markdown",
   "id": "official-enzyme",
   "metadata": {},
   "source": [
    "## 원본 lfw데이터로부터 데이터를 정제"
   ]
  },
  {
   "cell_type": "code",
   "execution_count": 31,
   "id": "portable-advocate",
   "metadata": {
    "scrolled": true
   },
   "outputs": [
    {
     "name": "stdout",
     "output_type": "stream",
     "text": [
      "0 image OK..\n",
      "1000 image OK..\n",
      "2000 image OK..\n",
      "3000 image OK..\n",
      "4000 image OK..\n",
      "5000 image OK..\n",
      "6000 image OK..\n",
      "7000 image OK..\n",
      "8000 image OK..\n",
      "9000 image OK..\n",
      "10000 image OK..\n",
      "11000 image OK..\n",
      "12000 image OK..\n",
      "13000 image OK..\n",
      "Finished!!\n"
     ]
    }
   ],
   "source": [
    "files = search_face_files(LFW_PATH)\n",
    "crop_eyes_from_files(files)"
   ]
  },
  {
   "cell_type": "markdown",
   "id": "empty-organization",
   "metadata": {},
   "source": [
    "## 정제된 데이터 연결"
   ]
  },
  {
   "cell_type": "code",
   "execution_count": 33,
   "id": "universal-contamination",
   "metadata": {
    "scrolled": false
   },
   "outputs": [
    {
     "name": "stdout",
     "output_type": "stream",
     "text": [
      "Found 23712 images belonging to 1 classes.\n",
      "Found 23712 images belonging to 1 classes.\n"
     ]
    }
   ],
   "source": [
    "image_generator = tf.keras.preprocessing.image.ImageDataGenerator()\n",
    "label_generator = tf.keras.preprocessing.image.ImageDataGenerator()\n",
    "image_data = image_generator.flow_from_directory(IMAGE_PATH, class_mode=None, target_size=IMAGE_SHAPE, batch_size=32)\n",
    "label_data = label_generator.flow_from_directory(LABEL_PATH, class_mode=None, target_size=IMAGE_SHAPE, batch_size=32)\n",
    "user_train_generator = user_generation(image_data, label_data)"
   ]
  },
  {
   "cell_type": "markdown",
   "id": "silent-shepherd",
   "metadata": {},
   "source": [
    "## 모델 준비 & 훈련"
   ]
  },
  {
   "cell_type": "code",
   "execution_count": 34,
   "id": "transsexual-representation",
   "metadata": {},
   "outputs": [
    {
     "name": "stdout",
     "output_type": "stream",
     "text": [
      "Model: \"sequential_2\"\n",
      "_________________________________________________________________\n",
      "Layer (type)                 Output Shape              Param #   \n",
      "=================================================================\n",
      "keras_layer_2 (KerasLayer)   (None, 2048)              23564800  \n",
      "_________________________________________________________________\n",
      "dense_2 (Dense)              (None, 6)                 12294     \n",
      "=================================================================\n",
      "Total params: 23,577,094\n",
      "Trainable params: 12,294\n",
      "Non-trainable params: 23,564,800\n",
      "_________________________________________________________________\n"
     ]
    }
   ],
   "source": [
    "feature_extractor_url = \"https://tfhub.dev/google/imagenet/resnet_v2_50/feature_vector/4\"\n",
    "feature_extractor_layer = hub.KerasLayer(feature_extractor_url, input_shape=(80,120,3))\n",
    "model = tf.keras.Sequential([\n",
    "    feature_extractor_layer,\n",
    "    tf.keras.layers.Dense(6, activation='sigmoid')\n",
    "])\n",
    "model.compile(\n",
    "  optimizer=tf.keras.optimizers.Adam(),\n",
    "  loss='mse',\n",
    "  metrics=['mae']\n",
    ")\n",
    "model.summary()"
   ]
  },
  {
   "cell_type": "code",
   "execution_count": 11,
   "id": "undefined-relaxation",
   "metadata": {
    "scrolled": true
   },
   "outputs": [
    {
     "name": "stdout",
     "output_type": "stream",
     "text": [
      "23712 32 741\n",
      "Epoch 1/10\n"
     ]
    },
    {
     "name": "stderr",
     "output_type": "stream",
     "text": [
      "/home/ssac5/anaconda3/envs/aiffel/lib/python3.7/site-packages/ipykernel_launcher.py:14: RuntimeWarning: Mean of empty slice.\n",
      "  \n",
      "/home/ssac5/anaconda3/envs/aiffel/lib/python3.7/site-packages/numpy/core/_methods.py:161: RuntimeWarning: invalid value encountered in double_scalars\n",
      "  ret = ret.dtype.type(ret / rcount)\n",
      "/home/ssac5/anaconda3/envs/aiffel/lib/python3.7/site-packages/ipykernel_launcher.py:15: RuntimeWarning: Mean of empty slice.\n",
      "  from ipykernel import kernelapp as app\n"
     ]
    },
    {
     "name": "stdout",
     "output_type": "stream",
     "text": [
      "741/741 [==============================] - 111s 150ms/step - loss: 0.0197 - mae: 0.0687\n",
      "Epoch 2/10\n",
      "741/741 [==============================] - 111s 149ms/step - loss: 0.0144 - mae: 0.0561\n",
      "Epoch 3/10\n",
      "741/741 [==============================] - 112s 152ms/step - loss: 0.0137 - mae: 0.0544\n",
      "Epoch 4/10\n",
      "741/741 [==============================] - 112s 151ms/step - loss: 0.0133 - mae: 0.0534\n",
      "Epoch 5/10\n",
      "741/741 [==============================] - 111s 149ms/step - loss: 0.0131 - mae: 0.0528\n",
      "Epoch 6/10\n",
      "741/741 [==============================] - 111s 150ms/step - loss: 0.0130 - mae: 0.0525\n",
      "Epoch 7/10\n",
      "741/741 [==============================] - 111s 150ms/step - loss: 0.0129 - mae: 0.0522\n",
      "Epoch 8/10\n",
      "741/741 [==============================] - 114s 153ms/step - loss: 0.0129 - mae: 0.0521\n",
      "Epoch 9/10\n",
      "741/741 [==============================] - 112s 152ms/step - loss: 0.0128 - mae: 0.0520\n",
      "Epoch 10/10\n",
      "741/741 [==============================] - 112s 152ms/step - loss: 0.0128 - mae: 0.0519\n"
     ]
    }
   ],
   "source": [
    "learning_rate = tf.keras.callbacks.LearningRateScheduler(lr_step_decay)\n",
    "history = model.fit(\n",
    "    user_train_generator,\n",
    "    epochs=10,\n",
    "    steps_per_epoch=image_data.samples//image_data.batch_size,\n",
    "    callbacks = [learning_rate]\n",
    ")"
   ]
  },
  {
   "cell_type": "code",
   "execution_count": 17,
   "id": "assisted-oakland",
   "metadata": {
    "scrolled": false
   },
   "outputs": [
    {
     "name": "stdout",
     "output_type": "stream",
     "text": [
      "dict_keys(['loss', 'mae', 'lr'])\n"
     ]
    },
    {
     "data": {
      "text/plain": [
       "[<matplotlib.lines.Line2D at 0x7fb7d6344890>]"
      ]
     },
     "execution_count": 17,
     "metadata": {},
     "output_type": "execute_result"
    },
    {
     "data": {
      "image/png": "[encoded data removed]",
      "text/plain": [
       "<Figure size 432x288 with 1 Axes>"
      ]
     },
     "metadata": {
      "needs_background": "light"
     },
     "output_type": "display_data"
    }
   ],
   "source": [
    "plt.plot(history.history['mae'])"
   ]
  },
  {
   "cell_type": "markdown",
   "id": "cross-fraud",
   "metadata": {},
   "source": [
    "# 결론"
   ]
  },
  {
   "cell_type": "markdown",
   "id": "compressed-relay",
   "metadata": {},
   "source": [
    "dlib로부터 추출한 대략의 위치를 추정한 데이터를 가지고 학습을 시킨다면 모델이 제대로 학습될 수 없다.(dlib를 뛰어 넘을 수 없다)   \n",
    "이점은 mean_shift를 포함하여 모든 수학적인 방법을 동원해도 달라지지 않는다.   \n",
    "그러므로 데이터를 아무리 늘린다고 하여도 좋은 결과를 내놓는 모델을 만들 수 없다.   \n",
    "필요한 작업은 dlib를 이용하여 얻은 대략의 위치를 사람이 다시 재조정하는 일이다.   \n",
    "수작업으로 데이터를 하나하나 정제해야 좋은 모델을 학습시킬 수 있다."
   ]
  },
  {
   "cell_type": "markdown",
   "id": "living-arrival",
   "metadata": {},
   "source": [
    "위 작업을 했다고 가정하고 좋은 모델을 얻었다고 가정한다고 하여도, 이 모델이 할 수 있는 작업은 ('눈' 그림, 눈동자의 위치)쌍을 얻어내는 것이다.   \n",
    "하지만 놀라는 눈을 붙이기 위해서는 '사람' 그림에서 눈동자 위치를 알아내는 작업이 필요하다.   \n",
    "결국 '사람'그림에서 '눈'위치를 얻은 후 모델에 입력하여야 할텐데, '사람'그림에서 '눈'위치를 얻기 위해서는 다시 dlib를 사용해야 한다.   \n",
    "따라서 딥러닝 모델만 가지고 놀라는 눈을 붙일 수 없게 된다."
   ]
  },
  {
   "cell_type": "markdown",
   "id": "limiting-giant",
   "metadata": {},
   "source": [
    "모델만 이용하여 놀라는 눈을 붙이고 싶다면, 처음부터 ('사람'그림, 눈동자의 위치) 데이터를 가지고 모델을 학습시켜야 하고, 첫 단계부터 다시 수행되어야 한다."
   ]
  },
  {
   "cell_type": "code",
   "execution_count": null,
   "id": "portuguese-pennsylvania",
   "metadata": {},
   "outputs": [],
   "source": []
  }
 ],
 "metadata": {
  "kernelspec": {
   "display_name": "aiffel",
   "language": "python",
   "name": "aiffel"
  },
  "language_info": {
   "codemirror_mode": {
    "name": "ipython",
    "version": 3
   },
   "file_extension": ".py",
   "mimetype": "text/x-python",
   "name": "python",
   "nbconvert_exporter": "python",
   "pygments_lexer": "ipython3",
   "version": "3.7.9"
  }
 },
 "nbformat": 4,
 "nbformat_minor": 5
}

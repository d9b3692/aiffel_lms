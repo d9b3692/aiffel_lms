{
 "cells": [
  {
   "cell_type": "markdown",
   "metadata": {},
   "source": [
    "# 시작"
   ]
  },
  {
   "cell_type": "code",
   "execution_count": 25,
   "metadata": {},
   "outputs": [],
   "source": [
    "import os, glob, re\n",
    "import tensorflow as tf\n",
    "from sklearn.model_selection import train_test_split"
   ]
  },
  {
   "cell_type": "markdown",
   "metadata": {},
   "source": [
    "# 데이터 준비"
   ]
  },
  {
   "cell_type": "code",
   "execution_count": 26,
   "metadata": {},
   "outputs": [],
   "source": [
    "def read_lyrics():\n",
    "    '''\n",
    "    파일에서 가사들을 불러옴, LMS동일\n",
    "    '''\n",
    "    dir_path = os.getenv('HOME') + '/aiffel/lyricist/data/lyrics/*'\n",
    "    result = []\n",
    "    for file_path in glob.glob(dir_path):\n",
    "        with open(file_path, 'r') as lyric_file:\n",
    "            sentences = lyric_file.read().splitlines()\n",
    "            result.extend(sentences)\n",
    "    return result\n",
    "\n",
    "def preprocess_sentence(sentence):\n",
    "    '''\n",
    "    문장들에서 특수 문자, 띄어쓰기 등을 보정한 후 <start>와 <end>를 문장 처음과 끝에 추가, LMS동일\n",
    "    '''\n",
    "    sentence = sentence.lower().strip()  \n",
    "    sentence = re.sub(r\"([?.!,¿])\", r\" \\1 \", sentence)\n",
    "    sentence = re.sub(r'[\" \"]+', \" \", sentence)\n",
    "    sentence = re.sub(r\"[^a-zA-Z?.!,¿]+\", \" \", sentence)\n",
    "    sentence = sentence.strip()\n",
    "    sentence = '<start> ' + sentence + ' <end>'\n",
    "    return sentence\n",
    "\n",
    "def make_corpus(sentences):\n",
    "    corpus = []\n",
    "    for sentence in sentences:\n",
    "        if len(sentence) == 0: continue\n",
    "        if sentence[-1] == \":\": continue\n",
    "        corpus.append(preprocess_sentence(sentence))\n",
    "    return corpus"
   ]
  },
  {
   "cell_type": "code",
   "execution_count": 27,
   "metadata": {},
   "outputs": [],
   "source": [
    "def tokenize(corpus, num_words=12000):\n",
    "    '''\n",
    "    문장을 단어 단위로 끊고, 토큰으로 생성함, LMS와 거의 같음\n",
    "    \n",
    "    corpus    : 문장\n",
    "    num_words : 사용할 단어 수\n",
    "    \n",
    "    return    : 생성된 토큰 텐서, 토큰화에 사용된 맵\n",
    "    '''\n",
    "    tokenizer = tf.keras.preprocessing.text.Tokenizer(\n",
    "        num_words=num_words, \n",
    "        filters=' ',\n",
    "        oov_token=\"<unk>\"\n",
    "    )\n",
    "    tokenizer.fit_on_texts(corpus)\n",
    "\n",
    "    tensor = tokenizer.texts_to_sequences(corpus)\n",
    "    tensor = list(filter(lambda x: len(x) < 16, tensor)) # 토큰의 길이를 15개로 제한\n",
    "    tensor = tf.keras.preprocessing.sequence.pad_sequences(tensor, padding='post')  \n",
    "\n",
    "    return tensor, tokenizer"
   ]
  },
  {
   "cell_type": "code",
   "execution_count": 28,
   "metadata": {},
   "outputs": [],
   "source": [
    "def make_single_dataset(x, y, batch_size):\n",
    "    '''\n",
    "    한 개의 데이터셋을 생성. tf.data.Dataset\n",
    "    '''\n",
    "    size = len(x)\n",
    "    return tf.data.Dataset.from_tensor_slices((x, y)).shuffle(size).batch(batch_size, drop_remainder=True)\n",
    "    \n",
    "def make_dataset(source, target, batch_size=256):\n",
    "    '''\n",
    "    훈련, 검증 데이터셋을 생성. tf.data.Dataset\n",
    "    \n",
    "    source : 문장의 시작\n",
    "    target : 문장의 다음\n",
    "    \n",
    "    return : 훈련 데이터셋, 검증 데이터셋\n",
    "    '''\n",
    "    train_x, test_x, train_y, test_y = train_test_split(source, target, test_size=0.2, shuffle=True)\n",
    "    print(train_x.shape)\n",
    "    print(train_y.shape)\n",
    "    train_dataset = make_single_dataset(train_x, train_y, batch_size)\n",
    "    val_dataset = make_single_dataset(test_x, test_y, batch_size)\n",
    "    \n",
    "    return train_dataset, val_dataset"
   ]
  },
  {
   "cell_type": "markdown",
   "metadata": {},
   "source": [
    "# 모델"
   ]
  },
  {
   "cell_type": "code",
   "execution_count": 29,
   "metadata": {},
   "outputs": [],
   "source": [
    "'''\n",
    "학습에 사용할 모델\n",
    "'''\n",
    "class TextGenerator(tf.keras.Model):\n",
    "    def __init__(self, vocab_size, embedding_size, hidden_size):\n",
    "        super(TextGenerator, self).__init__()\n",
    "        \n",
    "        self.embedding = tf.keras.layers.Embedding(vocab_size, embedding_size)\n",
    "        self.rnn_1 = tf.keras.layers.LSTM(hidden_size, dropout=0.2, return_sequences=True)\n",
    "        self.rnn_2 = tf.keras.layers.LSTM(hidden_size, dropout=0.2, return_sequences=True)\n",
    "        # self.rnn_3 = tf.keras.layers.LSTM(hidden_size, return_sequences=True)\n",
    "        # self.dense_1 = tf.keras.layers.Dense(vocab_size * 2, activation='softmax')\n",
    "        self.linear = tf.keras.layers.Dense(vocab_size)\n",
    "        \n",
    "    def call(self, x):\n",
    "        out = self.embedding(x)\n",
    "        out = self.rnn_1(out)\n",
    "        out = self.rnn_2(out)\n",
    "        # out = self.rnn_3(out)\n",
    "        out = self.linear(out)\n",
    "        return out"
   ]
  },
  {
   "cell_type": "code",
   "execution_count": 30,
   "metadata": {},
   "outputs": [],
   "source": [
    "def make_model(sample, vocab_size=12001, embedding_size=256, hidden_size=1024):\n",
    "    '''\n",
    "    모델을 생성함\n",
    "    \n",
    "    sample         : 모델의 입력 텐서 차원을 알기 위한 샘플\n",
    "    vocab_size     : 단어의 가짓 수\n",
    "    embedding_size : 단어 임베딩의 깊이\n",
    "    hidden_size    : 모델 내부의 hidden layer의 수\n",
    "    \n",
    "    return         : 모델\n",
    "    '''\n",
    "    model = TextGenerator(vocab_size, embedding_size , hidden_size)\n",
    "    model(sample)\n",
    "    model.summary()\n",
    "    \n",
    "    optimizer = tf.keras.optimizers.Nadam()\n",
    "    loss = tf.keras.losses.SparseCategoricalCrossentropy(from_logits=True, reduction='none')\n",
    "    model.compile(loss=loss, optimizer=optimizer)\n",
    "    return model"
   ]
  },
  {
   "cell_type": "markdown",
   "metadata": {},
   "source": [
    "# 테스트"
   ]
  },
  {
   "cell_type": "code",
   "execution_count": 31,
   "metadata": {},
   "outputs": [],
   "source": [
    "def generate_text(model, tokenizer, init_sentence=\"<start>\", max_len=20):\n",
    "    '''\n",
    "    문장이 어떻게 생성되는지 시험, LMS동일\n",
    "    \n",
    "    model         : 학습이 완료된 모델\n",
    "    tokenizer     : 문장을 토큰화 하는데 사용한 맵\n",
    "    init_sentence : 문장의 시작\n",
    "    max_len       : 최대 문장의 단어 수\n",
    "    \n",
    "    return        : 생성된 문장\n",
    "    '''\n",
    "    test_input = tokenizer.texts_to_sequences([init_sentence])\n",
    "    test_tensor = tf.convert_to_tensor(test_input, dtype=tf.int64)\n",
    "    end_token = tokenizer.word_index[\"<end>\"]\n",
    "\n",
    "    while True:\n",
    "        predict = model(test_tensor)\n",
    "        predict_word = tf.argmax(tf.nn.softmax(predict, axis=-1), axis=-1)[:, -1]\n",
    "        \n",
    "        test_tensor = tf.concat([test_tensor, tf.expand_dims(predict_word, axis=0)], axis=-1)\n",
    "\n",
    "        if predict_word.numpy()[0] == end_token: break\n",
    "        if test_tensor.shape[1] >= max_len: break\n",
    "\n",
    "    generated = \"\"\n",
    "    for word_index in test_tensor[0].numpy():\n",
    "        generated += tokenizer.index_word[word_index] + \" \"\n",
    "\n",
    "    return generated"
   ]
  },
  {
   "cell_type": "markdown",
   "metadata": {},
   "source": [
    "# 메인"
   ]
  },
  {
   "cell_type": "markdown",
   "metadata": {},
   "source": [
    "데이터 준비"
   ]
  },
  {
   "cell_type": "code",
   "execution_count": 32,
   "metadata": {
    "scrolled": true
   },
   "outputs": [
    {
     "name": "stdout",
     "output_type": "stream",
     "text": [
      "(124810, 14)\n",
      "(124810, 14)\n"
     ]
    }
   ],
   "source": [
    "num_words = 20000\n",
    "raw_sentences = read_lyrics()\n",
    "corpus = make_corpus(raw_sentences)\n",
    "tensor, tokenizer = tokenize(corpus, num_words)\n",
    "\n",
    "src_input = tensor[:,:-1]\n",
    "tgt_input = tensor[:,1:]\n",
    "\n",
    "train_dataset, val_dataset = make_dataset(src_input, tgt_input, batch_size=128)"
   ]
  },
  {
   "cell_type": "markdown",
   "metadata": {},
   "source": [
    "모델 생성"
   ]
  },
  {
   "cell_type": "code",
   "execution_count": 33,
   "metadata": {
    "scrolled": true
   },
   "outputs": [
    {
     "name": "stdout",
     "output_type": "stream",
     "text": [
      "Model: \"text_generator_3\"\n",
      "_________________________________________________________________\n",
      "Layer (type)                 Output Shape              Param #   \n",
      "=================================================================\n",
      "embedding_3 (Embedding)      multiple                  20481024  \n",
      "_________________________________________________________________\n",
      "lstm_6 (LSTM)                multiple                  8392704   \n",
      "_________________________________________________________________\n",
      "lstm_7 (LSTM)                multiple                  8392704   \n",
      "_________________________________________________________________\n",
      "dense_3 (Dense)              multiple                  20501025  \n",
      "=================================================================\n",
      "Total params: 57,767,457\n",
      "Trainable params: 57,767,457\n",
      "Non-trainable params: 0\n",
      "_________________________________________________________________\n"
     ]
    }
   ],
   "source": [
    "for src_sample, tgt_sample in train_dataset.take(1): break\n",
    "model = make_model(src_sample, vocab_size=num_words+1, embedding_size=1024, hidden_size=1024)"
   ]
  },
  {
   "cell_type": "markdown",
   "metadata": {},
   "source": [
    "모델 훈련"
   ]
  },
  {
   "cell_type": "code",
   "execution_count": 34,
   "metadata": {
    "scrolled": true
   },
   "outputs": [
    {
     "name": "stdout",
     "output_type": "stream",
     "text": [
      "Epoch 1/10\n",
      "975/975 [==============================] - 177s 181ms/step - loss: 3.2588 - val_loss: 2.9237\n",
      "Epoch 2/10\n",
      "975/975 [==============================] - 176s 180ms/step - loss: 2.7833 - val_loss: 2.7087\n",
      "Epoch 3/10\n",
      "975/975 [==============================] - 176s 181ms/step - loss: 2.5212 - val_loss: 2.5732\n",
      "Epoch 4/10\n",
      "975/975 [==============================] - 176s 181ms/step - loss: 2.2961 - val_loss: 2.4786\n",
      "Epoch 5/10\n",
      "975/975 [==============================] - 176s 181ms/step - loss: 2.1037 - val_loss: 2.4101\n",
      "Epoch 6/10\n",
      "975/975 [==============================] - 177s 181ms/step - loss: 1.9389 - val_loss: 2.3636\n",
      "Epoch 7/10\n",
      "975/975 [==============================] - 178s 182ms/step - loss: 1.7984 - val_loss: 2.3336\n",
      "Epoch 8/10\n",
      "975/975 [==============================] - 177s 182ms/step - loss: 1.6783 - val_loss: 2.3160\n",
      "Epoch 9/10\n",
      "975/975 [==============================] - 180s 184ms/step - loss: 1.5751 - val_loss: 2.3105\n",
      "Epoch 10/10\n",
      "975/975 [==============================] - 180s 184ms/step - loss: 1.4879 - val_loss: 2.3077\n"
     ]
    },
    {
     "data": {
      "text/plain": [
       "<tensorflow.python.keras.callbacks.History at 0x7f79d41c2910>"
      ]
     },
     "execution_count": 34,
     "metadata": {},
     "output_type": "execute_result"
    }
   ],
   "source": [
    "\n",
    "model.fit(train_dataset, validation_data=val_dataset, epochs=10)"
   ]
  },
  {
   "cell_type": "markdown",
   "metadata": {},
   "source": [
    "생성해보기"
   ]
  },
  {
   "cell_type": "code",
   "execution_count": 35,
   "metadata": {
    "scrolled": false
   },
   "outputs": [
    {
     "data": {
      "text/plain": [
       "'<start> i love it when you call me big poppa <end> '"
      ]
     },
     "execution_count": 35,
     "metadata": {},
     "output_type": "execute_result"
    }
   ],
   "source": [
    "generate_text(model, tokenizer, init_sentence=\"<start> i love\", max_len=20)"
   ]
  },
  {
   "cell_type": "markdown",
   "metadata": {},
   "source": [
    "----------------------"
   ]
  },
  {
   "cell_type": "markdown",
   "metadata": {},
   "source": [
    "모델 생성"
   ]
  },
  {
   "cell_type": "code",
   "execution_count": 36,
   "metadata": {
    "scrolled": true
   },
   "outputs": [
    {
     "name": "stdout",
     "output_type": "stream",
     "text": [
      "Model: \"text_generator_4\"\n",
      "_________________________________________________________________\n",
      "Layer (type)                 Output Shape              Param #   \n",
      "=================================================================\n",
      "embedding_4 (Embedding)      multiple                  10240512  \n",
      "_________________________________________________________________\n",
      "lstm_8 (LSTM)                multiple                  6295552   \n",
      "_________________________________________________________________\n",
      "lstm_9 (LSTM)                multiple                  8392704   \n",
      "_________________________________________________________________\n",
      "dense_4 (Dense)              multiple                  20501025  \n",
      "=================================================================\n",
      "Total params: 45,429,793\n",
      "Trainable params: 45,429,793\n",
      "Non-trainable params: 0\n",
      "_________________________________________________________________\n"
     ]
    }
   ],
   "source": [
    "for src_sample, tgt_sample in train_dataset.take(1): break\n",
    "model = make_model(src_sample, vocab_size=num_words+1, embedding_size=512, hidden_size=1024)"
   ]
  },
  {
   "cell_type": "markdown",
   "metadata": {},
   "source": [
    "모델 훈련"
   ]
  },
  {
   "cell_type": "code",
   "execution_count": null,
   "metadata": {
    "scrolled": true
   },
   "outputs": [
    {
     "name": "stdout",
     "output_type": "stream",
     "text": [
      "Epoch 1/10\n",
      "975/975 [==============================] - 136s 140ms/step - loss: 3.2806 - val_loss: 2.9299\n",
      "Epoch 2/10\n",
      "975/975 [==============================] - 133s 137ms/step - loss: 2.8036 - val_loss: 2.7129\n",
      "Epoch 3/10\n",
      "975/975 [==============================] - 133s 137ms/step - loss: 2.5225 - val_loss: 2.5730\n",
      "Epoch 4/10\n",
      "975/975 [==============================] - 136s 139ms/step - loss: 2.2869 - val_loss: 2.4731\n",
      "Epoch 5/10\n",
      "975/975 [==============================] - 134s 137ms/step - loss: 2.0887 - val_loss: 2.4075\n",
      "Epoch 6/10\n",
      "975/975 [==============================] - 137s 140ms/step - loss: 1.9233 - val_loss: 2.3647\n",
      "Epoch 7/10\n",
      "975/975 [==============================] - 134s 138ms/step - loss: 1.7846 - val_loss: 2.3362\n",
      "Epoch 8/10\n",
      "264/975 [=======>......................] - ETA: 1:31 - loss: 1.6348"
     ]
    }
   ],
   "source": [
    "\n",
    "model.fit(train_dataset, validation_data=val_dataset, epochs=10)"
   ]
  },
  {
   "cell_type": "markdown",
   "metadata": {},
   "source": [
    "생성해보기"
   ]
  },
  {
   "cell_type": "code",
   "execution_count": null,
   "metadata": {
    "scrolled": false
   },
   "outputs": [],
   "source": [
    "generate_text(model, tokenizer, init_sentence=\"<start> i love\", max_len=20)"
   ]
  },
  {
   "cell_type": "markdown",
   "metadata": {},
   "source": [
    "----------------------"
   ]
  },
  {
   "cell_type": "markdown",
   "metadata": {},
   "source": [
    "모델 생성"
   ]
  },
  {
   "cell_type": "code",
   "execution_count": null,
   "metadata": {
    "scrolled": true
   },
   "outputs": [],
   "source": [
    "for src_sample, tgt_sample in train_dataset.take(1): break\n",
    "model = make_model(src_sample, vocab_size=num_words+1, embedding_size=512, hidden_size=512)"
   ]
  },
  {
   "cell_type": "markdown",
   "metadata": {},
   "source": [
    "모델 훈련"
   ]
  },
  {
   "cell_type": "code",
   "execution_count": null,
   "metadata": {
    "scrolled": true
   },
   "outputs": [],
   "source": [
    "\n",
    "model.fit(train_dataset, validation_data=val_dataset, epochs=10)"
   ]
  },
  {
   "cell_type": "markdown",
   "metadata": {},
   "source": [
    "생성해보기"
   ]
  },
  {
   "cell_type": "code",
   "execution_count": null,
   "metadata": {
    "scrolled": false
   },
   "outputs": [],
   "source": [
    "generate_text(model, tokenizer, init_sentence=\"<start> i love\", max_len=20)"
   ]
  },
  {
   "cell_type": "markdown",
   "metadata": {},
   "source": [
    "----------------------"
   ]
  },
  {
   "cell_type": "markdown",
   "metadata": {},
   "source": [
    "모델 생성"
   ]
  },
  {
   "cell_type": "code",
   "execution_count": null,
   "metadata": {
    "scrolled": true
   },
   "outputs": [],
   "source": [
    "for src_sample, tgt_sample in train_dataset.take(1): break\n",
    "model = make_model(src_sample, vocab_size=num_words+1, embedding_size=256, hidden_size=512)"
   ]
  },
  {
   "cell_type": "markdown",
   "metadata": {},
   "source": [
    "모델 훈련"
   ]
  },
  {
   "cell_type": "code",
   "execution_count": null,
   "metadata": {
    "scrolled": true
   },
   "outputs": [],
   "source": [
    "\n",
    "model.fit(train_dataset, validation_data=val_dataset, epochs=10)"
   ]
  },
  {
   "cell_type": "markdown",
   "metadata": {},
   "source": [
    "생성해보기"
   ]
  },
  {
   "cell_type": "code",
   "execution_count": null,
   "metadata": {
    "scrolled": false
   },
   "outputs": [],
   "source": [
    "generate_text(model, tokenizer, init_sentence=\"<start> i love\", max_len=20)"
   ]
  },
  {
   "cell_type": "markdown",
   "metadata": {},
   "source": [
    "----------------------"
   ]
  },
  {
   "cell_type": "markdown",
   "metadata": {},
   "source": [
    "모델 생성"
   ]
  },
  {
   "cell_type": "code",
   "execution_count": null,
   "metadata": {
    "scrolled": true
   },
   "outputs": [],
   "source": [
    "for src_sample, tgt_sample in train_dataset.take(1): break\n",
    "model = make_model(src_sample, vocab_size=num_words+1, embedding_size=256, hidden_size=256)"
   ]
  },
  {
   "cell_type": "markdown",
   "metadata": {},
   "source": [
    "모델 훈련"
   ]
  },
  {
   "cell_type": "code",
   "execution_count": null,
   "metadata": {
    "scrolled": true
   },
   "outputs": [],
   "source": [
    "\n",
    "model.fit(train_dataset, validation_data=val_dataset, epochs=10)"
   ]
  },
  {
   "cell_type": "markdown",
   "metadata": {},
   "source": [
    "생성해보기"
   ]
  },
  {
   "cell_type": "code",
   "execution_count": null,
   "metadata": {
    "scrolled": false
   },
   "outputs": [],
   "source": [
    "generate_text(model, tokenizer, init_sentence=\"<start> i love\", max_len=20)"
   ]
  },
  {
   "cell_type": "markdown",
   "metadata": {},
   "source": [
    "----------------------"
   ]
  },
  {
   "cell_type": "code",
   "execution_count": null,
   "metadata": {},
   "outputs": [],
   "source": []
  }
 ],
 "metadata": {
  "kernelspec": {
   "display_name": "aiffel",
   "language": "python",
   "name": "aiffel"
  },
  "language_info": {
   "codemirror_mode": {
    "name": "ipython",
    "version": 3
   },
   "file_extension": ".py",
   "mimetype": "text/x-python",
   "name": "python",
   "nbconvert_exporter": "python",
   "pygments_lexer": "ipython3",
   "version": "3.7.9"
  }
 },
 "nbformat": 4,
 "nbformat_minor": 4
}

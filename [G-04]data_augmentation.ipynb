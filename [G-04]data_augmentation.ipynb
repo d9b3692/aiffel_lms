{
 "cells": [
  {
   "cell_type": "markdown",
   "id": "pressed-carpet",
   "metadata": {},
   "source": [
    "# 시작"
   ]
  },
  {
   "cell_type": "code",
   "execution_count": 1,
   "id": "rough-somerset",
   "metadata": {},
   "outputs": [
    {
     "data": {
      "text/plain": [
       "[PhysicalDevice(name='/physical_device:GPU:0', device_type='GPU')]"
      ]
     },
     "execution_count": 1,
     "metadata": {},
     "output_type": "execute_result"
    }
   ],
   "source": [
    "import tensorflow as tf\n",
    "import tensorflow_datasets as tfds\n",
    "import matplotlib.pyplot as plt\n",
    "\n",
    "BATCH_SIZE = 16\n",
    "IMAGE_WIDTH = 224\n",
    "N_CLASS = 120\n",
    "tf.config.list_physical_devices('GPU')"
   ]
  },
  {
   "cell_type": "markdown",
   "id": "solved-auckland",
   "metadata": {},
   "source": [
    "# 데이터 전처리"
   ]
  },
  {
   "cell_type": "code",
   "execution_count": 2,
   "id": "constant-establishment",
   "metadata": {},
   "outputs": [],
   "source": [
    "def normalize_and_resize(image, label):\n",
    "    image = tf.image.resize(image, [IMAGE_WIDTH, IMAGE_WIDTH])\n",
    "    return tf.cast(image, tf.float32) / 255., label\n",
    "\n",
    "\n",
    "def augment(image, label):\n",
    "    image = tf.image.random_flip_left_right(image)\n",
    "    image = tf.image.random_brightness(image, max_delta=0.2)\n",
    "    # image = tf.image.random_contrast(image, 0.2, 0.5)\n",
    "    # image = tf.image.random_hue(image, max_delta=0.2)\n",
    "    return image, label\n",
    "\n",
    "\n",
    "def onehot(image, label):\n",
    "    return image, tf.one_hot(label, N_CLASS)"
   ]
  },
  {
   "cell_type": "code",
   "execution_count": 3,
   "id": "recorded-appliance",
   "metadata": {},
   "outputs": [],
   "source": [
    "def get_clip_box(max_x=IMAGE_WIDTH, max_y=IMAGE_WIDTH):\n",
    "    x = tf.cast(tf.random.uniform([],0,max_x),tf.int32)\n",
    "    y = tf.cast(tf.random.uniform([],0,max_y),tf.int32)\n",
    "\n",
    "    width = tf.cast(max_x * tf.math.sqrt(1-tf.random.uniform([],0.25,0.75)),tf.int32)\n",
    "    height = tf.cast(max_y * tf.math.sqrt(1-tf.random.uniform([],0.25,0.75)),tf.int32)\n",
    "    \n",
    "    left = tf.math.maximum(0, x-width//2)\n",
    "    top = tf.math.maximum(0, y-height//2)\n",
    "    right = tf.math.minimum(max_x, x+width//2)\n",
    "    bottom = tf.math.minimum(max_y, y+width//2)\n",
    "    \n",
    "    return left, top, right, bottom\n",
    "\n",
    "def mix_2_images(image1, image2, left, top, right, bottom):\n",
    "    middle_left = image1[top:bottom,0:left,:]\n",
    "    middle_center = image2[top:bottom,left:right,:]\n",
    "    middle_right = image1[top:bottom,right:,:]\n",
    "    middle_img = tf.concat([middle_left,middle_center,middle_right],axis=1)\n",
    "    top_img = image1[0:top,:,:]\n",
    "    bottom_img = image1[bottom:,:,:]\n",
    "    return tf.concat([top_img, middle_img, bottom_img],axis=0)\n",
    "\n",
    "\n",
    "def mix_2_label(label1, label2, left, top, right, bottom):\n",
    "    mixed = (right-left) * (bottom-top)\n",
    "    total = IMAGE_WIDTH * IMAGE_WIDTH\n",
    "    ratio = tf.cast(mixed/total, tf.float32)\n",
    "    if len(label1.shape)==0:\n",
    "        label1 = tf.one_hot(label1, N_CLASS)\n",
    "    if len(label2.shape)==0:\n",
    "        label2 = tf.one_hot(label2, N_CLASS)\n",
    "    return ((1 - ratio) * label1) + (ratio * label2)\n",
    "\n",
    "\n",
    "def cutmix(image, label):\n",
    "    mixed_imgs = []\n",
    "    mixed_labels = []\n",
    "    for i in range(BATCH_SIZE):\n",
    "        image1 = image[i]\n",
    "        label1 = label[i]\n",
    "        j = tf.cast(tf.random.uniform([],0, BATCH_SIZE),tf.int32)\n",
    "        image2 = image[j]\n",
    "        label2 = label[j]\n",
    "        left, top, right, bottom = get_clip_box()\n",
    "        mixed_imgs.append(mix_2_images(image1, image2, left, top, right, bottom))\n",
    "        mixed_labels.append(mix_2_label(label1, label2, left, top, right, bottom))\n",
    "        \n",
    "    mixed_imgs = tf.reshape(tf.stack(mixed_imgs), (BATCH_SIZE, IMAGE_WIDTH, IMAGE_WIDTH, 3))\n",
    "    mixed_labels = tf.reshape(tf.stack(mixed_labels), (BATCH_SIZE, N_CLASS))\n",
    "    return mixed_imgs, mixed_labels"
   ]
  },
  {
   "cell_type": "code",
   "execution_count": 4,
   "id": "becoming-prize",
   "metadata": {},
   "outputs": [],
   "source": [
    "def mixup_2_images(image1, image2, label1, label2):\n",
    "    a = tf.random.uniform([],0,1)\n",
    "    if len(label1.shape)==0:\n",
    "        label1 = tf.one_hot(label1, N_CLASS)\n",
    "    if len(label2.shape)==0:\n",
    "        label2 = tf.one_hot(label2, N_CLASS)\n",
    "    mixed_image= ((1 - a) * image1) + (a * image2)\n",
    "    mixed_label = ((1 - a) * label1) + (a * label2)\n",
    "    return mixed_image, mixed_label\n",
    "\n",
    "\n",
    "def mixup(image, label):\n",
    "    mixed_imgs = []\n",
    "    mixed_labels = []\n",
    "    for i in range(BATCH_SIZE):\n",
    "        image1 = image[i]\n",
    "        label1 = label[i]\n",
    "        j = tf.cast(tf.random.uniform([],0, BATCH_SIZE),tf.int32)\n",
    "        image2 = image[j]\n",
    "        label2 = label[j]\n",
    "        mixed_img, mixed_label = mixup_2_images(image1, image2, label1, label2)\n",
    "        mixed_imgs.append(mixed_img)\n",
    "        mixed_labels.append(mixed_label)\n",
    "\n",
    "    mixed_imgs = tf.reshape(tf.stack(mixed_imgs),(BATCH_SIZE, IMAGE_WIDTH, IMAGE_WIDTH, 3))\n",
    "    mixed_labels = tf.reshape(tf.stack(mixed_labels),(BATCH_SIZE, N_CLASS))\n",
    "    return mixed_imgs, mixed_labels"
   ]
  },
  {
   "cell_type": "code",
   "execution_count": 5,
   "id": "given-nelson",
   "metadata": {},
   "outputs": [],
   "source": [
    "def preproceess_dataset(ds, mode=None):\n",
    "    ds = ds.map(normalize_and_resize, num_parallel_calls=2)\n",
    "    if mode in ['augment', 'cutmix', 'mixup']:\n",
    "        ds = ds.map(augment, num_parallel_calls=2)\n",
    "    ds = ds.batch(BATCH_SIZE)\n",
    "    if mode == 'cutmix':\n",
    "        ds = ds.map(cutmix, num_parallel_calls=2)\n",
    "    elif mode == 'mixup':\n",
    "        ds = ds.map(mixup, num_parallel_calls=2)\n",
    "    else:\n",
    "        ds = ds.map(onehot, num_parallel_calls=2)\n",
    "        \n",
    "    if mode != 'test':\n",
    "        ds = ds.repeat()\n",
    "        ds = ds.shuffle(200)\n",
    "    return ds.prefetch(tf.data.experimental.AUTOTUNE)"
   ]
  },
  {
   "cell_type": "markdown",
   "id": "macro-floating",
   "metadata": {},
   "source": [
    "# 모델 생성 & 훈련 & 결과보기"
   ]
  },
  {
   "cell_type": "code",
   "execution_count": 6,
   "id": "stock-blast",
   "metadata": {},
   "outputs": [],
   "source": [
    "def make_model():\n",
    "    model= tf.keras.models.Sequential([\n",
    "        tf.keras.applications.resnet.ResNet50(\n",
    "            include_top=False,\n",
    "            weights='imagenet',\n",
    "            input_shape=(IMAGE_WIDTH, IMAGE_WIDTH,3),\n",
    "            pooling='avg',\n",
    "        ),\n",
    "        tf.keras.layers.Dense(N_CLASS, activation = 'softmax')\n",
    "    ])\n",
    "    model.compile(\n",
    "        loss='categorical_crossentropy',\n",
    "        optimizer=tf.keras.optimizers.SGD(lr=0.01, momentum=0.2),\n",
    "        metrics=['accuracy']\n",
    "    )\n",
    "    return model"
   ]
  },
  {
   "cell_type": "code",
   "execution_count": 7,
   "id": "three-surrey",
   "metadata": {},
   "outputs": [],
   "source": [
    "def train_model(model, train, val, n_train, n_val, epochs=30):\n",
    "    return model.fit(\n",
    "        train,\n",
    "        steps_per_epoch=int(n_train/BATCH_SIZE),\n",
    "        validation_steps=int(n_test/BATCH_SIZE),\n",
    "        epochs=epochs,\n",
    "        validation_data=ds_test,\n",
    "        verbose=1,\n",
    "        use_multiprocessing=True,\n",
    "    )"
   ]
  },
  {
   "cell_type": "code",
   "execution_count": 8,
   "id": "velvet-murder",
   "metadata": {},
   "outputs": [],
   "source": [
    "def draw_history(names, histories):\n",
    "    for history in histories:\n",
    "        plt.plot(history.history['val_accuracy'])\n",
    "    plt.title('Model validation accuracy')\n",
    "    plt.ylabel('Accuracy')\n",
    "    plt.xlabel('Epoch')\n",
    "    plt.legend(names, loc='lower right')\n",
    "    plt.show()"
   ]
  },
  {
   "cell_type": "markdown",
   "id": "assigned-authorization",
   "metadata": {},
   "source": [
    "# 메인"
   ]
  },
  {
   "cell_type": "code",
   "execution_count": 9,
   "id": "invisible-sector",
   "metadata": {},
   "outputs": [],
   "source": [
    "(ds_train, ds_test), ds_info = tfds.load('stanford_dogs', split=['train', 'test'], \n",
    "                                          as_supervised=True, shuffle_files=True, with_info=True)\n",
    "n_train = ds_info.splits['train'].num_examples\n",
    "n_test = ds_info.splits['test'].num_examples"
   ]
  },
  {
   "cell_type": "code",
   "execution_count": 10,
   "id": "antique-bosnia",
   "metadata": {},
   "outputs": [],
   "source": [
    "resnet_base = make_model()\n",
    "resnet_aug = make_model()\n",
    "resnet_cutmix = make_model()\n",
    "resnet_mixup = make_model()"
   ]
  },
  {
   "cell_type": "code",
   "execution_count": 11,
   "id": "hollow-zimbabwe",
   "metadata": {
    "scrolled": true
   },
   "outputs": [],
   "source": [
    "ds_train_base = preproceess_dataset(ds_train)\n",
    "ds_train_aug = preproceess_dataset(ds_train, mode='augment')\n",
    "ds_train_cutmix = preproceess_dataset(ds_train, mode='cutmix')\n",
    "ds_train_mixup = preproceess_dataset(ds_train, mode='mixup')\n",
    "ds_test = preproceess_dataset(ds_test, mode='test')"
   ]
  },
  {
   "cell_type": "code",
   "execution_count": 12,
   "id": "loose-referral",
   "metadata": {},
   "outputs": [
    {
     "name": "stdout",
     "output_type": "stream",
     "text": [
      "Epoch 1/30\n",
      "750/750 [==============================] - 111s 148ms/step - loss: 2.1197 - accuracy: 0.4582 - val_loss: 3.3036 - val_accuracy: 0.2310\n",
      "Epoch 2/30\n",
      "750/750 [==============================] - 112s 150ms/step - loss: 0.7437 - accuracy: 0.7850 - val_loss: 1.2828 - val_accuracy: 0.6341\n",
      "Epoch 3/30\n",
      "750/750 [==============================] - 113s 150ms/step - loss: 0.2784 - accuracy: 0.9312 - val_loss: 1.0368 - val_accuracy: 0.7036\n",
      "Epoch 4/30\n",
      "750/750 [==============================] - 113s 150ms/step - loss: 0.0980 - accuracy: 0.9847 - val_loss: 0.9714 - val_accuracy: 0.7194\n",
      "Epoch 5/30\n",
      "750/750 [==============================] - 113s 151ms/step - loss: 0.0337 - accuracy: 0.9975 - val_loss: 0.9215 - val_accuracy: 0.7435\n",
      "Epoch 6/30\n",
      "750/750 [==============================] - 113s 151ms/step - loss: 0.0224 - accuracy: 0.9975 - val_loss: 0.9558 - val_accuracy: 0.7371\n",
      "Epoch 7/30\n",
      "750/750 [==============================] - 113s 151ms/step - loss: 0.0163 - accuracy: 0.9989 - val_loss: 0.9625 - val_accuracy: 0.7378\n",
      "Epoch 8/30\n",
      "750/750 [==============================] - 113s 151ms/step - loss: 0.0133 - accuracy: 0.9987 - val_loss: 0.9436 - val_accuracy: 0.7470\n",
      "Epoch 9/30\n",
      "750/750 [==============================] - 113s 151ms/step - loss: 0.0093 - accuracy: 0.9992 - val_loss: 0.9500 - val_accuracy: 0.7490\n",
      "Epoch 10/30\n",
      "750/750 [==============================] - 114s 152ms/step - loss: 0.0098 - accuracy: 0.9993 - val_loss: 0.9684 - val_accuracy: 0.7452\n",
      "Epoch 11/30\n",
      "750/750 [==============================] - 114s 152ms/step - loss: 0.0079 - accuracy: 0.9990 - val_loss: 0.9754 - val_accuracy: 0.7436\n",
      "Epoch 12/30\n",
      "750/750 [==============================] - 114s 152ms/step - loss: 0.0072 - accuracy: 0.9992 - val_loss: 0.9784 - val_accuracy: 0.7457\n",
      "Epoch 13/30\n",
      "750/750 [==============================] - 114s 152ms/step - loss: 0.0043 - accuracy: 0.9998 - val_loss: 0.9705 - val_accuracy: 0.7471\n",
      "Epoch 14/30\n",
      "750/750 [==============================] - 114s 152ms/step - loss: 0.0042 - accuracy: 0.9999 - val_loss: 0.9728 - val_accuracy: 0.7477\n",
      "Epoch 15/30\n",
      "750/750 [==============================] - 114s 152ms/step - loss: 0.0039 - accuracy: 0.9998 - val_loss: 0.9833 - val_accuracy: 0.7510\n",
      "Epoch 16/30\n",
      "750/750 [==============================] - 114s 152ms/step - loss: 0.0025 - accuracy: 1.0000 - val_loss: 0.9859 - val_accuracy: 0.7486\n",
      "Epoch 17/30\n",
      "750/750 [==============================] - 114s 152ms/step - loss: 0.0028 - accuracy: 1.0000 - val_loss: 0.9941 - val_accuracy: 0.7484\n",
      "Epoch 18/30\n",
      "750/750 [==============================] - 114s 152ms/step - loss: 0.0025 - accuracy: 1.0000 - val_loss: 1.0026 - val_accuracy: 0.7481\n",
      "Epoch 19/30\n",
      "750/750 [==============================] - 114s 152ms/step - loss: 0.0022 - accuracy: 1.0000 - val_loss: 1.0072 - val_accuracy: 0.7472\n",
      "Epoch 20/30\n",
      "750/750 [==============================] - 114s 152ms/step - loss: 0.0016 - accuracy: 1.0000 - val_loss: 1.0049 - val_accuracy: 0.7485\n",
      "Epoch 21/30\n",
      "750/750 [==============================] - 114s 152ms/step - loss: 0.0014 - accuracy: 1.0000 - val_loss: 1.0096 - val_accuracy: 0.7485\n",
      "Epoch 22/30\n",
      "750/750 [==============================] - 114s 152ms/step - loss: 0.0013 - accuracy: 1.0000 - val_loss: 1.0199 - val_accuracy: 0.7469\n",
      "Epoch 23/30\n",
      "750/750 [==============================] - 114s 152ms/step - loss: 0.0018 - accuracy: 1.0000 - val_loss: 1.0208 - val_accuracy: 0.7480\n",
      "Epoch 24/30\n",
      "750/750 [==============================] - 114s 152ms/step - loss: 0.0018 - accuracy: 1.0000 - val_loss: 1.0270 - val_accuracy: 0.7458\n",
      "Epoch 25/30\n",
      "750/750 [==============================] - 114s 152ms/step - loss: 0.0015 - accuracy: 1.0000 - val_loss: 1.0296 - val_accuracy: 0.7474\n",
      "Epoch 26/30\n",
      "750/750 [==============================] - 114s 152ms/step - loss: 0.0011 - accuracy: 1.0000 - val_loss: 1.0324 - val_accuracy: 0.7472\n",
      "Epoch 27/30\n",
      "750/750 [==============================] - 114s 152ms/step - loss: 9.5156e-04 - accuracy: 1.0000 - val_loss: 1.0363 - val_accuracy: 0.7476\n",
      "Epoch 28/30\n",
      "750/750 [==============================] - 114s 152ms/step - loss: 8.9549e-04 - accuracy: 1.0000 - val_loss: 1.0394 - val_accuracy: 0.7469\n",
      "Epoch 29/30\n",
      "750/750 [==============================] - 114s 152ms/step - loss: 9.4754e-04 - accuracy: 1.0000 - val_loss: 1.0443 - val_accuracy: 0.7469\n",
      "Epoch 30/30\n",
      "750/750 [==============================] - 114s 152ms/step - loss: 0.0023 - accuracy: 1.0000 - val_loss: 1.0438 - val_accuracy: 0.7488\n"
     ]
    }
   ],
   "source": [
    "history_base = train_model(resnet_base, ds_train_base, ds_test, n_train, n_test)"
   ]
  },
  {
   "cell_type": "code",
   "execution_count": 13,
   "id": "hydraulic-quarter",
   "metadata": {},
   "outputs": [
    {
     "name": "stdout",
     "output_type": "stream",
     "text": [
      "Epoch 1/30\n",
      "750/750 [==============================] - 114s 152ms/step - loss: 2.1826 - accuracy: 0.4439 - val_loss: 3.6173 - val_accuracy: 0.1837\n",
      "Epoch 2/30\n",
      "750/750 [==============================] - 114s 152ms/step - loss: 0.9722 - accuracy: 0.7153 - val_loss: 1.4253 - val_accuracy: 0.6067\n",
      "Epoch 3/30\n",
      "750/750 [==============================] - 114s 152ms/step - loss: 0.5452 - accuracy: 0.8423 - val_loss: 1.4401 - val_accuracy: 0.6059\n",
      "Epoch 4/30\n",
      "750/750 [==============================] - 114s 151ms/step - loss: 0.3140 - accuracy: 0.9166 - val_loss: 1.1056 - val_accuracy: 0.6896\n",
      "Epoch 5/30\n",
      "750/750 [==============================] - 113s 151ms/step - loss: 0.1674 - accuracy: 0.9601 - val_loss: 1.0344 - val_accuracy: 0.7160\n",
      "Epoch 6/30\n",
      "750/750 [==============================] - 113s 151ms/step - loss: 0.1047 - accuracy: 0.9787 - val_loss: 1.0592 - val_accuracy: 0.7114\n",
      "Epoch 7/30\n",
      "750/750 [==============================] - 113s 151ms/step - loss: 0.0679 - accuracy: 0.9869 - val_loss: 0.9984 - val_accuracy: 0.7268\n",
      "Epoch 8/30\n",
      "750/750 [==============================] - 113s 151ms/step - loss: 0.0358 - accuracy: 0.9953 - val_loss: 0.9725 - val_accuracy: 0.7394\n",
      "Epoch 9/30\n",
      "750/750 [==============================] - 114s 151ms/step - loss: 0.0267 - accuracy: 0.9972 - val_loss: 0.9861 - val_accuracy: 0.7425\n",
      "Epoch 10/30\n",
      "750/750 [==============================] - 114s 151ms/step - loss: 0.0172 - accuracy: 0.9984 - val_loss: 0.9604 - val_accuracy: 0.7495\n",
      "Epoch 11/30\n",
      "750/750 [==============================] - 114s 151ms/step - loss: 0.0135 - accuracy: 0.9981 - val_loss: 0.9578 - val_accuracy: 0.7456\n",
      "Epoch 12/30\n",
      "750/750 [==============================] - 114s 151ms/step - loss: 0.0113 - accuracy: 0.9991 - val_loss: 0.9749 - val_accuracy: 0.7479\n",
      "Epoch 13/30\n",
      "750/750 [==============================] - 114s 151ms/step - loss: 0.0073 - accuracy: 0.9996 - val_loss: 0.9739 - val_accuracy: 0.7472\n",
      "Epoch 14/30\n",
      "750/750 [==============================] - 114s 151ms/step - loss: 0.0091 - accuracy: 0.9989 - val_loss: 0.9939 - val_accuracy: 0.7498\n",
      "Epoch 15/30\n",
      "750/750 [==============================] - 114s 151ms/step - loss: 0.0053 - accuracy: 0.9995 - val_loss: 0.9654 - val_accuracy: 0.7548\n",
      "Epoch 16/30\n",
      "750/750 [==============================] - 114s 151ms/step - loss: 0.0060 - accuracy: 0.9996 - val_loss: 0.9771 - val_accuracy: 0.7516\n",
      "Epoch 17/30\n",
      "750/750 [==============================] - 114s 151ms/step - loss: 0.0081 - accuracy: 0.9992 - val_loss: 0.9980 - val_accuracy: 0.7521\n",
      "Epoch 18/30\n",
      "750/750 [==============================] - 114s 151ms/step - loss: 0.0088 - accuracy: 0.9984 - val_loss: 1.0074 - val_accuracy: 0.7493\n",
      "Epoch 19/30\n",
      "750/750 [==============================] - 114s 151ms/step - loss: 0.0042 - accuracy: 0.9997 - val_loss: 0.9904 - val_accuracy: 0.7572\n",
      "Epoch 20/30\n",
      "750/750 [==============================] - 114s 151ms/step - loss: 0.0058 - accuracy: 0.9992 - val_loss: 1.0187 - val_accuracy: 0.7474\n",
      "Epoch 21/30\n",
      "750/750 [==============================] - 115s 153ms/step - loss: 0.0071 - accuracy: 0.9989 - val_loss: 1.0240 - val_accuracy: 0.7508\n",
      "Epoch 22/30\n",
      "750/750 [==============================] - 114s 152ms/step - loss: 0.0045 - accuracy: 0.9994 - val_loss: 1.0013 - val_accuracy: 0.7568\n",
      "Epoch 23/30\n",
      "750/750 [==============================] - 114s 152ms/step - loss: 0.0033 - accuracy: 0.9998 - val_loss: 1.0056 - val_accuracy: 0.7558\n",
      "Epoch 24/30\n",
      "750/750 [==============================] - 114s 152ms/step - loss: 0.0029 - accuracy: 0.9999 - val_loss: 1.0005 - val_accuracy: 0.7559\n",
      "Epoch 25/30\n",
      "750/750 [==============================] - 114s 152ms/step - loss: 0.0023 - accuracy: 0.9998 - val_loss: 1.0115 - val_accuracy: 0.7545\n",
      "Epoch 26/30\n",
      "750/750 [==============================] - 114s 153ms/step - loss: 0.0036 - accuracy: 0.9997 - val_loss: 1.0183 - val_accuracy: 0.7506\n",
      "Epoch 27/30\n",
      "750/750 [==============================] - 114s 153ms/step - loss: 0.0058 - accuracy: 0.9993 - val_loss: 1.0272 - val_accuracy: 0.7486\n",
      "Epoch 28/30\n",
      "750/750 [==============================] - 114s 153ms/step - loss: 0.0031 - accuracy: 0.9998 - val_loss: 1.0232 - val_accuracy: 0.7537\n",
      "Epoch 29/30\n",
      "750/750 [==============================] - 115s 153ms/step - loss: 0.0018 - accuracy: 0.9999 - val_loss: 1.0223 - val_accuracy: 0.7536\n",
      "Epoch 30/30\n",
      "750/750 [==============================] - 114s 153ms/step - loss: 0.0023 - accuracy: 1.0000 - val_loss: 1.0277 - val_accuracy: 0.7535\n"
     ]
    }
   ],
   "source": [
    "history_aug = train_model(resnet_aug, ds_train_aug, ds_test, n_train, n_test)"
   ]
  },
  {
   "cell_type": "code",
   "execution_count": 14,
   "id": "answering-producer",
   "metadata": {
    "scrolled": true
   },
   "outputs": [
    {
     "name": "stdout",
     "output_type": "stream",
     "text": [
      "Epoch 1/30\n",
      "750/750 [==============================] - 117s 156ms/step - loss: 3.9540 - accuracy: 0.1906 - val_loss: 2.9759 - val_accuracy: 0.2712\n",
      "Epoch 2/30\n",
      "750/750 [==============================] - 116s 155ms/step - loss: 3.1891 - accuracy: 0.3711 - val_loss: 1.5049 - val_accuracy: 0.5891\n",
      "Epoch 3/30\n",
      "750/750 [==============================] - 116s 155ms/step - loss: 2.9537 - accuracy: 0.4408 - val_loss: 1.3872 - val_accuracy: 0.6258\n",
      "Epoch 4/30\n",
      "750/750 [==============================] - 117s 156ms/step - loss: 2.7546 - accuracy: 0.4975 - val_loss: 1.5952 - val_accuracy: 0.5714\n",
      "Epoch 5/30\n",
      "750/750 [==============================] - 116s 155ms/step - loss: 2.6461 - accuracy: 0.5347 - val_loss: 1.3960 - val_accuracy: 0.6226\n",
      "Epoch 6/30\n",
      "750/750 [==============================] - 117s 155ms/step - loss: 2.5473 - accuracy: 0.5613 - val_loss: 1.3538 - val_accuracy: 0.6348\n",
      "Epoch 7/30\n",
      "750/750 [==============================] - 117s 155ms/step - loss: 2.4405 - accuracy: 0.5936 - val_loss: 1.2237 - val_accuracy: 0.6716\n",
      "Epoch 8/30\n",
      "750/750 [==============================] - 117s 155ms/step - loss: 2.3795 - accuracy: 0.6143 - val_loss: 1.2329 - val_accuracy: 0.6693\n",
      "Epoch 9/30\n",
      "750/750 [==============================] - 117s 155ms/step - loss: 2.2880 - accuracy: 0.6339 - val_loss: 1.1889 - val_accuracy: 0.6874\n",
      "Epoch 10/30\n",
      "750/750 [==============================] - 116s 155ms/step - loss: 2.2490 - accuracy: 0.6487 - val_loss: 1.2596 - val_accuracy: 0.6761\n",
      "Epoch 11/30\n",
      "750/750 [==============================] - 116s 155ms/step - loss: 2.1869 - accuracy: 0.6606 - val_loss: 1.4070 - val_accuracy: 0.6420\n",
      "Epoch 12/30\n",
      "750/750 [==============================] - 117s 156ms/step - loss: 2.1134 - accuracy: 0.6794 - val_loss: 1.2365 - val_accuracy: 0.6750\n",
      "Epoch 13/30\n",
      "750/750 [==============================] - 127s 169ms/step - loss: 2.0799 - accuracy: 0.6877 - val_loss: 1.2555 - val_accuracy: 0.6763\n",
      "Epoch 14/30\n",
      "750/750 [==============================] - 126s 168ms/step - loss: 2.0522 - accuracy: 0.6982 - val_loss: 1.2949 - val_accuracy: 0.6711\n",
      "Epoch 15/30\n",
      "750/750 [==============================] - 126s 168ms/step - loss: 1.9877 - accuracy: 0.7090 - val_loss: 1.2551 - val_accuracy: 0.6755\n",
      "Epoch 16/30\n",
      "750/750 [==============================] - 126s 168ms/step - loss: 1.9603 - accuracy: 0.7179 - val_loss: 1.5756 - val_accuracy: 0.6131\n",
      "Epoch 17/30\n",
      "750/750 [==============================] - 127s 169ms/step - loss: 1.9410 - accuracy: 0.7231 - val_loss: 1.4227 - val_accuracy: 0.6468\n",
      "Epoch 18/30\n",
      "750/750 [==============================] - 126s 168ms/step - loss: 1.9174 - accuracy: 0.7254 - val_loss: 1.3775 - val_accuracy: 0.6673\n",
      "Epoch 19/30\n",
      "750/750 [==============================] - 126s 168ms/step - loss: 1.8567 - accuracy: 0.7459 - val_loss: 1.3500 - val_accuracy: 0.6719\n",
      "Epoch 20/30\n",
      "750/750 [==============================] - 126s 168ms/step - loss: 1.8320 - accuracy: 0.7520 - val_loss: 1.4375 - val_accuracy: 0.6511\n",
      "Epoch 21/30\n",
      "750/750 [==============================] - 126s 168ms/step - loss: 1.7975 - accuracy: 0.7570 - val_loss: 1.6497 - val_accuracy: 0.6132\n",
      "Epoch 22/30\n",
      "750/750 [==============================] - 126s 168ms/step - loss: 1.7855 - accuracy: 0.7515 - val_loss: 1.2709 - val_accuracy: 0.6853\n",
      "Epoch 23/30\n",
      "750/750 [==============================] - 126s 168ms/step - loss: 1.7836 - accuracy: 0.7458 - val_loss: 1.4817 - val_accuracy: 0.6433\n",
      "Epoch 24/30\n",
      "750/750 [==============================] - 126s 168ms/step - loss: 1.7707 - accuracy: 0.7531 - val_loss: 1.4827 - val_accuracy: 0.6473\n",
      "Epoch 25/30\n",
      "750/750 [==============================] - 126s 168ms/step - loss: 1.7357 - accuracy: 0.7589 - val_loss: 1.4870 - val_accuracy: 0.6439\n",
      "Epoch 26/30\n",
      "750/750 [==============================] - 126s 168ms/step - loss: 1.7241 - accuracy: 0.7538 - val_loss: 1.5879 - val_accuracy: 0.6251\n",
      "Epoch 27/30\n",
      "750/750 [==============================] - 126s 168ms/step - loss: 1.6867 - accuracy: 0.7704 - val_loss: 1.4135 - val_accuracy: 0.6713\n",
      "Epoch 28/30\n",
      "750/750 [==============================] - 126s 168ms/step - loss: 1.6928 - accuracy: 0.7600 - val_loss: 1.5868 - val_accuracy: 0.6294\n",
      "Epoch 29/30\n",
      "750/750 [==============================] - 126s 168ms/step - loss: 1.6736 - accuracy: 0.7677 - val_loss: 1.3314 - val_accuracy: 0.6852\n",
      "Epoch 30/30\n",
      "750/750 [==============================] - 126s 168ms/step - loss: 1.6271 - accuracy: 0.7805 - val_loss: 1.4370 - val_accuracy: 0.6700\n"
     ]
    }
   ],
   "source": [
    "history_cutmix = train_model(resnet_cutmix, ds_train_cutmix, ds_test, n_train, n_test)"
   ]
  },
  {
   "cell_type": "code",
   "execution_count": 15,
   "id": "utility-panic",
   "metadata": {},
   "outputs": [
    {
     "name": "stdout",
     "output_type": "stream",
     "text": [
      "Epoch 1/30\n",
      "750/750 [==============================] - 128s 171ms/step - loss: 3.7158 - accuracy: 0.2373 - val_loss: 3.7943 - val_accuracy: 0.1536\n",
      "Epoch 2/30\n",
      "750/750 [==============================] - 127s 169ms/step - loss: 2.9166 - accuracy: 0.4628 - val_loss: 1.8484 - val_accuracy: 0.5178\n",
      "Epoch 3/30\n",
      "750/750 [==============================] - 127s 169ms/step - loss: 2.6641 - accuracy: 0.5473 - val_loss: 1.4711 - val_accuracy: 0.5921\n",
      "Epoch 4/30\n",
      "750/750 [==============================] - 127s 169ms/step - loss: 2.4853 - accuracy: 0.6118 - val_loss: 1.7073 - val_accuracy: 0.5402\n",
      "Epoch 5/30\n",
      "750/750 [==============================] - 127s 169ms/step - loss: 2.3648 - accuracy: 0.6526 - val_loss: 1.3787 - val_accuracy: 0.6325\n",
      "Epoch 6/30\n",
      "750/750 [==============================] - 127s 169ms/step - loss: 2.2633 - accuracy: 0.6946 - val_loss: 1.2310 - val_accuracy: 0.6602\n",
      "Epoch 7/30\n",
      "750/750 [==============================] - 127s 169ms/step - loss: 2.2113 - accuracy: 0.7173 - val_loss: 1.3928 - val_accuracy: 0.6228\n",
      "Epoch 8/30\n",
      "750/750 [==============================] - 127s 169ms/step - loss: 2.1033 - accuracy: 0.7489 - val_loss: 1.2406 - val_accuracy: 0.6678\n",
      "Epoch 9/30\n",
      "750/750 [==============================] - 127s 170ms/step - loss: 2.0600 - accuracy: 0.7726 - val_loss: 1.3092 - val_accuracy: 0.6553\n",
      "Epoch 10/30\n",
      "750/750 [==============================] - 127s 170ms/step - loss: 2.0351 - accuracy: 0.7757 - val_loss: 1.1799 - val_accuracy: 0.6799\n",
      "Epoch 11/30\n",
      "750/750 [==============================] - 127s 170ms/step - loss: 1.9933 - accuracy: 0.7918 - val_loss: 1.1945 - val_accuracy: 0.6783\n",
      "Epoch 12/30\n",
      "750/750 [==============================] - 128s 170ms/step - loss: 1.9803 - accuracy: 0.8017 - val_loss: 1.1622 - val_accuracy: 0.6917\n",
      "Epoch 13/30\n",
      "750/750 [==============================] - 128s 170ms/step - loss: 1.9205 - accuracy: 0.8137 - val_loss: 1.2492 - val_accuracy: 0.6657\n",
      "Epoch 14/30\n",
      "750/750 [==============================] - 125s 167ms/step - loss: 1.8901 - accuracy: 0.8171 - val_loss: 1.3684 - val_accuracy: 0.6515\n",
      "Epoch 15/30\n",
      "750/750 [==============================] - 126s 169ms/step - loss: 1.8721 - accuracy: 0.8324 - val_loss: 1.2320 - val_accuracy: 0.6792\n",
      "Epoch 16/30\n",
      "750/750 [==============================] - 126s 169ms/step - loss: 1.8550 - accuracy: 0.8341 - val_loss: 1.3971 - val_accuracy: 0.6504\n",
      "Epoch 17/30\n",
      "750/750 [==============================] - 127s 170ms/step - loss: 1.8279 - accuracy: 0.8362 - val_loss: 1.2971 - val_accuracy: 0.6706\n",
      "Epoch 18/30\n",
      "750/750 [==============================] - 127s 170ms/step - loss: 1.7939 - accuracy: 0.8460 - val_loss: 1.4028 - val_accuracy: 0.6524\n",
      "Epoch 19/30\n",
      "750/750 [==============================] - 126s 168ms/step - loss: 1.8181 - accuracy: 0.8388 - val_loss: 1.2864 - val_accuracy: 0.6782\n",
      "Epoch 20/30\n",
      "750/750 [==============================] - 125s 167ms/step - loss: 1.7870 - accuracy: 0.8460 - val_loss: 1.3666 - val_accuracy: 0.6470\n",
      "Epoch 21/30\n",
      "750/750 [==============================] - 126s 168ms/step - loss: 1.7919 - accuracy: 0.8468 - val_loss: 1.3660 - val_accuracy: 0.6651\n",
      "Epoch 22/30\n",
      "750/750 [==============================] - 126s 168ms/step - loss: 1.7331 - accuracy: 0.8573 - val_loss: 1.2925 - val_accuracy: 0.6735\n",
      "Epoch 23/30\n",
      "750/750 [==============================] - 126s 168ms/step - loss: 1.7468 - accuracy: 0.8558 - val_loss: 1.3681 - val_accuracy: 0.6604\n",
      "Epoch 24/30\n",
      "750/750 [==============================] - 125s 167ms/step - loss: 1.7201 - accuracy: 0.8632 - val_loss: 1.2713 - val_accuracy: 0.6767\n",
      "Epoch 25/30\n",
      "750/750 [==============================] - 125s 167ms/step - loss: 1.7005 - accuracy: 0.8654 - val_loss: 1.3276 - val_accuracy: 0.6680\n",
      "Epoch 26/30\n",
      "750/750 [==============================] - 126s 168ms/step - loss: 1.7113 - accuracy: 0.8607 - val_loss: 1.2411 - val_accuracy: 0.6924\n",
      "Epoch 27/30\n",
      "750/750 [==============================] - 128s 170ms/step - loss: 1.6894 - accuracy: 0.8679 - val_loss: 1.4029 - val_accuracy: 0.6664\n",
      "Epoch 28/30\n",
      "750/750 [==============================] - 126s 168ms/step - loss: 1.7038 - accuracy: 0.8573 - val_loss: 1.3627 - val_accuracy: 0.6629\n",
      "Epoch 29/30\n",
      "750/750 [==============================] - 125s 167ms/step - loss: 1.6963 - accuracy: 0.8608 - val_loss: 1.3223 - val_accuracy: 0.6694\n",
      "Epoch 30/30\n",
      "750/750 [==============================] - 125s 167ms/step - loss: 1.6864 - accuracy: 0.8582 - val_loss: 1.3539 - val_accuracy: 0.6774\n"
     ]
    }
   ],
   "source": [
    "history_mixup = train_model(resnet_mixup, ds_train_mixup, ds_test, n_train, n_test)"
   ]
  },
  {
   "cell_type": "code",
   "execution_count": 16,
   "id": "intelligent-edition",
   "metadata": {
    "scrolled": true
   },
   "outputs": [
    {
     "data": {
      "image/png": "[encoded data removed]",
      "text/plain": [
       "<Figure size 432x288 with 1 Axes>"
      ]
     },
     "metadata": {
      "needs_background": "light"
     },
     "output_type": "display_data"
    }
   ],
   "source": [
    "draw_history(['Base', 'Augment', 'Cutmix', 'Mixup'], [history_base, history_aug, history_cutmix, history_mixup])"
   ]
  },
  {
   "cell_type": "markdown",
   "id": "chemical-incident",
   "metadata": {},
   "source": [
    "# 결론"
   ]
  },
  {
   "cell_type": "markdown",
   "id": "exposed-district",
   "metadata": {},
   "source": [
    "우선 cutmix와 mixup은 stanford_dogs 데이터 셋에 대해서는 좋지 않은 결과를 보였다.   \n",
    "cutmix의 경우 이미지의 상당 부분을 해당 물체가 점유하고 있어야 훈련이 될 것으로 예측이 된다.  \n",
    "cutmix가 적용된 크기, 위치에 따라 학습에 방해가 될 수도 있을 것으로 보인다.  \n",
    "mixup의 경우도 혼합된 비율이나 혼합된 실제 이미지에 따라 잡음으로 보이는 경우가 있었다.  \n",
    "\n",
    "augmentation만 적용한 결과는 그렇지 않은 경우보다 나아질 수도 있지만, 학습 초기에는 그렇지 못한 경향을 보인다.  \n",
    "또, 어떤 augmentation을 적용하냐에 따라 성능에 크게 하락하기도 하였다.  \n",
    "\n",
    "결론적으로 augmentation을 적용하는 것은 준비된 데이터 셋이 부족할때는 큰 도움이 되지만, augmentation의 종류가 하이퍼파라미터가 되는 꼴이므로 좋은 결과를 얻는데 더 많은 시도가 필요하다.  "
   ]
  },
  {
   "cell_type": "code",
   "execution_count": null,
   "id": "departmental-twelve",
   "metadata": {},
   "outputs": [],
   "source": []
  }
 ],
 "metadata": {
  "kernelspec": {
   "display_name": "aiffel",
   "language": "python",
   "name": "aiffel"
  },
  "language_info": {
   "codemirror_mode": {
    "name": "ipython",
    "version": 3
   },
   "file_extension": ".py",
   "mimetype": "text/x-python",
   "name": "python",
   "nbconvert_exporter": "python",
   "pygments_lexer": "ipython3",
   "version": "3.7.9"
  }
 },
 "nbformat": 4,
 "nbformat_minor": 5
}

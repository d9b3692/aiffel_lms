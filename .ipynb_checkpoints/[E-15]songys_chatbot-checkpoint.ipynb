{
 "cells": [
  {
   "cell_type": "markdown",
   "metadata": {},
   "source": [
    "# 시작"
   ]
  },
  {
   "cell_type": "code",
   "execution_count": 142,
   "metadata": {},
   "outputs": [],
   "source": [
    "import os\n",
    "import re\n",
    "import pandas as pd\n",
    "import tensorflow as tf\n",
    "import tensorflow_datasets as tfds"
   ]
  },
  {
   "cell_type": "markdown",
   "metadata": {},
   "source": [
    "# 데이터 준비 & 전처리"
   ]
  },
  {
   "cell_type": "code",
   "execution_count": 143,
   "metadata": {},
   "outputs": [],
   "source": [
    "def load_data():\n",
    "    path = os.getenv('HOME') + '/aiffel/songys_chatbot/ChatbotData.csv'\n",
    "    data = pd.read_csv(path)\n",
    "    print('데이터를 불러왔습니다: {}개 문장'.format(len(data)))\n",
    "    print(data.head())\n",
    "    return data\n",
    "\n",
    "\n",
    "def preprocess_sentence(sentence):\n",
    "    sentence = re.sub(r\"([?.!,])\", r\" \\1 \", sentence)\n",
    "    sentence = re.sub(r'[\" \"]+', \" \", sentence)\n",
    "    sentence = sentence.strip()\n",
    "    return sentence"
   ]
  },
  {
   "cell_type": "code",
   "execution_count": 144,
   "metadata": {},
   "outputs": [],
   "source": [
    "MAX_LENGTH = 20\n",
    "\n",
    "def tokenize_data(data):\n",
    "    questions = data['Q'].apply(preprocess_sentence).tolist()\n",
    "    answers = data['A'].apply(preprocess_sentence).tolist()\n",
    "    \n",
    "    tokenizer = tfds.deprecated.text.SubwordTextEncoder.build_from_corpus(questions + answers, target_vocab_size=2**13)\n",
    "    start_token, end_token = [tokenizer.vocab_size], [tokenizer.vocab_size + 1]\n",
    "    \n",
    "    tokenized_questions = []\n",
    "    tokenized_answers = []\n",
    "    \n",
    "    removed_count = 0\n",
    "    for question, answer in zip(questions, answers):\n",
    "        tokenized_question = start_token + tokenizer.encode(question) + end_token\n",
    "        tokenized_answer = start_token + tokenizer.encode(answer) + end_token\n",
    "        \n",
    "        if len(tokenized_question) < MAX_LENGTH and len(tokenized_answer) < MAX_LENGTH:\n",
    "            tokenized_questions.append(tokenized_question)\n",
    "            tokenized_answers.append(tokenized_answer)\n",
    "        else:\n",
    "            removed_count += 1\n",
    "    print('{}개 문장이 {}보다 길어 삭제되었습니다'.format(removed_count, MAX_LENGTH))\n",
    "    tokenized_questions = tf.keras.preprocessing.sequence.pad_sequences(tokenized_questions, maxlen=MAX_LENGTH, padding='post')\n",
    "    tokenized_answers = tf.keras.preprocessing.sequence.pad_sequences(tokenized_answers, maxlen=MAX_LENGTH, padding='post')\n",
    "    return tokenizer, tokenized_questions, tokenized_answers"
   ]
  },
  {
   "cell_type": "code",
   "execution_count": 145,
   "metadata": {},
   "outputs": [],
   "source": [
    "def make_dataset(questions, answers):\n",
    "    BATCH_SIZE = 64\n",
    "    BUFFER_SIZE = 20000\n",
    "    return tf.data.Dataset.from_tensor_slices((\n",
    "        {\n",
    "            'inputs': questions,\n",
    "            'dec_inputs': answers[:, :-1]\n",
    "        },\n",
    "        {\n",
    "            'outputs': answers[:, 1:]\n",
    "        },\n",
    "    ))\\\n",
    "    .cache()\\\n",
    "    .shuffle(BUFFER_SIZE)\\\n",
    "    .batch(BATCH_SIZE)\\\n",
    "    .prefetch(tf.data.experimental.AUTOTUNE)"
   ]
  },
  {
   "cell_type": "markdown",
   "metadata": {},
   "source": [
    "# 모델 생성 & 훈련 함수"
   ]
  },
  {
   "cell_type": "code",
   "execution_count": 146,
   "metadata": {},
   "outputs": [],
   "source": [
    "class PositionalEncoding(tf.keras.layers.Layer):\n",
    "    def __init__(self, vocab_size, d_model):\n",
    "        super().__init__()\n",
    "        self.pos_encoding = self.positional_encoding(vocab_size, d_model)\n",
    "        \n",
    "    def positional_encoding(self, vocab_size, d_model):\n",
    "        angle_rads = self.get_angles(vocab_size, d_model)\n",
    "        sins = tf.math.sin(angle_rads[:, 0::2])\n",
    "        coss = tf.math.cos(angle_rads[:, 1::2])\n",
    "        pos_encoding = tf.concat([sins, coss], axis=-1)[tf.newaxis, ...]\n",
    "        return tf.cast(pos_encoding, tf.float32)\n",
    "        \n",
    "    def get_angles(self, vocab_size, d_model):\n",
    "        v_positions = tf.range(vocab_size, dtype=tf.float32)[:, tf.newaxis]\n",
    "        d_positions = tf.range(d_model, dtype=tf.float32)[tf.newaxis, :]\n",
    "        angles = 1 / tf.pow(10000, (2*(d_positions//2)) / tf.cast(d_model, tf.float32))\n",
    "        return v_positions * angles\n",
    "    \n",
    "    def call(self, inputs):\n",
    "        return inputs + self.pos_encoding[:, tf.shape(inputs)[1], :]"
   ]
  },
  {
   "cell_type": "code",
   "execution_count": 147,
   "metadata": {},
   "outputs": [],
   "source": [
    "class MultiHeadAttention(tf.keras.layers.Layer):\n",
    "    def __init__(self, d_model, num_heads, name='multi_head_attention'):\n",
    "        super().__init__(name=name)\n",
    "        self.d_model = d_model\n",
    "        self.num_heads = num_heads\n",
    "        assert d_model % num_heads == 0\n",
    "        \n",
    "        self.query_dense = tf.keras.layers.Dense(d_model)\n",
    "        self.key_dense = tf.keras.layers.Dense(d_model)\n",
    "        self.value_dense = tf.keras.layers.Dense(d_model)\n",
    "        self.dense = tf.keras.layers.Dense(d_model)\n",
    "        \n",
    "        \n",
    "    def split_heads(self, inputs):\n",
    "        split_d_model = self.d_model//self.num_heads\n",
    "        inputs = tf.reshape(inputs, shape=(self.batch_size, -1, self.num_heads, split_d_model))\n",
    "        return tf.transpose(inputs, perm=[0,2,1,3])\n",
    "    \n",
    "    \n",
    "    def scaled_dot_product_attention(self, query, key, value, mask):\n",
    "        depth = tf.cast(tf.shape(key)[-1], tf.float32)\n",
    "        query_key = tf.matmul(query, key, transpose_b=True) / tf.math.sqrt(depth)\n",
    "        if mask is not None:\n",
    "            query_key += (mask * -1e9)\n",
    "        weights = tf.nn.softmax(query_key)\n",
    "        weights = tf.matmul(weights, value)\n",
    "        weights = tf.transpose(weights, perm=[0,2,1,3])\n",
    "        return tf.reshape(weights, shape=(self.batch_size, -1, self.d_model))\n",
    "        \n",
    "        \n",
    "    def call(self, inputs):\n",
    "        query, key, value, mask = inputs['query'], inputs['key'], inputs['value'], inputs['mask']\n",
    "        \n",
    "        self.batch_size = tf.shape(query)[0]\n",
    "        \n",
    "        query = self.query_dense(query)\n",
    "        key = self.key_dense(key)\n",
    "        value = self.value_dense(value)\n",
    "        \n",
    "        query = self.split_heads(query)\n",
    "        key = self.split_heads(key)\n",
    "        value = self.split_heads(value)\n",
    "        \n",
    "        attention = self.scaled_dot_product_attention(query, key, value, mask)\n",
    "        return self.dense(attention)"
   ]
  },
  {
   "cell_type": "code",
   "execution_count": 148,
   "metadata": {},
   "outputs": [],
   "source": [
    "def create_padding_mask(x):\n",
    "    return tf.cast(tf.math.equal(x, 0), tf.float32)[:, tf.newaxis, tf.newaxis, :]\n",
    "\n",
    "\n",
    "def create_look_ahead_mask(x):\n",
    "    seq_len = tf.shape(x)[1]\n",
    "    look_ahead_mask = 1 - tf.linalg.band_part(tf.ones((seq_len, seq_len)), -1, 0)\n",
    "    padding_mask = create_padding_mask(x)\n",
    "    return tf.maximum(look_ahead_mask, padding_mask)"
   ]
  },
  {
   "cell_type": "code",
   "execution_count": 149,
   "metadata": {},
   "outputs": [],
   "source": [
    "def encoder_layer(units, d_model, num_heads, dropout, name='enc_layer'):\n",
    "    inputs = tf.keras.Input(shape=(None, d_model), name='inputs')\n",
    "    padding_mask = tf.keras.Input(shape=(1, 1, None), name='padding_mask')\n",
    "    attention_inputs = {\n",
    "        'query': inputs,\n",
    "        'key': inputs,\n",
    "        'value': inputs,\n",
    "        'mask': padding_mask\n",
    "    }\n",
    "    attention = MultiHeadAttention(d_model, num_heads, name='attention')(attention_inputs)\n",
    "    attention = tf.keras.layers.Dropout(dropout)(attention)\n",
    "    attention = tf.keras.layers.LayerNormalization(epsilon=1e-6)(inputs+attention)\n",
    "    \n",
    "    outputs = tf.keras.layers.Dense(units, activation='relu')(attention)\n",
    "    outputs = tf.keras.layers.Dense(d_model)(outputs)\n",
    "    outputs = tf.keras.layers.Dropout(dropout)(outputs)\n",
    "    outputs = tf.keras.layers.LayerNormalization(epsilon=1e-6)(attention+outputs)\n",
    "    \n",
    "    return tf.keras.Model(inputs=[inputs, padding_mask], outputs=outputs, name=name)\n",
    "\n",
    "\n",
    "def encoder(vocab_size,\n",
    "           num_layers,\n",
    "           units,\n",
    "           d_model,\n",
    "           num_heads,\n",
    "           dropout,\n",
    "           name='encoder'):\n",
    "    inputs = tf.keras.Input(shape=(None, ), name='inputs')\n",
    "    padding_mask = tf.keras.Input(shape=(1,1,None), name='padding_mask')\n",
    "    \n",
    "    embedding = tf.keras.layers.Embedding(vocab_size, d_model)(inputs)\n",
    "    embedding *= tf.math.sqrt(tf.cast(d_model, tf.float32))\n",
    "    embedding = PositionalEncoding(vocab_size, d_model)(embedding)\n",
    "    \n",
    "    outputs = tf.keras.layers.Dropout(dropout)(embedding)\n",
    "    for i in range(num_layers):\n",
    "        outputs = encoder_layer(units, d_model, num_heads, dropout, name='enc_layer{}'.format(i))([outputs, padding_mask])\n",
    "    \n",
    "    return tf.keras.Model(inputs=[inputs, padding_mask], outputs=outputs, name=name)"
   ]
  },
  {
   "cell_type": "code",
   "execution_count": 150,
   "metadata": {},
   "outputs": [],
   "source": [
    "def decoder_layer(units, d_model, num_heads, dropout, name='dec_layer'):\n",
    "    inputs = tf.keras.Input(shape=(None, d_model), name='inputs')\n",
    "    enc_output = tf.keras.Input(shape=(None, d_model), name='enc_outputs')\n",
    "    look_ahead_mask = tf.keras.Input(shape=(1, None, None), name='look_ahead_mask')\n",
    "    padding_mask = tf.keras.Input(shape=(1, 1, None), name='padding_mask')\n",
    "    \n",
    "    attention1_inputs = {\n",
    "        'query': inputs,\n",
    "        'key': inputs,\n",
    "        'value': inputs,\n",
    "        'mask': look_ahead_mask\n",
    "    }\n",
    "    attention1 = MultiHeadAttention(d_model, num_heads, name='attention1')(attention1_inputs)\n",
    "    attention1 = tf.keras.layers.LayerNormalization(epsilon=1e-6)(attention1+inputs)\n",
    "    \n",
    "    attention2_inputs = {\n",
    "        'query': attention1,\n",
    "        'key': enc_output,\n",
    "        'value': enc_output,\n",
    "        'mask': padding_mask\n",
    "    }\n",
    "    attention2 = MultiHeadAttention(d_model, num_heads, name='attention2')(attention2_inputs)\n",
    "    attention2 = tf.keras.layers.Dropout(dropout)(attention2)\n",
    "    attention2 = tf.keras.layers.LayerNormalization(epsilon=1e-6)(attention2+attention1)\n",
    "    \n",
    "    outputs = tf.keras.layers.Dense(units, activation='relu')(attention2)\n",
    "    outputs = tf.keras.layers.Dense(d_model)(outputs)\n",
    "    outputs = tf.keras.layers.Dropout(dropout)(outputs)\n",
    "    outputs = tf.keras.layers.LayerNormalization(epsilon=1e-6)(outputs+attention2)\n",
    "    \n",
    "    return tf.keras.Model(inputs=[inputs, enc_output, look_ahead_mask, padding_mask], outputs=outputs, name=name)\n",
    "\n",
    "\n",
    "def decoder(vocab_size,\n",
    "           num_layers,\n",
    "           units,\n",
    "           d_model,\n",
    "           num_heads,\n",
    "           dropout,\n",
    "           name='decoder'):\n",
    "    inputs = tf.keras.Input(shape=(None,), name='inputs')\n",
    "    enc_outputs = tf.keras.Input(shape=(None, d_model), name='enc_outputs')\n",
    "    look_ahead_mask = tf.keras.Input(shape=(1, None, None), name='look_ahead_mask')\n",
    "    padding_mask = tf.keras.Input(shape=(1, 1, None), name='padding_mask')\n",
    "    \n",
    "    embedding = tf.keras.layers.Embedding(vocab_size, d_model)(inputs)\n",
    "    embedding *= tf.math.sqrt(tf.cast(d_model, tf.float32))\n",
    "    embedding = PositionalEncoding(vocab_size, d_model)(embedding)\n",
    "    \n",
    "    outputs = tf.keras.layers.Dropout(dropout)(embedding)\n",
    "    for i in range(num_layers):\n",
    "        outputs = decoder_layer(units, d_model, num_heads, dropout, name='dec_layer{}'.format(i))([outputs, enc_outputs, look_ahead_mask, padding_mask])\n",
    "    return tf.keras.Model(inputs=[inputs, enc_outputs, look_ahead_mask, padding_mask], outputs=outputs, name=name)"
   ]
  },
  {
   "cell_type": "code",
   "execution_count": 151,
   "metadata": {},
   "outputs": [],
   "source": [
    "def transformer(vocab_size, num_layers, units, d_model, num_heads, dropout, name=\"transformer\"):\n",
    "    inputs = tf.keras.Input(shape=(None,), name=\"inputs\")\n",
    "    dec_inputs = tf.keras.Input(shape=(None,), name=\"dec_inputs\")\n",
    "\n",
    "    enc_padding_mask = tf.keras.layers.Lambda(create_padding_mask, output_shape=(1, 1, None),name='enc_padding_mask')(inputs)\n",
    "    look_ahead_mask = tf.keras.layers.Lambda(create_look_ahead_mask, output_shape=(1, None, None), name='look_ahead_mask')(dec_inputs)\n",
    "    dec_padding_mask = tf.keras.layers.Lambda(create_padding_mask, output_shape=(1, 1, None), name='dec_padding_mask')(inputs)\n",
    "\n",
    "    enc_outputs = encoder(vocab_size, num_layers, units, d_model, num_heads, dropout)\n",
    "    enc_outputs.summary()\n",
    "    enc_outputs = enc_outputs(inputs=[inputs, enc_padding_mask])\n",
    "    \n",
    "    dec_outputs = decoder(vocab_size, num_layers, units, d_model, num_heads, dropout)\n",
    "    dec_outputs.summary()\n",
    "    dec_outputs = dec_outputs(inputs=[dec_inputs, enc_outputs, look_ahead_mask, dec_padding_mask])\n",
    "    \n",
    "    outputs = tf.keras.layers.Dense(units=vocab_size, name=\"outputs\")(dec_outputs)\n",
    "\n",
    "    return tf.keras.Model(inputs=[inputs, dec_inputs], outputs=outputs, name=name)"
   ]
  },
  {
   "cell_type": "code",
   "execution_count": 152,
   "metadata": {},
   "outputs": [],
   "source": [
    "def loss_function(y_true, y_pred):\n",
    "    y_true = tf.reshape(y_true, shape=(-1, MAX_LENGTH - 1))\n",
    "    loss = tf.keras.losses.SparseCategoricalCrossentropy(from_logits=True, reduction='none')(y_true, y_pred)\n",
    "    mask = tf.cast(tf.not_equal(y_true, 0), tf.float32)\n",
    "    loss = tf.multiply(loss, mask)\n",
    "\n",
    "    return tf.reduce_mean(loss)"
   ]
  },
  {
   "cell_type": "code",
   "execution_count": 153,
   "metadata": {},
   "outputs": [],
   "source": [
    "class CustomSchedule(tf.keras.optimizers.schedules.LearningRateSchedule):\n",
    "    def __init__(self, d_model, warmup_steps=4000):\n",
    "        super().__init__()\n",
    "        self.d_model = d_model\n",
    "        self.d_model = tf.cast(self.d_model, tf.float32)\n",
    "        self.warmup_steps = warmup_steps\n",
    "\n",
    "    def __call__(self, step):\n",
    "        arg1 = tf.math.rsqrt(step)\n",
    "        arg2 = step * (self.warmup_steps**-1.5)\n",
    "        return tf.math.rsqrt(self.d_model) * tf.math.minimum(arg1, arg2)"
   ]
  },
  {
   "cell_type": "markdown",
   "metadata": {},
   "source": [
    "# 생성 함수"
   ]
  },
  {
   "cell_type": "code",
   "execution_count": 154,
   "metadata": {},
   "outputs": [],
   "source": [
    "def decoder_inference(sentence, tokenizer):\n",
    "    start_token = [tokenizer.vocab_size]\n",
    "    end_token = [tokenizer.vocab_size+1]\n",
    "    sentence = preprocess_sentence(sentence)\n",
    "\n",
    "    sentence = tf.expand_dims(start_token + tokenizer.encode(sentence) + end_token, axis=0)\n",
    "\n",
    "    output_sequence = tf.expand_dims(start_token, 0)\n",
    "\n",
    "    for i in range(MAX_LENGTH):\n",
    "        predictions = model(inputs=[sentence, output_sequence], training=False)\n",
    "        predictions = predictions[:, -1:, :]\n",
    "        predicted_id = tf.cast(tf.argmax(predictions, axis=-1), tf.int32)\n",
    "\n",
    "        if tf.equal(predicted_id, end_token[0]):\n",
    "            break\n",
    "        output_sequence = tf.concat([output_sequence, predicted_id], axis=-1)\n",
    "\n",
    "    return tf.squeeze(output_sequence, axis=0)\n",
    "\n",
    "def sentence_generation(sentence, tokenizer):\n",
    "    prediction = decoder_inference(sentence, tokenizer)\n",
    "    predicted_sentence = tokenizer.decode([i for i in prediction if i < tokenizer.vocab_size])\n",
    "\n",
    "    print('입력 : {}'.format(sentence))\n",
    "    print('출력 : {}'.format(predicted_sentence))\n",
    "\n",
    "    return predicted_sentence"
   ]
  },
  {
   "cell_type": "markdown",
   "metadata": {},
   "source": [
    "# 메인"
   ]
  },
  {
   "cell_type": "code",
   "execution_count": 155,
   "metadata": {
    "scrolled": true
   },
   "outputs": [
    {
     "name": "stdout",
     "output_type": "stream",
     "text": [
      "데이터를 불러왔습니다: 11823개 문장\n",
      "                 Q            A  label\n",
      "0           12시 땡!   하루가 또 가네요.      0\n",
      "1      1지망 학교 떨어졌어    위로해 드립니다.      0\n",
      "2     3박4일 놀러가고 싶다  여행은 언제나 좋죠.      0\n",
      "3  3박4일 정도 놀러가고 싶다  여행은 언제나 좋죠.      0\n",
      "4          PPL 심하네   눈살이 찌푸려지죠.      0\n"
     ]
    }
   ],
   "source": [
    "data = load_data()"
   ]
  },
  {
   "cell_type": "code",
   "execution_count": 156,
   "metadata": {
    "scrolled": true
   },
   "outputs": [
    {
     "name": "stdout",
     "output_type": "stream",
     "text": [
      "45개 문장이 20보다 길어 삭제되었습니다\n"
     ]
    }
   ],
   "source": [
    "tokenizer, questions, answers = tokenize_data(data)"
   ]
  },
  {
   "cell_type": "code",
   "execution_count": 157,
   "metadata": {
    "scrolled": true
   },
   "outputs": [
    {
     "name": "stdout",
     "output_type": "stream",
     "text": [
      "단어장 크기는 8175입니다\n"
     ]
    }
   ],
   "source": [
    "VOCAB_SIZE = tokenizer.vocab_size + 2\n",
    "print('단어장 크기는 {}입니다'.format(VOCAB_SIZE))"
   ]
  },
  {
   "cell_type": "code",
   "execution_count": 158,
   "metadata": {},
   "outputs": [],
   "source": [
    "dataset = make_dataset(questions, answers)"
   ]
  },
  {
   "cell_type": "code",
   "execution_count": 159,
   "metadata": {},
   "outputs": [
    {
     "name": "stdout",
     "output_type": "stream",
     "text": [
      "Model: \"encoder\"\n",
      "__________________________________________________________________________________________________\n",
      "Layer (type)                    Output Shape         Param #     Connected to                     \n",
      "==================================================================================================\n",
      "inputs (InputLayer)             [(None, None)]       0                                            \n",
      "__________________________________________________________________________________________________\n",
      "embedding (Embedding)           (None, None, 256)    2092800     inputs[0][0]                     \n",
      "__________________________________________________________________________________________________\n",
      "tf_op_layer_Mul (TensorFlowOpLa [(None, None, 256)]  0           embedding[0][0]                  \n",
      "__________________________________________________________________________________________________\n",
      "positional_encoding (Positional (None, None, 256)    0           tf_op_layer_Mul[0][0]            \n",
      "__________________________________________________________________________________________________\n",
      "dropout (Dropout)               (None, None, 256)    0           positional_encoding[0][0]        \n",
      "__________________________________________________________________________________________________\n",
      "padding_mask (InputLayer)       [(None, 1, 1, None)] 0                                            \n",
      "__________________________________________________________________________________________________\n",
      "enc_layer0 (Model)              (None, None, 256)    527104      dropout[0][0]                    \n",
      "                                                                 padding_mask[0][0]               \n",
      "__________________________________________________________________________________________________\n",
      "enc_layer1 (Model)              (None, None, 256)    527104      enc_layer0[1][0]                 \n",
      "                                                                 padding_mask[0][0]               \n",
      "==================================================================================================\n",
      "Total params: 3,147,008\n",
      "Trainable params: 3,147,008\n",
      "Non-trainable params: 0\n",
      "__________________________________________________________________________________________________\n",
      "Model: \"decoder\"\n",
      "__________________________________________________________________________________________________\n",
      "Layer (type)                    Output Shape         Param #     Connected to                     \n",
      "==================================================================================================\n",
      "inputs (InputLayer)             [(None, None)]       0                                            \n",
      "__________________________________________________________________________________________________\n",
      "embedding_1 (Embedding)         (None, None, 256)    2092800     inputs[0][0]                     \n",
      "__________________________________________________________________________________________________\n",
      "tf_op_layer_Mul_1 (TensorFlowOp [(None, None, 256)]  0           embedding_1[0][0]                \n",
      "__________________________________________________________________________________________________\n",
      "positional_encoding_1 (Position (None, None, 256)    0           tf_op_layer_Mul_1[0][0]          \n",
      "__________________________________________________________________________________________________\n",
      "dropout_5 (Dropout)             (None, None, 256)    0           positional_encoding_1[0][0]      \n",
      "__________________________________________________________________________________________________\n",
      "enc_outputs (InputLayer)        [(None, None, 256)]  0                                            \n",
      "__________________________________________________________________________________________________\n",
      "look_ahead_mask (InputLayer)    [(None, 1, None, Non 0                                            \n",
      "__________________________________________________________________________________________________\n",
      "padding_mask (InputLayer)       [(None, 1, 1, None)] 0                                            \n",
      "__________________________________________________________________________________________________\n",
      "dec_layer0 (Model)              (None, None, 256)    790784      dropout_5[0][0]                  \n",
      "                                                                 enc_outputs[0][0]                \n",
      "                                                                 look_ahead_mask[0][0]            \n",
      "                                                                 padding_mask[0][0]               \n",
      "__________________________________________________________________________________________________\n",
      "dec_layer1 (Model)              (None, None, 256)    790784      dec_layer0[1][0]                 \n",
      "                                                                 enc_outputs[0][0]                \n",
      "                                                                 look_ahead_mask[0][0]            \n",
      "                                                                 padding_mask[0][0]               \n",
      "==================================================================================================\n",
      "Total params: 3,674,368\n",
      "Trainable params: 3,674,368\n",
      "Non-trainable params: 0\n",
      "__________________________________________________________________________________________________\n",
      "Model: \"transformer\"\n",
      "__________________________________________________________________________________________________\n",
      "Layer (type)                    Output Shape         Param #     Connected to                     \n",
      "==================================================================================================\n",
      "inputs (InputLayer)             [(None, None)]       0                                            \n",
      "__________________________________________________________________________________________________\n",
      "dec_inputs (InputLayer)         [(None, None)]       0                                            \n",
      "__________________________________________________________________________________________________\n",
      "enc_padding_mask (Lambda)       (None, 1, 1, None)   0           inputs[0][0]                     \n",
      "__________________________________________________________________________________________________\n",
      "encoder (Model)                 (None, None, 256)    3147008     inputs[0][0]                     \n",
      "                                                                 enc_padding_mask[0][0]           \n",
      "__________________________________________________________________________________________________\n",
      "look_ahead_mask (Lambda)        (None, 1, None, None 0           dec_inputs[0][0]                 \n",
      "__________________________________________________________________________________________________\n",
      "dec_padding_mask (Lambda)       (None, 1, 1, None)   0           inputs[0][0]                     \n",
      "__________________________________________________________________________________________________\n",
      "decoder (Model)                 (None, None, 256)    3674368     dec_inputs[0][0]                 \n",
      "                                                                 encoder[1][0]                    \n",
      "                                                                 look_ahead_mask[0][0]            \n",
      "                                                                 dec_padding_mask[0][0]           \n",
      "__________________________________________________________________________________________________\n",
      "outputs (Dense)                 (None, None, 8175)   2100975     decoder[1][0]                    \n",
      "==================================================================================================\n",
      "Total params: 8,922,351\n",
      "Trainable params: 8,922,351\n",
      "Non-trainable params: 0\n",
      "__________________________________________________________________________________________________\n"
     ]
    }
   ],
   "source": [
    "tf.keras.backend.clear_session()\n",
    "\n",
    "# 하이퍼파라미터\n",
    "NUM_LAYERS = 2 # 인코더와 디코더의 층의 개수\n",
    "D_MODEL = 256 # 인코더와 디코더 내부의 입, 출력의 고정 차원\n",
    "NUM_HEADS = 8 # 멀티 헤드 어텐션에서의 헤드 수 \n",
    "UNITS = 512 # 피드 포워드 신경망의 은닉층의 크기\n",
    "DROPOUT = 0.1 # 드롭아웃의 비율\n",
    "\n",
    "model = transformer(\n",
    "    vocab_size=VOCAB_SIZE,\n",
    "    num_layers=NUM_LAYERS,\n",
    "    units=UNITS,\n",
    "    d_model=D_MODEL,\n",
    "    num_heads=NUM_HEADS,\n",
    "    dropout=DROPOUT)\n",
    "\n",
    "model.summary()"
   ]
  },
  {
   "cell_type": "code",
   "execution_count": 160,
   "metadata": {},
   "outputs": [],
   "source": [
    "learning_rate = CustomSchedule(D_MODEL)\n",
    "\n",
    "optimizer = tf.keras.optimizers.Adam(\n",
    "    learning_rate, beta_1=0.9, beta_2=0.98, epsilon=1e-9)\n",
    "\n",
    "def accuracy(y_true, y_pred):\n",
    "    y_true = tf.reshape(y_true, shape=(-1, MAX_LENGTH - 1))\n",
    "    return tf.keras.metrics.sparse_categorical_accuracy(y_true, y_pred)\n",
    "\n",
    "model.compile(optimizer=optimizer, loss=loss_function, metrics=[accuracy])"
   ]
  },
  {
   "cell_type": "code",
   "execution_count": 161,
   "metadata": {
    "scrolled": true
   },
   "outputs": [
    {
     "name": "stdout",
     "output_type": "stream",
     "text": [
      "Epoch 1/30\n",
      "185/185 [==============================] - 9s 47ms/step - loss: 2.9560 - accuracy: 0.0633\n",
      "Epoch 2/30\n",
      "185/185 [==============================] - 9s 47ms/step - loss: 2.4026 - accuracy: 0.1016\n",
      "Epoch 3/30\n",
      "185/185 [==============================] - 9s 47ms/step - loss: 2.0502 - accuracy: 0.1034\n",
      "Epoch 4/30\n",
      "185/185 [==============================] - 9s 47ms/step - loss: 1.8957 - accuracy: 0.1115\n",
      "Epoch 5/30\n",
      "185/185 [==============================] - 9s 47ms/step - loss: 1.7806 - accuracy: 0.1178\n",
      "Epoch 6/30\n",
      "185/185 [==============================] - 9s 48ms/step - loss: 1.6584 - accuracy: 0.1265\n",
      "Epoch 7/30\n",
      "185/185 [==============================] - 9s 48ms/step - loss: 1.5279 - accuracy: 0.1379\n",
      "Epoch 8/30\n",
      "185/185 [==============================] - 9s 47ms/step - loss: 1.3811 - accuracy: 0.1535\n",
      "Epoch 9/30\n",
      "185/185 [==============================] - 9s 48ms/step - loss: 1.2227 - accuracy: 0.1704\n",
      "Epoch 10/30\n",
      "185/185 [==============================] - 9s 47ms/step - loss: 1.0581 - accuracy: 0.1891\n",
      "Epoch 11/30\n",
      "185/185 [==============================] - 9s 48ms/step - loss: 0.8927 - accuracy: 0.2086\n",
      "Epoch 12/30\n",
      "185/185 [==============================] - 9s 48ms/step - loss: 0.7312 - accuracy: 0.2303\n",
      "Epoch 13/30\n",
      "185/185 [==============================] - 9s 48ms/step - loss: 0.5811 - accuracy: 0.2517\n",
      "Epoch 14/30\n",
      "185/185 [==============================] - 9s 48ms/step - loss: 0.4502 - accuracy: 0.2712\n",
      "Epoch 15/30\n",
      "185/185 [==============================] - 9s 48ms/step - loss: 0.3366 - accuracy: 0.2905\n",
      "Epoch 16/30\n",
      "185/185 [==============================] - 9s 48ms/step - loss: 0.2449 - accuracy: 0.3076\n",
      "Epoch 17/30\n",
      "185/185 [==============================] - 9s 48ms/step - loss: 0.1830 - accuracy: 0.3189\n",
      "Epoch 18/30\n",
      "185/185 [==============================] - 9s 48ms/step - loss: 0.1384 - accuracy: 0.3271\n",
      "Epoch 19/30\n",
      "185/185 [==============================] - 9s 48ms/step - loss: 0.1115 - accuracy: 0.3319\n",
      "Epoch 20/30\n",
      "185/185 [==============================] - 9s 48ms/step - loss: 0.0995 - accuracy: 0.3341\n",
      "Epoch 21/30\n",
      "185/185 [==============================] - 9s 48ms/step - loss: 0.0923 - accuracy: 0.3349\n",
      "Epoch 22/30\n",
      "185/185 [==============================] - 9s 48ms/step - loss: 0.0866 - accuracy: 0.3360\n",
      "Epoch 23/30\n",
      "185/185 [==============================] - 9s 48ms/step - loss: 0.0795 - accuracy: 0.3373\n",
      "Epoch 24/30\n",
      "185/185 [==============================] - 9s 48ms/step - loss: 0.0670 - accuracy: 0.3408\n",
      "Epoch 25/30\n",
      "185/185 [==============================] - 9s 48ms/step - loss: 0.0587 - accuracy: 0.3424\n",
      "Epoch 26/30\n",
      "185/185 [==============================] - 9s 48ms/step - loss: 0.0520 - accuracy: 0.3441\n",
      "Epoch 27/30\n",
      "185/185 [==============================] - 9s 48ms/step - loss: 0.0472 - accuracy: 0.3456\n",
      "Epoch 28/30\n",
      "185/185 [==============================] - 9s 48ms/step - loss: 0.0423 - accuracy: 0.3468\n",
      "Epoch 29/30\n",
      "185/185 [==============================] - 9s 48ms/step - loss: 0.0369 - accuracy: 0.3481\n",
      "Epoch 30/30\n",
      "185/185 [==============================] - 9s 48ms/step - loss: 0.0349 - accuracy: 0.3486\n"
     ]
    },
    {
     "data": {
      "text/plain": [
       "<tensorflow.python.keras.callbacks.History at 0x7fdc2595c890>"
      ]
     },
     "execution_count": 161,
     "metadata": {},
     "output_type": "execute_result"
    }
   ],
   "source": [
    "EPOCHS = 30\n",
    "model.fit(dataset, epochs=EPOCHS, verbose=1)"
   ]
  },
  {
   "cell_type": "code",
   "execution_count": 162,
   "metadata": {
    "scrolled": true
   },
   "outputs": [
    {
     "name": "stdout",
     "output_type": "stream",
     "text": [
      "입력 : 내일 시험이에요\n",
      "출력 : 컨디션 조절 하세요 .\n"
     ]
    },
    {
     "data": {
      "text/plain": [
       "'컨디션 조절 하세요 .'"
      ]
     },
     "execution_count": 162,
     "metadata": {},
     "output_type": "execute_result"
    }
   ],
   "source": [
    "sentence_generation('내일 시험이에요', tokenizer)"
   ]
  },
  {
   "cell_type": "code",
   "execution_count": 163,
   "metadata": {},
   "outputs": [
    {
     "name": "stdout",
     "output_type": "stream",
     "text": [
      "입력 : 너무 재밌어요\n",
      "출력 : 네 , 슬픈 말이네요 .\n"
     ]
    },
    {
     "data": {
      "text/plain": [
       "'네 , 슬픈 말이네요 .'"
      ]
     },
     "execution_count": 163,
     "metadata": {},
     "output_type": "execute_result"
    }
   ],
   "source": [
    "sentence_generation('너무 재밌어요', tokenizer)"
   ]
  },
  {
   "cell_type": "code",
   "execution_count": 164,
   "metadata": {},
   "outputs": [
    {
     "name": "stdout",
     "output_type": "stream",
     "text": [
      "입력 : 생일 선물 추천해주세요\n",
      "출력 : 진심이에요 .\n"
     ]
    },
    {
     "data": {
      "text/plain": [
       "'진심이에요 .'"
      ]
     },
     "execution_count": 164,
     "metadata": {},
     "output_type": "execute_result"
    }
   ],
   "source": [
    "sentence_generation('생일 선물 추천해주세요', tokenizer)"
   ]
  },
  {
   "cell_type": "code",
   "execution_count": 165,
   "metadata": {},
   "outputs": [
    {
     "name": "stdout",
     "output_type": "stream",
     "text": [
      "입력 : 오늘 따듯해서 좋다\n",
      "출력 : 포근한 느낌 저도 좋아해요 .\n"
     ]
    },
    {
     "data": {
      "text/plain": [
       "'포근한 느낌 저도 좋아해요 .'"
      ]
     },
     "execution_count": 165,
     "metadata": {},
     "output_type": "execute_result"
    }
   ],
   "source": [
    "sentence_generation('오늘 따듯해서 좋다', tokenizer)"
   ]
  },
  {
   "cell_type": "code",
   "execution_count": 166,
   "metadata": {},
   "outputs": [
    {
     "name": "stdout",
     "output_type": "stream",
     "text": [
      "입력 : 맥주 마실래?\n",
      "출력 : 저는 배터리가 밥이예요 .\n"
     ]
    },
    {
     "data": {
      "text/plain": [
       "'저는 배터리가 밥이예요 .'"
      ]
     },
     "execution_count": 166,
     "metadata": {},
     "output_type": "execute_result"
    }
   ],
   "source": [
    "sentence_generation('맥주 마실래?', tokenizer)"
   ]
  },
  {
   "cell_type": "code",
   "execution_count": 167,
   "metadata": {},
   "outputs": [
    {
     "name": "stdout",
     "output_type": "stream",
     "text": [
      "입력 : 손이 얼겠어\n",
      "출력 : 시간이 흐르면 무덤덤해질 거예요 .\n"
     ]
    },
    {
     "data": {
      "text/plain": [
       "'시간이 흐르면 무덤덤해질 거예요 .'"
      ]
     },
     "execution_count": 167,
     "metadata": {},
     "output_type": "execute_result"
    }
   ],
   "source": [
    "sentence_generation('손이 얼겠어', tokenizer)"
   ]
  },
  {
   "cell_type": "code",
   "execution_count": 168,
   "metadata": {},
   "outputs": [
    {
     "name": "stdout",
     "output_type": "stream",
     "text": [
      "입력 : 시간 잘가네\n",
      "출력 : 안녕 .\n"
     ]
    },
    {
     "data": {
      "text/plain": [
       "'안녕 .'"
      ]
     },
     "execution_count": 168,
     "metadata": {},
     "output_type": "execute_result"
    }
   ],
   "source": [
    "sentence_generation('시간 잘가네', tokenizer)"
   ]
  },
  {
   "cell_type": "code",
   "execution_count": 169,
   "metadata": {},
   "outputs": [
    {
     "name": "stdout",
     "output_type": "stream",
     "text": [
      "입력 : 어떻게 할까?\n",
      "출력 : 기분요하면 연락해보세요 .\n"
     ]
    },
    {
     "data": {
      "text/plain": [
       "'기분요하면 연락해보세요 .'"
      ]
     },
     "execution_count": 169,
     "metadata": {},
     "output_type": "execute_result"
    }
   ],
   "source": [
    "sentence_generation('어떻게 할까?', tokenizer)"
   ]
  },
  {
   "cell_type": "code",
   "execution_count": 170,
   "metadata": {},
   "outputs": [
    {
     "name": "stdout",
     "output_type": "stream",
     "text": [
      "입력 : 완전 큰일났어\n",
      "출력 : 마음 오래 날이 올 거예요 .\n"
     ]
    },
    {
     "data": {
      "text/plain": [
       "'마음 오래 날이 올 거예요 .'"
      ]
     },
     "execution_count": 170,
     "metadata": {},
     "output_type": "execute_result"
    }
   ],
   "source": [
    "sentence_generation('완전 큰일났어', tokenizer)"
   ]
  },
  {
   "cell_type": "code",
   "execution_count": 171,
   "metadata": {
    "scrolled": true
   },
   "outputs": [
    {
     "name": "stdout",
     "output_type": "stream",
     "text": [
      "입력 : 이거 너무 재미 없어\n",
      "출력 : 슬프네요 .\n"
     ]
    },
    {
     "data": {
      "text/plain": [
       "'슬프네요 .'"
      ]
     },
     "execution_count": 171,
     "metadata": {},
     "output_type": "execute_result"
    }
   ],
   "source": [
    "sentence_generation('이거 너무 재미 없어', tokenizer)"
   ]
  },
  {
   "cell_type": "markdown",
   "metadata": {},
   "source": [
    "# 결론"
   ]
  },
  {
   "cell_type": "markdown",
   "metadata": {},
   "source": [
    "평균적으로 생성된 문장을 보면 입력에 호응되는 문장이 몇 개 있고, 입력과는 상관없는 문장이 몇 개 있고, 말이 되지 않는 문장이 몇 개 있다.   "
   ]
  },
  {
   "cell_type": "code",
   "execution_count": null,
   "metadata": {},
   "outputs": [],
   "source": []
  }
 ],
 "metadata": {
  "kernelspec": {
   "display_name": "aiffel",
   "language": "python",
   "name": "aiffel"
  },
  "language_info": {
   "codemirror_mode": {
    "name": "ipython",
    "version": 3
   },
   "file_extension": ".py",
   "mimetype": "text/x-python",
   "name": "python",
   "nbconvert_exporter": "python",
   "pygments_lexer": "ipython3",
   "version": "3.7.9"
  }
 },
 "nbformat": 4,
 "nbformat_minor": 4
}

{
 "cells": [
  {
   "cell_type": "markdown",
   "metadata": {},
   "source": [
    "# 시작"
   ]
  },
  {
   "cell_type": "code",
   "execution_count": 129,
   "metadata": {},
   "outputs": [],
   "source": [
    "import os\n",
    "import numpy as np\n",
    "import pandas as pd\n",
    "import matplotlib.pyplot as plt\n",
    "from nltk.corpus import stopwords\n",
    "import re\n",
    "import matplotlib.pyplot as plt\n",
    "import numpy as np\n",
    "from sklearn.model_selection import train_test_split\n",
    "from tensorflow.keras.preprocessing.text import Tokenizer\n",
    "from tensorflow.keras.preprocessing.sequence import pad_sequences\n",
    "\n",
    "from tensorflow.keras.layers import Input, Embedding, LSTM, Dense, Concatenate\n",
    "from tensorflow.keras.models import Model\n",
    "from tensorflow.keras.callbacks import EarlyStopping\n",
    "import urllib.request\n",
    "urllib.request.urlretrieve(\"https://raw.githubusercontent.com/thushv89/attention_keras/master/src/layers/attention.py\", filename=\"attention.py\")\n",
    "from attention import AttentionLayer\n",
    "\n",
    "from summa.summarizer import summarize"
   ]
  },
  {
   "cell_type": "markdown",
   "metadata": {},
   "source": [
    "# 데이터 불러오기 & 중복 데이터 제거"
   ]
  },
  {
   "cell_type": "code",
   "execution_count": 130,
   "metadata": {},
   "outputs": [],
   "source": [
    "def load_data():\n",
    "    path = os.getenv('HOME') + '/aiffel/news_summarization/data/news_summary_more.csv'\n",
    "    data = pd.read_csv(path)\n",
    "    print('{}개의 데이터를 불러왔습니다'.format(len(data)))\n",
    "    print(data.head())\n",
    "    return data\n",
    "\n",
    "\n",
    "def refine_data(data):\n",
    "    print('{}개의 누락 데이터가 있습니다'.format(data.isnull().sum().sum()))\n",
    "    \n",
    "    print('{}개의 중복된 데이터를 삭제합니다'.format(data['text'].duplicated().sum()))\n",
    "    data.drop_duplicates(subset='text', inplace=True)"
   ]
  },
  {
   "cell_type": "markdown",
   "metadata": {},
   "source": [
    "# 문장 재구성 & 이상치 제거"
   ]
  },
  {
   "cell_type": "code",
   "execution_count": 131,
   "metadata": {},
   "outputs": [],
   "source": [
    "# 불용어 제거부분은 LMS에서 가져옴\n",
    "def preprocess_sentence(sentence, remove_stopwords):\n",
    "    # 정규화 사전은 LMS에서 가져옴\n",
    "    contractions = {\"ain't\": \"is not\", \"aren't\": \"are not\",\"can't\": \"cannot\", \"'cause\": \"because\", \"could've\": \"could have\", \"couldn't\": \"could not\",\n",
    "                               \"didn't\": \"did not\",  \"doesn't\": \"does not\", \"don't\": \"do not\", \"hadn't\": \"had not\", \"hasn't\": \"has not\", \"haven't\": \"have not\",\n",
    "                               \"he'd\": \"he would\",\"he'll\": \"he will\", \"he's\": \"he is\", \"how'd\": \"how did\", \"how'd'y\": \"how do you\", \"how'll\": \"how will\", \"how's\": \"how is\",\n",
    "                               \"I'd\": \"I would\", \"I'd've\": \"I would have\", \"I'll\": \"I will\", \"I'll've\": \"I will have\",\"I'm\": \"I am\", \"I've\": \"I have\", \"i'd\": \"i would\",\n",
    "                               \"i'd've\": \"i would have\", \"i'll\": \"i will\",  \"i'll've\": \"i will have\",\"i'm\": \"i am\", \"i've\": \"i have\", \"isn't\": \"is not\", \"it'd\": \"it would\",\n",
    "                               \"it'd've\": \"it would have\", \"it'll\": \"it will\", \"it'll've\": \"it will have\",\"it's\": \"it is\", \"let's\": \"let us\", \"ma'am\": \"madam\",\n",
    "                               \"mayn't\": \"may not\", \"might've\": \"might have\",\"mightn't\": \"might not\",\"mightn't've\": \"might not have\", \"must've\": \"must have\",\n",
    "                               \"mustn't\": \"must not\", \"mustn't've\": \"must not have\", \"needn't\": \"need not\", \"needn't've\": \"need not have\",\"o'clock\": \"of the clock\",\n",
    "                               \"oughtn't\": \"ought not\", \"oughtn't've\": \"ought not have\", \"shan't\": \"shall not\", \"sha'n't\": \"shall not\", \"shan't've\": \"shall not have\",\n",
    "                               \"she'd\": \"she would\", \"she'd've\": \"she would have\", \"she'll\": \"she will\", \"she'll've\": \"she will have\", \"she's\": \"she is\",\n",
    "                               \"should've\": \"should have\", \"shouldn't\": \"should not\", \"shouldn't've\": \"should not have\", \"so've\": \"so have\",\"so's\": \"so as\",\n",
    "                               \"this's\": \"this is\",\"that'd\": \"that would\", \"that'd've\": \"that would have\", \"that's\": \"that is\", \"there'd\": \"there would\",\n",
    "                               \"there'd've\": \"there would have\", \"there's\": \"there is\", \"here's\": \"here is\",\"they'd\": \"they would\", \"they'd've\": \"they would have\",\n",
    "                               \"they'll\": \"they will\", \"they'll've\": \"they will have\", \"they're\": \"they are\", \"they've\": \"they have\", \"to've\": \"to have\",\n",
    "                               \"wasn't\": \"was not\", \"we'd\": \"we would\", \"we'd've\": \"we would have\", \"we'll\": \"we will\", \"we'll've\": \"we will have\", \"we're\": \"we are\",\n",
    "                               \"we've\": \"we have\", \"weren't\": \"were not\", \"what'll\": \"what will\", \"what'll've\": \"what will have\", \"what're\": \"what are\",\n",
    "                               \"what's\": \"what is\", \"what've\": \"what have\", \"when's\": \"when is\", \"when've\": \"when have\", \"where'd\": \"where did\", \"where's\": \"where is\",\n",
    "                               \"where've\": \"where have\", \"who'll\": \"who will\", \"who'll've\": \"who will have\", \"who's\": \"who is\", \"who've\": \"who have\",\n",
    "                               \"why's\": \"why is\", \"why've\": \"why have\", \"will've\": \"will have\", \"won't\": \"will not\", \"won't've\": \"will not have\",\n",
    "                               \"would've\": \"would have\", \"wouldn't\": \"would not\", \"wouldn't've\": \"would not have\", \"y'all\": \"you all\",\n",
    "                               \"y'all'd\": \"you all would\",\"y'all'd've\": \"you all would have\",\"y'all're\": \"you all are\",\"y'all've\": \"you all have\",\n",
    "                               \"you'd\": \"you would\", \"you'd've\": \"you would have\", \"you'll\": \"you will\", \"you'll've\": \"you will have\",\n",
    "                               \"you're\": \"you are\", \"you've\": \"you have\"}\n",
    "    sentence = sentence.lower() # 텍스트 소문자\n",
    "    sentence = re.sub(r'\\([^)]*\\)', '', sentence) # 괄호로 닫힌 문자열 (...) 제거 Ex) my husband (and myself!) for => my husband for\n",
    "    sentence = re.sub('\"','', sentence) # 쌍따옴표 \" 제거\n",
    "    sentence = ' '.join([contractions[t] if t in contractions else t for t in sentence.split(\" \")]) # 약어 정규화\n",
    "    sentence = re.sub(r\"'s\\b\",\"\",sentence) # 소유격 제거. Ex) roland's -> roland\n",
    "    sentence = re.sub(\"[^a-zA-Z]\", \" \", sentence) # 영어 외 문자(숫자, 특수문자 등) 공백으로 변환\n",
    "    #sentence = re.sub('[m]{2,}', 'mm', sentence) # m이 3개 이상이면 2개로 변경. Ex) ummmmmmm yeah -> umm yeah\n",
    "    \n",
    "    # 불용어 제거 (Text)\n",
    "    stopwords_en = stopwords.words('english')\n",
    "    if remove_stopwords:\n",
    "        tokens = ' '.join(word for word in sentence.split() if not word in stopwords_en if len(word) > 1)\n",
    "    # 불용어 미제거 (Summary)\n",
    "    else:\n",
    "        tokens = ' '.join(word for word in sentence.split() if len(word) > 1)\n",
    "    return tokens\n",
    "\n",
    "\n",
    "def clean_sentences(sentences, remove_stopwords=True):\n",
    "    clean_sentences = []\n",
    "    for s in sentences:\n",
    "        clean_s = preprocess_sentence(s, remove_stopwords)\n",
    "        clean_sentences.append(clean_s)\n",
    "    print('{}개의 문장이 정제되었습니다'.format(len(clean_sentences)))\n",
    "    print(clean_sentences[:5])\n",
    "    return clean_sentences\n",
    "\n",
    "\n",
    "# 그래프 그려보기는 LMS에서 가져옴\n",
    "def draw_count(data):\n",
    "    text_len = [len(s.split()) for s in data['text']]\n",
    "    summary_len = [len(s.split()) for s in data['headlines']]\n",
    "\n",
    "    print('텍스트의 최소 길이 : {}'.format(np.min(text_len)))\n",
    "    print('텍스트의 최대 길이 : {}'.format(np.max(text_len)))\n",
    "    print('텍스트의 평균 길이 : {}'.format(np.mean(text_len)))\n",
    "    print('요약의 최소 길이 : {}'.format(np.min(summary_len)))\n",
    "    print('요약의 최대 길이 : {}'.format(np.max(summary_len)))\n",
    "    print('요약의 평균 길이 : {}'.format(np.mean(summary_len)))\n",
    "\n",
    "    plt.subplot(1,2,1)\n",
    "    plt.boxplot(summary_len)\n",
    "    plt.title('Headlines')\n",
    "    plt.subplot(1,2,2)\n",
    "    plt.boxplot(text_len)\n",
    "    plt.title('Text')\n",
    "    plt.tight_layout()\n",
    "    plt.show()\n",
    "\n",
    "    plt.title('Headlines')\n",
    "    plt.hist(summary_len, bins = 40)\n",
    "    plt.xlabel('length of samples')\n",
    "    plt.ylabel('number of samples')\n",
    "    plt.show()\n",
    "\n",
    "    plt.title('Text')\n",
    "    plt.hist(text_len, bins = 40)\n",
    "    plt.xlabel('length of samples')\n",
    "    plt.ylabel('number of samples')\n",
    "    plt.show()\n",
    "\n",
    "\n",
    "def remove_outlier(data):\n",
    "    data = data[data['text'].apply(lambda x: len(x.split()) > 10)]\n",
    "    return data\n",
    "\n",
    "\n",
    "def below_threshold_len(max_len, nested_list):\n",
    "    cnt = 0\n",
    "    for s in nested_list:\n",
    "        if(len(s.split()) <= max_len):\n",
    "            cnt = cnt + 1\n",
    "    print('전체 샘플 중 길이가 %s 이하인 샘플의 비율: %s'%(max_len, (cnt / len(nested_list))))"
   ]
  },
  {
   "cell_type": "markdown",
   "metadata": {},
   "source": [
    "# 데이터 나누기"
   ]
  },
  {
   "cell_type": "code",
   "execution_count": 132,
   "metadata": {},
   "outputs": [],
   "source": [
    "def split_train_test(data):\n",
    "    '''\n",
    "    학습,검증용 데이터와 테스트 데이터로 나눔\n",
    "    '''\n",
    "    train_x, test_x, train_y, test_y = train_test_split(data['text'], data['headlines'], test_size=0.0005)\n",
    "    print('학습,검증 데이터 x: {}'.format(len(train_x)))\n",
    "    print(train_x[:3])\n",
    "    print('')\n",
    "    print('테스트 데이터 x: {}'.format(len(test_x)))\n",
    "    print(test_x[:3])\n",
    "    print('')\n",
    "    print('학습,검증 데이터 y: {}'.format(len(train_y)))\n",
    "    print(train_y[:3])\n",
    "    print('')\n",
    "    print('테스트 데이터 y: {}'.format(len(test_y)))\n",
    "    print(test_y[:3])\n",
    "    return train_x, test_x, train_y, test_y\n",
    "    \n",
    "\n",
    "def split_encoder_decoder(data_x, data_y):\n",
    "    '''\n",
    "    원문과 요약을 훈련, 검증으로 나눔.\n",
    "    원문은 인코더에 사용하고 요약은 디코더에 사용함\n",
    "    '''\n",
    "    encoder_train, encoder_val, decoder_train, decoder_val = train_test_split(data_x, data_y, test_size=0.2)\n",
    "    print('인코더 훈련 데이터 x: {}'.format(len(encoder_train)))\n",
    "    print(encoder_train[:3])\n",
    "    print('')\n",
    "    print('인코더 검증 데이터 x: {}'.format(len(encoder_val)))\n",
    "    print(encoder_val[:3])\n",
    "    print('')\n",
    "    print('디코더 훈련 데이터 y: {}'.format(len(decoder_train)))\n",
    "    print(decoder_train[:3])\n",
    "    print('')\n",
    "    print('디코더 검증 데이터 y: {}'.format(len(decoder_val)))\n",
    "    print(decoder_val[:3])\n",
    "    return encoder_train, encoder_val, decoder_train, decoder_val\n",
    "\n",
    "\n",
    "def split_decoder_x_y(decoder_train, decoder_val):\n",
    "    '''\n",
    "    디코더에 사용되는 훈련, 검증 데이터를 디코더의 입력, 출력값으로 나눔\n",
    "    '''\n",
    "    dt_x = decoder_train.apply(lambda x: 'sostoken ' + x)\n",
    "    dt_y = decoder_train.apply(lambda x: x + ' eostoken')\n",
    "    dv_x = decoder_val.apply(lambda x: 'sostoken ' + x)\n",
    "    dv_y = decoder_val.apply(lambda x: x + ' eostoken')\n",
    "    print('디코더 훈련 데이터 x: {}'.format(len(dt_x)))\n",
    "    print(dt_x[:3])\n",
    "    print('')\n",
    "    print('디코더 훈련 데이터 y: {}'.format(len(dt_y)))\n",
    "    print(dt_y[:3])\n",
    "    print('')\n",
    "    print('디코더 훈련 데이터 x: {}'.format(len(dv_x)))\n",
    "    print(dv_x[:3])\n",
    "    print('')\n",
    "    print('디코더 훈련 데이터 x: {}'.format(len(dv_y)))\n",
    "    print(dv_y[:3])\n",
    "    print('')\n",
    "    return dt_x, dt_y, dv_x, dv_y\n"
   ]
  },
  {
   "cell_type": "markdown",
   "metadata": {},
   "source": [
    "# 토큰화"
   ]
  },
  {
   "cell_type": "code",
   "execution_count": 133,
   "metadata": {},
   "outputs": [],
   "source": [
    "def tokenize_encode(train, val, vocab_size, maxlen):\n",
    "    '''\n",
    "    인코딩에 사용할 원문을 토큰화 함\n",
    "    '''\n",
    "    tokenizer = Tokenizer(num_words=vocab_size)\n",
    "    train = np.array(train)\n",
    "    val = np.array(val)\n",
    "    \n",
    "    tokenizer.fit_on_texts(train)\n",
    "    \n",
    "    tokenized_train = tokenizer.texts_to_sequences(train)\n",
    "    tokenized_val = tokenizer.texts_to_sequences(val)\n",
    "    \n",
    "    tokenized_train = pad_sequences(tokenized_train, maxlen=maxlen, padding='post')\n",
    "    tokenized_val = pad_sequences(tokenized_val, maxlen=maxlen, padding='post')\n",
    "    \n",
    "    print('토큰화에 성공했습니다')\n",
    "    print(tokenized_train[:3])\n",
    "    print(tokenized_val[:3])\n",
    "    \n",
    "    return tokenizer, tokenized_train, tokenized_val\n",
    "\n",
    "\n",
    "def tokenize_decode(train_x, val_x, train_y, val_y, vocab_size, maxlen):\n",
    "    '''\n",
    "    디코딩에 사용할 요약을 토큰화 함\n",
    "    요약의 시작점이 x, 요약의 끝점이 y가 됨\n",
    "    '''\n",
    "    tokenizer = Tokenizer(num_words=vocab_size)\n",
    "    train_x = np.array(train_x)\n",
    "    val_x = np.array(val_x)\n",
    "    train_y = np.array(train_y)\n",
    "    val_y = np.array(val_y)\n",
    "    \n",
    "    # 요약의 시작과 끝 모두 단어사전에 추가\n",
    "    tokenizer.fit_on_texts(train_x)\n",
    "    tokenizer.fit_on_texts(train_y)\n",
    "    \n",
    "    tokenized_train_x = tokenizer.texts_to_sequences(train_x)\n",
    "    tokenized_val_x = tokenizer.texts_to_sequences(val_x)\n",
    "    tokenized_train_y = tokenizer.texts_to_sequences(train_y)\n",
    "    tokenized_val_y = tokenizer.texts_to_sequences(val_y)\n",
    "    \n",
    "    tokenized_train_x = pad_sequences(tokenized_train_x, maxlen=maxlen, padding='post')\n",
    "    tokenized_val_x = pad_sequences(tokenized_val_x, maxlen=maxlen, padding='post')\n",
    "    tokenized_train_y = pad_sequences(tokenized_train_y, maxlen=maxlen, padding='post')\n",
    "    tokenized_val_y = pad_sequences(tokenized_val_y, maxlen=maxlen, padding='post')\n",
    "    \n",
    "    print('토큰화에 성공했습니다')\n",
    "    print(tokenized_train_x[:3])\n",
    "    print(tokenized_val_x[:3])\n",
    "    print(tokenized_train_y[:3])\n",
    "    print(tokenized_val_y[:3])\n",
    "    return tokenizer, tokenized_train_x, tokenized_val_x, tokenized_train_y, tokenized_val_y\n",
    "\n",
    "\n",
    "def tokenize_test(test_x, tokenizer, maxlen):\n",
    "    '''\n",
    "    테스트용 원문을 토큰화 함\n",
    "    '''\n",
    "    test_x = np.array(test_x)\n",
    "    \n",
    "    tokenized_x = tokenizer.texts_to_sequences(test_x)\n",
    "\n",
    "    tokenized_x = pad_sequences(tokenized_x, maxlen=maxlen, padding='post')\n",
    "    \n",
    "    print('토큰화에 성공했습니다')\n",
    "    print(tokenized_x[:3])\n",
    "    return tokenized_x\n",
    "\n",
    "\n",
    "# LMS의 내용을 함수로 바꿈\n",
    "def check_word_count(tokenizer, threshold):\n",
    "    total_cnt = len(tokenizer.word_index) # 단어의 수\n",
    "    rare_cnt = 0 # 등장 빈도수가 threshold보다 작은 단어의 개수를 카운트\n",
    "    total_freq = 0 # 훈련 데이터의 전체 단어 빈도수 총 합\n",
    "    rare_freq = 0 # 등장 빈도수가 threshold보다 작은 단어의 등장 빈도수의 총 합\n",
    "\n",
    "    # 단어와 빈도수의 쌍(pair)을 key와 value로 받는다.\n",
    "    for key, value in tokenizer.word_counts.items():\n",
    "        total_freq += value\n",
    "\n",
    "        # 단어의 등장 빈도수가 threshold보다 작으면\n",
    "        if(value < threshold):\n",
    "            rare_cnt += 1\n",
    "            rare_freq = rare_freq + value\n",
    "            \n",
    "    print('단어 집합(vocabulary)의 크기 :',total_cnt)\n",
    "    print('등장 빈도가 %s번 이하인 희귀 단어의 수: %s'%(threshold - 1, rare_cnt))\n",
    "    print('단어 집합에서 희귀 단어를 제외시킬 경우의 단어 집합의 크기 %s'%(total_cnt - rare_cnt))\n",
    "    print(\"단어 집합에서 희귀 단어의 비율:\", (rare_cnt / total_cnt)*100)\n",
    "    print(\"전체 등장 빈도에서 희귀 단어 등장 빈도 비율:\", (rare_freq / total_freq)*100)"
   ]
  },
  {
   "cell_type": "markdown",
   "metadata": {},
   "source": [
    "# 모델 생성 & 학습 과정 확인"
   ]
  },
  {
   "cell_type": "code",
   "execution_count": 134,
   "metadata": {},
   "outputs": [],
   "source": [
    "def make_model(input_maxlen, encoder_vocab_size, decoder_vocab_size):\n",
    "    hidden_size = 256\n",
    "    \n",
    "    # 학습 모델\n",
    "    encoder_input = Input(shape=(input_maxlen,))\n",
    "    encoder = Embedding(encoder_vocab_size, 128)(encoder_input)\n",
    "    encoder, _, _ = LSTM(hidden_size, return_sequences=True, return_state=True, dropout=0.3)(encoder)\n",
    "    encoder, _, _ = LSTM(hidden_size, return_sequences=True, return_state=True, dropout=0.3)(encoder)\n",
    "    encoder, state_h, state_c = LSTM(hidden_size, return_sequences=True, return_state=True, dropout=0.3)(encoder)\n",
    "    \n",
    "    decoder_input = Input(shape=(None,))\n",
    "    decoder_embedding = Embedding(decoder_vocab_size, 128)(decoder_input)\n",
    "    decoder_lstm1 = LSTM(hidden_size, return_sequences=True, return_state=True, dropout=0.3)\n",
    "    decoder, _, _ = decoder_lstm1(decoder_embedding, initial_state=[state_h, state_c])\n",
    "    # decoder_lstm2 = LSTM(hidden_size, return_sequences=True, return_state=True, dropout=0.4)\n",
    "    # decoder, _, _ = decoder_lstm2(decoder)\n",
    "    # decoder_lstm3 = LSTM(hidden_size, return_sequences=True, return_state=True, dropout=0.4)\n",
    "    # decoder, _, _ = decoder_lstm3(decoder)\n",
    "    \n",
    "    attention_layer = AttentionLayer()\n",
    "    attention, _ = attention_layer([encoder, decoder])\n",
    "    attention = Concatenate()([decoder, attention])\n",
    "    dense_layer = Dense(decoder_vocab_size, activation='softmax')\n",
    "    dense = dense_layer(attention)\n",
    "    \n",
    "    model = Model([encoder_input, decoder_input], dense)\n",
    "    model.summary()\n",
    "    model.compile(optimizer='rmsprop', loss='sparse_categorical_crossentropy')\n",
    "    \n",
    "    # 생성 모델 인코더\n",
    "    encoder2 = Model(inputs=encoder_input, outputs=[encoder, state_h, state_c])\n",
    "    encoder2.summary()\n",
    "    \n",
    "    # 생성 모델 디코더\n",
    "    state_h_input = Input(shape=(hidden_size,))\n",
    "    state_c_input = Input(shape=(hidden_size,))\n",
    "    decoder2, state_h2, state_c2 = decoder_lstm1(decoder_embedding, initial_state=[state_h_input, state_c_input])\n",
    "    # decoder2, _, _ = decoder_lstm2(decoder2)\n",
    "    # decoder2, state_h2, state_c2 = decoder_lstm3(decoder2)\n",
    "    \n",
    "    hidden_state_input = Input(shape=(input_maxlen, hidden_size))\n",
    "    attention, _ = attention_layer([hidden_state_input, decoder2])\n",
    "    attention = Concatenate()([decoder2, attention])\n",
    "    dense = dense_layer(attention)\n",
    "    model2 = Model(\n",
    "        [decoder_input] + [hidden_state_input, state_h_input, state_c_input],\n",
    "        [dense] + [state_h2, state_c2]\n",
    "    )\n",
    "    model2.summary()\n",
    "    \n",
    "    return model, encoder2, model2\n"
   ]
  },
  {
   "cell_type": "code",
   "execution_count": 135,
   "metadata": {},
   "outputs": [],
   "source": [
    "def draw_history(history):\n",
    "    plt.plot(history.history['loss'], label='train')\n",
    "    plt.plot(history.history['val_loss'], label='valid')\n",
    "    plt.legend()\n",
    "    plt.show()"
   ]
  },
  {
   "cell_type": "markdown",
   "metadata": {},
   "source": [
    "# 요약 생성 & 확인"
   ]
  },
  {
   "cell_type": "code",
   "execution_count": 136,
   "metadata": {},
   "outputs": [],
   "source": [
    "def predict_headline(encoder, decoder, seq, tokenizer, maxlen):\n",
    "    word_index = tokenizer.word_index\n",
    "    index_word = tokenizer.index_word\n",
    "    \n",
    "    e_out, e_state_h, e_state_c = encoder.predict(seq)\n",
    "    \n",
    "    target_seq = np.zeros((1,1))\n",
    "    target_seq[0,0] = word_index['sostoken']\n",
    "    \n",
    "    result = ''\n",
    "    while True:\n",
    "        d_out, d_state_h, d_state_c = decoder.predict([target_seq]+[e_out, e_state_h, e_state_c])\n",
    "        d_idx = np.argmax(d_out[0,-1,:])\n",
    "        word = index_word[d_idx]\n",
    "        if word != 'eostoken':\n",
    "            if not result:\n",
    "                result += word\n",
    "            else:\n",
    "                result += ' ' + word\n",
    "        if (word == 'eostoken') or (len(result.split())>=maxlen-1):\n",
    "            break\n",
    "        target_seq = np.zeros((1,1))\n",
    "        target_seq[0,0] = d_idx\n",
    "        e_state_h, e_state_c = d_state_h, d_state_c\n",
    "    return result"
   ]
  },
  {
   "cell_type": "code",
   "execution_count": 137,
   "metadata": {},
   "outputs": [],
   "source": [
    "def seq2sentence(seq, tokenizer):\n",
    "    index_word = tokenizer.index_word\n",
    "    words = []\n",
    "    for i in seq:\n",
    "        if i==0:\n",
    "            continue\n",
    "        word = index_word[i]\n",
    "        if (word != 'sostoken') and (word != 'eostoken'):\n",
    "            words.append(word)\n",
    "    return ' '.join(words)"
   ]
  },
  {
   "cell_type": "markdown",
   "metadata": {},
   "source": [
    "# 메인"
   ]
  },
  {
   "cell_type": "code",
   "execution_count": 138,
   "metadata": {
    "scrolled": false
   },
   "outputs": [
    {
     "name": "stdout",
     "output_type": "stream",
     "text": [
      "98401개의 데이터를 불러왔습니다\n",
      "                                           headlines  \\\n",
      "0  upGrad learner switches to career in ML & Al w...   \n",
      "1  Delhi techie wins free food from Swiggy for on...   \n",
      "2  New Zealand end Rohit Sharma-led India's 12-ma...   \n",
      "3  Aegon life iTerm insurance plan helps customer...   \n",
      "4  Have known Hirani for yrs, what if MeToo claim...   \n",
      "\n",
      "                                                text  \n",
      "0  Saurav Kant, an alumnus of upGrad and IIIT-B's...  \n",
      "1  Kunal Shah's credit card bill payment platform...  \n",
      "2  New Zealand defeated India by 8 wickets in the...  \n",
      "3  With Aegon Life iTerm Insurance plan, customer...  \n",
      "4  Speaking about the sexual harassment allegatio...  \n"
     ]
    }
   ],
   "source": [
    "raw_data = load_data()"
   ]
  },
  {
   "cell_type": "code",
   "execution_count": 139,
   "metadata": {
    "scrolled": false
   },
   "outputs": [
    {
     "name": "stdout",
     "output_type": "stream",
     "text": [
      "0개의 누락 데이터가 있습니다\n",
      "41개의 중복된 데이터를 삭제합니다\n"
     ]
    }
   ],
   "source": [
    "refine_data(raw_data)"
   ]
  },
  {
   "cell_type": "code",
   "execution_count": 140,
   "metadata": {
    "scrolled": false
   },
   "outputs": [
    {
     "name": "stdout",
     "output_type": "stream",
     "text": [
      "98360개의 문장이 정제되었습니다\n",
      "['saurav kant alumnus upgrad iiit pg program machine learning artificial intelligence sr systems engineer infosys almost years work experience program upgrad degree career support helped transition data scientist tech mahindra salary hike upgrad online power learning powered lakh careers', 'kunal shah credit card bill payment platform cred gave users chance win free food swiggy one year pranav kaushik delhi techie bagged reward spending cred coins users get one cred coin per rupee bill paid used avail rewards brands like ixigo bookmyshow ubereats cult fit', 'new zealand defeated india wickets fourth odi hamilton thursday win first match five match odi series india lost international match rohit sharma captaincy consecutive victories dating back march match witnessed india getting seventh lowest total odi cricket history', 'aegon life iterm insurance plan customers enjoy tax benefits premiums paid save taxes plan provides life cover age years also customers options insure critical illnesses disability accidental death benefit rider life cover age years', 'speaking sexual harassment allegations rajkumar hirani sonam kapoor said known hirani many years true metoo movement get derailed metoo movement always believe woman case need reserve judgment added hirani accused assistant worked sanju']\n"
     ]
    }
   ],
   "source": [
    "clean_text = clean_sentences(raw_data['text'])"
   ]
  },
  {
   "cell_type": "code",
   "execution_count": 141,
   "metadata": {
    "scrolled": true
   },
   "outputs": [
    {
     "name": "stdout",
     "output_type": "stream",
     "text": [
      "98360개의 문장이 정제되었습니다\n",
      "['upgrad learner switches career ml al salary hike', 'delhi techie wins free food swiggy one year cred', 'new zealand end rohit sharma led india match winning streak', 'aegon life iterm insurance plan helps customers save tax', 'known hirani yrs metoo claims true sonam']\n"
     ]
    }
   ],
   "source": [
    "clean_headlines = clean_sentences(raw_data['headlines'], remove_stopwords=True)"
   ]
  },
  {
   "cell_type": "code",
   "execution_count": 142,
   "metadata": {
    "scrolled": true
   },
   "outputs": [
    {
     "data": {
      "text/html": [
       "<div>\n",
       "<style scoped>\n",
       "    .dataframe tbody tr th:only-of-type {\n",
       "        vertical-align: middle;\n",
       "    }\n",
       "\n",
       "    .dataframe tbody tr th {\n",
       "        vertical-align: top;\n",
       "    }\n",
       "\n",
       "    .dataframe thead th {\n",
       "        text-align: right;\n",
       "    }\n",
       "</style>\n",
       "<table border=\"1\" class=\"dataframe\">\n",
       "  <thead>\n",
       "    <tr style=\"text-align: right;\">\n",
       "      <th></th>\n",
       "      <th>text</th>\n",
       "      <th>headlines</th>\n",
       "    </tr>\n",
       "  </thead>\n",
       "  <tbody>\n",
       "    <tr>\n",
       "      <th>0</th>\n",
       "      <td>saurav kant alumnus upgrad iiit pg program mac...</td>\n",
       "      <td>upgrad learner switches career ml al salary hike</td>\n",
       "    </tr>\n",
       "    <tr>\n",
       "      <th>1</th>\n",
       "      <td>kunal shah credit card bill payment platform c...</td>\n",
       "      <td>delhi techie wins free food swiggy one year cred</td>\n",
       "    </tr>\n",
       "    <tr>\n",
       "      <th>2</th>\n",
       "      <td>new zealand defeated india wickets fourth odi ...</td>\n",
       "      <td>new zealand end rohit sharma led india match w...</td>\n",
       "    </tr>\n",
       "    <tr>\n",
       "      <th>3</th>\n",
       "      <td>aegon life iterm insurance plan customers enjo...</td>\n",
       "      <td>aegon life iterm insurance plan helps customer...</td>\n",
       "    </tr>\n",
       "    <tr>\n",
       "      <th>4</th>\n",
       "      <td>speaking sexual harassment allegations rajkuma...</td>\n",
       "      <td>known hirani yrs metoo claims true sonam</td>\n",
       "    </tr>\n",
       "  </tbody>\n",
       "</table>\n",
       "</div>"
      ],
      "text/plain": [
       "                                                text  \\\n",
       "0  saurav kant alumnus upgrad iiit pg program mac...   \n",
       "1  kunal shah credit card bill payment platform c...   \n",
       "2  new zealand defeated india wickets fourth odi ...   \n",
       "3  aegon life iterm insurance plan customers enjo...   \n",
       "4  speaking sexual harassment allegations rajkuma...   \n",
       "\n",
       "                                           headlines  \n",
       "0   upgrad learner switches career ml al salary hike  \n",
       "1   delhi techie wins free food swiggy one year cred  \n",
       "2  new zealand end rohit sharma led india match w...  \n",
       "3  aegon life iterm insurance plan helps customer...  \n",
       "4           known hirani yrs metoo claims true sonam  "
      ]
     },
     "execution_count": 142,
     "metadata": {},
     "output_type": "execute_result"
    }
   ],
   "source": [
    "data = pd.DataFrame(data={'text':clean_text, 'headlines':clean_headlines})\n",
    "data.head()"
   ]
  },
  {
   "cell_type": "code",
   "execution_count": 143,
   "metadata": {
    "scrolled": true
   },
   "outputs": [
    {
     "name": "stdout",
     "output_type": "stream",
     "text": [
      "텍스트의 최소 길이 : 1\n",
      "텍스트의 최대 길이 : 60\n",
      "텍스트의 평균 길이 : 35.09968483123221\n",
      "요약의 최소 길이 : 1\n",
      "요약의 최대 길이 : 13\n",
      "요약의 평균 길이 : 7.136183407889386\n"
     ]
    },
    {
     "data": {
      "image/png": "[encoded data removed]",
      "text/plain": [
       "<Figure size 432x288 with 2 Axes>"
      ]
     },
     "metadata": {
      "needs_background": "light"
     },
     "output_type": "display_data"
    },
    {
     "data": {
      "image/png": "[encoded data removed]",
      "text/plain": [
       "<Figure size 432x288 with 1 Axes>"
      ]
     },
     "metadata": {
      "needs_background": "light"
     },
     "output_type": "display_data"
    },
    {
     "data": {
      "image/png": "[encoded data removed]",
      "text/plain": [
       "<Figure size 432x288 with 1 Axes>"
      ]
     },
     "metadata": {
      "needs_background": "light"
     },
     "output_type": "display_data"
    }
   ],
   "source": [
    "draw_count(data)"
   ]
  },
  {
   "cell_type": "markdown",
   "metadata": {},
   "source": [
    "### 대체로 길이에 대해 분포가 나쁘지 않으므로 대부분 그대로 사용하고, 원문이 특별히 짧은 것만 삭제함"
   ]
  },
  {
   "cell_type": "code",
   "execution_count": 144,
   "metadata": {},
   "outputs": [],
   "source": [
    "data = remove_outlier(data) "
   ]
  },
  {
   "cell_type": "code",
   "execution_count": 145,
   "metadata": {},
   "outputs": [],
   "source": [
    "# data = data[data['headlines'].apply(lambda x: len(x.split()) >= 5)]"
   ]
  },
  {
   "cell_type": "code",
   "execution_count": 146,
   "metadata": {
    "scrolled": true
   },
   "outputs": [
    {
     "name": "stdout",
     "output_type": "stream",
     "text": [
      "전체 샘플 중 길이가 50 이하인 샘플의 비율: 0.9998576642706819\n",
      "전체 샘플 중 길이가 10 이하인 샘플의 비율: 0.997834463546803\n"
     ]
    }
   ],
   "source": [
    "encoder_maxlen = 50\n",
    "decoder_maxlen = 11\n",
    "below_threshold_len(encoder_maxlen, data['text'])\n",
    "below_threshold_len(decoder_maxlen - 1,  data['headlines'])"
   ]
  },
  {
   "cell_type": "markdown",
   "metadata": {},
   "source": [
    "### 인코더에 입력될 원문의 길이는 50으로 할 때 충분하고,   \n",
    "### 디코더에 입력될 요약의 길이(sostoken, eostoken포함)는 11으로 하면 충분함"
   ]
  },
  {
   "cell_type": "code",
   "execution_count": 147,
   "metadata": {
    "scrolled": false
   },
   "outputs": [
    {
     "name": "stdout",
     "output_type": "stream",
     "text": [
      "학습,검증 데이터 x: 98309\n",
      "33747    uttar pradesh cm yogi adityanath slammed prote...\n",
      "780      claiming congress realised nothing gain hate p...\n",
      "63488    french fisherman caught rare yellow gold lobst...\n",
      "Name: text, dtype: object\n",
      "\n",
      "테스트 데이터 x: 50\n",
      "15653    actress tanushree dutta said actor nana pateka...\n",
      "24662    data breach incidents india higher compared gl...\n",
      "79346    rss bjp affiliated think tank bharat niti repo...\n",
      "Name: text, dtype: object\n",
      "\n",
      "학습,검증 데이터 y: 98309\n",
      "33747    nautanki band karo cm yogi protesters accident...\n",
      "780                 pm modi abuses feel like hugging rahul\n",
      "63488                rare yellow gold lobster found france\n",
      "Name: headlines, dtype: object\n",
      "\n",
      "테스트 데이터 y: 50\n",
      "15653    tanushree reacts nana patekar beti jaisi hai r...\n",
      "24662    data breach incidents india higher global average\n",
      "79346    rss think tank get people protect hinduism online\n",
      "Name: headlines, dtype: object\n"
     ]
    }
   ],
   "source": [
    "train_x, test_x, train_y, test_y = split_train_test(data)"
   ]
  },
  {
   "cell_type": "code",
   "execution_count": 148,
   "metadata": {
    "scrolled": true
   },
   "outputs": [
    {
     "name": "stdout",
     "output_type": "stream",
     "text": [
      "인코더 훈련 데이터 x: 78647\n",
      "19845    actress nandita das directed nawazuddin siddiq...\n",
      "21209    emotional interview funding secured tweet tesl...\n",
      "65171    police conducted raids several market areas ar...\n",
      "Name: text, dtype: object\n",
      "\n",
      "인코더 검증 데이터 x: 19662\n",
      "59456    researchers national university singapore desi...\n",
      "29680    employees various state owned banks called day...\n",
      "9907     chandigarh based monika shail sued facebook de...\n",
      "Name: text, dtype: object\n",
      "\n",
      "디코더 훈련 데이터 y: 78647\n",
      "19845     manto mirror prejudices fears morality nandita\n",
      "21209    last year excruciating worst yet come elon musk\n",
      "65171     two men arrested selling firecrackers gurugram\n",
      "Name: headlines, dtype: object\n",
      "\n",
      "디코더 검증 데이터 y: 19662\n",
      "59456    drinking glass adds virtual flavours beverage ...\n",
      "29680       bank unions call two day nationwide strike may\n",
      "9907     fan sues facebook disabling account india odi ...\n",
      "Name: headlines, dtype: object\n"
     ]
    }
   ],
   "source": [
    "# 인코더에는 입력만 존재한다\n",
    "encoder_train_x, encoder_val_x, decoder_train, decoder_val = split_encoder_decoder(train_x, train_y)"
   ]
  },
  {
   "cell_type": "code",
   "execution_count": 149,
   "metadata": {},
   "outputs": [
    {
     "name": "stdout",
     "output_type": "stream",
     "text": [
      "디코더 훈련 데이터 x: 78647\n",
      "19845    sostoken manto mirror prejudices fears moralit...\n",
      "21209    sostoken last year excruciating worst yet come...\n",
      "65171    sostoken two men arrested selling firecrackers...\n",
      "Name: headlines, dtype: object\n",
      "\n",
      "디코더 훈련 데이터 y: 78647\n",
      "19845    manto mirror prejudices fears morality nandita...\n",
      "21209    last year excruciating worst yet come elon mus...\n",
      "65171    two men arrested selling firecrackers gurugram...\n",
      "Name: headlines, dtype: object\n",
      "\n",
      "디코더 훈련 데이터 x: 19662\n",
      "59456    sostoken drinking glass adds virtual flavours ...\n",
      "29680    sostoken bank unions call two day nationwide s...\n",
      "9907     sostoken fan sues facebook disabling account i...\n",
      "Name: headlines, dtype: object\n",
      "\n",
      "디코더 훈련 데이터 x: 19662\n",
      "59456    drinking glass adds virtual flavours beverage ...\n",
      "29680    bank unions call two day nationwide strike may...\n",
      "9907     fan sues facebook disabling account india odi ...\n",
      "Name: headlines, dtype: object\n",
      "\n"
     ]
    }
   ],
   "source": [
    "decoder_train_x, decoder_train_y, decoder_val_x, decoder_val_y = split_decoder_x_y(decoder_train, decoder_val)"
   ]
  },
  {
   "cell_type": "markdown",
   "metadata": {},
   "source": [
    "### 데이터 중 일부를 최종 결과 도출에 이용하기 위해 따로 떼어둠      \n",
    "### 사용하기로 한 데이터를 훈련과 검증용으로, 다시 인코딩용과 디코딩용으로 나눔"
   ]
  },
  {
   "cell_type": "code",
   "execution_count": 150,
   "metadata": {
    "scrolled": true
   },
   "outputs": [
    {
     "name": "stdout",
     "output_type": "stream",
     "text": [
      "토큰화에 성공했습니다\n",
      "[[  80 2788  248 2454 2840  571 8278    1   14 7680 4968   24  661   14\n",
      "   235  442 1941   14 8677  367 4405  728 1390    4    0    0    0    0\n",
      "     0    0    0    0    0    0    0    0    0    0    0    0    0    0\n",
      "     0    0    0    0    0    0    0    0]\n",
      " [4276  929  432 2337  379  609  252  997  565    1   29    3 1707 8140\n",
      "    26  617  173  685  644  937 1555    1 1074 1942  624 1942  633  272\n",
      "     0    0    0    0    0    0    0    0    0    0    0    0    0    0\n",
      "     0    0    0    0    0    0    0    0]\n",
      " [   9  845 3568  155  398  884   88   12  196 1161 4518 1122  980   61\n",
      "    62  166   20  416  240 3907  668 4518   27 3707  581  498  149   76\n",
      "     9 4151 2429 6323 7575 4518 1122  980    0    0    0    0    0    0\n",
      "     0    0    0    0    0    0    0    0]]\n",
      "[[ 229   81  295 1290 1336 2074 2637 7902  866 6581 2133 8388 6891   64\n",
      "   776   30 4000  132 6494  216 7653 3509 2742 1154  784 7157 6581    0\n",
      "     0    0    0    0    0    0    0    0    0    0    0    0    0    0\n",
      "     0    0    0    0    0    0    0    0]\n",
      " [ 315  782   21  707  632   64   43 4915  904 1507  116  603 5835 2163\n",
      "   630   11  632  933 4793  480  632 1118 2168  113  315 1381  277 3234\n",
      "   113 6021    1    0    0    0    0    0    0    0    0    0    0    0\n",
      "     0    0    0    0    0    0    0    0]\n",
      " [3048   35 1607  128  547 2107 1568    2  424  745  317   74  241   29\n",
      "     3  128  889 3631 6613  547 1141  846  825 1188 3047  128  305  547\n",
      "  4260 1175 3662    0    0    0    0    0    0    0    0    0    0    0\n",
      "     0    0    0    0    0    0    0    0]]\n",
      "토큰화에 성공했습니다\n",
      "[[   1 5324 5542 4013    0    0    0    0    0    0    0]\n",
      " [   1  143   21 1461 1356  606  577  224    0    0    0]\n",
      " [   1  115  136   48  856 4014  517    0    0    0    0]]\n",
      "[[   1 1968 2493 1472 3069   65    0    0    0    0    0]\n",
      " [   1   80 5753  323  115   25 4445  432   51    0    0]\n",
      " [   1  383  627  110  853    3  216 3474    0    0    0]]\n",
      "[[5324 5542 4013    2    0    0    0    0    0    0    0]\n",
      " [ 143   21 1461 1356  606  577  224    2    0    0    0]\n",
      " [ 115  136   48  856 4014  517    2    0    0    0    0]]\n",
      "[[1968 2493 1472 3069   65    2    0    0    0    0    0]\n",
      " [  80 5753  323  115   25 4445  432   51    2    0    0]\n",
      " [ 383  627  110  853    3  216 3474    2    0    0    0]]\n"
     ]
    }
   ],
   "source": [
    "encoder_vocab_size = 9000\n",
    "decoder_vocab_size = 6000\n",
    "encoder_tokenizer, te_train_x, te_val_x = tokenize_encode(encoder_train_x, encoder_val_x, encoder_vocab_size, encoder_maxlen)\n",
    "decoder_tokenizer, td_train_x, td_val_x, td_train_y, td_val_y = tokenize_decode(decoder_train_x, decoder_val_x, decoder_train_y, decoder_val_y, decoder_vocab_size, decoder_maxlen)"
   ]
  },
  {
   "cell_type": "code",
   "execution_count": 151,
   "metadata": {
    "scrolled": false
   },
   "outputs": [
    {
     "name": "stdout",
     "output_type": "stream",
     "text": [
      "인코더 단어장\n",
      "단어 집합(vocabulary)의 크기 : 69619\n",
      "등장 빈도가 31번 이하인 희귀 단어의 수: 60149\n",
      "단어 집합에서 희귀 단어를 제외시킬 경우의 단어 집합의 크기 9470\n",
      "단어 집합에서 희귀 단어의 비율: 86.39739151668367\n",
      "전체 등장 빈도에서 희귀 단어 등장 빈도 비율: 10.235427693945809\n",
      "\n",
      "디코더 단어장\n",
      "단어 집합(vocabulary)의 크기 : 29997\n",
      "등장 빈도가 23번 이하인 희귀 단어의 수: 23279\n",
      "단어 집합에서 희귀 단어를 제외시킬 경우의 단어 집합의 크기 6718\n",
      "단어 집합에서 희귀 단어의 비율: 77.60442710937761\n",
      "전체 등장 빈도에서 희귀 단어 등장 빈도 비율: 10.361024086502027\n"
     ]
    }
   ],
   "source": [
    "print('인코더 단어장')\n",
    "check_word_count(encoder_tokenizer, 32)\n",
    "print('')\n",
    "print('디코더 단어장')\n",
    "check_word_count(decoder_tokenizer, 24)"
   ]
  },
  {
   "cell_type": "markdown",
   "metadata": {},
   "source": [
    "### 희귀 단어 빈도 비율이 10% 정도인 단어장 크기를 사용하기로 결정하고 토큰화      \n",
    "### 인코더는 9000개, 디코더는 6000개로 LMS의 경우보다 디코더 단어장이 훨씬 큼"
   ]
  },
  {
   "cell_type": "code",
   "execution_count": 152,
   "metadata": {
    "scrolled": false
   },
   "outputs": [
    {
     "name": "stdout",
     "output_type": "stream",
     "text": [
      "Model: \"model_12\"\n",
      "__________________________________________________________________________________________________\n",
      "Layer (type)                    Output Shape         Param #     Connected to                     \n",
      "==================================================================================================\n",
      "input_21 (InputLayer)           [(None, 50)]         0                                            \n",
      "__________________________________________________________________________________________________\n",
      "embedding_8 (Embedding)         (None, 50, 128)      1152000     input_21[0][0]                   \n",
      "__________________________________________________________________________________________________\n",
      "lstm_16 (LSTM)                  [(None, 50, 256), (N 394240      embedding_8[0][0]                \n",
      "__________________________________________________________________________________________________\n",
      "input_22 (InputLayer)           [(None, None)]       0                                            \n",
      "__________________________________________________________________________________________________\n",
      "lstm_17 (LSTM)                  [(None, 50, 256), (N 525312      lstm_16[0][0]                    \n",
      "__________________________________________________________________________________________________\n",
      "embedding_9 (Embedding)         (None, None, 128)    768000      input_22[0][0]                   \n",
      "__________________________________________________________________________________________________\n",
      "lstm_18 (LSTM)                  [(None, 50, 256), (N 525312      lstm_17[0][0]                    \n",
      "__________________________________________________________________________________________________\n",
      "lstm_19 (LSTM)                  [(None, None, 256),  394240      embedding_9[0][0]                \n",
      "                                                                 lstm_18[0][1]                    \n",
      "                                                                 lstm_18[0][2]                    \n",
      "__________________________________________________________________________________________________\n",
      "attention_layer_4 (AttentionLay ((None, None, 256),  131328      lstm_18[0][0]                    \n",
      "                                                                 lstm_19[0][0]                    \n",
      "__________________________________________________________________________________________________\n",
      "concatenate_8 (Concatenate)     (None, None, 512)    0           lstm_19[0][0]                    \n",
      "                                                                 attention_layer_4[0][0]          \n",
      "__________________________________________________________________________________________________\n",
      "dense_4 (Dense)                 (None, None, 6000)   3078000     concatenate_8[0][0]              \n",
      "==================================================================================================\n",
      "Total params: 6,968,432\n",
      "Trainable params: 6,968,432\n",
      "Non-trainable params: 0\n",
      "__________________________________________________________________________________________________\n",
      "Model: \"model_13\"\n",
      "_________________________________________________________________\n",
      "Layer (type)                 Output Shape              Param #   \n",
      "=================================================================\n",
      "input_21 (InputLayer)        [(None, 50)]              0         \n",
      "_________________________________________________________________\n",
      "embedding_8 (Embedding)      (None, 50, 128)           1152000   \n",
      "_________________________________________________________________\n",
      "lstm_16 (LSTM)               [(None, 50, 256), (None,  394240    \n",
      "_________________________________________________________________\n",
      "lstm_17 (LSTM)               [(None, 50, 256), (None,  525312    \n",
      "_________________________________________________________________\n",
      "lstm_18 (LSTM)               [(None, 50, 256), (None,  525312    \n",
      "=================================================================\n",
      "Total params: 2,596,864\n",
      "Trainable params: 2,596,864\n",
      "Non-trainable params: 0\n",
      "_________________________________________________________________\n",
      "Model: \"model_14\"\n",
      "__________________________________________________________________________________________________\n",
      "Layer (type)                    Output Shape         Param #     Connected to                     \n",
      "==================================================================================================\n",
      "input_22 (InputLayer)           [(None, None)]       0                                            \n",
      "__________________________________________________________________________________________________\n",
      "embedding_9 (Embedding)         (None, None, 128)    768000      input_22[0][0]                   \n",
      "__________________________________________________________________________________________________\n",
      "input_23 (InputLayer)           [(None, 256)]        0                                            \n",
      "__________________________________________________________________________________________________\n",
      "input_24 (InputLayer)           [(None, 256)]        0                                            \n",
      "__________________________________________________________________________________________________\n",
      "lstm_19 (LSTM)                  [(None, None, 256),  394240      embedding_9[0][0]                \n",
      "                                                                 input_23[0][0]                   \n",
      "                                                                 input_24[0][0]                   \n",
      "__________________________________________________________________________________________________\n",
      "input_25 (InputLayer)           [(None, 50, 256)]    0                                            \n",
      "__________________________________________________________________________________________________\n",
      "attention_layer_4 (AttentionLay ((None, None, 256),  131328      input_25[0][0]                   \n",
      "                                                                 lstm_19[1][0]                    \n",
      "__________________________________________________________________________________________________\n",
      "concatenate_9 (Concatenate)     (None, None, 512)    0           lstm_19[1][0]                    \n",
      "                                                                 attention_layer_4[1][0]          \n",
      "__________________________________________________________________________________________________\n",
      "dense_4 (Dense)                 (None, None, 6000)   3078000     concatenate_9[0][0]              \n",
      "==================================================================================================\n",
      "Total params: 4,371,568\n",
      "Trainable params: 4,371,568\n",
      "Non-trainable params: 0\n",
      "__________________________________________________________________________________________________\n"
     ]
    }
   ],
   "source": [
    "model, gen_encoder, gen_decoder = make_model(encoder_maxlen, encoder_vocab_size, decoder_vocab_size)"
   ]
  },
  {
   "cell_type": "code",
   "execution_count": 153,
   "metadata": {
    "scrolled": true
   },
   "outputs": [
    {
     "name": "stdout",
     "output_type": "stream",
     "text": [
      "Epoch 1/50\n",
      "308/308 [==============================] - 34s 109ms/step - loss: 4.5904 - val_loss: 4.2978\n",
      "Epoch 2/50\n",
      "308/308 [==============================] - 33s 106ms/step - loss: 4.0740 - val_loss: 3.9073\n",
      "Epoch 3/50\n",
      "308/308 [==============================] - 33s 107ms/step - loss: 3.7962 - val_loss: 3.7134\n",
      "Epoch 4/50\n",
      "308/308 [==============================] - 33s 107ms/step - loss: 3.5772 - val_loss: 3.5610\n",
      "Epoch 5/50\n",
      "308/308 [==============================] - 33s 107ms/step - loss: 3.3939 - val_loss: 3.4300\n",
      "Epoch 6/50\n",
      "308/308 [==============================] - 33s 107ms/step - loss: 3.2395 - val_loss: 3.3544\n",
      "Epoch 7/50\n",
      "308/308 [==============================] - 33s 107ms/step - loss: 3.1090 - val_loss: 3.2698\n",
      "Epoch 8/50\n",
      "308/308 [==============================] - 33s 107ms/step - loss: 2.9924 - val_loss: 3.1981\n",
      "Epoch 9/50\n",
      "308/308 [==============================] - 33s 107ms/step - loss: 2.8890 - val_loss: 3.1528\n",
      "Epoch 10/50\n",
      "308/308 [==============================] - 33s 107ms/step - loss: 2.7942 - val_loss: 3.1176\n",
      "Epoch 11/50\n",
      "308/308 [==============================] - 33s 107ms/step - loss: 2.7101 - val_loss: 3.0775\n",
      "Epoch 12/50\n",
      "308/308 [==============================] - 33s 108ms/step - loss: 2.6324 - val_loss: 3.0492\n",
      "Epoch 13/50\n",
      "308/308 [==============================] - 34s 110ms/step - loss: 2.5593 - val_loss: 3.0228\n",
      "Epoch 14/50\n",
      "308/308 [==============================] - 34s 112ms/step - loss: 2.4922 - val_loss: 3.0049\n",
      "Epoch 15/50\n",
      "308/308 [==============================] - 34s 111ms/step - loss: 2.4302 - val_loss: 2.9973\n",
      "Epoch 16/50\n",
      "308/308 [==============================] - 33s 108ms/step - loss: 2.3698 - val_loss: 2.9852\n",
      "Epoch 17/50\n",
      "308/308 [==============================] - 33s 108ms/step - loss: 2.3142 - val_loss: 2.9687\n",
      "Epoch 18/50\n",
      "308/308 [==============================] - 33s 108ms/step - loss: 2.2623 - val_loss: 2.9690\n",
      "Epoch 19/50\n",
      "308/308 [==============================] - 33s 108ms/step - loss: 2.2104 - val_loss: 2.9572\n",
      "Epoch 20/50\n",
      "308/308 [==============================] - 33s 108ms/step - loss: 2.1640 - val_loss: 2.9673\n",
      "Epoch 21/50\n",
      "308/308 [==============================] - 33s 108ms/step - loss: 2.1204 - val_loss: 2.9595\n",
      "Epoch 22/50\n",
      "308/308 [==============================] - 33s 108ms/step - loss: 2.0784 - val_loss: 2.9566\n",
      "Epoch 23/50\n",
      "308/308 [==============================] - 33s 108ms/step - loss: 2.0392 - val_loss: 2.9573\n",
      "Epoch 24/50\n",
      "308/308 [==============================] - 33s 108ms/step - loss: 1.9995 - val_loss: 2.9647\n",
      "Epoch 25/50\n",
      "308/308 [==============================] - 33s 108ms/step - loss: 1.9643 - val_loss: 2.9665\n",
      "Epoch 26/50\n",
      "308/308 [==============================] - 33s 108ms/step - loss: 1.9301 - val_loss: 2.9701\n",
      "Epoch 27/50\n",
      "308/308 [==============================] - 33s 108ms/step - loss: 1.8958 - val_loss: 2.9740\n",
      "Epoch 00027: early stopping\n"
     ]
    }
   ],
   "source": [
    "es = EarlyStopping(monitor='val_loss', mode='min', verbose=1, patience=5)\n",
    "history = model.fit(x = [te_train_x, td_train_x], y = td_train_y,\\\n",
    "          validation_data = ([te_val_x, td_val_x], td_val_y),\\\n",
    "          batch_size = 256, callbacks=[es], epochs = 50)"
   ]
  },
  {
   "cell_type": "code",
   "execution_count": 154,
   "metadata": {
    "scrolled": true
   },
   "outputs": [
    {
     "data": {
      "image/png": "[encoded data removed]",
      "text/plain": [
       "<Figure size 432x288 with 1 Axes>"
      ]
     },
     "metadata": {
      "needs_background": "light"
     },
     "output_type": "display_data"
    }
   ],
   "source": [
    "draw_history(history)"
   ]
  },
  {
   "cell_type": "markdown",
   "metadata": {},
   "source": [
    "### 학습이 이루어지기는 하지만 loss값이 비교적 높음   \n",
    "### 단어장 크기를 줄이면 loss를 낮출 수 있지만 실제 예측 요약 결과가 나빠짐"
   ]
  },
  {
   "cell_type": "code",
   "execution_count": 155,
   "metadata": {
    "scrolled": false
   },
   "outputs": [
    {
     "name": "stdout",
     "output_type": "stream",
     "text": [
      "토큰화에 성공했습니다\n",
      "[[  80 3647 3367    1   51 4377 5447   64  213  124  233  108 6798 6236\n",
      "   852 5233 1029  564 7304 1705 3647    4   84  272  800    1  590 6469\n",
      "   672    5    0    0    0    0    0    0    0    0    0    0    0    0\n",
      "     0    0    0    0    0    0    0    0]\n",
      " [ 140 2262 1324    2 1208  801  439 1151   55 1717  430 4752  210 1560\n",
      "    68   11  255  140 2262   29    3  275  439 1151   68   55  146   11\n",
      "   331   53   70  851 2704  146    0    0    0    0    0    0    0    0\n",
      "     0    0    0    0    0    0    0    0]\n",
      " [1304   38 5827  388 3087 1073 4371   23 1657 1158 3159 1093   10 1374\n",
      "  1930 6722  224   98    6 1657 6722  154  108  498   24 2616 3056 1930\n",
      "  6722   96 2174 1982  106  849  793 1739   47 2931  260    0    0    0\n",
      "     0    0    0    0    0    0    0    0]]\n"
     ]
    }
   ],
   "source": [
    "te_test_x = tokenize_test(test_x, encoder_tokenizer, encoder_maxlen)"
   ]
  },
  {
   "cell_type": "code",
   "execution_count": 156,
   "metadata": {
    "scrolled": true
   },
   "outputs": [
    {
     "name": "stdout",
     "output_type": "stream",
     "text": [
      "원문 : actress tanushree dutta said actor nana patekar called goons attack adding told media audaciously meri beti jaisi hai recalling happened refused intimate scene tanushree added could come forward said leave uncomfortable let us\n",
      "실제 요약 : tanushree reacts nana patekar beti jaisi hai remark\n",
      "예측 요약 : sushant slams people stop manikarnika\n",
      "\n",
      "\n",
      "원문 : data breach incidents india higher compared global average according survey defence grade technology maker thales around indian respondents reported data breach last year way global average around according report indian companies million billion revenue covered report\n",
      "실제 요약 : data breach incidents india higher global average\n",
      "예측 요약 : india data india report\n",
      "\n",
      "\n",
      "원문 : rss bjp affiliated think tank bharat niti reportedly planned raise dedicated unit people protect promote hinduism online group also planned hinduism social media conclave november would discuss ways promote hinduism high tech means notably yogi adityanath invited chief guest event\n",
      "실제 요약 : rss think tank get people protect hinduism online\n",
      "예측 요약 : bjp rss cancels course\n",
      "\n",
      "\n",
      "원문 : south korean national arrested mumbai airport kg gold worth crore accused arrived hong kong allegedly concealed gold bars inside specially designed vest caught air intelligence unit accused admitted crime recorded statement\n",
      "실제 요약 : south korean man hiding gold vest held mumbai airport\n",
      "예측 요약 : korean fighter held kg gold worth lakh\n",
      "\n",
      "\n",
      "원문 : commerce websites selling consumer goods held liable false claims new consumer protection bill according officials bill yet passed provides establishment central consumer protection authority prevent unfair trade practices currently national consumer helpline gets around complaints commerce firms month\n",
      "실제 요약 : commerce sites held liable false claims\n",
      "예측 요약 : blockchain entertainment firm acquires firms\n",
      "\n",
      "\n",
      "원문 : reacting picture fans come meet sunny leone kochi event user tweeted divided religion united sunny leone another user wrote thing works north south sunny leone macha bjp meeting kerala people sunny arrival lakh people read another comment\n",
      "실제 요약 : divided religion united sunny tweets user fans\n",
      "예측 요약 : fans troll tweets user pic ali pic\n",
      "\n",
      "\n",
      "원문 : congress mp shashi tharoor said meeting united nations flood affected kerala carried individual capacity tweeting visit written close consultation kerala cm explore help could possible following tweet reports stated kerala cm office denied sending state government representative\n",
      "실제 요약 : un visit kerala floods individual capacity tharoor\n",
      "예측 요약 : tharoor calls israel help kerala floods\n",
      "\n",
      "\n",
      "원문 : world richest person amazon founder jeff bezos thursday announced billion day one fund support non profits help homeless families build pre schools low income areas mackenzie share belief potential hard work anyone serve others bezos said net worth billion\n",
      "실제 요약 : jeff bezos launches bn fund homeless pre schools\n",
      "예측 요약 : jeff bezos made bn fund fund\n",
      "\n",
      "\n",
      "원문 : following arrest dawood ibrahim brother iqbal kaskar extortion charges thane police probing money dawood underworld franchise company used fund shraddha kapoor starrer haseena parkar gang earlier used finance movies money got extortion said official haseena parkar biopic dawood sister\n",
      "실제 요약 : police probe dawood company funded haseena parkar\n",
      "예측 요약 : dawood ibrahim brother arrested\n",
      "\n",
      "\n",
      "원문 : confirming third film tanu weds manu franchise kangana ranaut said director aanand rai making announcement soon earlier kangana said refused star sequel tanu weds manu returns long time ago aanand also said making sequel\n",
      "실제 요약 : would announcing tanu weds manu soon kangana\n",
      "예측 요약 : kangana denies reports\n",
      "\n",
      "\n",
      "원문 : anti corruption watchdog central vigilance commission asked public sector banks provide details fraud cases reported cbi since involving crore information analysed identify common modus operandi followed fraudsters vigilance commissioner tm bhasin said notably banks reported fraud cases involving crore\n",
      "실제 요약 : cvc seeks data fraud public sector banks\n",
      "예측 요약 : public banks cases firms cr\n",
      "\n",
      "\n",
      "원문 : man killed malaysia airport last month confirmed kim jong nam north korean leader kim jong un half brother basis dna sample taken child malaysia deputy pm ahmad hamidi said jong nam allegedly assassinated north koreans airport using toxic substance notably north korea earlier rejected malaysia post mortem findings\n",
      "실제 요약 : kim jong nam identity confirmed child dna malaysia\n",
      "예측 요약 : mumbai man arrested kim jong un concert\n",
      "\n",
      "\n",
      "원문 : talking congress jd alliance karnataka cm designate hd kumaraswamy said wanted become king mandate people like adding become chief minister political developments well said blessings people feeling terrible\n",
      "실제 요약 : wanted king via mandate like kumaraswamy\n",
      "예측 요약 : karnataka cm kumaraswamy\n",
      "\n",
      "\n",
      "원문 : year old professor hyderabad lost lakh filing income tax returns online victim received phishing mail claiming give link file online itrs link led fake website homepage identical department website police said notably victim colleagues also received similar mails\n",
      "실제 요약 : hyderabad man loses lakh filing income tax returns\n",
      "예측 요약 : man gets lakh tax account\n",
      "\n",
      "\n",
      "원문 : colombian drug lord pablo escobar killed police december medellin escobar headed medellin drug cartel smuggled large quantities cocaine us earning estimated million week responsible deaths people including three colombian presidential candidates\n",
      "실제 요약 : colombian drug lord pablo escobar killed years ago\n",
      "예측 요약 : death toll rises rises\n",
      "\n",
      "\n",
      "원문 : csk captain ms dhoni broke talking franchise return ipl event important go everything smile face next important us back back said csk banned two seasons july corruption\n",
      "실제 요약 : dhoni breaks talking csk return ipl\n",
      "예측 요약 : dhoni reveals csk\n",
      "\n",
      "\n",
      "원문 : bjp politician blamed chandigarh stalking case victim questioned late night women posting images midnight hashtag aintnocinderella mean raped molested chased dignity right aintnocinderella woman captioned photo\n",
      "실제 요약 : aintnocinderella mock politician blamed stalking victim\n",
      "예측 요약 : bjp leader accused rape\n",
      "\n",
      "\n",
      "원문 : residents maharashtra kalyan put hoarding resembling banners displayed political leaders birthdays birthday wishes dog named max bhai put residents mock celebratory hoardings displayed political parties reports said hoarding also carries wishes dogs tyson bhai sweety tai\n",
      "실제 요약 : residents mock politicians hoarding dog birthday\n",
      "예측 요약 : maharashtra residents release\n",
      "\n",
      "\n",
      "원문 : home minister rajnath singh praised bollywood actor akshay kumar supporting indian soldiers shared video akshay seeking donations jawans families via web portal bharat ke veer video national award winner said website already collected crore nothing important respecting bravehearts akshay added\n",
      "실제 요약 : rajnath praises akshay kumar supporting indian soldiers\n",
      "예측 요약 : rajnath akshay star pad india bsf\n",
      "\n",
      "\n",
      "원문 : australian opener david warner scored th odi hundred th odi india bengaluru thursday warner first aussie eighth player overall register ton th match warner along aaron finch registered australia highest opening odi partnership india going past david boon geoff marsh record\n",
      "실제 요약 : david warner scores th odi\n",
      "예측 요약 : aussie batsman hits runs odi match\n",
      "\n",
      "\n",
      "원문 : rss leader biplab roy said organisation received five times applications former president pranab mukherjee attended event june received requests june compared requests received june june average daily roy added said applications received daily since\n",
      "실제 요약 : times applications ex prez attended event rss\n",
      "예측 요약 : rss chief rss chief mohan rss house\n",
      "\n",
      "\n",
      "원문 : dalit congress mla krishna chandra sagaria tuesday announced decision resign odisha assembly moral grounds stating failed provide justice gangrape victim year old dalit girl alleged gangraped four men uniform committed suicide one arrested connection case sagaria said\n",
      "실제 요약 : odisha cong mla resigns failing minor gangrape victim\n",
      "예측 요약 : mla quits bjp mla raped\n",
      "\n",
      "\n",
      "원문 : speaking karnataka farm loan waivers congress president rahul gandhi said challenge pm modi give money required waive loans alleged pm modi cannot spend single rupee karnataka farmers rahul said congress jd coalition government karnataka announced crore farm loan waiver july promised nnnn\n",
      "실제 요약 : give money waive taka farm loans rahul pm modi\n",
      "예측 요약 : rahul gandhi pm modi loans\n",
      "\n",
      "\n",
      "원문 : us based ai startup observe ai tech team bengaluru raised million series funding led nexus venture partners round saw participation mgv liquid ventures hack vc along existing investors emergent ventures combinator founded observe ai assists call centre workers automating range tasks\n",
      "실제 요약 : ai startup observe ai raises mn funding led nexus\n"
     ]
    },
    {
     "name": "stdout",
     "output_type": "stream",
     "text": [
      "예측 요약 : ai startup ai raises million\n",
      "\n",
      "\n",
      "원문 : delhi ncr region witnessed heavy smog tuesday morning visibility reportedly reduced metres real time air quality index showed air quality hazardous parts delhi particulate matter recorded pm forecasts suggested air quality remain poor coming days\n",
      "실제 요약 : visibility delhi drops metres due smog\n",
      "예측 요약 : delhi get diwali\n",
      "\n",
      "\n",
      "원문 : bjp leader ashwini upadhyay monday filed plea supreme court seeking minority status hindus seven states union territory lakshadweep plea stated even though hindus minority states benefits meant enjoyed majority communities present\n",
      "실제 요약 : plea minority status hindus states filed sc\n",
      "예측 요약 : sc order hindus muslims\n",
      "\n",
      "\n",
      "원문 : gurugram police thursday arrested man belonging rewari based aloo gang allegedly possessing illegal arms recovered two country made pistols live cartridges reportedly sohna murder member rival jhota gang aloo gang wanted several cases murder attempted murder\n",
      "실제 요약 : aloo gang member arrested illegal arms gurugram\n",
      "예측 요약 : man arrested drug trafficking case\n",
      "\n",
      "\n",
      "원문 : actor nawazuddin siddiqui took twitter share picture son yaani siddiqui dressed character natkhat nandlala thanked son school giving opportunity play character nawazuddin married anjali siddiqui also daughter named shora\n",
      "실제 요약 : nawazuddin shares pic son dressed natkhat nandlala\n",
      "예측 요약 : nawazuddin shares pic son\n",
      "\n",
      "\n",
      "원문 : bjp leaders smriti irani meenakshi lekhi blamed india first prime minister jawaharlal nehru gandhi family problems kashmir added country knows comes congress vice president rahul gandhi blamed prime minister narendra modi policies creating space terrorists valley\n",
      "실제 요약 : nehru gandhi family responsible problems kashmir bjp\n",
      "예측 요약 : irani india hindu bjp\n",
      "\n",
      "\n",
      "원문 : england country appear two test matches two countries two different continents day england beat new zealand christchurch january day another england team playing test windies barbados england sent different teams caribbean new zealand promote cricket\n",
      "실제 요약 : england played test matches continents day\n",
      "예측 요약 : england play practice night series\n",
      "\n",
      "\n",
      "원문 : us president donald trump first lady melania hosted children adults first halloween celebrations white house children given gift bags containing ms cookies donald melania chatted guests loudspeakers blared scary music pumpkins carved likenesses past presidents decorated white house\n",
      "실제 요약 : trump melania host kids st white house halloween\n",
      "예측 요약 : melania trump first lady visit london\n",
      "\n",
      "\n",
      "원문 : first address president indian national congress saturday rahul gandhi said accepted position deepest humility knowing always walking shadows giants gandhi added congress considered grand old party called grand old young party\n",
      "실제 요약 : always walking shadow giants rahul gandhi\n",
      "예측 요약 : rahul gandhi says congress prez\n",
      "\n",
      "\n",
      "원문 : reacting china displeasure tibetan spiritual leader dalai lama visit bihar congress leader shashi tharoor tuesday said recognising political leader spiritual leader china stand irrelevant want invite major buddhist leader conference privilege added\n",
      "실제 요약 : recognise dalai lama spiritual leader tharoor\n",
      "예측 요약 : jinnah friend china tharoor\n",
      "\n",
      "\n",
      "원문 : germany goalkeeper manuel neuer conceded goal injury time south korea fifa world cup match leaving goal unguarded going opponent half help team attack reacting user tweeted neuer thought playing fifa defending champions germany crashed tournament losing\n",
      "실제 요약 : goalkeeper goes opponent half attack concedes goal\n",
      "예측 요약 : russian goal saves wc final wc win\n",
      "\n",
      "\n",
      "원문 : class girl molested school washroom wednesday haryana reportedly school staffer incident came light girl mother asked scratch marks neck back case registered unknown person school management reportedly tried keep matter hidden\n",
      "실제 요약 : class girl molested haryana school washroom\n",
      "예측 요약 : class girl thrashed school teacher\n",
      "\n",
      "\n",
      "원문 : north korea state run newspaper rodong sinmun said us president donald trump hideous criminal sentenced death korean people worst crime trump never pardoned dared malignantly hurt dignity supreme leadership added comes trump taunted kim jong un asia tour\n",
      "실제 요약 : korea sentences trump death insulting kim jong un\n",
      "예측 요약 : north korea trump un\n",
      "\n",
      "\n",
      "원문 : paris renovated historic train station halle freyssinet open world largest startup campus crore aiming host startups named station campus set open june incubators facebook software startup zendesk campus also four kitchens hour open bar houses people\n",
      "실제 요약 : paris train station become world largest startup campus\n",
      "예측 요약 : paris becomes world largest restaurant\n",
      "\n",
      "\n",
      "원문 : times group sent journalist arnab goswami new venture republic tv notice use phrase nation wants know goswami said notice threatens imprisonment ever use phrase say phrase added using phrase last years throughout reporting career\n",
      "실제 요약 : times group sends notice arnab nation wants know\n",
      "예측 요약 : arnab said indian tv show arnab goswami\n",
      "\n",
      "\n",
      "원문 : veerappa moily union minister son harsha allegedly floated firm received investments subsidiary mauritius based firm paradise papers revealed congress leader son responded allegations saying imperative firm raises external investment professional investors impact investment space included mauritius based firm\n",
      "실제 요약 : ex minister son funded offshore firm paradise papers\n",
      "예측 요약 : son files fir son\n",
      "\n",
      "\n",
      "원문 : dera sacha sauda chief gurmeet ram rahim thursday said always respected law despite suffering backache present court appealed followers maintain peace saying complete faith god comes day court verdict rape case\n",
      "실제 요약 : court despite backache ram rahim verdict\n",
      "예측 요약 : ram rahim singh\n",
      "\n",
      "\n",
      "원문 : common admission test admission india premier business schools scheduled sunday november preparation eduwhere mba cat scholarship exam currently underway aims provide cat aspirants realistic insights cat preparation top three performers also win scholarship lakh\n",
      "실제 요약 : eduwhere cat scholarship exam begins\n",
      "예측 요약 : ipl auction\n",
      "\n",
      "\n",
      "원문 : youtube star lilly singh popularly known superwoman visiting actor shah rukh khan residence mannat mumbai shah rukh said hosting private session children superwoman coming india april three city tour promote debut book bawse\n",
      "실제 요약 : youtube star superwoman visit srk home mumbai\n",
      "예측 요약 : tribute srk srk event\n",
      "\n",
      "\n",
      "원문 : mumbai terror attack mastermind hafiz saeed political party milli muslim league vowed contest upcoming pakistan elections despite designated foreign terrorist organisation us discontinue political activities cost field candidates across pakistan said saeed million us bounty head\n",
      "실제 요약 : hafiz saeed party contest polls despite us terror tag\n",
      "예측 요약 : mastermind mastermind saeed meet outside pak polls\n",
      "\n",
      "\n",
      "원문 : aap punjab mla kanwar sandhu demanded external affairs minister sushma swaraj resignation allegedly spreading lies indians missing iraq mosul swaraj today confirmed people kidnapped isis killed meanwhile congress mp partap singh bajwa accused centre misleading victims families giving false hopes\n",
      "실제 요약 : swaraj must quit lies indians missing iraq aap\n",
      "예측 요약 : aap mla calls rajnath singh\n",
      "\n",
      "\n",
      "원문 : world wide web inventor tim berners lee summit week said come nasty mean ideas seem travel prevalently constructive ideas twitter sometimes way designed added built www let public good stuff share ideas case websites like wikipedia\n",
      "실제 요약 : nasty ideas spread twitter asks web creator\n",
      "예측 요약 : small people need make make make\n",
      "\n",
      "\n",
      "원문 : drone named drl racer friday set guinness world record fastest drone hitting top speed kmph speed top speed fastest tesla car model ludicrous mode earlier prototypes drone burst flames hitting highest speed\n",
      "실제 요약 : world record fastest drone set kmph\n",
      "예측 요약 : us makes record world largest drone\n",
      "\n",
      "\n",
      "원문 : indian navy officer abhilash tomy injured stranded sailing race rescued within hours indian ocean french vessel defence ministry said sunday earlier today yacht located navy aircraft rolling excessively tomy suffered back injury yacht hit storm\n",
      "실제 요약 : injured navy officer rescued hours defence ministry\n",
      "예측 요약 : navy officer indian ocean stranded sikkim\n",
      "\n",
      "\n",
      "원문 : saudi arabia thursday announced detained people part anti corruption probe adding scale corrupt practices uncovered large saudi attorney general saud al mojeb said estimate least billion misused systematic corruption embezzlement several decades\n",
      "실제 요약 : saudi arabia detains people anti corruption probe\n"
     ]
    },
    {
     "name": "stdout",
     "output_type": "stream",
     "text": [
      "예측 요약 : saudi arabia arrests people\n",
      "\n",
      "\n",
      "원문 : punjab minister navjot singh sidhu wife navjot kaur sidhu summoned one man commission investigating amritsar accident around people run train dussehra celebrations senior ias officer purushartha asked couple appear november earlier sidhu announced adopt children accident victims\n",
      "실제 요약 : sidhu wife summoned officer probing amritsar accident\n",
      "예측 요약 : sidhu navjot sidhu gets bail amritsar train\n",
      "\n",
      "\n",
      "원문 : air india flight carrying passengers forced make emergency landing mumbai airport monday pilot detected smoke cockpit airline said mumbai bhubaneswar flight forced return mumbai airport barely minutes take flight landed safely passengers accommodated different flight\n",
      "실제 요약 : smoke detected cockpit air india flight\n",
      "예측 요약 : flight makes emergency landing mumbai airport\n",
      "\n",
      "\n"
     ]
    }
   ],
   "source": [
    "for i in range(len(te_test_x)):\n",
    "    print(\"원문 :\", test_x.iloc[i])\n",
    "    print(\"실제 요약 :\", test_y.iloc[i])\n",
    "    print(\"예측 요약 :\", predict_headline(gen_encoder, gen_decoder, te_test_x[i].reshape(1, encoder_maxlen), decoder_tokenizer, decoder_maxlen))\n",
    "    print(\"\\n\")"
   ]
  },
  {
   "cell_type": "markdown",
   "metadata": {},
   "source": [
    "### 요약을 예측한 결과 개별 문장으로는 어느정도 의미가 있지만, 실제 요약 내용과 비교했을 때 정확도는 떨어지는 편임   \n",
    "### 일부 요약이 잘 된 것으로 보이는 결과가 존재하는 정도   \n",
    "\n",
    "원문 : world richest person amazon founder jeff bezos thursday announced billion day one fund support non profits help homeless families build pre schools low income areas mackenzie share belief potential hard work anyone serve others bezos said net worth billion   \n",
    "실제 요약 : jeff bezos launches bn fund homeless pre schools   \n",
    "예측 요약 : jeff bezos made bn fund fund   \n",
    "   \n",
    "원문 : actor nawazuddin siddiqui took twitter share picture son yaani siddiqui dressed character natkhat nandlala thanked son school giving opportunity play character nawazuddin married anjali siddiqui also daughter named shora   \n",
    "실제 요약 : nawazuddin shares pic son dressed natkhat nandlala   \n",
    "예측 요약 : nawazuddin shares pic son   "
   ]
  },
  {
   "cell_type": "code",
   "execution_count": 157,
   "metadata": {
    "scrolled": false
   },
   "outputs": [
    {
     "name": "stdout",
     "output_type": "stream",
     "text": [
      "원문 : Former Australia batsman Mark Waugh called former New Zealand captain and Brisbane Heat batsman Brendon McCullum a \"lucky c**t\" during a Big Bash League chat show on live TV. Waugh was talking about McCullum's favourite hobby outside of cricket, horse racing, when he uttered the word. \"He loves his horses. Good punter. He's a lucky c***...lucky punter too,\" Waugh said.\n",
      "실제 요약 : Mark Waugh calls Brendon McCullum a 'lucky c**t' on live TV\n",
      "예측 요약 : He's a lucky c***...lucky punter too,\" Waugh said.\n",
      "\n",
      "\n",
      "원문 : Vedanta Resources Founder and Chairman Anil Agarwal said he won't retire soon and added the conglomerate's growth requires his \"aggression\" and \"risk-taking\" ability. \"Why should I hang [my boots]. I have a task [to finish],\" he said. \"Nobody can think of producing [5,00,000] barrels oil in such a short time... you [must] take the bull by the horn,\" he added.  \n",
      "실제 요약 : Won't retire soon, Vedanta needs my aggression: Chairman\n",
      "예측 요약 : Vedanta Resources Founder and Chairman Anil Agarwal said he won't retire soon and added the conglomerate's growth requires his \"aggression\" and \"risk-taking\" ability.\n",
      "\n",
      "\n",
      "원문 : National Award-winning Malayali filmmaker Priyanandanan was attacked on Friday morning after he wrote a Facebook post on the Sabarimala issue. \"He was beaten up and water mixed with cow dung was flung on him. A probe is on,\" said police. \"I can identify the assailants. I suspect RSS-BJP workers were behind the attack,\" Priyanandan said.\n",
      "실제 요약 : Cow dung thrown at National Award-winning director after FB post\n",
      "예측 요약 : I suspect RSS-BJP workers were behind the attack,\" Priyanandan said.\n",
      "\n",
      "\n",
      "원문 : Kangana Ranaut starrer 'Manikarnika: The Queen of Jhansi', which released today, \"is a well-made historical with the right scale, emotional quotient and battle sequences,\" said Bollywood Hungama. \"'Manikarnika'... highlights Kangana's prowess as an actor,\" said The Times of India (TOI). Koimoi wrote that the film has \"polished action sequences\". It has been rated 3.5/5 (Bollywood Hungama, TOI, Koimoi).\n",
      "실제 요약 : Kangana Ranaut starrer 'Manikarnika' hits the theatres\n",
      "예측 요약 : Kangana Ranaut starrer 'Manikarnika: The Queen of Jhansi', which released today, \"is a well-made historical with the right scale, emotional quotient and battle sequences,\" said Bollywood Hungama.\n",
      "\n",
      "\n",
      "원문 : Kartik Aaryan, who made his debut with 'Pyaar Ka Punchnama' in 2011, said, \"I like thrillers and the anti-hero zone. I love watching them. I'd like to do something in this, other than comedy.\" \"I'm offered a lot of comedy films. I want to do serious films now,\" he added. Kartik further said comedy's the most difficult thing to do.\n",
      "실제 요약 : Want to do something other than comedy now: Kartik Aaryan\n",
      "예측 요약 : I'd like to do something in this, other than comedy.\" \"I'm offered a lot of comedy films.\n",
      "\n",
      "\n",
      "원문 : Pakistan wicketkeeper-captain Sarfraz Ahmed was caught on stump mic making an apparent racist comment on South Africa batsman Andile Phehlukwayo during the second ODI. \"Abey kaale...teri ammi aaj kahan baithi hui hai? Kya padhwa ke aaya hai aaj? (Black guy, where's your mother sitting today? What [prayer] have you got her to say for you today?)\" Sarfraz was heard saying.\n",
      "실제 요약 : Kaale, teri ammi aaj kahan baithi hai? Pak captain to SA batsman\n",
      "예측 요약 : What [prayer] have you got her to say for you today?)\" Sarfraz was heard saying.\n",
      "\n",
      "\n",
      "원문 : BJP President Amit Shah on Tuesday said there were nine Prime Ministerial candidates at the United India Rally held in Kolkata on Saturday. \"5-25 leaders can't...defeat PM Narendra Modi. He is...supported by 100 crore people,\" he added. \"The [opposition's] gathbandhan is about...self-interest. They didn't even chant 'Vande Mataram' and 'Bharat Mata Ki Jai' in the rally,\" Shah further said.\n",
      "실제 요약 : 9 contenders for PM post at Opposition rally: Amit Shah\n",
      "예측 요약 : BJP President Amit Shah on Tuesday said there were nine Prime Ministerial candidates at the United India Rally held in Kolkata on Saturday.\n",
      "\n",
      "\n",
      "원문 : A picture shared by a Twitter account showing eight different ways to draw the letter 'X' has gone viral on the internet, leaving people surprised. \"Which way do you draw an X? Colored line being the first stroke,\" the picture's caption said. \"Never realised people might draw an X in so many ways! Definitely 7 for me,\" a person commented.\n",
      "실제 요약 : Picture shows 8 ways to draw an 'X', leaves people surprised\n",
      "예측 요약 : A picture shared by a Twitter account showing eight different ways to draw the letter 'X' has gone viral on the internet, leaving people surprised.\n",
      "\n",
      "\n",
      "원문 : The Uttar Pradesh Police have booked Irfan Hussain, NSUI district president of Shahjahanpur, for allegedly threatening a female student after she complained of molestation. \"Sudhar jao (better behave). I'll make it very difficult for you to enter the college. Act like a woman, stay in your limits,\" Hussain had aggressively told the student. NSUI has suspended Hussain from the organisation.\n",
      "실제 요약 : Act like a woman, stay in limits: NSUI leader threatens student\n",
      "예측 요약 : The Uttar Pradesh Police have booked Irfan Hussain, NSUI district president of Shahjahanpur, for allegedly threatening a female student after she complained of molestation.\n",
      "\n",
      "\n",
      "원문 : Kajol has said that she is \"way smarter\" and \"cooler\" than what she was at the age of 16. \"I believe I am relevant today. I believe my personality has a lot to do with it. My personality has grown on screen and off screen with age,\" she added. Kajol further said that she never considered acting as a career. \n",
      "실제 요약 : I am way smarter, cooler than what I was at age of 16: Kajol\n",
      "예측 요약 : Kajol has said that she is \"way smarter\" and \"cooler\" than what she was at the age of 16.\n",
      "\n",
      "\n",
      "원문 : Kangana Ranaut has refuted the reports which said 'Manikarnika: The Queen of Jhansi' producer Kamal Jain has suffered from a paralytic stroke. \"He's doing fine...reports are misleading. He fell sick last week and is on his way to recovery. I'm in touch with him everyday,\" she added. Kangana further said, \"[I] request everyone to please stop backing sensational reports.\"\n",
      "실제 요약 : Manikarnika producer is fine, reports are misleading: Kangana\n",
      "예측 요약 : Kangana further said, \"[I] request everyone to please stop backing sensational reports.\"\n",
      "\n",
      "\n",
      "원문 : WWE's Paul Heyman, the manager of Brock Lesnar, criticised ICC for paraphrasing his mantra 'Eat. Sleep. Conquer. Repeat.' while praising India wicketkeeper-batsman MS Dhoni. ICC's official World Cup account had tweeted an image of Dhoni with the caption, \"Eat. Sleep. Finish games. Repeat. Life as MS Dhoni.\" \"Our royalties may be paid in cash, check, stock or cryptocurrency,\" Heyman wrote.\n",
      "실제 요약 : WWE's Heyman criticises ICC for 'using' his catchphrase for Dhoni\n",
      "예측 요약 : Repeat.' while praising India wicketkeeper-batsman MS Dhoni.\n",
      "\n",
      "\n",
      "원문 : India captain Virat Kohli and his wife and actress Anushka Sharma met world number three men's tennis player Roger Federer at the Australian Open. Kohli also watched Serena Williams play at the Australian Open and shared pictures from his visit. \"What a day at the Australian open. An amazing way to finish the Australian summer. Forever grateful,\" his tweet read. \n",
      "실제 요약 : Amazing way to finish Australian summer: Kohli on visiting Aus Open\n",
      "예측 요약 : \"What a day at the Australian open.\n",
      "\n",
      "\n",
      "원문 : Iranian Foreign Minister Javad Zarif on Friday mocked US National Security Advisor John Bolton's calls for strikes on Iran using a play on the viral '10 Year Challenge'. Zarif shared images of two separate articles from 2009 and 2019, where Bolton called for strikes on Iran. \"Same bull. Same bully. Same delusion,\" Zarif wrote on Twitter.\n",
      "실제 요약 : Iran mocks US National Security Advisor with '10 Year Challenge'\n",
      "예측 요약 : Zarif shared images of two separate articles from 2009 and 2019, where Bolton called for strikes on Iran.\n",
      "\n",
      "\n",
      "원문 : India head coach Ravi Shastri has said that he has never seen an individual so sound as former India captain MS Dhoni. \"I have seen Sachin Tendulkar get angry at times. Not this man,\" he added. \"Players [like Dhoni] only come once in 30 or 40 years. That is what I tell Indians. Enjoy while it lasts,\" Shastri further said.\n",
      "실제 요약 : Have seen Sachin Tendulkar get angry but not MS Dhoni: Ravi Shastri\n",
      "예측 요약 : India head coach Ravi Shastri has said that he has never seen an individual so sound as former India captain MS Dhoni.\n",
      "\n",
      "\n",
      "원문 : Cristiano Ronaldo scored the match-winning goal to help his side Juventus beat AC Milan to lift the trophy at the 31st annual Supercoppa Italiana. \"Ronaldo? We always say the same thing... that's why we signed him. He is decisive and scores big goals, but the whole team put in a good performance,\" Juventus coach Massimiliano Allegri said.\n",
      "실제 요약 : Ronaldo helps Juventus beat AC Milan in Supercoppa Finals\n",
      "예측 요약 : Cristiano Ronaldo scored the match-winning goal to help his side Juventus beat AC Milan to lift the trophy at the 31st annual Supercoppa Italiana.\n",
      "\n",
      "\n"
     ]
    },
    {
     "name": "stdout",
     "output_type": "stream",
     "text": [
      "원문 : N Srinivasan has suggested that Chennai Super Kings was banned from IPL for two years due to \"jealousy\". \"No player made a mistake. The team didn't deserve the punishment they got,\" he added. \"The simmering anger among...players for being treated like this...brought about the victory [in 2018]. They were determined to prove again..that...'we are the best',\" he further said. \n",
      "실제 요약 : Simmering anger among CSK players led to IPL 2018Â win: Srinivasan\n",
      "예측 요약 : \"No player made a mistake.\n",
      "\n",
      "\n",
      "원문 : India wicketkeeper-batsman Rishabh Pant has said that it makes him happy that his mother and sister enjoyed his sledging during the Test series against Australia. \"I know the code of conduct. I remember my values. I have sledged and people have actually loved it,\" he added. Pant had sledged various Australian cricketers including Usman Khawaja, Tim Paine and Pat Cummins. \n",
      "실제 요약 : My mother and sister enjoyed my sledging in Australia series: Pant\n",
      "예측 요약 : Pant had sledged various Australian cricketers including Usman Khawaja, Tim Paine and Pat Cummins.\n",
      "\n",
      "\n",
      "원문 : India wicketkeeper-batsman Rishabh Pant, who was involved in on-field banter with Australia captain Tim Paine during the Test series, said when someone provokes him, he doesn't hesitate to give it back. \"That's how I'm. I had a duty to do...But I know the code of conduct. I remember my values. I've sledged and people have actually loved it,\" he added. \n",
      "실제 요약 : If someone provokes me, I'll give it back: Rishabh Pant on banter\n",
      "예측 요약 : India wicketkeeper-batsman Rishabh Pant, who was involved in on-field banter with Australia captain Tim Paine during the Test series, said when someone provokes him, he doesn't hesitate to give it back.\n",
      "\n",
      "\n",
      "원문 : BSP leader Vijay Yadav on Tuesday called BJP the most \"corrupt\" party, stating, \"What did BJP give the country? Modi. Nirav Modi, Lalit Modi and Narendra Modi.\" He added, \"Inn BJP waalon ko toh dauda dauda kar maarenge. Ghabrane ki zaroorat nahi hai.\" He further claimed, \"What did the Congress give us? Four Gandhis - Indira, Rajiv, Sonia and Rahul.\"\n",
      "실제 요약 : One gave 4 Gandhis, other 3 Modis: BSP leader on Cong, BJP\n",
      "예측 요약 : Nirav Modi, Lalit Modi and Narendra Modi.\" He added, \"Inn BJP waalon ko toh dauda dauda kar maarenge.\n",
      "\n",
      "\n",
      "원문 : The Supreme Court on Tuesday declined a plea by Karti Chidambaram, an accused in Aircel-Maxis case, seeking an urgent hearing for permission to travel abroad. \"We are not interested. We have better things to do.\" Chief Justice Ranjan Gogoi remarked. Earlier when Chidambaram sought an urgent hearing for travelling abroad, Gogoi had said, \"Don't go... Stay back in India.\"\n",
      "실제 요약 : Have better things to do: SC on Karti's urgent hearing plea\n",
      "예측 요약 : Earlier when Chidambaram sought an urgent hearing for travelling abroad, Gogoi had said, \"Don't go...\n",
      "\n",
      "\n",
      "원문 : Australia head coach Justin Langer praised Team India captain Virat Kohli following his 104-run knock against Australia in the second ODI on Tuesday. \"Technically his balance is unbelievable. He is so calm and so competitive. For him to play 360-degree shots in all formats of the game, his balance is unbelievable,\" he added. Notably, Kohli has slammed 64 international hundreds.\n",
      "실제 요약 : Technically Virat Kohli's balance is unbelievable: Justin Langer\n",
      "예측 요약 : Australia head coach Justin Langer praised Team India captain Virat Kohli following his 104-run knock against Australia in the second ODI on Tuesday.\n",
      "\n",
      "\n"
     ]
    }
   ],
   "source": [
    "for i, row in raw_data.iterrows():\n",
    "    s = summarize(row['text'])\n",
    "    if s:\n",
    "        print(\"원문 :\", row['text'])\n",
    "        print(\"실제 요약 :\", row['headlines'])\n",
    "        print(\"예측 요약 :\", s)\n",
    "        print(\"\\n\")\n",
    "    if i > 2000:\n",
    "        break"
   ]
  },
  {
   "cell_type": "markdown",
   "metadata": {},
   "source": [
    "### Extractive요약에 쓰인 summarize는 긴글에서 핵심 문장을 뽑아내는 기능을 하는 것으로 보임   \n",
    "### 길이가 충분하지 않은 원문에서는 결과가 출력되지 않음   \n",
    "### 결과가 출력된 요약도 원문의 핵심 문장을 도출한 것이므로, 원하는 예측과는 차이가 있음"
   ]
  }
 ],
 "metadata": {
  "kernelspec": {
   "display_name": "aiffel",
   "language": "python",
   "name": "aiffel"
  },
  "language_info": {
   "codemirror_mode": {
    "name": "ipython",
    "version": 3
   },
   "file_extension": ".py",
   "mimetype": "text/x-python",
   "name": "python",
   "nbconvert_exporter": "python",
   "pygments_lexer": "ipython3",
   "version": "3.7.9"
  }
 },
 "nbformat": 4,
 "nbformat_minor": 4
}

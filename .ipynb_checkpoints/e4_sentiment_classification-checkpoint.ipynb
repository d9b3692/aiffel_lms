{
 "cells": [
  {
   "cell_type": "markdown",
   "metadata": {},
   "source": [
    "# 불러오기들"
   ]
  },
  {
   "cell_type": "code",
   "execution_count": 488,
   "metadata": {},
   "outputs": [],
   "source": [
    "import numpy\n",
    "from tensorflow import keras\n",
    "from tensorflow.keras.callbacks import EarlyStopping\n",
    "import pandas\n",
    "\n",
    "from konlpy.tag import Mecab, Kkma\n",
    "import konlpy.jvm as konlpyJvm\n",
    "\n",
    "from collections import Counter\n",
    "\n",
    "import math\n",
    "import matplotlib.pyplot as pyplot\n",
    "import os\n",
    "from gensim.models.keyedvectors import Word2VecKeyedVectors\n",
    "from gensim.models import Word2Vec\n",
    "from tensorflow.keras.initializers import Constant"
   ]
  },
  {
   "cell_type": "markdown",
   "metadata": {},
   "source": [
    "# 데이터 가공 함수"
   ]
  },
  {
   "cell_type": "code",
   "execution_count": 489,
   "metadata": {},
   "outputs": [],
   "source": [
    "g_mecab = Mecab()\n",
    "g_kkma = Kkma()\n",
    "\n",
    "def split_sentence(sentence):\n",
    "    return [word for word, _ in g_mecab.pos(sentence)]\n",
    "    # return [word for word, _ in g_kkma.pos(sentence)]\n",
    "\n",
    "def encode_sentence(sentence, word_to_index):\n",
    "    '''\n",
    "    sentence      : 인코딩 할 문장\n",
    "    word_to_index : 인코딩 기반 코드, {str:int}\n",
    "    \n",
    "    return        : 인코딩 된 문장, 예) [1, x, x, x...]\n",
    "    '''\n",
    "    return [word_to_index['<BOS>']] + [word_to_index[word] if word in word_to_index else word_to_index['<UNK>'] for word in split_sentence(sentence)]\n",
    "\n",
    "def encode_sentences(sentences, word_to_index):\n",
    "    '''\n",
    "    sentences     : 인코딩 할 문장 리스트\n",
    "    word_to_index : 인코딩 기반 코드, {str:int}\n",
    "    \n",
    "    return        : 인코딩 된 문장 리스트, 예) [[1, x, x, x...], [1, ...], ...]\n",
    "    '''\n",
    "    return [encode_sentence(sentence, word_to_index) for sentence in sentences]\n",
    "\n",
    "def decode_sentence(encoded, index_to_word):\n",
    "    '''\n",
    "    encoded       : 디코딩 할 리스트, [int]\n",
    "    index_to_word : 디코딩 기반 코드, {int:str}\n",
    "    \n",
    "    return        : 디코딩 된 문장\n",
    "    '''\n",
    "    return ''.join([index_to_word[index] if index in index_to_word else '<UNK>' for index in encoded[1:]])\n",
    "\n",
    "def decode_sentences(encodeds, index_to_word):\n",
    "    '''\n",
    "    encodeds      : 디코딩 할 리스트, [int]\n",
    "    index_to_word : 디코딩 기반 코드, {int:str}\n",
    "    \n",
    "    return        : 디코딩 된 문장 리스트\n",
    "    '''\n",
    "    return [decode_sentence(encoded, index_to_word) for encoded in encodeds]"
   ]
  },
  {
   "cell_type": "code",
   "execution_count": 490,
   "metadata": {},
   "outputs": [],
   "source": [
    "def get_word_to_index(sentences, num_words):\n",
    "    '''\n",
    "    sentences : 처리할 문장 리스트\n",
    "    num_words : 사용할 단어 수, 가장 자주 사용되는 순으로 센다\n",
    "    \n",
    "    return    : {단어:정수}, <PAD>, <BOS>, <UNK>, <UNUSED>는 각각 1,2,3,4로 정해져 있다\n",
    "    '''\n",
    "    # stop_words = ['의','가','이','은','들','는','좀','잘','걍','과','도','를','으로','자','에','와','한','하다']\n",
    "    stop_words = []\n",
    "    words = []\n",
    "    for sentence in sentences:\n",
    "        words.extend([word for word in split_sentence(sentence) if word not in stop_words])\n",
    "    most_common_words = [word for word, _ in Counter(words).most_common(num_words)]\n",
    "    print('가장 많이 사용되는 단어 Top 20: ', most_common_words[:20])\n",
    "    \n",
    "    word_to_index = {\n",
    "        '<PAD>': 0,\n",
    "        '<BOS>': 1,\n",
    "        '<UNK>': 2,\n",
    "        '<UNUSED>': 3\n",
    "    }\n",
    "    for index, word in enumerate(most_common_words, start=4):\n",
    "        word_to_index[word] = index\n",
    "    print('가장 많이 사용하는 단어 ', len(word_to_index), '개를 추출하였습니다')\n",
    "    \n",
    "    return word_to_index    "
   ]
  },
  {
   "cell_type": "code",
   "execution_count": 491,
   "metadata": {},
   "outputs": [],
   "source": [
    "def load_data(raw_train_data, raw_test_data, num_words=None):\n",
    "    '''\n",
    "    raw_train_data : 훈련에 사용될 데이터 원본, DataFrame\n",
    "    raw_test_data  : 테스트에 사용될 데이터 원본, DataFrame\n",
    "    num_words      : 사용할 단어 수, 가장 자주 사용되는 순으로 센다\n",
    "    '''\n",
    "    print('데이터 불러오기 시작')\n",
    "    train_data = raw_train_data.drop_duplicates(subset='document').dropna()\n",
    "    test_data = raw_test_data.drop_duplicates(subset='document').dropna()\n",
    "    \n",
    "    train_sentences = train_data['document']\n",
    "    test_sentences = test_data['document']\n",
    "    print('파일 열기 성공')\n",
    "    \n",
    "    print('인덱스 생성 시작')\n",
    "    word_to_index = get_word_to_index(train_sentences, num_words=num_words)\n",
    "    print('인덱스 생성 성공')\n",
    "    \n",
    "    print('문장 데이터 인코딩 시작')\n",
    "    encoded_train_sentences = encode_sentences(train_sentences, word_to_index)\n",
    "    encoded_test_sentences = encode_sentences(test_sentences, word_to_index)\n",
    "    print('문장 데이터 인코딩 성공')\n",
    "    \n",
    "    return encoded_train_sentences, train_data['label'], encoded_test_sentences, test_data['label'], word_to_index\n",
    "    "
   ]
  },
  {
   "cell_type": "markdown",
   "metadata": {},
   "source": [
    "# 처리할 문장 길이를 찾는 함수"
   ]
  },
  {
   "cell_type": "code",
   "execution_count": 492,
   "metadata": {},
   "outputs": [],
   "source": [
    "def find_max_len(encoded_sentences):\n",
    "    '''\n",
    "    sentences : 처리할 문장 리스트, 문자열 리스트가 아닌 인코딩 된 [int]\n",
    "    \n",
    "    return    : 적절한 문장 길이\n",
    "    '''\n",
    "    lengths = numpy.array([len(sentence) for sentence in encoded_sentences])\n",
    "    print('단어 수 평균 : ', numpy.mean(lengths))\n",
    "    print('단어 수 최대 : ', numpy.max(lengths))\n",
    "    print('단어 수 표준편차 : ', numpy.std(lengths))\n",
    "    return int(numpy.mean(lengths) + 2 * numpy.std(lengths))"
   ]
  },
  {
   "cell_type": "markdown",
   "metadata": {},
   "source": [
    "# 임베딩 모델생성 함수"
   ]
  },
  {
   "cell_type": "code",
   "execution_count": 493,
   "metadata": {},
   "outputs": [],
   "source": [
    "def get_normal_embedding_model(vocab_size):\n",
    "    '''\n",
    "    임베딩 초기화가 없는 경우 모델\n",
    "    '''\n",
    "    print('임베딩 초가화가 없는 모델입니다')\n",
    "    word_dim = int(math.log2(vocab_size)) + 1\n",
    "    model = keras.Sequential()\n",
    "    model.add(keras.layers.Embedding(vocab_size, word_dim, input_shape=(None,)))\n",
    "    return model\n",
    "\n",
    "def get_initialized_embedding_model(vocab_size, embeddings_initializer, input_length):\n",
    "    '''\n",
    "    임베딩 초기화가 있는 경우 모델\n",
    "    '''\n",
    "    print('임베딩 초가화가 있는 모델입니다')\n",
    "    word_dim = embeddings_initializer.shape[1]\n",
    "\n",
    "    model = keras.Sequential()\n",
    "    model.add(keras.layers.Embedding(vocab_size, \n",
    "                                 word_dim, \n",
    "                                 embeddings_initializer=Constant(embeddings_initializer),\n",
    "                                 input_length=input_length, \n",
    "                                 trainable=True))\n",
    "    return model"
   ]
  },
  {
   "cell_type": "markdown",
   "metadata": {},
   "source": [
    "# LSTM 모델 생성 함수"
   ]
  },
  {
   "cell_type": "code",
   "execution_count": 494,
   "metadata": {},
   "outputs": [],
   "source": [
    "def make_model_1(input_length, word_to_index, embeddings_initializer='uniform'):\n",
    "    vocab_size = len(word_to_index)\n",
    "    if isinstance(embeddings_initializer, str):\n",
    "        model = get_normal_embedding_model(vocab_size)\n",
    "    else:\n",
    "        model = get_initialized_embedding_model(vocab_size, embeddings_initializer, input_length)\n",
    "\n",
    "    model.add(keras.layers.LSTM(16))\n",
    "    model.add(keras.layers.Dense(16, activation='relu'))\n",
    "    model.add(keras.layers.Dense(4, activation='relu'))\n",
    "    model.add(keras.layers.Dense(1, activation='sigmoid'))\n",
    "    model.summary()\n",
    "\n",
    "    model.compile(optimizer='rmsprop',\n",
    "                  loss='binary_crossentropy',\n",
    "                  metrics=['accuracy'])\n",
    "    return model"
   ]
  },
  {
   "cell_type": "markdown",
   "metadata": {},
   "source": [
    "# Conv1D 모델 생성 함수"
   ]
  },
  {
   "cell_type": "code",
   "execution_count": 495,
   "metadata": {},
   "outputs": [],
   "source": [
    "def make_model_2(input_length, word_to_index, embeddings_initializer='uniform'):\n",
    "    vocab_size = len(word_to_index)\n",
    "    if isinstance(embeddings_initializer, str):\n",
    "        model = get_normal_embedding_model(vocab_size)\n",
    "    else:\n",
    "        model = get_initialized_embedding_model(vocab_size, embeddings_initializer, input_length)\n",
    "\n",
    "    model.add(keras.layers.Conv1D(16, 7, activation='relu'))\n",
    "    model.add(keras.layers.MaxPooling1D(5))\n",
    "    model.add(keras.layers.Conv1D(16, 7, activation='relu'))\n",
    "    model.add(keras.layers.GlobalMaxPooling1D())\n",
    "    model.add(keras.layers.Dense(8, activation='relu'))\n",
    "    model.add(keras.layers.Dense(1, activation='sigmoid'))\n",
    "    model.summary()\n",
    "    \n",
    "    model.compile(optimizer='rmsprop',\n",
    "                  loss='binary_crossentropy',\n",
    "                  metrics=['accuracy'])\n",
    "    return model"
   ]
  },
  {
   "cell_type": "markdown",
   "metadata": {},
   "source": [
    "# GlobalMaxPooling1D 모델 생성 함수"
   ]
  },
  {
   "cell_type": "code",
   "execution_count": 496,
   "metadata": {},
   "outputs": [],
   "source": [
    "def make_model_3(input_length, word_to_index, embeddings_initializer='uniform'):\n",
    "    vocab_size = len(word_to_index)\n",
    "    if isinstance(embeddings_initializer, str):\n",
    "        model = get_normal_embedding_model(vocab_size)\n",
    "    else:\n",
    "        model = get_initialized_embedding_model(vocab_size, embeddings_initializer, input_length)\n",
    "\n",
    "    model.add(keras.layers.GlobalMaxPooling1D())\n",
    "    model.add(keras.layers.Dense(8, activation='relu'))\n",
    "    model.add(keras.layers.Dense(1, activation='sigmoid'))\n",
    "    model.summary()\n",
    "    \n",
    "    \n",
    "    model.compile(optimizer='rmsprop',\n",
    "                  loss='binary_crossentropy',\n",
    "                  metrics=['accuracy'])\n",
    "    return model\n",
    "    "
   ]
  },
  {
   "cell_type": "markdown",
   "metadata": {},
   "source": [
    "# 학습, 테스트 결과 보여주는 함수"
   ]
  },
  {
   "cell_type": "code",
   "execution_count": 497,
   "metadata": {},
   "outputs": [],
   "source": [
    "def show_result(evaludate_result, history):\n",
    "    print('테스트 결과: ', evaluate_result)\n",
    "    loss = history['loss']\n",
    "    accuracy = history['accuracy']\n",
    "    val_loss = history['val_loss']\n",
    "    val_accuracy = history['val_accuracy']\n",
    "\n",
    "    epochs = range(1, len(accuracy) + 1)\n",
    "\n",
    "    pyplot.plot(epochs, loss, 'bo', label='Training loss')\n",
    "    pyplot.plot(epochs, val_loss, 'b', label='Validation loss')\n",
    "    pyplot.title('Training and validation loss')\n",
    "    pyplot.xlabel('Epochs')\n",
    "    pyplot.ylabel('Loss')\n",
    "    pyplot.legend()\n",
    "    pyplot.show()\n",
    "    \n",
    "    pyplot.clf()\n",
    "    pyplot.plot(epochs, accuracy, 'bo', label='Training acc')\n",
    "    pyplot.plot(epochs, val_accuracy, 'b', label='Validation acc')\n",
    "    pyplot.title('Training and validation accuracy')\n",
    "    pyplot.xlabel('Epochs')\n",
    "    pyplot.ylabel('Accuracy')\n",
    "    pyplot.legend()\n",
    "    pyplot.show()"
   ]
  },
  {
   "cell_type": "code",
   "execution_count": 498,
   "metadata": {},
   "outputs": [],
   "source": [
    "def show_embedding_layer(layer, word_to_index, example):\n",
    "    weights = layer.get_weights()[0]\n",
    "    vocab_size = weights.shape[0]\n",
    "    word_vector_dim =  weights.shape[1]\n",
    "    print('생성된 임베딩 레이어 shape: ', weights.shape)  \n",
    "    index_to_word = {index:word for index, word in enumerate(word_to_index)}\n",
    "    \n",
    "    word2vec_file_path = os.getenv('HOME')+'/aiffel/sentiment_classification/word2vec.txt'\n",
    "    f = open(word2vec_file_path, 'w')\n",
    "    f.write('{} {}\\n'.format(vocab_size-4, word_vector_dim))\n",
    "\n",
    "    for i in range(4, vocab_size):\n",
    "        f.write('{} {}\\n'.format(index_to_word[i], ' '.join(map(str, list(weights[i, :])))))\n",
    "    f.close()\n",
    "\n",
    "    word_vectors = Word2VecKeyedVectors.load_word2vec_format(word2vec_file_path, binary=False)\n",
    "    print(example, '와(과) 비슷한 항목들: ', word_vectors.similar_by_word(example))"
   ]
  },
  {
   "cell_type": "markdown",
   "metadata": {},
   "source": [
    "# 임베딩된 행렬 불러오기 함수"
   ]
  },
  {
   "cell_type": "code",
   "execution_count": 499,
   "metadata": {},
   "outputs": [],
   "source": [
    "def load_embeddings_initializer(word_to_index):\n",
    "    word2vec_path = os.getenv('HOME')+'/aiffel/sentiment_classification/ko.bin'\n",
    "    word2vec = Word2Vec.load(word2vec_path)\n",
    "    \n",
    "    count = 0\n",
    "    embedding_matrix = numpy.random.rand(len(word_to_index), word2vec.vector_size)\n",
    "    for word, index in word_to_index.items():\n",
    "        if word in word2vec.wv:\n",
    "            count = count + 1\n",
    "            embedding_matrix[index] = word2vec.wv[word]\n",
    "    print(count, '개 단어가 사전 임베딩에 추가 되었습니다')\n",
    "    return embedding_matrix\n",
    "\n"
   ]
  },
  {
   "cell_type": "markdown",
   "metadata": {},
   "source": [
    "# 메인"
   ]
  },
  {
   "cell_type": "markdown",
   "metadata": {},
   "source": [
    "데이터 준비"
   ]
  },
  {
   "cell_type": "code",
   "execution_count": 500,
   "metadata": {
    "scrolled": true
   },
   "outputs": [
    {
     "name": "stdout",
     "output_type": "stream",
     "text": [
      "데이터 불러오기 시작\n",
      "파일 열기 성공\n",
      "인덱스 생성 시작\n",
      "가장 많이 사용되는 단어 Top 20:  ['.', '이', '는', '영화', '다', '고', '하', '도', '의', '가', '은', '에', '을', '보', '한', '..', '게', ',', '들', '!']\n",
      "가장 많이 사용하는 단어  10004 개를 추출하였습니다\n",
      "인덱스 생성 성공\n",
      "문장 데이터 인코딩 시작\n",
      "문장 데이터 인코딩 성공\n",
      "단어 수 평균 :  19.722963668289488\n",
      "단어 수 최대 :  117\n",
      "단어 수 표준편차 :  15.329504488772837\n",
      "50\n"
     ]
    }
   ],
   "source": [
    "train_data = pandas.read_table('~/aiffel/sentiment_classification/ratings_train.txt')\n",
    "test_data = pandas.read_table('~/aiffel/sentiment_classification/ratings_test.txt')\n",
    "# train_data\n",
    "# test_data\n",
    "\n",
    "x_train, y_train, x_test, y_test, word_to_index = load_data(train_data, test_data, num_words=10000)\n",
    "\n",
    "max_len = find_max_len(x_train+x_test)\n",
    "print(max_len)\n",
    "\n",
    "\n",
    "# LSTM은 패딩을 pre로 설정\n",
    "x_train_lstm = keras.preprocessing.sequence.pad_sequences(x_train, value=word_to_index['<PAD>'], padding='pre', maxlen=max_len)\n",
    "x_test_lstm = keras.preprocessing.sequence.pad_sequences(x_test, value=word_to_index['<PAD>'], padding='pre', maxlen=max_len)\n",
    "\n",
    "# 다른 모델은 패딩을 post로 설정\n",
    "x_train = keras.preprocessing.sequence.pad_sequences(x_train, value=word_to_index['<PAD>'], padding='post', maxlen=max_len)\n",
    "x_test = keras.preprocessing.sequence.pad_sequences(x_test, value=word_to_index['<PAD>'], padding='post', maxlen=max_len)\n",
    "\n",
    "# 하이퍼파라미터 설정\n",
    "epochs=100\n",
    "num_val=30000\n"
   ]
  },
  {
   "cell_type": "markdown",
   "metadata": {},
   "source": [
    "## LSTM 모델"
   ]
  },
  {
   "cell_type": "markdown",
   "metadata": {},
   "source": [
    "모델 생성"
   ]
  },
  {
   "cell_type": "code",
   "execution_count": 501,
   "metadata": {
    "scrolled": false
   },
   "outputs": [
    {
     "name": "stdout",
     "output_type": "stream",
     "text": [
      "임베딩 초가화가 없는 모델입니다\n",
      "Model: \"sequential_65\"\n",
      "_________________________________________________________________\n",
      "Layer (type)                 Output Shape              Param #   \n",
      "=================================================================\n",
      "embedding_65 (Embedding)     (None, None, 14)          140056    \n",
      "_________________________________________________________________\n",
      "lstm_23 (LSTM)               (None, 16)                1984      \n",
      "_________________________________________________________________\n",
      "dense_140 (Dense)            (None, 16)                272       \n",
      "_________________________________________________________________\n",
      "dense_141 (Dense)            (None, 4)                 68        \n",
      "_________________________________________________________________\n",
      "dense_142 (Dense)            (None, 1)                 5         \n",
      "=================================================================\n",
      "Total params: 142,385\n",
      "Trainable params: 142,385\n",
      "Non-trainable params: 0\n",
      "_________________________________________________________________\n"
     ]
    }
   ],
   "source": [
    "model = make_model_1(x_train_lstm.shape[1], word_to_index)"
   ]
  },
  {
   "cell_type": "markdown",
   "metadata": {},
   "source": [
    "훈련 및 테스트"
   ]
  },
  {
   "cell_type": "code",
   "execution_count": 502,
   "metadata": {
    "scrolled": true
   },
   "outputs": [
    {
     "name": "stdout",
     "output_type": "stream",
     "text": [
      "Epoch 1/100\n",
      "227/227 [==============================] - 2s 8ms/step - loss: 0.5498 - accuracy: 0.7472 - val_loss: 0.4016 - val_accuracy: 0.8289\n",
      "Epoch 2/100\n",
      "227/227 [==============================] - 1s 6ms/step - loss: 0.3634 - accuracy: 0.8454 - val_loss: 0.3610 - val_accuracy: 0.8446\n",
      "Epoch 3/100\n",
      "227/227 [==============================] - 1s 6ms/step - loss: 0.3332 - accuracy: 0.8586 - val_loss: 0.3492 - val_accuracy: 0.8499\n",
      "Epoch 4/100\n",
      "227/227 [==============================] - 1s 6ms/step - loss: 0.3217 - accuracy: 0.8636 - val_loss: 0.3454 - val_accuracy: 0.8512\n",
      "Epoch 5/100\n",
      "227/227 [==============================] - 1s 6ms/step - loss: 0.3142 - accuracy: 0.8677 - val_loss: 0.3437 - val_accuracy: 0.8521\n",
      "Epoch 6/100\n",
      "227/227 [==============================] - 1s 6ms/step - loss: 0.3076 - accuracy: 0.8704 - val_loss: 0.3429 - val_accuracy: 0.8514\n",
      "Epoch 7/100\n",
      "227/227 [==============================] - 1s 6ms/step - loss: 0.3021 - accuracy: 0.8729 - val_loss: 0.3390 - val_accuracy: 0.8545\n",
      "Epoch 8/100\n",
      "227/227 [==============================] - 1s 6ms/step - loss: 0.2969 - accuracy: 0.8747 - val_loss: 0.3385 - val_accuracy: 0.8534\n",
      "Epoch 9/100\n",
      "227/227 [==============================] - 1s 6ms/step - loss: 0.2913 - accuracy: 0.8769 - val_loss: 0.3378 - val_accuracy: 0.8548\n",
      "Epoch 10/100\n",
      "227/227 [==============================] - 1s 6ms/step - loss: 0.2856 - accuracy: 0.8799 - val_loss: 0.3341 - val_accuracy: 0.8560\n",
      "Epoch 11/100\n",
      "227/227 [==============================] - 1s 6ms/step - loss: 0.2794 - accuracy: 0.8830 - val_loss: 0.3366 - val_accuracy: 0.8579\n",
      "Epoch 12/100\n",
      "227/227 [==============================] - 1s 6ms/step - loss: 0.2727 - accuracy: 0.8862 - val_loss: 0.3292 - val_accuracy: 0.8597\n",
      "Epoch 13/100\n",
      "227/227 [==============================] - 1s 6ms/step - loss: 0.2657 - accuracy: 0.8899 - val_loss: 0.3310 - val_accuracy: 0.8595\n",
      "Epoch 14/100\n",
      "227/227 [==============================] - 1s 6ms/step - loss: 0.2589 - accuracy: 0.8926 - val_loss: 0.3301 - val_accuracy: 0.8612\n",
      "Epoch 15/100\n",
      "227/227 [==============================] - 1s 6ms/step - loss: 0.2522 - accuracy: 0.8955 - val_loss: 0.3286 - val_accuracy: 0.8620\n",
      "Epoch 16/100\n",
      "227/227 [==============================] - 1s 6ms/step - loss: 0.2452 - accuracy: 0.8985 - val_loss: 0.3399 - val_accuracy: 0.8585\n",
      "Epoch 17/100\n",
      "227/227 [==============================] - 1s 6ms/step - loss: 0.2391 - accuracy: 0.9023 - val_loss: 0.3388 - val_accuracy: 0.8619\n",
      "Epoch 18/100\n",
      "227/227 [==============================] - 1s 6ms/step - loss: 0.2326 - accuracy: 0.9049 - val_loss: 0.3376 - val_accuracy: 0.8605\n",
      "Epoch 19/100\n",
      "227/227 [==============================] - 1s 6ms/step - loss: 0.2270 - accuracy: 0.9079 - val_loss: 0.3389 - val_accuracy: 0.8605\n",
      "Epoch 20/100\n",
      "227/227 [==============================] - 1s 6ms/step - loss: 0.2218 - accuracy: 0.9100 - val_loss: 0.3386 - val_accuracy: 0.8606\n",
      "Epoch 21/100\n",
      "227/227 [==============================] - 1s 6ms/step - loss: 0.2171 - accuracy: 0.9121 - val_loss: 0.3608 - val_accuracy: 0.8595\n",
      "Epoch 22/100\n",
      "227/227 [==============================] - 1s 6ms/step - loss: 0.2116 - accuracy: 0.9150 - val_loss: 0.3537 - val_accuracy: 0.8594\n",
      "Epoch 23/100\n",
      "227/227 [==============================] - 1s 6ms/step - loss: 0.2070 - accuracy: 0.9173 - val_loss: 0.3575 - val_accuracy: 0.8597\n",
      "Epoch 24/100\n",
      "227/227 [==============================] - 1s 6ms/step - loss: 0.2031 - accuracy: 0.9190 - val_loss: 0.3670 - val_accuracy: 0.8601\n",
      "Epoch 25/100\n",
      "227/227 [==============================] - 1s 6ms/step - loss: 0.1986 - accuracy: 0.9205 - val_loss: 0.3828 - val_accuracy: 0.8562\n",
      "1537/1537 - 3s - loss: 0.3363 - accuracy: 0.8581\n"
     ]
    }
   ],
   "source": [
    "early_stopping = EarlyStopping(patience=10, restore_best_weights=True)\n",
    "history = model.fit(x_train_lstm[:-num_val],\n",
    "                    y_train[:-num_val],\n",
    "                    epochs=epochs,\n",
    "                    batch_size=512,\n",
    "                    validation_data=(x_train_lstm[-num_val:], y_train[-num_val:]),\n",
    "                    verbose=1,\n",
    "                    callbacks=[early_stopping])\n",
    "evaluate_result = model.evaluate(x_test_lstm,  y_test, verbose=2)"
   ]
  },
  {
   "cell_type": "markdown",
   "metadata": {},
   "source": [
    "결과 보여주기"
   ]
  },
  {
   "cell_type": "code",
   "execution_count": 503,
   "metadata": {
    "scrolled": true
   },
   "outputs": [
    {
     "name": "stdout",
     "output_type": "stream",
     "text": [
      "테스트 결과:  [0.33627960085868835, 0.8581076860427856]\n"
     ]
    },
    {
     "data": {
      "image/png": "[encoded data removed]",
      "text/plain": [
       "<Figure size 432x288 with 1 Axes>"
      ]
     },
     "metadata": {
      "needs_background": "light"
     },
     "output_type": "display_data"
    },
    {
     "data": {
      "image/png": "[encoded data removed]",
      "text/plain": [
       "<Figure size 432x288 with 1 Axes>"
      ]
     },
     "metadata": {
      "needs_background": "light"
     },
     "output_type": "display_data"
    }
   ],
   "source": [
    "show_result(evaluate_result, history.history)"
   ]
  },
  {
   "cell_type": "code",
   "execution_count": 504,
   "metadata": {
    "scrolled": true
   },
   "outputs": [
    {
     "name": "stdout",
     "output_type": "stream",
     "text": [
      "생성된 임베딩 레이어 shape:  (10004, 14)\n",
      "영화 와(과) 비슷한 항목들:  [('~~', 0.9579397439956665), ('작렬', 0.9340403079986572), ('호소', 0.9262877106666565), ('꽁', 0.9254338145256042), ('덩어리', 0.9253154397010803), ('안겨', 0.9247336387634277), ('시킨', 0.9227634072303772), ('줘야', 0.9220930337905884), ('마구', 0.9215102195739746), ('싸', 0.9197086691856384)]\n"
     ]
    }
   ],
   "source": [
    "show_embedding_layer(model.layers[0], word_to_index, '영화')"
   ]
  },
  {
   "cell_type": "markdown",
   "metadata": {},
   "source": [
    "## Conv1D 모델"
   ]
  },
  {
   "cell_type": "markdown",
   "metadata": {},
   "source": [
    "모델 생성"
   ]
  },
  {
   "cell_type": "code",
   "execution_count": 505,
   "metadata": {
    "scrolled": true
   },
   "outputs": [
    {
     "name": "stdout",
     "output_type": "stream",
     "text": [
      "임베딩 초가화가 없는 모델입니다\n",
      "Model: \"sequential_66\"\n",
      "_________________________________________________________________\n",
      "Layer (type)                 Output Shape              Param #   \n",
      "=================================================================\n",
      "embedding_66 (Embedding)     (None, None, 14)          140056    \n",
      "_________________________________________________________________\n",
      "conv1d_42 (Conv1D)           (None, None, 16)          1584      \n",
      "_________________________________________________________________\n",
      "max_pooling1d_21 (MaxPooling (None, None, 16)          0         \n",
      "_________________________________________________________________\n",
      "conv1d_43 (Conv1D)           (None, None, 16)          1808      \n",
      "_________________________________________________________________\n",
      "global_max_pooling1d_42 (Glo (None, 16)                0         \n",
      "_________________________________________________________________\n",
      "dense_143 (Dense)            (None, 8)                 136       \n",
      "_________________________________________________________________\n",
      "dense_144 (Dense)            (None, 1)                 9         \n",
      "=================================================================\n",
      "Total params: 143,593\n",
      "Trainable params: 143,593\n",
      "Non-trainable params: 0\n",
      "_________________________________________________________________\n"
     ]
    }
   ],
   "source": [
    "model = make_model_2(x_train.shape[1], word_to_index)"
   ]
  },
  {
   "cell_type": "markdown",
   "metadata": {},
   "source": [
    "훈련 및 테스트"
   ]
  },
  {
   "cell_type": "code",
   "execution_count": 506,
   "metadata": {
    "scrolled": true
   },
   "outputs": [
    {
     "name": "stdout",
     "output_type": "stream",
     "text": [
      "Epoch 1/100\n",
      "227/227 [==============================] - 1s 5ms/step - loss: 0.4995 - accuracy: 0.7617 - val_loss: 0.3740 - val_accuracy: 0.8359\n",
      "Epoch 2/100\n",
      "227/227 [==============================] - 1s 5ms/step - loss: 0.3476 - accuracy: 0.8509 - val_loss: 0.3541 - val_accuracy: 0.8441\n",
      "Epoch 3/100\n",
      "227/227 [==============================] - 1s 6ms/step - loss: 0.3223 - accuracy: 0.8636 - val_loss: 0.3408 - val_accuracy: 0.8536\n",
      "Epoch 4/100\n",
      "227/227 [==============================] - 1s 5ms/step - loss: 0.3052 - accuracy: 0.8723 - val_loss: 0.3425 - val_accuracy: 0.8531\n",
      "Epoch 5/100\n",
      "227/227 [==============================] - 1s 5ms/step - loss: 0.2915 - accuracy: 0.8788 - val_loss: 0.3340 - val_accuracy: 0.8574\n",
      "Epoch 6/100\n",
      "227/227 [==============================] - 1s 5ms/step - loss: 0.2781 - accuracy: 0.8852 - val_loss: 0.3312 - val_accuracy: 0.8595\n",
      "Epoch 7/100\n",
      "227/227 [==============================] - 1s 5ms/step - loss: 0.2647 - accuracy: 0.8913 - val_loss: 0.3349 - val_accuracy: 0.8579\n",
      "Epoch 8/100\n",
      "227/227 [==============================] - 1s 5ms/step - loss: 0.2503 - accuracy: 0.8991 - val_loss: 0.3393 - val_accuracy: 0.8587\n",
      "Epoch 9/100\n",
      "227/227 [==============================] - 1s 5ms/step - loss: 0.2353 - accuracy: 0.9061 - val_loss: 0.3467 - val_accuracy: 0.8535\n",
      "Epoch 10/100\n",
      "227/227 [==============================] - 1s 5ms/step - loss: 0.2200 - accuracy: 0.9135 - val_loss: 0.3552 - val_accuracy: 0.8543\n",
      "Epoch 11/100\n",
      "227/227 [==============================] - 1s 5ms/step - loss: 0.2054 - accuracy: 0.9205 - val_loss: 0.3680 - val_accuracy: 0.8505\n",
      "Epoch 12/100\n",
      "227/227 [==============================] - 1s 5ms/step - loss: 0.1911 - accuracy: 0.9266 - val_loss: 0.3767 - val_accuracy: 0.8505\n",
      "Epoch 13/100\n",
      "227/227 [==============================] - 1s 5ms/step - loss: 0.1773 - accuracy: 0.9323 - val_loss: 0.3943 - val_accuracy: 0.8485\n",
      "Epoch 14/100\n",
      "227/227 [==============================] - 1s 5ms/step - loss: 0.1649 - accuracy: 0.9381 - val_loss: 0.4102 - val_accuracy: 0.8436\n",
      "Epoch 15/100\n",
      "227/227 [==============================] - 1s 5ms/step - loss: 0.1532 - accuracy: 0.9435 - val_loss: 0.4446 - val_accuracy: 0.8385\n",
      "Epoch 16/100\n",
      "227/227 [==============================] - 1s 6ms/step - loss: 0.1434 - accuracy: 0.9477 - val_loss: 0.4532 - val_accuracy: 0.8357\n",
      "1537/1537 - 2s - loss: 0.3385 - accuracy: 0.8561\n"
     ]
    }
   ],
   "source": [
    "early_stopping = EarlyStopping(patience=10, restore_best_weights=True)\n",
    "history = model.fit(x_train[:-num_val],\n",
    "                    y_train[:-num_val],\n",
    "                    epochs=epochs,\n",
    "                    batch_size=512,\n",
    "                    validation_data=(x_train[-num_val:], y_train[-num_val:]),\n",
    "                    verbose=1,\n",
    "                    callbacks=[early_stopping])\n",
    "evaluate_result = model.evaluate(x_test,  y_test, verbose=2)"
   ]
  },
  {
   "cell_type": "markdown",
   "metadata": {},
   "source": [
    "결과 보여주기"
   ]
  },
  {
   "cell_type": "code",
   "execution_count": 507,
   "metadata": {
    "scrolled": true
   },
   "outputs": [
    {
     "name": "stdout",
     "output_type": "stream",
     "text": [
      "테스트 결과:  [0.3384745717048645, 0.8561140894889832]\n"
     ]
    },
    {
     "data": {
      "image/png": "[encoded data removed]",
      "text/plain": [
       "<Figure size 432x288 with 1 Axes>"
      ]
     },
     "metadata": {
      "needs_background": "light"
     },
     "output_type": "display_data"
    },
    {
     "data": {
      "image/png": "[encoded data removed]",
      "text/plain": [
       "<Figure size 432x288 with 1 Axes>"
      ]
     },
     "metadata": {
      "needs_background": "light"
     },
     "output_type": "display_data"
    }
   ],
   "source": [
    "show_result(evaluate_result, history.history)"
   ]
  },
  {
   "cell_type": "code",
   "execution_count": 508,
   "metadata": {
    "scrolled": true
   },
   "outputs": [
    {
     "name": "stdout",
     "output_type": "stream",
     "text": [
      "생성된 임베딩 레이어 shape:  (10004, 14)\n",
      "영화 와(과) 비슷한 항목들:  [('지상파', 0.809547483921051), ('고현정', 0.7668324112892151), ('직업', 0.7387794256210327), ('닷', 0.724733829498291), ('빨리', 0.7229861617088318), ('페넬로페', 0.6976389288902283), ('끝내', 0.6965119242668152), ('월드', 0.6944001317024231), ('~~!!!', 0.6889480352401733), ('메인', 0.6880849003791809)]\n"
     ]
    }
   ],
   "source": [
    "show_embedding_layer(model.layers[0], word_to_index, '영화')"
   ]
  },
  {
   "cell_type": "markdown",
   "metadata": {},
   "source": [
    "## GlobalMaxPooling1D 모델"
   ]
  },
  {
   "cell_type": "markdown",
   "metadata": {},
   "source": [
    "모델 생성"
   ]
  },
  {
   "cell_type": "code",
   "execution_count": 509,
   "metadata": {
    "scrolled": true
   },
   "outputs": [
    {
     "name": "stdout",
     "output_type": "stream",
     "text": [
      "임베딩 초가화가 없는 모델입니다\n",
      "Model: \"sequential_67\"\n",
      "_________________________________________________________________\n",
      "Layer (type)                 Output Shape              Param #   \n",
      "=================================================================\n",
      "embedding_67 (Embedding)     (None, None, 14)          140056    \n",
      "_________________________________________________________________\n",
      "global_max_pooling1d_43 (Glo (None, 14)                0         \n",
      "_________________________________________________________________\n",
      "dense_145 (Dense)            (None, 8)                 120       \n",
      "_________________________________________________________________\n",
      "dense_146 (Dense)            (None, 1)                 9         \n",
      "=================================================================\n",
      "Total params: 140,185\n",
      "Trainable params: 140,185\n",
      "Non-trainable params: 0\n",
      "_________________________________________________________________\n"
     ]
    }
   ],
   "source": [
    "model = make_model_3(x_train.shape[1], word_to_index)"
   ]
  },
  {
   "cell_type": "markdown",
   "metadata": {},
   "source": [
    "훈련 및 테스트"
   ]
  },
  {
   "cell_type": "code",
   "execution_count": 510,
   "metadata": {},
   "outputs": [
    {
     "name": "stdout",
     "output_type": "stream",
     "text": [
      "Epoch 1/100\n",
      "227/227 [==============================] - 1s 4ms/step - loss: 0.6274 - accuracy: 0.7276 - val_loss: 0.5377 - val_accuracy: 0.8005\n",
      "Epoch 2/100\n",
      "227/227 [==============================] - 1s 4ms/step - loss: 0.4591 - accuracy: 0.8179 - val_loss: 0.4115 - val_accuracy: 0.8243\n",
      "Epoch 3/100\n",
      "227/227 [==============================] - 1s 4ms/step - loss: 0.3744 - accuracy: 0.8416 - val_loss: 0.3739 - val_accuracy: 0.8359\n",
      "Epoch 4/100\n",
      "227/227 [==============================] - 1s 4ms/step - loss: 0.3434 - accuracy: 0.8534 - val_loss: 0.3613 - val_accuracy: 0.8430\n",
      "Epoch 5/100\n",
      "227/227 [==============================] - 1s 4ms/step - loss: 0.3280 - accuracy: 0.8606 - val_loss: 0.3561 - val_accuracy: 0.8464\n",
      "Epoch 6/100\n",
      "227/227 [==============================] - 1s 4ms/step - loss: 0.3177 - accuracy: 0.8655 - val_loss: 0.3539 - val_accuracy: 0.8462\n",
      "Epoch 7/100\n",
      "227/227 [==============================] - 1s 4ms/step - loss: 0.3101 - accuracy: 0.8687 - val_loss: 0.3526 - val_accuracy: 0.8488\n",
      "Epoch 8/100\n",
      "227/227 [==============================] - 1s 5ms/step - loss: 0.3039 - accuracy: 0.8726 - val_loss: 0.3524 - val_accuracy: 0.8500\n",
      "Epoch 9/100\n",
      "227/227 [==============================] - 1s 4ms/step - loss: 0.2989 - accuracy: 0.8752 - val_loss: 0.3524 - val_accuracy: 0.8500\n",
      "Epoch 10/100\n",
      "227/227 [==============================] - 1s 4ms/step - loss: 0.2946 - accuracy: 0.8774 - val_loss: 0.3535 - val_accuracy: 0.8500\n",
      "Epoch 11/100\n",
      "227/227 [==============================] - 1s 4ms/step - loss: 0.2913 - accuracy: 0.8794 - val_loss: 0.3536 - val_accuracy: 0.8502\n",
      "Epoch 12/100\n",
      "227/227 [==============================] - 1s 4ms/step - loss: 0.2884 - accuracy: 0.8805 - val_loss: 0.3549 - val_accuracy: 0.8494\n",
      "Epoch 13/100\n",
      "227/227 [==============================] - 1s 4ms/step - loss: 0.2858 - accuracy: 0.8821 - val_loss: 0.3555 - val_accuracy: 0.8491\n",
      "Epoch 14/100\n",
      "227/227 [==============================] - 1s 4ms/step - loss: 0.2836 - accuracy: 0.8833 - val_loss: 0.3563 - val_accuracy: 0.8494\n",
      "Epoch 15/100\n",
      "227/227 [==============================] - 1s 4ms/step - loss: 0.2816 - accuracy: 0.8844 - val_loss: 0.3573 - val_accuracy: 0.8488\n",
      "Epoch 16/100\n",
      "227/227 [==============================] - 1s 4ms/step - loss: 0.2797 - accuracy: 0.8852 - val_loss: 0.3581 - val_accuracy: 0.8486\n",
      "Epoch 17/100\n",
      "227/227 [==============================] - 1s 4ms/step - loss: 0.2782 - accuracy: 0.8859 - val_loss: 0.3588 - val_accuracy: 0.8486\n",
      "Epoch 18/100\n",
      "227/227 [==============================] - 1s 4ms/step - loss: 0.2769 - accuracy: 0.8869 - val_loss: 0.3596 - val_accuracy: 0.8493\n",
      "1537/1537 - 1s - loss: 0.3609 - accuracy: 0.8445\n"
     ]
    }
   ],
   "source": [
    "early_stopping = EarlyStopping(patience=10, restore_best_weights=True)\n",
    "history = model.fit(x_train[:-num_val],\n",
    "                    y_train[:-num_val],\n",
    "                    epochs=epochs,\n",
    "                    batch_size=512,\n",
    "                    validation_data=(x_train[-num_val:], y_train[-num_val:]),\n",
    "                    verbose=1,\n",
    "                    callbacks=[early_stopping])\n",
    "evaluate_result = model.evaluate(x_test,  y_test, verbose=2)"
   ]
  },
  {
   "cell_type": "markdown",
   "metadata": {},
   "source": [
    "결과 보여주기"
   ]
  },
  {
   "cell_type": "code",
   "execution_count": 511,
   "metadata": {
    "scrolled": true
   },
   "outputs": [
    {
     "name": "stdout",
     "output_type": "stream",
     "text": [
      "테스트 결과:  [0.3608874976634979, 0.8444982171058655]\n"
     ]
    },
    {
     "data": {
      "image/png": "[encoded data removed]",
      "text/plain": [
       "<Figure size 432x288 with 1 Axes>"
      ]
     },
     "metadata": {
      "needs_background": "light"
     },
     "output_type": "display_data"
    },
    {
     "data": {
      "image/png": "[encoded data removed]",
      "text/plain": [
       "<Figure size 432x288 with 1 Axes>"
      ]
     },
     "metadata": {
      "needs_background": "light"
     },
     "output_type": "display_data"
    }
   ],
   "source": [
    "show_result(evaluate_result, history.history)"
   ]
  },
  {
   "cell_type": "code",
   "execution_count": 512,
   "metadata": {
    "scrolled": true
   },
   "outputs": [
    {
     "name": "stdout",
     "output_type": "stream",
     "text": [
      "생성된 임베딩 레이어 shape:  (10004, 14)\n",
      "영화 와(과) 비슷한 항목들:  [('본', 0.9996275901794434), ('였', 0.9993011951446533), ('아', 0.9980669021606445), ('여', 0.997321605682373), ('에', 0.9972458481788635), ('었', 0.9972337484359741), ('은', 0.9972079992294312), ('음', 0.9971817135810852), ('는데', 0.9966236352920532), ('느낌', 0.9963937997817993)]\n"
     ]
    }
   ],
   "source": [
    "show_embedding_layer(model.layers[0], word_to_index, '영화')"
   ]
  },
  {
   "cell_type": "markdown",
   "metadata": {},
   "source": [
    "## LSTM + pre embedding 모델"
   ]
  },
  {
   "cell_type": "markdown",
   "metadata": {},
   "source": [
    "모델 생성"
   ]
  },
  {
   "cell_type": "code",
   "execution_count": 513,
   "metadata": {
    "scrolled": true
   },
   "outputs": [
    {
     "name": "stdout",
     "output_type": "stream",
     "text": [
      "5818 개 단어가 사전 임베딩에 추가 되었습니다\n",
      "임베딩 초가화가 있는 모델입니다\n",
      "Model: \"sequential_68\"\n",
      "_________________________________________________________________\n",
      "Layer (type)                 Output Shape              Param #   \n",
      "=================================================================\n",
      "embedding_68 (Embedding)     (None, 50, 200)           2000800   \n",
      "_________________________________________________________________\n",
      "lstm_24 (LSTM)               (None, 16)                13888     \n",
      "_________________________________________________________________\n",
      "dense_147 (Dense)            (None, 16)                272       \n",
      "_________________________________________________________________\n",
      "dense_148 (Dense)            (None, 4)                 68        \n",
      "_________________________________________________________________\n",
      "dense_149 (Dense)            (None, 1)                 5         \n",
      "=================================================================\n",
      "Total params: 2,015,033\n",
      "Trainable params: 2,015,033\n",
      "Non-trainable params: 0\n",
      "_________________________________________________________________\n"
     ]
    }
   ],
   "source": [
    "embeddings_initializer = load_embeddings_initializer(word_to_index)\n",
    "model = make_model_1(x_train_lstm.shape[1], word_to_index, embeddings_initializer=embeddings_initializer)"
   ]
  },
  {
   "cell_type": "markdown",
   "metadata": {},
   "source": [
    "훈련 및 테스트"
   ]
  },
  {
   "cell_type": "code",
   "execution_count": 514,
   "metadata": {},
   "outputs": [
    {
     "name": "stdout",
     "output_type": "stream",
     "text": [
      "Epoch 1/100\n",
      "227/227 [==============================] - 5s 22ms/step - loss: 0.5187 - accuracy: 0.7394 - val_loss: 0.4304 - val_accuracy: 0.8033\n",
      "Epoch 2/100\n",
      "227/227 [==============================] - 5s 22ms/step - loss: 0.3843 - accuracy: 0.8307 - val_loss: 0.3679 - val_accuracy: 0.8386\n",
      "Epoch 3/100\n",
      "227/227 [==============================] - 5s 21ms/step - loss: 0.3413 - accuracy: 0.8535 - val_loss: 0.3538 - val_accuracy: 0.8461\n",
      "Epoch 4/100\n",
      "227/227 [==============================] - 5s 21ms/step - loss: 0.3168 - accuracy: 0.8659 - val_loss: 0.3410 - val_accuracy: 0.8521\n",
      "Epoch 5/100\n",
      "227/227 [==============================] - 5s 21ms/step - loss: 0.3003 - accuracy: 0.8744 - val_loss: 0.3423 - val_accuracy: 0.8527\n",
      "Epoch 6/100\n",
      "227/227 [==============================] - 5s 21ms/step - loss: 0.2877 - accuracy: 0.8801 - val_loss: 0.3295 - val_accuracy: 0.8617\n",
      "Epoch 7/100\n",
      "227/227 [==============================] - 5s 21ms/step - loss: 0.2772 - accuracy: 0.8847 - val_loss: 0.3353 - val_accuracy: 0.8569\n",
      "Epoch 8/100\n",
      "227/227 [==============================] - 5s 21ms/step - loss: 0.2673 - accuracy: 0.8901 - val_loss: 0.3310 - val_accuracy: 0.8588\n",
      "Epoch 9/100\n",
      "227/227 [==============================] - 5s 21ms/step - loss: 0.2584 - accuracy: 0.8944 - val_loss: 0.3270 - val_accuracy: 0.8625\n",
      "Epoch 10/100\n",
      "227/227 [==============================] - 5s 21ms/step - loss: 0.2500 - accuracy: 0.8983 - val_loss: 0.3316 - val_accuracy: 0.8624\n",
      "Epoch 11/100\n",
      "227/227 [==============================] - 5s 21ms/step - loss: 0.2415 - accuracy: 0.9024 - val_loss: 0.3368 - val_accuracy: 0.8622\n",
      "Epoch 12/100\n",
      "227/227 [==============================] - 5s 21ms/step - loss: 0.2343 - accuracy: 0.9056 - val_loss: 0.3358 - val_accuracy: 0.8642\n",
      "Epoch 13/100\n",
      "227/227 [==============================] - 5s 21ms/step - loss: 0.2272 - accuracy: 0.9089 - val_loss: 0.3366 - val_accuracy: 0.8624\n",
      "Epoch 14/100\n",
      "227/227 [==============================] - 5s 21ms/step - loss: 0.2191 - accuracy: 0.9125 - val_loss: 0.3363 - val_accuracy: 0.8633\n",
      "Epoch 15/100\n",
      "227/227 [==============================] - 5s 21ms/step - loss: 0.2116 - accuracy: 0.9160 - val_loss: 0.3397 - val_accuracy: 0.8626\n",
      "Epoch 16/100\n",
      "227/227 [==============================] - 5s 21ms/step - loss: 0.2049 - accuracy: 0.9193 - val_loss: 0.3524 - val_accuracy: 0.8570\n",
      "Epoch 17/100\n",
      "227/227 [==============================] - 5s 21ms/step - loss: 0.1973 - accuracy: 0.9228 - val_loss: 0.3471 - val_accuracy: 0.8622\n",
      "Epoch 18/100\n",
      "227/227 [==============================] - 5s 21ms/step - loss: 0.1905 - accuracy: 0.9257 - val_loss: 0.3729 - val_accuracy: 0.8533\n",
      "Epoch 19/100\n",
      "227/227 [==============================] - 5s 21ms/step - loss: 0.1840 - accuracy: 0.9287 - val_loss: 0.3782 - val_accuracy: 0.8575\n",
      "1537/1537 - 3s - loss: 0.3352 - accuracy: 0.8589\n"
     ]
    }
   ],
   "source": [
    "early_stopping = EarlyStopping(patience=10, restore_best_weights=True)\n",
    "history = model.fit(x_train_lstm[:-num_val],\n",
    "                    y_train[:-num_val],\n",
    "                    epochs=epochs,\n",
    "                    batch_size=512,\n",
    "                    validation_data=(x_train_lstm[-num_val:], y_train[-num_val:]),\n",
    "                    verbose=1,\n",
    "                    callbacks=[early_stopping])\n",
    "evaluate_result = model.evaluate(x_test_lstm,  y_test, verbose=2)"
   ]
  },
  {
   "cell_type": "markdown",
   "metadata": {},
   "source": [
    "결과 보여주기"
   ]
  },
  {
   "cell_type": "code",
   "execution_count": 515,
   "metadata": {
    "scrolled": true
   },
   "outputs": [
    {
     "name": "stdout",
     "output_type": "stream",
     "text": [
      "테스트 결과:  [0.33524012565612793, 0.8588807582855225]\n"
     ]
    },
    {
     "data": {
      "image/png": "[encoded data removed]",
      "text/plain": [
       "<Figure size 432x288 with 1 Axes>"
      ]
     },
     "metadata": {
      "needs_background": "light"
     },
     "output_type": "display_data"
    },
    {
     "data": {
      "image/png": "[encoded data removed]",
      "text/plain": [
       "<Figure size 432x288 with 1 Axes>"
      ]
     },
     "metadata": {
      "needs_background": "light"
     },
     "output_type": "display_data"
    }
   ],
   "source": [
    "show_result(evaluate_result, history.history)"
   ]
  },
  {
   "cell_type": "code",
   "execution_count": 516,
   "metadata": {
    "scrolled": true
   },
   "outputs": [
    {
     "name": "stdout",
     "output_type": "stream",
     "text": [
      "생성된 임베딩 레이어 shape:  (10004, 200)\n",
      "영화 와(과) 비슷한 항목들:  [('다큐멘터리', 0.7275925874710083), ('영화사', 0.7146768569946289), ('드라마', 0.7022181749343872), ('뮤지컬', 0.7007280588150024), ('코미디', 0.6962125897407532), ('영화인', 0.6659983396530151), ('스릴러', 0.6512220501899719), ('애니메이션', 0.6440232396125793), ('시트콤', 0.6372201442718506), ('로맨스', 0.6345106959342957)]\n"
     ]
    }
   ],
   "source": [
    "show_embedding_layer(model.layers[0], word_to_index, '영화')"
   ]
  },
  {
   "cell_type": "markdown",
   "metadata": {},
   "source": [
    "# Conv1D + pre embedding 모델"
   ]
  },
  {
   "cell_type": "markdown",
   "metadata": {},
   "source": [
    "모델 생성"
   ]
  },
  {
   "cell_type": "code",
   "execution_count": 517,
   "metadata": {
    "scrolled": true
   },
   "outputs": [
    {
     "name": "stdout",
     "output_type": "stream",
     "text": [
      "5818 개 단어가 사전 임베딩에 추가 되었습니다\n",
      "임베딩 초가화가 있는 모델입니다\n",
      "Model: \"sequential_69\"\n",
      "_________________________________________________________________\n",
      "Layer (type)                 Output Shape              Param #   \n",
      "=================================================================\n",
      "embedding_69 (Embedding)     (None, 50, 200)           2000800   \n",
      "_________________________________________________________________\n",
      "conv1d_44 (Conv1D)           (None, 44, 16)            22416     \n",
      "_________________________________________________________________\n",
      "max_pooling1d_22 (MaxPooling (None, 8, 16)             0         \n",
      "_________________________________________________________________\n",
      "conv1d_45 (Conv1D)           (None, 2, 16)             1808      \n",
      "_________________________________________________________________\n",
      "global_max_pooling1d_44 (Glo (None, 16)                0         \n",
      "_________________________________________________________________\n",
      "dense_150 (Dense)            (None, 8)                 136       \n",
      "_________________________________________________________________\n",
      "dense_151 (Dense)            (None, 1)                 9         \n",
      "=================================================================\n",
      "Total params: 2,025,169\n",
      "Trainable params: 2,025,169\n",
      "Non-trainable params: 0\n",
      "_________________________________________________________________\n"
     ]
    }
   ],
   "source": [
    "embeddings_initializer = load_embeddings_initializer(word_to_index)\n",
    "model = make_model_2(x_train.shape[1], word_to_index, embeddings_initializer=embeddings_initializer)"
   ]
  },
  {
   "cell_type": "markdown",
   "metadata": {},
   "source": [
    "훈련 및 테스트"
   ]
  },
  {
   "cell_type": "code",
   "execution_count": 518,
   "metadata": {
    "scrolled": true
   },
   "outputs": [
    {
     "name": "stdout",
     "output_type": "stream",
     "text": [
      "Epoch 1/100\n",
      "227/227 [==============================] - 5s 21ms/step - loss: 0.5811 - accuracy: 0.6846 - val_loss: 0.4844 - val_accuracy: 0.7650\n",
      "Epoch 2/100\n",
      "227/227 [==============================] - 5s 21ms/step - loss: 0.4367 - accuracy: 0.7985 - val_loss: 0.4082 - val_accuracy: 0.8130\n",
      "Epoch 3/100\n",
      "227/227 [==============================] - 5s 21ms/step - loss: 0.3709 - accuracy: 0.8356 - val_loss: 0.3824 - val_accuracy: 0.8287\n",
      "Epoch 4/100\n",
      "227/227 [==============================] - 5s 21ms/step - loss: 0.3335 - accuracy: 0.8548 - val_loss: 0.3882 - val_accuracy: 0.8277\n",
      "Epoch 5/100\n",
      "227/227 [==============================] - 5s 21ms/step - loss: 0.3093 - accuracy: 0.8681 - val_loss: 0.3533 - val_accuracy: 0.8469\n",
      "Epoch 6/100\n",
      "227/227 [==============================] - 5s 21ms/step - loss: 0.2900 - accuracy: 0.8777 - val_loss: 0.3571 - val_accuracy: 0.8455\n",
      "Epoch 7/100\n",
      "227/227 [==============================] - 5s 21ms/step - loss: 0.2745 - accuracy: 0.8849 - val_loss: 0.3524 - val_accuracy: 0.8503\n",
      "Epoch 8/100\n",
      "227/227 [==============================] - 5s 21ms/step - loss: 0.2606 - accuracy: 0.8930 - val_loss: 0.3612 - val_accuracy: 0.8481\n",
      "Epoch 9/100\n",
      "227/227 [==============================] - 5s 21ms/step - loss: 0.2484 - accuracy: 0.8973 - val_loss: 0.3675 - val_accuracy: 0.8465\n",
      "Epoch 10/100\n",
      "227/227 [==============================] - 5s 21ms/step - loss: 0.2360 - accuracy: 0.9037 - val_loss: 0.3565 - val_accuracy: 0.8521\n",
      "Epoch 11/100\n",
      "227/227 [==============================] - 5s 21ms/step - loss: 0.2240 - accuracy: 0.9092 - val_loss: 0.3984 - val_accuracy: 0.8390\n",
      "Epoch 12/100\n",
      "227/227 [==============================] - 5s 21ms/step - loss: 0.2136 - accuracy: 0.9146 - val_loss: 0.3970 - val_accuracy: 0.8413\n",
      "Epoch 13/100\n",
      "227/227 [==============================] - 5s 21ms/step - loss: 0.2028 - accuracy: 0.9192 - val_loss: 0.4023 - val_accuracy: 0.8480\n",
      "Epoch 14/100\n",
      "227/227 [==============================] - 5s 21ms/step - loss: 0.1930 - accuracy: 0.9238 - val_loss: 0.3954 - val_accuracy: 0.8498\n",
      "Epoch 15/100\n",
      "227/227 [==============================] - 5s 21ms/step - loss: 0.1806 - accuracy: 0.9293 - val_loss: 0.4212 - val_accuracy: 0.8460\n",
      "Epoch 16/100\n",
      "227/227 [==============================] - 5s 22ms/step - loss: 0.1714 - accuracy: 0.9336 - val_loss: 0.4261 - val_accuracy: 0.8480\n",
      "Epoch 17/100\n",
      "227/227 [==============================] - 5s 21ms/step - loss: 0.1613 - accuracy: 0.9384 - val_loss: 0.4708 - val_accuracy: 0.8431\n",
      "1537/1537 - 2s - loss: 0.3515 - accuracy: 0.8495\n"
     ]
    }
   ],
   "source": [
    "early_stopping = EarlyStopping(patience=10, restore_best_weights=True)\n",
    "history = model.fit(x_train[:-num_val],\n",
    "                    y_train[:-num_val],\n",
    "                    epochs=epochs,\n",
    "                    batch_size=512,\n",
    "                    validation_data=(x_train[-num_val:], y_train[-num_val:]),\n",
    "                    verbose=1,\n",
    "                    callbacks=[early_stopping])\n",
    "evaluate_result = model.evaluate(x_test,  y_test, verbose=2)"
   ]
  },
  {
   "cell_type": "markdown",
   "metadata": {},
   "source": [
    "결과 보여주기"
   ]
  },
  {
   "cell_type": "code",
   "execution_count": 519,
   "metadata": {
    "scrolled": true
   },
   "outputs": [
    {
     "name": "stdout",
     "output_type": "stream",
     "text": [
      "테스트 결과:  [0.3515225648880005, 0.8495432734489441]\n"
     ]
    },
    {
     "data": {
      "image/png": "[encoded data removed]",
      "text/plain": [
       "<Figure size 432x288 with 1 Axes>"
      ]
     },
     "metadata": {
      "needs_background": "light"
     },
     "output_type": "display_data"
    },
    {
     "data": {
      "image/png": "[encoded data removed]",
      "text/plain": [
       "<Figure size 432x288 with 1 Axes>"
      ]
     },
     "metadata": {
      "needs_background": "light"
     },
     "output_type": "display_data"
    }
   ],
   "source": [
    "show_result(evaluate_result, history.history)"
   ]
  },
  {
   "cell_type": "code",
   "execution_count": 520,
   "metadata": {
    "scrolled": true
   },
   "outputs": [
    {
     "name": "stdout",
     "output_type": "stream",
     "text": [
      "생성된 임베딩 레이어 shape:  (10004, 200)\n",
      "영화 와(과) 비슷한 항목들:  [('다큐멘터리', 0.7258369326591492), ('영화사', 0.7134283781051636), ('드라마', 0.7063372135162354), ('뮤지컬', 0.689577579498291), ('코미디', 0.6874529719352722), ('영화인', 0.670408308506012), ('스릴러', 0.6665253639221191), ('애니메이션', 0.6450049877166748), ('로맨스', 0.6384615898132324), ('서부극', 0.6367977261543274)]\n"
     ]
    }
   ],
   "source": [
    "show_embedding_layer(model.layers[0], word_to_index, '영화')"
   ]
  },
  {
   "cell_type": "markdown",
   "metadata": {},
   "source": [
    "## GlobalMaxPooling1D + pre embedding 모델"
   ]
  },
  {
   "cell_type": "markdown",
   "metadata": {},
   "source": [
    "모델 생성"
   ]
  },
  {
   "cell_type": "code",
   "execution_count": 521,
   "metadata": {
    "scrolled": true
   },
   "outputs": [
    {
     "name": "stdout",
     "output_type": "stream",
     "text": [
      "5818 개 단어가 사전 임베딩에 추가 되었습니다\n",
      "임베딩 초가화가 있는 모델입니다\n",
      "Model: \"sequential_70\"\n",
      "_________________________________________________________________\n",
      "Layer (type)                 Output Shape              Param #   \n",
      "=================================================================\n",
      "embedding_70 (Embedding)     (None, 50, 200)           2000800   \n",
      "_________________________________________________________________\n",
      "global_max_pooling1d_45 (Glo (None, 200)               0         \n",
      "_________________________________________________________________\n",
      "dense_152 (Dense)            (None, 8)                 1608      \n",
      "_________________________________________________________________\n",
      "dense_153 (Dense)            (None, 1)                 9         \n",
      "=================================================================\n",
      "Total params: 2,002,417\n",
      "Trainable params: 2,002,417\n",
      "Non-trainable params: 0\n",
      "_________________________________________________________________\n"
     ]
    }
   ],
   "source": [
    "embeddings_initializer = load_embeddings_initializer(word_to_index)\n",
    "model = make_model_3(x_train.shape[1], word_to_index, embeddings_initializer=embeddings_initializer)"
   ]
  },
  {
   "cell_type": "markdown",
   "metadata": {},
   "source": [
    "훈련 및 테스트"
   ]
  },
  {
   "cell_type": "code",
   "execution_count": 522,
   "metadata": {},
   "outputs": [
    {
     "name": "stdout",
     "output_type": "stream",
     "text": [
      "Epoch 1/100\n",
      "227/227 [==============================] - 4s 19ms/step - loss: 0.6521 - accuracy: 0.6165 - val_loss: 0.6134 - val_accuracy: 0.6616\n",
      "Epoch 2/100\n",
      "227/227 [==============================] - 4s 19ms/step - loss: 0.5715 - accuracy: 0.7040 - val_loss: 0.5511 - val_accuracy: 0.7178\n",
      "Epoch 3/100\n",
      "227/227 [==============================] - 4s 19ms/step - loss: 0.5277 - accuracy: 0.7381 - val_loss: 0.5385 - val_accuracy: 0.7228\n",
      "Epoch 4/100\n",
      "227/227 [==============================] - 4s 19ms/step - loss: 0.4972 - accuracy: 0.7591 - val_loss: 0.4945 - val_accuracy: 0.7611\n",
      "Epoch 5/100\n",
      "227/227 [==============================] - 4s 19ms/step - loss: 0.4735 - accuracy: 0.7746 - val_loss: 0.4725 - val_accuracy: 0.7736\n",
      "Epoch 6/100\n",
      "227/227 [==============================] - 4s 19ms/step - loss: 0.4549 - accuracy: 0.7861 - val_loss: 0.4648 - val_accuracy: 0.7779\n",
      "Epoch 7/100\n",
      "227/227 [==============================] - 4s 19ms/step - loss: 0.4389 - accuracy: 0.7950 - val_loss: 0.4574 - val_accuracy: 0.7810\n",
      "Epoch 8/100\n",
      "227/227 [==============================] - 4s 19ms/step - loss: 0.4255 - accuracy: 0.8034 - val_loss: 0.4538 - val_accuracy: 0.7889\n",
      "Epoch 9/100\n",
      "227/227 [==============================] - 4s 19ms/step - loss: 0.4155 - accuracy: 0.8100 - val_loss: 0.4395 - val_accuracy: 0.7937\n",
      "Epoch 10/100\n",
      "227/227 [==============================] - 4s 19ms/step - loss: 0.4049 - accuracy: 0.8157 - val_loss: 0.4459 - val_accuracy: 0.7884\n",
      "Epoch 11/100\n",
      "227/227 [==============================] - 4s 19ms/step - loss: 0.3954 - accuracy: 0.8213 - val_loss: 0.4403 - val_accuracy: 0.7919\n",
      "Epoch 12/100\n",
      "227/227 [==============================] - 4s 19ms/step - loss: 0.3870 - accuracy: 0.8263 - val_loss: 0.4142 - val_accuracy: 0.8134\n",
      "Epoch 13/100\n",
      "227/227 [==============================] - 4s 19ms/step - loss: 0.3799 - accuracy: 0.8300 - val_loss: 0.4082 - val_accuracy: 0.8151\n",
      "Epoch 14/100\n",
      "227/227 [==============================] - 4s 19ms/step - loss: 0.3722 - accuracy: 0.8353 - val_loss: 0.4062 - val_accuracy: 0.8177\n",
      "Epoch 15/100\n",
      "227/227 [==============================] - 4s 19ms/step - loss: 0.3667 - accuracy: 0.8382 - val_loss: 0.4000 - val_accuracy: 0.8205\n",
      "Epoch 16/100\n",
      "227/227 [==============================] - 4s 19ms/step - loss: 0.3601 - accuracy: 0.8416 - val_loss: 0.3987 - val_accuracy: 0.8212\n",
      "Epoch 17/100\n",
      "227/227 [==============================] - 4s 19ms/step - loss: 0.3546 - accuracy: 0.8459 - val_loss: 0.4046 - val_accuracy: 0.8190\n",
      "Epoch 18/100\n",
      "227/227 [==============================] - 4s 19ms/step - loss: 0.3494 - accuracy: 0.8488 - val_loss: 0.4024 - val_accuracy: 0.8199\n",
      "Epoch 19/100\n",
      "227/227 [==============================] - 4s 19ms/step - loss: 0.3443 - accuracy: 0.8506 - val_loss: 0.3912 - val_accuracy: 0.8265\n",
      "Epoch 20/100\n",
      "227/227 [==============================] - 4s 19ms/step - loss: 0.3395 - accuracy: 0.8531 - val_loss: 0.4002 - val_accuracy: 0.8210\n",
      "Epoch 21/100\n",
      "227/227 [==============================] - 4s 19ms/step - loss: 0.3356 - accuracy: 0.8562 - val_loss: 0.4075 - val_accuracy: 0.8183\n",
      "Epoch 22/100\n",
      "227/227 [==============================] - 4s 19ms/step - loss: 0.3304 - accuracy: 0.8583 - val_loss: 0.3870 - val_accuracy: 0.8295\n",
      "Epoch 23/100\n",
      "227/227 [==============================] - 4s 19ms/step - loss: 0.3268 - accuracy: 0.8607 - val_loss: 0.3977 - val_accuracy: 0.8244\n",
      "Epoch 24/100\n",
      "227/227 [==============================] - 4s 19ms/step - loss: 0.3233 - accuracy: 0.8626 - val_loss: 0.3967 - val_accuracy: 0.8229\n",
      "Epoch 25/100\n",
      "227/227 [==============================] - 4s 19ms/step - loss: 0.3194 - accuracy: 0.8645 - val_loss: 0.3802 - val_accuracy: 0.8344\n",
      "Epoch 26/100\n",
      "227/227 [==============================] - 4s 19ms/step - loss: 0.3161 - accuracy: 0.8665 - val_loss: 0.3809 - val_accuracy: 0.8337\n",
      "Epoch 27/100\n",
      "227/227 [==============================] - 4s 19ms/step - loss: 0.3121 - accuracy: 0.8682 - val_loss: 0.3798 - val_accuracy: 0.8349\n",
      "Epoch 28/100\n",
      "227/227 [==============================] - 4s 19ms/step - loss: 0.3092 - accuracy: 0.8706 - val_loss: 0.3785 - val_accuracy: 0.8352\n",
      "Epoch 29/100\n",
      "227/227 [==============================] - 4s 19ms/step - loss: 0.3060 - accuracy: 0.8717 - val_loss: 0.3773 - val_accuracy: 0.8362\n",
      "Epoch 30/100\n",
      "227/227 [==============================] - 4s 19ms/step - loss: 0.3027 - accuracy: 0.8738 - val_loss: 0.4083 - val_accuracy: 0.8181\n",
      "Epoch 31/100\n",
      "227/227 [==============================] - 4s 19ms/step - loss: 0.2992 - accuracy: 0.8756 - val_loss: 0.3799 - val_accuracy: 0.8363\n",
      "Epoch 32/100\n",
      "227/227 [==============================] - 4s 19ms/step - loss: 0.2966 - accuracy: 0.8768 - val_loss: 0.3751 - val_accuracy: 0.8394\n",
      "Epoch 33/100\n",
      "227/227 [==============================] - 4s 19ms/step - loss: 0.2931 - accuracy: 0.8780 - val_loss: 0.3923 - val_accuracy: 0.8295\n",
      "Epoch 34/100\n",
      "227/227 [==============================] - 4s 19ms/step - loss: 0.2909 - accuracy: 0.8794 - val_loss: 0.3797 - val_accuracy: 0.8374\n",
      "Epoch 35/100\n",
      "227/227 [==============================] - 4s 19ms/step - loss: 0.2882 - accuracy: 0.8812 - val_loss: 0.3906 - val_accuracy: 0.8300\n",
      "Epoch 36/100\n",
      "227/227 [==============================] - 4s 19ms/step - loss: 0.2855 - accuracy: 0.8824 - val_loss: 0.3927 - val_accuracy: 0.8338\n",
      "Epoch 37/100\n",
      "227/227 [==============================] - 4s 19ms/step - loss: 0.2830 - accuracy: 0.8835 - val_loss: 0.3801 - val_accuracy: 0.8389\n",
      "Epoch 38/100\n",
      "227/227 [==============================] - 4s 19ms/step - loss: 0.2806 - accuracy: 0.8845 - val_loss: 0.3778 - val_accuracy: 0.8397\n",
      "Epoch 39/100\n",
      "227/227 [==============================] - 4s 19ms/step - loss: 0.2780 - accuracy: 0.8863 - val_loss: 0.3811 - val_accuracy: 0.8383\n",
      "Epoch 40/100\n",
      "227/227 [==============================] - 4s 19ms/step - loss: 0.2753 - accuracy: 0.8871 - val_loss: 0.3777 - val_accuracy: 0.8390\n",
      "Epoch 41/100\n",
      "227/227 [==============================] - 4s 19ms/step - loss: 0.2728 - accuracy: 0.8881 - val_loss: 0.3835 - val_accuracy: 0.8372\n",
      "Epoch 42/100\n",
      "227/227 [==============================] - 4s 19ms/step - loss: 0.2707 - accuracy: 0.8896 - val_loss: 0.3779 - val_accuracy: 0.8410\n",
      "1537/1537 - 2s - loss: 0.3827 - accuracy: 0.8320\n"
     ]
    }
   ],
   "source": [
    "early_stopping = EarlyStopping(patience=10, restore_best_weights=True)\n",
    "history = model.fit(x_train[:-num_val],\n",
    "                    y_train[:-num_val],\n",
    "                    epochs=epochs,\n",
    "                    batch_size=512,\n",
    "                    validation_data=(x_train[-num_val:], y_train[-num_val:]),\n",
    "                    verbose=1,\n",
    "                    callbacks=[early_stopping])\n",
    "evaluate_result = model.evaluate(x_test,  y_test, verbose=2)"
   ]
  },
  {
   "cell_type": "markdown",
   "metadata": {},
   "source": [
    "결과 보여주기"
   ]
  },
  {
   "cell_type": "code",
   "execution_count": 523,
   "metadata": {
    "scrolled": false
   },
   "outputs": [
    {
     "name": "stdout",
     "output_type": "stream",
     "text": [
      "테스트 결과:  [0.38268157839775085, 0.8319669365882874]\n"
     ]
    },
    {
     "data": {
      "image/png": "[encoded data removed]",
      "text/plain": [
       "<Figure size 432x288 with 1 Axes>"
      ]
     },
     "metadata": {
      "needs_background": "light"
     },
     "output_type": "display_data"
    },
    {
     "data": {
      "image/png": "[encoded data removed]",
      "text/plain": [
       "<Figure size 432x288 with 1 Axes>"
      ]
     },
     "metadata": {
      "needs_background": "light"
     },
     "output_type": "display_data"
    }
   ],
   "source": [
    "show_result(evaluate_result, history.history)"
   ]
  },
  {
   "cell_type": "code",
   "execution_count": 524,
   "metadata": {
    "scrolled": false
   },
   "outputs": [
    {
     "name": "stdout",
     "output_type": "stream",
     "text": [
      "생성된 임베딩 레이어 shape:  (10004, 200)\n",
      "영화 와(과) 비슷한 항목들:  [('영화사', 0.724784255027771), ('다큐멘터리', 0.7052638530731201), ('코미디', 0.6919506788253784), ('드라마', 0.6827943325042725), ('뮤지컬', 0.6710318326950073), ('영화인', 0.6530396938323975), ('로맨스', 0.6436070203781128), ('스릴러', 0.6432133913040161), ('서부극', 0.6423659324645996), ('애니메이션', 0.6420172452926636)]\n"
     ]
    }
   ],
   "source": [
    "show_embedding_layer(model.layers[0], word_to_index, '영화')"
   ]
  },
  {
   "cell_type": "markdown",
   "metadata": {},
   "source": [
    "---"
   ]
  },
  {
   "cell_type": "markdown",
   "metadata": {},
   "source": [
    "# 결론"
   ]
  },
  {
   "cell_type": "markdown",
   "metadata": {},
   "source": [
    "임베딩 초기화로는 lms에 소개된 https://github.com/Kyubyong/wordvectors 를 사용하였다.   "
   ]
  },
  {
   "cell_type": "markdown",
   "metadata": {},
   "source": [
    "전반적으로 82~85% 정도의 정확도를 보이는데, 여러 방법을 도입해봐도 큰 차이는 나타나지 않았다.   \n",
    "주목해야 할 점은 word2vec을 임베딩 초기화 값으로 사용하여도 큰 영향을 보이지 않는다는 점이다.   \n",
    "학습후 임베딩 레이어에서 '영화'와 비슷한 값들을 뽑아보면 word2vec을 사용한 모델에서는 거의 동일한 항목이 출력되고, 사용하지 않은 모델에서는 전혀 다른 항목이 출력된다.   \n",
    "즉, 학습 과정에서 word2vec에 영향이 없다는 말고 같고, 이유는 아래와 같을 것으로 예상한다."
   ]
  },
  {
   "cell_type": "markdown",
   "metadata": {},
   "source": [
    "댓글에서 문장을 단어로 나누는 작업에서 mecab을 사용하였으나, 기존 word2vec에서는 kkma를 사용하였다.   \n",
    "mecab과 kkma는 단어를 구분하는 기준이 약간 달라 같은 문장이라도 다른 단어들로 나뉘는 문제가 있다.   \n",
    "실제로 word_to_index에서 word2vec의 값을 사용하는 단어 수를 세어보면 전체의 절반 이하가 된다.    \n",
    "이를 보완하기 위해 kkma를 사용하려고 시도하였으나 kkma는 jvm을 사용하고 사용량이 많아지면 java heap size가 가득차는 문제가 발생하여 실패하였다."
   ]
  },
  {
   "cell_type": "markdown",
   "metadata": {},
   "source": [
    "word2vec를 제작한 소스를 보면 한국어 위키피디아를 사용하고 있는데, 위키피디아에서 사용되는 언어와 영화 댓글에 사용되는 언어는 서로 다르다고 볼 수 있다.   \n",
    "'영화'와 비슷한 값을 관찰해보면, word2vec를 사용한 모델에서는 영화를 설명하기 위한 단어들이 많이 나오지만, word2vec을 사용하지 않은 모델에서는 문장 부호 등이 등장한다.   \n",
    "또 댓글에서 사용되는 문장 부호나 자음만 있는 문자의 역할도 달라지는데, 주관적 느낌을 전달하기 위한 문장 부호나 이모티콘등이 있고, 그 중요도가 높기 때문이다."
   ]
  },
  {
   "cell_type": "markdown",
   "metadata": {},
   "source": [
    "더 높은 정확도를 보이기 위한 방안으로는   \n",
    "1. 동일한 단어 구분 방법을 사용   \n",
    "2. 댓글로 제작한 word2vec 제작     \n",
    "\n",
    "등이 있을 것으로 예상된다."
   ]
  }
 ],
 "metadata": {
  "kernelspec": {
   "display_name": "aiffel",
   "language": "python",
   "name": "aiffel"
  },
  "language_info": {
   "codemirror_mode": {
    "name": "ipython",
    "version": 3
   },
   "file_extension": ".py",
   "mimetype": "text/x-python",
   "name": "python",
   "nbconvert_exporter": "python",
   "pygments_lexer": "ipython3",
   "version": "3.7.9"
  }
 },
 "nbformat": 4,
 "nbformat_minor": 4
}

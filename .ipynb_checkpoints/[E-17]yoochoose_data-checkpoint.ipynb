{
 "cells": [
  {
   "cell_type": "markdown",
   "metadata": {},
   "source": [
    "# 시작"
   ]
  },
  {
   "cell_type": "code",
   "execution_count": 1,
   "metadata": {},
   "outputs": [],
   "source": [
    "import os\n",
    "import pandas as pd\n",
    "import numpy as np\n",
    "import matplotlib.pyplot as plt\n",
    "\n",
    "import tensorflow as tf\n",
    "from tensorflow.keras.layers import Input, Dense, Dropout, GRU\n",
    "from tensorflow.keras.losses import categorical_crossentropy\n",
    "from tensorflow.keras.models import Model\n",
    "from tensorflow.keras.optimizers import Adam\n",
    "from tensorflow.keras.utils import to_categorical\n",
    "from tqdm import tqdm"
   ]
  },
  {
   "cell_type": "markdown",
   "metadata": {},
   "source": [
    "# 데이터 불러오기 & 전처리"
   ]
  },
  {
   "cell_type": "code",
   "execution_count": 2,
   "metadata": {},
   "outputs": [],
   "source": [
    "def load_data():\n",
    "    path = os.getenv('HOME') + '/aiffel/yoochoose-data/ml-1m/ratings.dat'\n",
    "    data = pd.read_csv(path, sep='::',\n",
    "                       header=None, \n",
    "                       usecols=[0,1,2,3], \n",
    "                       dtype={0: np.int32, 1: np.int32, 2: np.int32}, \n",
    "                       engine='python')\n",
    "    data.columns = ['UserId', 'ItemId', 'Rating', 'Time']\n",
    "    print('데이터를 불러왔습니다: {}'.format(len(data)))\n",
    "    print(data.head())\n",
    "    return data\n",
    "\n",
    "\n",
    "def describe_data(data):\n",
    "    print('UserId 갯수: {}'.format(data['UserId'].nunique()))\n",
    "    print('ItemId 갯수: {}'.format(data['ItemId'].nunique()))\n",
    "    print('')\n",
    "    user_data_size = data.groupby('UserId').size()\n",
    "    print('UserId 당 데이터 수: {} ~ {}'.format(user_data_size.min(), user_data_size.max()))\n",
    "    plt.boxplot(user_data_size)\n",
    "    plt.show()\n",
    "    print('')\n",
    "    time_data = data.groupby('Time')['Rating'].count()\n",
    "    print('Time 기간: {} ~ {}'.format(data['Time'].min(), data['Time'].max()))\n",
    "    print('각 시간당 평균 {}개'.format(time_data.mean()))\n",
    "    \n",
    "    \n",
    "def refine_data(data):\n",
    "    rating = 3\n",
    "    data = data[data['Rating']>=rating]\n",
    "    print('평점 {}미만의 데이터를 삭제했습니다'.format(rating))\n",
    "    print('남은 데이터: {}'.format(len(data)))\n",
    "    data = data.sort_values(['UserId', 'Time'])\n",
    "    return data\n",
    "    \n",
    "    \n",
    "def split_data(data):\n",
    "    total_start_time = data['Time'].min()\n",
    "    total_last_time = data['Time'].max()\n",
    "    total_duration = total_last_time - total_start_time\n",
    "    user_last_time = data.groupby('UserId')['Time'].max()\n",
    "\n",
    "    time_train_val = total_last_time - (0.2 * total_duration)\n",
    "    time_val_test = total_last_time - (0.05 * total_duration)\n",
    "    \n",
    "    user_in_train = user_last_time[user_last_time<time_train_val].index\n",
    "    user_in_val = user_last_time[(user_last_time>=time_train_val)&(user_last_time<time_val_test)].index\n",
    "    user_in_test = user_last_time[user_last_time>=time_val_test].index\n",
    "    \n",
    "    train = data[data['UserId'].isin(user_in_train)]\n",
    "    val = data[data['UserId'].isin(user_in_val)]\n",
    "    test = data[data['UserId'].isin(user_in_test)]\n",
    "    \n",
    "    print('데이터를 나눴습니다')\n",
    "    print('Train: {}'.format(len(train)))\n",
    "    print('Valid: {}'.format(len(val)))\n",
    "    print('Test : {}'.format(len(test)))\n",
    "    \n",
    "    id2idx = {item_id : index for index, item_id in enumerate(train['ItemId'].unique())}\n",
    "    train['item_idx'] = train['ItemId'].map(lambda x: id2idx.get(x, -1))\n",
    "    val['item_idx'] = val['ItemId'].map(lambda x: id2idx.get(x, -1))\n",
    "    test['item_idx'] = test['ItemId'].map(lambda x: id2idx.get(x, -1))\n",
    "    \n",
    "    return train, val, test"
   ]
  },
  {
   "cell_type": "code",
   "execution_count": 3,
   "metadata": {},
   "outputs": [],
   "source": [
    "class UserDataset:\n",
    "    def __init__(self, data):\n",
    "        self.df = data\n",
    "        self.rating_offsets = self.get_rating_offsets()\n",
    "        self.user_idx = np.arange(self.df['UserId'].nunique())\n",
    "\n",
    "    def get_rating_offsets(self):\n",
    "        offsets = np.zeros(self.df['UserId'].nunique() + 1, dtype=np.int32)\n",
    "        offsets[1:] = self.df.groupby('UserId').size().cumsum()\n",
    "        return offsets\n",
    "    \n",
    "    \n",
    "class UserDataLoader:\n",
    "    def __init__(self, dataset: UserDataset, batch_size):\n",
    "        self.dataset = dataset\n",
    "        self.batch_size = batch_size\n",
    "        \n",
    "    def __iter__(self):\n",
    "\n",
    "        start, end, mask, last_user, finished = self.initialize()\n",
    "        \n",
    "        while not finished:\n",
    "            min_len = (end - start).min() - 1\n",
    "            for i in range(min_len):\n",
    "                inp = self.dataset.df['item_idx'].values[start + i]\n",
    "                target = self.dataset.df['item_idx'].values[start + i + 1]\n",
    "                yield inp, target, mask\n",
    "\n",
    "            start, end, mask, last_user, finished = self.update_status(start, end, min_len, last_user, finished)\n",
    "\n",
    "    def initialize(self):\n",
    "        first_iters = np.arange(self.batch_size)\n",
    "        last_user = self.batch_size - 1\n",
    "        start = self.dataset.rating_offsets[self.dataset.user_idx[first_iters]]\n",
    "        end = self.dataset.rating_offsets[self.dataset.user_idx[first_iters] + 1]\n",
    "        mask = np.array([])\n",
    "        finished = False\n",
    "        return start, end, mask, last_user, finished\n",
    "\n",
    "    def update_status(self, start, end, min_len, last_user, finished):\n",
    "        start += min_len\n",
    "        mask = np.arange(self.batch_size)[(end - start) == 1]\n",
    "        \n",
    "        for i, idx in enumerate(mask, start=1):\n",
    "            new_user = last_user + i  \n",
    "            if new_user > self.dataset.user_idx[-1]: \n",
    "                finished = True\n",
    "                break\n",
    "            start[idx] = self.dataset.rating_offsets[self.dataset.user_idx[new_user]]\n",
    "            end[idx] = self.dataset.rating_offsets[self.dataset.user_idx[new_user] + 1]\n",
    "\n",
    "        last_user += len(mask)\n",
    "        return start, end, mask, last_user, finished"
   ]
  },
  {
   "cell_type": "markdown",
   "metadata": {},
   "source": [
    "# 모델 생성"
   ]
  },
  {
   "cell_type": "code",
   "execution_count": 4,
   "metadata": {},
   "outputs": [],
   "source": [
    "def mrr_k(pred, truth: int, k: int):\n",
    "    ranks = np.where(pred[:k] == truth)[0]\n",
    "    if len(ranks) > 0:\n",
    "        return 1 / (ranks[0] + 1)\n",
    "    else:\n",
    "        return 0\n",
    "\n",
    "\n",
    "def recall_k(pred, truth: int, k: int) -> int:\n",
    "    answer = truth in pred[:k]\n",
    "    return int(answer)\n",
    "\n",
    "\n",
    "def create_model(args):\n",
    "    inputs = Input(batch_shape=(args.batch_size, 1, args.num_items))\n",
    "    gru, _ = GRU(args.hidden_size, stateful=True, return_state=True, name='GRU')(inputs)\n",
    "    dropout = Dropout(args.dropout)(gru)\n",
    "    outputs = Dense(args.num_items, activation='softmax')(dropout)\n",
    "    model = Model(inputs=inputs, outputs=outputs)\n",
    "    model.compile(loss=categorical_crossentropy, optimizer=Adam(args.lr), metrics=['accuracy'])\n",
    "    model.summary()\n",
    "    return model"
   ]
  },
  {
   "cell_type": "markdown",
   "metadata": {},
   "source": [
    "# 모델 훈련"
   ]
  },
  {
   "cell_type": "code",
   "execution_count": 5,
   "metadata": {},
   "outputs": [],
   "source": [
    "class Args:\n",
    "    def __init__(self, train, val, test, batch_size, hidden_size, dropout, lr, epochs, k):\n",
    "        self.train = train\n",
    "        self.val = val\n",
    "        self.test = test\n",
    "        self.num_items = train['ItemId'].nunique()\n",
    "        self.num_sessions = train['UserId'].nunique()\n",
    "        self.batch_size = batch_size\n",
    "        self.hidden_size = hidden_size\n",
    "        self.dropout = dropout\n",
    "        self.lr = lr\n",
    "        self.epochs = epochs\n",
    "        self.k = k"
   ]
  },
  {
   "cell_type": "code",
   "execution_count": 6,
   "metadata": {},
   "outputs": [],
   "source": [
    "def train_model(model, args):\n",
    "    dataset = UserDataset(args.train)\n",
    "    loader = UserDataLoader(dataset, args.batch_size)\n",
    "\n",
    "    for epoch in range(1, args.epochs + 1):\n",
    "        total_step = len(args.train) - args.train['UserId'].nunique()\n",
    "        loader_tqdm = tqdm(loader, total=total_step//args.batch_size, desc='Train', mininterval=1)\n",
    "        for inputs, target, mask in loader_tqdm:\n",
    "            reset_hidden_states(model, mask)  # 종료된 session은 hidden_state를 초기화합니다. 아래 메서드에서 확인해주세요.\n",
    "\n",
    "            enc_inputs = to_categorical(inputs, num_classes=args.num_items)\n",
    "            enc_inputs = np.expand_dims(enc_inputs, axis=1)\n",
    "            enc_target = to_categorical(target, num_classes=args.num_items)\n",
    "\n",
    "            result = model.train_on_batch(enc_inputs, enc_target)\n",
    "            loader_tqdm.set_postfix(train_loss=result[0], accuracy = result[1])\n",
    "\n",
    "        val_recall, val_mrr = get_metrics(args.val, model, args, args.k)  # valid set에 대해 검증합니다.\n",
    "\n",
    "        print(f\"\\t - Recall@{args.k} epoch {epoch}: {val_recall:3f}\")\n",
    "        print(f\"\\t - MRR@{args.k}    epoch {epoch}: {val_mrr:3f}\\n\")\n",
    "\n",
    "\n",
    "def reset_hidden_states(model, mask):\n",
    "    layer = model.get_layer(name='GRU')\n",
    "    hidden_states = layer.states[0].numpy()\n",
    "    for elt in mask:\n",
    "        hidden_states[elt, :] = 0\n",
    "    layer.reset_states(states=hidden_states)\n",
    "\n",
    "\n",
    "def get_metrics(data, model, args, k): \n",
    "    dataset = UserDataset(data)\n",
    "    loader = UserDataLoader(dataset, args.batch_size)\n",
    "    recall_list, mrr_list = [], []\n",
    "\n",
    "    total_step = len(data) - data['UserId'].nunique()\n",
    "    loader_tqdm = tqdm(loader, total=total_step//args.batch_size, desc='Evaluation', mininterval=1)\n",
    "    for inputs, target, mask in loader_tqdm:\n",
    "        reset_hidden_states(model, mask)\n",
    "        \n",
    "        enc_inputs = to_categorical(inputs, num_classes=args.num_items)\n",
    "        enc_inputs = np.expand_dims(enc_inputs, axis=1)\n",
    "\n",
    "        pred = model.predict(enc_inputs, batch_size=args.batch_size)\n",
    "        pred_arg = tf.argsort(pred, direction='DESCENDING')\n",
    "\n",
    "        length = len(inputs)\n",
    "        recall_list.extend([recall_k(pred_arg[i], target[i], k) for i in range(length)])\n",
    "        mrr_list.extend([mrr_k(pred_arg[i], target[i], k) for i in range(length)])\n",
    "\n",
    "    recall, mrr = np.mean(recall_list), np.mean(mrr_list)\n",
    "    return recall, mrr"
   ]
  },
  {
   "cell_type": "markdown",
   "metadata": {},
   "source": [
    "# 모델 시험"
   ]
  },
  {
   "cell_type": "code",
   "execution_count": 7,
   "metadata": {
    "scrolled": false
   },
   "outputs": [],
   "source": [
    "def test_model(model, args):\n",
    "    test_recall, test_mrr = get_metrics(args.test, model, args, args.k)\n",
    "    print(f\"\\t - Recall@{args.k}: {test_recall:3f}\")\n",
    "    print(f\"\\t - MRR@{args.k}: {test_mrr:3f}\\n\")\n",
    "    "
   ]
  },
  {
   "cell_type": "markdown",
   "metadata": {},
   "source": [
    "# 메인"
   ]
  },
  {
   "cell_type": "code",
   "execution_count": 8,
   "metadata": {
    "scrolled": true
   },
   "outputs": [
    {
     "name": "stdout",
     "output_type": "stream",
     "text": [
      "데이터를 불러왔습니다: 1000209\n",
      "   UserId  ItemId  Rating       Time\n",
      "0       1    1193       5  978300760\n",
      "1       1     661       3  978302109\n",
      "2       1     914       3  978301968\n",
      "3       1    3408       4  978300275\n",
      "4       1    2355       5  978824291\n"
     ]
    }
   ],
   "source": [
    "raw_data = load_data()"
   ]
  },
  {
   "cell_type": "code",
   "execution_count": 9,
   "metadata": {},
   "outputs": [
    {
     "name": "stdout",
     "output_type": "stream",
     "text": [
      "UserId 갯수: 6040\n",
      "ItemId 갯수: 3706\n",
      "\n",
      "UserId 당 데이터 수: 20 ~ 2314\n"
     ]
    },
    {
     "data": {
      "image/png": "[encoded data removed]",
      "text/plain": [
       "<Figure size 432x288 with 1 Axes>"
      ]
     },
     "metadata": {
      "needs_background": "light"
     },
     "output_type": "display_data"
    },
    {
     "name": "stdout",
     "output_type": "stream",
     "text": [
      "\n",
      "Time 기간: 956703932 ~ 1046454590\n",
      "각 시간당 평균 2.181695040952765개\n"
     ]
    }
   ],
   "source": [
    "describe_data(raw_data)"
   ]
  },
  {
   "cell_type": "code",
   "execution_count": 10,
   "metadata": {},
   "outputs": [
    {
     "name": "stdout",
     "output_type": "stream",
     "text": [
      "평점 3미만의 데이터를 삭제했습니다\n",
      "남은 데이터: 836478\n"
     ]
    }
   ],
   "source": [
    "data = refine_data(raw_data)"
   ]
  },
  {
   "cell_type": "code",
   "execution_count": 11,
   "metadata": {
    "scrolled": true
   },
   "outputs": [
    {
     "name": "stdout",
     "output_type": "stream",
     "text": [
      "UserId 갯수: 6039\n",
      "ItemId 갯수: 3628\n",
      "\n",
      "UserId 당 데이터 수: 1 ~ 1968\n"
     ]
    },
    {
     "data": {
      "image/png": "[encoded data removed]",
      "text/plain": [
       "<Figure size 432x288 with 1 Axes>"
      ]
     },
     "metadata": {
      "needs_background": "light"
     },
     "output_type": "display_data"
    },
    {
     "name": "stdout",
     "output_type": "stream",
     "text": [
      "\n",
      "Time 기간: 956703932 ~ 1046454590\n",
      "각 시간당 평균 2.0258070141023126개\n"
     ]
    }
   ],
   "source": [
    "describe_data(data)"
   ]
  },
  {
   "cell_type": "code",
   "execution_count": 12,
   "metadata": {
    "scrolled": false
   },
   "outputs": [
    {
     "name": "stdout",
     "output_type": "stream",
     "text": [
      "데이터를 나눴습니다\n",
      "Train: 718096\n",
      "Valid: 57752\n",
      "Test : 60630\n"
     ]
    },
    {
     "name": "stderr",
     "output_type": "stream",
     "text": [
      "/home/ssac5/anaconda3/envs/aiffel/lib/python3.7/site-packages/ipykernel_launcher.py:60: SettingWithCopyWarning: \n",
      "A value is trying to be set on a copy of a slice from a DataFrame.\n",
      "Try using .loc[row_indexer,col_indexer] = value instead\n",
      "\n",
      "See the caveats in the documentation: https://pandas.pydata.org/pandas-docs/stable/user_guide/indexing.html#returning-a-view-versus-a-copy\n",
      "/home/ssac5/anaconda3/envs/aiffel/lib/python3.7/site-packages/ipykernel_launcher.py:61: SettingWithCopyWarning: \n",
      "A value is trying to be set on a copy of a slice from a DataFrame.\n",
      "Try using .loc[row_indexer,col_indexer] = value instead\n",
      "\n",
      "See the caveats in the documentation: https://pandas.pydata.org/pandas-docs/stable/user_guide/indexing.html#returning-a-view-versus-a-copy\n",
      "/home/ssac5/anaconda3/envs/aiffel/lib/python3.7/site-packages/ipykernel_launcher.py:62: SettingWithCopyWarning: \n",
      "A value is trying to be set on a copy of a slice from a DataFrame.\n",
      "Try using .loc[row_indexer,col_indexer] = value instead\n",
      "\n",
      "See the caveats in the documentation: https://pandas.pydata.org/pandas-docs/stable/user_guide/indexing.html#returning-a-view-versus-a-copy\n"
     ]
    }
   ],
   "source": [
    "train, val, test = split_data(data)"
   ]
  },
  {
   "cell_type": "markdown",
   "metadata": {},
   "source": [
    "# 1번"
   ]
  },
  {
   "cell_type": "code",
   "execution_count": 13,
   "metadata": {},
   "outputs": [],
   "source": [
    "args = Args(train, val, test, batch_size=32, hidden_size=30, dropout=0.1, lr=0.001, epochs=5, k=20)"
   ]
  },
  {
   "cell_type": "code",
   "execution_count": 14,
   "metadata": {
    "scrolled": true
   },
   "outputs": [
    {
     "name": "stdout",
     "output_type": "stream",
     "text": [
      "Model: \"model\"\n",
      "_________________________________________________________________\n",
      "Layer (type)                 Output Shape              Param #   \n",
      "=================================================================\n",
      "input_1 (InputLayer)         [(32, 1, 3603)]           0         \n",
      "_________________________________________________________________\n",
      "GRU (GRU)                    [(32, 30), (32, 30)]      327150    \n",
      "_________________________________________________________________\n",
      "dropout (Dropout)            (32, 30)                  0         \n",
      "_________________________________________________________________\n",
      "dense (Dense)                (32, 3603)                111693    \n",
      "=================================================================\n",
      "Total params: 438,843\n",
      "Trainable params: 438,843\n",
      "Non-trainable params: 0\n",
      "_________________________________________________________________\n"
     ]
    }
   ],
   "source": [
    "model = create_model(args)"
   ]
  },
  {
   "cell_type": "code",
   "execution_count": 15,
   "metadata": {
    "scrolled": true
   },
   "outputs": [
    {
     "name": "stderr",
     "output_type": "stream",
     "text": [
      "Train:  99%|█████████▉| 22123/22262 [02:26<00:00, 150.86it/s, accuracy=0, train_loss=5.9]      \n",
      "Evaluation:  91%|█████████ | 1630/1798 [02:51<00:17,  9.53it/s]\n",
      "Train:   0%|          | 0/22262 [00:00<?, ?it/s, accuracy=0, train_loss=5.76]     "
     ]
    },
    {
     "name": "stdout",
     "output_type": "stream",
     "text": [
      "\t - Recall@20 epoch 1: 0.203451\n",
      "\t - MRR@20    epoch 1: 0.049472\n",
      "\n"
     ]
    },
    {
     "name": "stderr",
     "output_type": "stream",
     "text": [
      "Train:  99%|█████████▉| 22123/22262 [02:26<00:00, 151.15it/s, accuracy=0.0938, train_loss=5.49]\n",
      "Evaluation:  91%|█████████ | 1630/1798 [02:47<00:17,  9.72it/s]\n",
      "Train:   0%|          | 0/22262 [00:00<?, ?it/s, accuracy=0.0625, train_loss=5.97]"
     ]
    },
    {
     "name": "stdout",
     "output_type": "stream",
     "text": [
      "\t - Recall@20 epoch 2: 0.241871\n",
      "\t - MRR@20    epoch 2: 0.063220\n",
      "\n"
     ]
    },
    {
     "name": "stderr",
     "output_type": "stream",
     "text": [
      "Train:  99%|█████████▉| 22123/22262 [02:23<00:00, 154.69it/s, accuracy=0.0312, train_loss=5.47]\n",
      "Evaluation:  91%|█████████ | 1630/1798 [02:45<00:17,  9.83it/s]\n",
      "Train:   0%|          | 0/22262 [00:00<?, ?it/s, accuracy=0.0312, train_loss=5.91]"
     ]
    },
    {
     "name": "stdout",
     "output_type": "stream",
     "text": [
      "\t - Recall@20 epoch 3: 0.256308\n",
      "\t - MRR@20    epoch 3: 0.069621\n",
      "\n"
     ]
    },
    {
     "name": "stderr",
     "output_type": "stream",
     "text": [
      "Train:  99%|█████████▉| 22123/22262 [02:22<00:00, 155.59it/s, accuracy=0.0312, train_loss=5.28]\n",
      "Evaluation:  91%|█████████ | 1630/1798 [02:45<00:17,  9.88it/s]\n",
      "Train:   0%|          | 0/22262 [00:00<?, ?it/s, accuracy=0.0312, train_loss=5.33]"
     ]
    },
    {
     "name": "stdout",
     "output_type": "stream",
     "text": [
      "\t - Recall@20 epoch 4: 0.263478\n",
      "\t - MRR@20    epoch 4: 0.072681\n",
      "\n"
     ]
    },
    {
     "name": "stderr",
     "output_type": "stream",
     "text": [
      "Train:  99%|█████████▉| 22123/22262 [02:23<00:00, 154.58it/s, accuracy=0.0625, train_loss=5.2] \n",
      "Evaluation:  91%|█████████ | 1630/1798 [02:44<00:16,  9.89it/s]"
     ]
    },
    {
     "name": "stdout",
     "output_type": "stream",
     "text": [
      "\t - Recall@20 epoch 5: 0.266679\n",
      "\t - MRR@20    epoch 5: 0.074070\n",
      "\n"
     ]
    },
    {
     "name": "stderr",
     "output_type": "stream",
     "text": [
      "\n"
     ]
    }
   ],
   "source": [
    "train_model(model, args)"
   ]
  },
  {
   "cell_type": "code",
   "execution_count": 16,
   "metadata": {},
   "outputs": [
    {
     "name": "stderr",
     "output_type": "stream",
     "text": [
      "Evaluation:  83%|████████▎ | 1576/1889 [02:41<00:32,  9.77it/s]"
     ]
    },
    {
     "name": "stdout",
     "output_type": "stream",
     "text": [
      "\t - Recall@20: 0.235109\n",
      "\t - MRR@20: 0.066187\n",
      "\n"
     ]
    },
    {
     "name": "stderr",
     "output_type": "stream",
     "text": [
      "\n"
     ]
    }
   ],
   "source": [
    "test_model(model, args)"
   ]
  },
  {
   "cell_type": "markdown",
   "metadata": {},
   "source": [
    "# 2번"
   ]
  },
  {
   "cell_type": "code",
   "execution_count": 17,
   "metadata": {},
   "outputs": [],
   "source": [
    "args = Args(train, val, test, batch_size=128, hidden_size=30, dropout=0.1, lr=0.001, epochs=20, k=20)"
   ]
  },
  {
   "cell_type": "code",
   "execution_count": 18,
   "metadata": {
    "scrolled": true
   },
   "outputs": [
    {
     "name": "stdout",
     "output_type": "stream",
     "text": [
      "Model: \"model_1\"\n",
      "_________________________________________________________________\n",
      "Layer (type)                 Output Shape              Param #   \n",
      "=================================================================\n",
      "input_2 (InputLayer)         [(128, 1, 3603)]          0         \n",
      "_________________________________________________________________\n",
      "GRU (GRU)                    [(128, 30), (128, 30)]    327150    \n",
      "_________________________________________________________________\n",
      "dropout_1 (Dropout)          (128, 30)                 0         \n",
      "_________________________________________________________________\n",
      "dense_1 (Dense)              (128, 3603)               111693    \n",
      "=================================================================\n",
      "Total params: 438,843\n",
      "Trainable params: 438,843\n",
      "Non-trainable params: 0\n",
      "_________________________________________________________________\n"
     ]
    }
   ],
   "source": [
    "model = create_model(args)"
   ]
  },
  {
   "cell_type": "code",
   "execution_count": 19,
   "metadata": {
    "scrolled": true
   },
   "outputs": [
    {
     "name": "stderr",
     "output_type": "stream",
     "text": [
      "Train:  98%|█████████▊| 5433/5565 [00:48<00:01, 111.67it/s, accuracy=0.00781, train_loss=6.47]\n",
      "Evaluation:  48%|████▊     | 217/449 [01:22<01:28,  2.63it/s]\n",
      "Train:   0%|          | 0/5565 [00:00<?, ?it/s, accuracy=0, train_loss=6.47]      "
     ]
    },
    {
     "name": "stdout",
     "output_type": "stream",
     "text": [
      "\t - Recall@20 epoch 1: 0.155098\n",
      "\t - MRR@20    epoch 1: 0.035765\n",
      "\n"
     ]
    },
    {
     "name": "stderr",
     "output_type": "stream",
     "text": [
      "Train:  98%|█████████▊| 5433/5565 [00:47<00:01, 115.04it/s, accuracy=0.0234, train_loss=6.13] \n",
      "Evaluation:  48%|████▊     | 217/449 [01:18<01:23,  2.77it/s]\n",
      "Train:   0%|          | 0/5565 [00:00<?, ?it/s, accuracy=0.0391, train_loss=5.84] "
     ]
    },
    {
     "name": "stdout",
     "output_type": "stream",
     "text": [
      "\t - Recall@20 epoch 2: 0.243304\n",
      "\t - MRR@20    epoch 2: 0.060380\n",
      "\n"
     ]
    },
    {
     "name": "stderr",
     "output_type": "stream",
     "text": [
      "Train:  98%|█████████▊| 5433/5565 [00:47<00:01, 114.20it/s, accuracy=0.00781, train_loss=5.99]\n",
      "Evaluation:  48%|████▊     | 217/449 [01:16<01:21,  2.83it/s]\n",
      "Train:   0%|          | 0/5565 [00:00<?, ?it/s, accuracy=0.0469, train_loss=5.58] "
     ]
    },
    {
     "name": "stdout",
     "output_type": "stream",
     "text": [
      "\t - Recall@20 epoch 3: 0.278658\n",
      "\t - MRR@20    epoch 3: 0.071924\n",
      "\n"
     ]
    },
    {
     "name": "stderr",
     "output_type": "stream",
     "text": [
      "Train:  98%|█████████▊| 5433/5565 [00:47<00:01, 115.31it/s, accuracy=0.0234, train_loss=5.9]  \n",
      "Evaluation:  48%|████▊     | 217/449 [01:15<01:20,  2.89it/s]\n",
      "Train:   0%|          | 0/5565 [00:00<?, ?it/s, accuracy=0.0625, train_loss=5.6] "
     ]
    },
    {
     "name": "stdout",
     "output_type": "stream",
     "text": [
      "\t - Recall@20 epoch 4: 0.291403\n",
      "\t - MRR@20    epoch 4: 0.078080\n",
      "\n"
     ]
    },
    {
     "name": "stderr",
     "output_type": "stream",
     "text": [
      "Train:  98%|█████████▊| 5433/5565 [00:46<00:01, 117.79it/s, accuracy=0.0469, train_loss=5.84] \n",
      "Evaluation:  48%|████▊     | 217/449 [01:15<01:21,  2.86it/s]\n",
      "Train:   0%|          | 0/5565 [00:00<?, ?it/s, accuracy=0.0547, train_loss=5.5]  "
     ]
    },
    {
     "name": "stdout",
     "output_type": "stream",
     "text": [
      "\t - Recall@20 epoch 5: 0.301555\n",
      "\t - MRR@20    epoch 5: 0.082773\n",
      "\n"
     ]
    },
    {
     "name": "stderr",
     "output_type": "stream",
     "text": [
      "Train:  98%|█████████▊| 5433/5565 [00:47<00:01, 115.36it/s, accuracy=0.00781, train_loss=5.81]\n",
      "Evaluation:  48%|████▊     | 217/449 [01:14<01:19,  2.90it/s]\n",
      "Train:   0%|          | 0/5565 [00:00<?, ?it/s, accuracy=0.0391, train_loss=5.49]"
     ]
    },
    {
     "name": "stdout",
     "output_type": "stream",
     "text": [
      "\t - Recall@20 epoch 6: 0.307892\n",
      "\t - MRR@20    epoch 6: 0.086154\n",
      "\n"
     ]
    },
    {
     "name": "stderr",
     "output_type": "stream",
     "text": [
      "Train:  98%|█████████▊| 5433/5565 [00:47<00:01, 115.43it/s, accuracy=0.0312, train_loss=5.75] \n",
      "Evaluation:  48%|████▊     | 217/449 [01:14<01:19,  2.91it/s]\n",
      "Train:   0%|          | 0/5565 [00:00<?, ?it/s, accuracy=0.0234, train_loss=5.44]"
     ]
    },
    {
     "name": "stdout",
     "output_type": "stream",
     "text": [
      "\t - Recall@20 epoch 7: 0.311204\n",
      "\t - MRR@20    epoch 7: 0.088057\n",
      "\n"
     ]
    },
    {
     "name": "stderr",
     "output_type": "stream",
     "text": [
      "Train:  98%|█████████▊| 5433/5565 [00:47<00:01, 115.37it/s, accuracy=0.0156, train_loss=5.72] \n",
      "Evaluation:  48%|████▊     | 217/449 [01:13<01:18,  2.95it/s]\n",
      "Train:   0%|          | 0/5565 [00:00<?, ?it/s, accuracy=0.0391, train_loss=5.52] "
     ]
    },
    {
     "name": "stdout",
     "output_type": "stream",
     "text": [
      "\t - Recall@20 epoch 8: 0.314948\n",
      "\t - MRR@20    epoch 8: 0.089641\n",
      "\n"
     ]
    },
    {
     "name": "stderr",
     "output_type": "stream",
     "text": [
      "Train:  98%|█████████▊| 5433/5565 [00:47<00:01, 113.55it/s, accuracy=0.0156, train_loss=5.78] \n",
      "Evaluation:  48%|████▊     | 217/449 [01:14<01:19,  2.93it/s]\n",
      "Train:   0%|          | 0/5565 [00:00<?, ?it/s, accuracy=0.0469, train_loss=5.5] "
     ]
    },
    {
     "name": "stdout",
     "output_type": "stream",
     "text": [
      "\t - Recall@20 epoch 9: 0.317072\n",
      "\t - MRR@20    epoch 9: 0.091027\n",
      "\n"
     ]
    },
    {
     "name": "stderr",
     "output_type": "stream",
     "text": [
      "Train:  98%|█████████▊| 5433/5565 [00:47<00:01, 115.11it/s, accuracy=0.0391, train_loss=5.63] \n",
      "Evaluation:  48%|████▊     | 217/449 [01:13<01:19,  2.93it/s]\n",
      "Train:   0%|          | 0/5565 [00:00<?, ?it/s, accuracy=0.0391, train_loss=5.33] "
     ]
    },
    {
     "name": "stdout",
     "output_type": "stream",
     "text": [
      "\t - Recall@20 epoch 10: 0.318044\n",
      "\t - MRR@20    epoch 10: 0.091597\n",
      "\n"
     ]
    },
    {
     "name": "stderr",
     "output_type": "stream",
     "text": [
      "Train:  98%|█████████▊| 5433/5565 [00:46<00:01, 117.40it/s, accuracy=0.0391, train_loss=5.7]  \n",
      "Evaluation:  48%|████▊     | 217/449 [01:13<01:18,  2.94it/s]\n",
      "Train:   0%|          | 0/5565 [00:00<?, ?it/s, accuracy=0.0625, train_loss=5.4]  "
     ]
    },
    {
     "name": "stdout",
     "output_type": "stream",
     "text": [
      "\t - Recall@20 epoch 11: 0.317360\n",
      "\t - MRR@20    epoch 11: 0.091976\n",
      "\n"
     ]
    },
    {
     "name": "stderr",
     "output_type": "stream",
     "text": [
      "Train:  98%|█████████▊| 5433/5565 [00:47<00:01, 115.19it/s, accuracy=0.0625, train_loss=5.64] \n",
      "Evaluation:  48%|████▊     | 217/449 [01:13<01:18,  2.94it/s]\n",
      "Train:   0%|          | 0/5565 [00:00<?, ?it/s, accuracy=0.0312, train_loss=5.47] "
     ]
    },
    {
     "name": "stdout",
     "output_type": "stream",
     "text": [
      "\t - Recall@20 epoch 12: 0.318260\n",
      "\t - MRR@20    epoch 12: 0.092713\n",
      "\n"
     ]
    },
    {
     "name": "stderr",
     "output_type": "stream",
     "text": [
      "Train:  98%|█████████▊| 5433/5565 [00:48<00:01, 112.38it/s, accuracy=0.0312, train_loss=5.66] \n",
      "Evaluation:  48%|████▊     | 217/449 [01:13<01:18,  2.95it/s]\n",
      "Train:   0%|          | 0/5565 [00:00<?, ?it/s, accuracy=0.0938, train_loss=5.19] "
     ]
    },
    {
     "name": "stdout",
     "output_type": "stream",
     "text": [
      "\t - Recall@20 epoch 13: 0.319952\n",
      "\t - MRR@20    epoch 13: 0.093539\n",
      "\n"
     ]
    },
    {
     "name": "stderr",
     "output_type": "stream",
     "text": [
      "Train:  98%|█████████▊| 5433/5565 [00:46<00:01, 115.63it/s, accuracy=0.0312, train_loss=5.63] \n",
      "Evaluation:  48%|████▊     | 217/449 [01:14<01:19,  2.93it/s]\n",
      "Train:   0%|          | 0/5565 [00:00<?, ?it/s, accuracy=0.0547, train_loss=5.36] "
     ]
    },
    {
     "name": "stdout",
     "output_type": "stream",
     "text": [
      "\t - Recall@20 epoch 14: 0.319556\n",
      "\t - MRR@20    epoch 14: 0.093535\n",
      "\n"
     ]
    },
    {
     "name": "stderr",
     "output_type": "stream",
     "text": [
      "Train:  98%|█████████▊| 5433/5565 [00:48<00:01, 112.80it/s, accuracy=0.0312, train_loss=5.65] \n",
      "Evaluation:  48%|████▊     | 217/449 [01:14<01:19,  2.93it/s]\n",
      "Train:   0%|          | 0/5565 [00:00<?, ?it/s, accuracy=0.0469, train_loss=5.39] "
     ]
    },
    {
     "name": "stdout",
     "output_type": "stream",
     "text": [
      "\t - Recall@20 epoch 15: 0.320781\n",
      "\t - MRR@20    epoch 15: 0.094216\n",
      "\n"
     ]
    },
    {
     "name": "stderr",
     "output_type": "stream",
     "text": [
      "Train:  98%|█████████▊| 5433/5565 [00:48<00:01, 112.45it/s, accuracy=0.0625, train_loss=5.62] \n",
      "Evaluation:  48%|████▊     | 217/449 [01:14<01:19,  2.92it/s]\n",
      "Train:   0%|          | 0/5565 [00:00<?, ?it/s, accuracy=0.0547, train_loss=5.32] "
     ]
    },
    {
     "name": "stdout",
     "output_type": "stream",
     "text": [
      "\t - Recall@20 epoch 16: 0.320961\n",
      "\t - MRR@20    epoch 16: 0.094365\n",
      "\n"
     ]
    },
    {
     "name": "stderr",
     "output_type": "stream",
     "text": [
      "Train:  98%|█████████▊| 5433/5565 [00:48<00:01, 112.91it/s, accuracy=0.0391, train_loss=5.62] \n",
      "Evaluation:  48%|████▊     | 217/449 [01:14<01:19,  2.92it/s]\n",
      "Train:   0%|          | 0/5565 [00:00<?, ?it/s, accuracy=0.0391, train_loss=5.34] "
     ]
    },
    {
     "name": "stdout",
     "output_type": "stream",
     "text": [
      "\t - Recall@20 epoch 17: 0.320961\n",
      "\t - MRR@20    epoch 17: 0.094431\n",
      "\n"
     ]
    },
    {
     "name": "stderr",
     "output_type": "stream",
     "text": [
      "Train:  98%|█████████▊| 5433/5565 [00:48<00:01, 112.56it/s, accuracy=0.0391, train_loss=5.61] \n",
      "Evaluation:  48%|████▊     | 217/449 [01:14<01:19,  2.92it/s]\n",
      "Train:   0%|          | 0/5565 [00:00<?, ?it/s, accuracy=0.0625, train_loss=5.33] "
     ]
    },
    {
     "name": "stdout",
     "output_type": "stream",
     "text": [
      "\t - Recall@20 epoch 18: 0.320024\n",
      "\t - MRR@20    epoch 18: 0.094570\n",
      "\n"
     ]
    },
    {
     "name": "stderr",
     "output_type": "stream",
     "text": [
      "Train:  98%|█████████▊| 5433/5565 [00:48<00:01, 112.44it/s, accuracy=0.0469, train_loss=5.55] \n",
      "Evaluation:  48%|████▊     | 217/449 [01:14<01:19,  2.91it/s]\n",
      "Train:   0%|          | 0/5565 [00:00<?, ?it/s, accuracy=0.0703, train_loss=5.39]"
     ]
    },
    {
     "name": "stdout",
     "output_type": "stream",
     "text": [
      "\t - Recall@20 epoch 19: 0.321069\n",
      "\t - MRR@20    epoch 19: 0.094465\n",
      "\n"
     ]
    },
    {
     "name": "stderr",
     "output_type": "stream",
     "text": [
      "Train:  98%|█████████▊| 5433/5565 [00:48<00:01, 113.01it/s, accuracy=0.0234, train_loss=5.65] \n",
      "Evaluation:  48%|████▊     | 217/449 [01:12<01:17,  2.98it/s]"
     ]
    },
    {
     "name": "stdout",
     "output_type": "stream",
     "text": [
      "\t - Recall@20 epoch 20: 0.320817\n",
      "\t - MRR@20    epoch 20: 0.094995\n",
      "\n"
     ]
    },
    {
     "name": "stderr",
     "output_type": "stream",
     "text": [
      "\n"
     ]
    }
   ],
   "source": [
    "train_model(model, args)"
   ]
  },
  {
   "cell_type": "code",
   "execution_count": 20,
   "metadata": {},
   "outputs": [
    {
     "name": "stderr",
     "output_type": "stream",
     "text": [
      "Evaluation:  32%|███▏      | 153/472 [00:52<01:48,  2.93it/s]"
     ]
    },
    {
     "name": "stdout",
     "output_type": "stream",
     "text": [
      "\t - Recall@20: 0.308262\n",
      "\t - MRR@20: 0.091501\n",
      "\n"
     ]
    },
    {
     "name": "stderr",
     "output_type": "stream",
     "text": [
      "\n"
     ]
    }
   ],
   "source": [
    "test_model(model, args)"
   ]
  },
  {
   "cell_type": "markdown",
   "metadata": {},
   "source": [
    "# 3번"
   ]
  },
  {
   "cell_type": "code",
   "execution_count": 21,
   "metadata": {},
   "outputs": [],
   "source": [
    "args = Args(train, val, test, batch_size=128, hidden_size=20, dropout=0.1, lr=0.001, epochs=20, k=20)"
   ]
  },
  {
   "cell_type": "code",
   "execution_count": 22,
   "metadata": {
    "scrolled": true
   },
   "outputs": [
    {
     "name": "stdout",
     "output_type": "stream",
     "text": [
      "Model: \"model_2\"\n",
      "_________________________________________________________________\n",
      "Layer (type)                 Output Shape              Param #   \n",
      "=================================================================\n",
      "input_3 (InputLayer)         [(128, 1, 3603)]          0         \n",
      "_________________________________________________________________\n",
      "GRU (GRU)                    [(128, 20), (128, 20)]    217500    \n",
      "_________________________________________________________________\n",
      "dropout_2 (Dropout)          (128, 20)                 0         \n",
      "_________________________________________________________________\n",
      "dense_2 (Dense)              (128, 3603)               75663     \n",
      "=================================================================\n",
      "Total params: 293,163\n",
      "Trainable params: 293,163\n",
      "Non-trainable params: 0\n",
      "_________________________________________________________________\n"
     ]
    }
   ],
   "source": [
    "model = create_model(args)"
   ]
  },
  {
   "cell_type": "code",
   "execution_count": 23,
   "metadata": {
    "scrolled": true
   },
   "outputs": [
    {
     "name": "stderr",
     "output_type": "stream",
     "text": [
      "Train:  98%|█████████▊| 5433/5565 [00:47<00:01, 114.92it/s, accuracy=0, train_loss=6.82]      \n",
      "Evaluation:  48%|████▊     | 217/449 [01:23<01:29,  2.59it/s]\n",
      "Train:   0%|          | 0/5565 [00:00<?, ?it/s, accuracy=0.0156, train_loss=6.73] "
     ]
    },
    {
     "name": "stdout",
     "output_type": "stream",
     "text": [
      "\t - Recall@20 epoch 1: 0.109663\n",
      "\t - MRR@20    epoch 1: 0.025197\n",
      "\n"
     ]
    },
    {
     "name": "stderr",
     "output_type": "stream",
     "text": [
      "Train:  98%|█████████▊| 5433/5565 [00:46<00:01, 117.80it/s, accuracy=0.0312, train_loss=6.3]  \n",
      "Evaluation:  48%|████▊     | 217/449 [01:18<01:24,  2.76it/s]\n",
      "Train:   0%|          | 0/5565 [00:00<?, ?it/s, accuracy=0.0234, train_loss=6.14] "
     ]
    },
    {
     "name": "stdout",
     "output_type": "stream",
     "text": [
      "\t - Recall@20 epoch 2: 0.213998\n",
      "\t - MRR@20    epoch 2: 0.050905\n",
      "\n"
     ]
    },
    {
     "name": "stderr",
     "output_type": "stream",
     "text": [
      "Train:  98%|█████████▊| 5433/5565 [00:46<00:01, 116.16it/s, accuracy=0.0156, train_loss=6.19] \n",
      "Evaluation:  48%|████▊     | 217/449 [01:16<01:21,  2.83it/s]\n",
      "Train:   0%|          | 0/5565 [00:00<?, ?it/s, accuracy=0.0312, train_loss=5.89] "
     ]
    },
    {
     "name": "stdout",
     "output_type": "stream",
     "text": [
      "\t - Recall@20 epoch 3: 0.250144\n",
      "\t - MRR@20    epoch 3: 0.062015\n",
      "\n"
     ]
    },
    {
     "name": "stderr",
     "output_type": "stream",
     "text": [
      "Train:  98%|█████████▊| 5433/5565 [00:44<00:01, 120.76it/s, accuracy=0.00781, train_loss=6.08]\n",
      "Evaluation:  48%|████▊     | 217/449 [01:16<01:22,  2.82it/s]\n",
      "Train:   0%|          | 0/5565 [00:00<?, ?it/s, accuracy=0.0312, train_loss=5.64] "
     ]
    },
    {
     "name": "stdout",
     "output_type": "stream",
     "text": [
      "\t - Recall@20 epoch 4: 0.270269\n",
      "\t - MRR@20    epoch 4: 0.068214\n",
      "\n"
     ]
    },
    {
     "name": "stderr",
     "output_type": "stream",
     "text": [
      "Train:  98%|█████████▊| 5433/5565 [00:46<00:01, 118.05it/s, accuracy=0.00781, train_loss=5.96]\n",
      "Evaluation:  48%|████▊     | 217/449 [01:16<01:21,  2.84it/s]\n",
      "Train:   0%|          | 0/5565 [00:00<?, ?it/s, accuracy=0.0234, train_loss=5.58] "
     ]
    },
    {
     "name": "stdout",
     "output_type": "stream",
     "text": [
      "\t - Recall@20 epoch 5: 0.280242\n",
      "\t - MRR@20    epoch 5: 0.072231\n",
      "\n"
     ]
    },
    {
     "name": "stderr",
     "output_type": "stream",
     "text": [
      "Train:  98%|█████████▊| 5433/5565 [00:47<00:01, 114.78it/s, accuracy=0.00781, train_loss=5.93]\n",
      "Evaluation:  48%|████▊     | 217/449 [01:16<01:21,  2.85it/s]\n",
      "Train:   0%|          | 0/5565 [00:00<?, ?it/s, accuracy=0.0312, train_loss=5.57] "
     ]
    },
    {
     "name": "stdout",
     "output_type": "stream",
     "text": [
      "\t - Recall@20 epoch 6: 0.286650\n",
      "\t - MRR@20    epoch 6: 0.074920\n",
      "\n"
     ]
    },
    {
     "name": "stderr",
     "output_type": "stream",
     "text": [
      "Train:  98%|█████████▊| 5433/5565 [00:47<00:01, 115.38it/s, accuracy=0.0156, train_loss=5.9]  \n",
      "Evaluation:  48%|████▊     | 217/449 [01:14<01:20,  2.90it/s]\n",
      "Train:   0%|          | 0/5565 [00:00<?, ?it/s, accuracy=0.0234, train_loss=5.52] "
     ]
    },
    {
     "name": "stdout",
     "output_type": "stream",
     "text": [
      "\t - Recall@20 epoch 7: 0.292519\n",
      "\t - MRR@20    epoch 7: 0.076927\n",
      "\n"
     ]
    },
    {
     "name": "stderr",
     "output_type": "stream",
     "text": [
      "Train:  98%|█████████▊| 5433/5565 [00:46<00:01, 115.66it/s, accuracy=0.0234, train_loss=5.84] \n",
      "Evaluation:  48%|████▊     | 217/449 [01:14<01:19,  2.92it/s]\n",
      "Train:   0%|          | 0/5565 [00:00<?, ?it/s, accuracy=0.0312, train_loss=5.44] "
     ]
    },
    {
     "name": "stdout",
     "output_type": "stream",
     "text": [
      "\t - Recall@20 epoch 8: 0.297451\n",
      "\t - MRR@20    epoch 8: 0.078450\n",
      "\n"
     ]
    },
    {
     "name": "stderr",
     "output_type": "stream",
     "text": [
      "Train:  98%|█████████▊| 5433/5565 [00:47<00:01, 115.45it/s, accuracy=0.0234, train_loss=5.85] \n",
      "Evaluation:  48%|████▊     | 217/449 [01:14<01:19,  2.93it/s]\n",
      "Train:   0%|          | 0/5565 [00:00<?, ?it/s, accuracy=0.0547, train_loss=5.45] "
     ]
    },
    {
     "name": "stdout",
     "output_type": "stream",
     "text": [
      "\t - Recall@20 epoch 9: 0.300187\n",
      "\t - MRR@20    epoch 9: 0.080148\n",
      "\n"
     ]
    },
    {
     "name": "stderr",
     "output_type": "stream",
     "text": [
      "Train:  98%|█████████▊| 5433/5565 [00:47<00:01, 114.92it/s, accuracy=0.0156, train_loss=5.83] \n",
      "Evaluation:  48%|████▊     | 217/449 [01:14<01:19,  2.91it/s]\n",
      "Train:   0%|          | 0/5565 [00:00<?, ?it/s, accuracy=0.0391, train_loss=5.39]"
     ]
    },
    {
     "name": "stdout",
     "output_type": "stream",
     "text": [
      "\t - Recall@20 epoch 10: 0.302815\n",
      "\t - MRR@20    epoch 10: 0.081213\n",
      "\n"
     ]
    },
    {
     "name": "stderr",
     "output_type": "stream",
     "text": [
      "Train:  98%|█████████▊| 5433/5565 [00:47<00:01, 115.58it/s, accuracy=0.0234, train_loss=5.83] \n",
      "Evaluation:  48%|████▊     | 217/449 [01:13<01:18,  2.94it/s]\n",
      "Train:   0%|          | 0/5565 [00:00<?, ?it/s, accuracy=0.0547, train_loss=5.43] "
     ]
    },
    {
     "name": "stdout",
     "output_type": "stream",
     "text": [
      "\t - Recall@20 epoch 11: 0.305372\n",
      "\t - MRR@20    epoch 11: 0.082715\n",
      "\n"
     ]
    },
    {
     "name": "stderr",
     "output_type": "stream",
     "text": [
      "Train:  98%|█████████▊| 5433/5565 [00:46<00:01, 116.09it/s, accuracy=0.0156, train_loss=5.7]  \n",
      "Evaluation:  48%|████▊     | 217/449 [01:14<01:19,  2.91it/s]\n",
      "Train:   0%|          | 0/5565 [00:00<?, ?it/s, accuracy=0.0469, train_loss=5.36] "
     ]
    },
    {
     "name": "stdout",
     "output_type": "stream",
     "text": [
      "\t - Recall@20 epoch 12: 0.307028\n",
      "\t - MRR@20    epoch 12: 0.083933\n",
      "\n"
     ]
    },
    {
     "name": "stderr",
     "output_type": "stream",
     "text": [
      "Train:  98%|█████████▊| 5433/5565 [00:47<00:01, 115.05it/s, accuracy=0.0234, train_loss=5.8]  \n",
      "Evaluation:  48%|████▊     | 217/449 [01:14<01:19,  2.92it/s]\n",
      "Train:   0%|          | 0/5565 [00:00<?, ?it/s, accuracy=0.0234, train_loss=5.44]"
     ]
    },
    {
     "name": "stdout",
     "output_type": "stream",
     "text": [
      "\t - Recall@20 epoch 13: 0.308972\n",
      "\t - MRR@20    epoch 13: 0.084910\n",
      "\n"
     ]
    },
    {
     "name": "stderr",
     "output_type": "stream",
     "text": [
      "Train:  98%|█████████▊| 5433/5565 [00:46<00:01, 115.68it/s, accuracy=0.0469, train_loss=5.7]  \n",
      "Evaluation:  48%|████▊     | 217/449 [01:14<01:20,  2.89it/s]\n",
      "Train:   0%|          | 0/5565 [00:00<?, ?it/s, accuracy=0.0469, train_loss=5.34] "
     ]
    },
    {
     "name": "stdout",
     "output_type": "stream",
     "text": [
      "\t - Recall@20 epoch 14: 0.310052\n",
      "\t - MRR@20    epoch 14: 0.085301\n",
      "\n"
     ]
    },
    {
     "name": "stderr",
     "output_type": "stream",
     "text": [
      "Train:  98%|█████████▊| 5433/5565 [00:46<00:01, 115.66it/s, accuracy=0.0391, train_loss=5.75] \n",
      "Evaluation:  48%|████▊     | 217/449 [01:14<01:19,  2.92it/s]\n",
      "Train:   0%|          | 0/5565 [00:00<?, ?it/s, accuracy=0.0312, train_loss=5.43] "
     ]
    },
    {
     "name": "stdout",
     "output_type": "stream",
     "text": [
      "\t - Recall@20 epoch 15: 0.311132\n",
      "\t - MRR@20    epoch 15: 0.086051\n",
      "\n"
     ]
    },
    {
     "name": "stderr",
     "output_type": "stream",
     "text": [
      "Train:  98%|█████████▊| 5433/5565 [00:46<00:01, 117.23it/s, accuracy=0.0312, train_loss=5.73] \n",
      "Evaluation:  48%|████▊     | 217/449 [01:14<01:20,  2.90it/s]\n",
      "Train:   0%|          | 0/5565 [00:00<?, ?it/s, accuracy=0.0312, train_loss=5.47]"
     ]
    },
    {
     "name": "stdout",
     "output_type": "stream",
     "text": [
      "\t - Recall@20 epoch 16: 0.311672\n",
      "\t - MRR@20    epoch 16: 0.086622\n",
      "\n"
     ]
    },
    {
     "name": "stderr",
     "output_type": "stream",
     "text": [
      "Train:  98%|█████████▊| 5433/5565 [00:46<00:01, 117.78it/s, accuracy=0.0312, train_loss=5.71] \n",
      "Evaluation:  48%|████▊     | 217/449 [01:13<01:19,  2.93it/s]\n",
      "Train:   0%|          | 0/5565 [00:00<?, ?it/s, accuracy=0.0547, train_loss=5.49] "
     ]
    },
    {
     "name": "stdout",
     "output_type": "stream",
     "text": [
      "\t - Recall@20 epoch 17: 0.312824\n",
      "\t - MRR@20    epoch 17: 0.087284\n",
      "\n"
     ]
    },
    {
     "name": "stderr",
     "output_type": "stream",
     "text": [
      "Train:  98%|█████████▊| 5433/5565 [00:46<00:01, 117.16it/s, accuracy=0.0469, train_loss=5.68] \n",
      "Evaluation:  48%|████▊     | 217/449 [01:14<01:19,  2.91it/s]\n",
      "Train:   0%|          | 0/5565 [00:00<?, ?it/s, accuracy=0.0391, train_loss=5.35] "
     ]
    },
    {
     "name": "stdout",
     "output_type": "stream",
     "text": [
      "\t - Recall@20 epoch 18: 0.311852\n",
      "\t - MRR@20    epoch 18: 0.087592\n",
      "\n"
     ]
    },
    {
     "name": "stderr",
     "output_type": "stream",
     "text": [
      "Train:  98%|█████████▊| 5433/5565 [00:46<00:01, 117.44it/s, accuracy=0.0312, train_loss=5.71] \n",
      "Evaluation:  48%|████▊     | 217/449 [01:14<01:20,  2.90it/s]\n",
      "Train:   0%|          | 0/5565 [00:00<?, ?it/s, accuracy=0.0234, train_loss=5.41] "
     ]
    },
    {
     "name": "stdout",
     "output_type": "stream",
     "text": [
      "\t - Recall@20 epoch 19: 0.313256\n",
      "\t - MRR@20    epoch 19: 0.087827\n",
      "\n"
     ]
    },
    {
     "name": "stderr",
     "output_type": "stream",
     "text": [
      "Train:  98%|█████████▊| 5433/5565 [00:46<00:01, 116.81it/s, accuracy=0.0312, train_loss=5.7]  \n",
      "Evaluation:  48%|████▊     | 217/449 [01:14<01:19,  2.92it/s]"
     ]
    },
    {
     "name": "stdout",
     "output_type": "stream",
     "text": [
      "\t - Recall@20 epoch 20: 0.313004\n",
      "\t - MRR@20    epoch 20: 0.087780\n",
      "\n"
     ]
    },
    {
     "name": "stderr",
     "output_type": "stream",
     "text": [
      "\n"
     ]
    }
   ],
   "source": [
    "train_model(model, args)"
   ]
  },
  {
   "cell_type": "code",
   "execution_count": 24,
   "metadata": {},
   "outputs": [
    {
     "name": "stderr",
     "output_type": "stream",
     "text": [
      "Evaluation:  32%|███▏      | 153/472 [00:52<01:49,  2.91it/s]"
     ]
    },
    {
     "name": "stdout",
     "output_type": "stream",
     "text": [
      "\t - Recall@20: 0.299173\n",
      "\t - MRR@20: 0.086084\n",
      "\n"
     ]
    },
    {
     "name": "stderr",
     "output_type": "stream",
     "text": [
      "\n"
     ]
    }
   ],
   "source": [
    "test_model(model, args)"
   ]
  },
  {
   "cell_type": "markdown",
   "metadata": {},
   "source": [
    "# 결론"
   ]
  },
  {
   "cell_type": "markdown",
   "metadata": {},
   "source": [
    "추천 데이터 중 평점 1과 2는 선호하지 않는 것으로 보고 제외하였다.   \n",
    "데이터 숫자가 많지 않기 때문에 전체 데이터를 사용하였고, 검증데이터와 시험 데이터가 비슷해지도록 비율을 나누었다.   \n",
    "\n",
    "훈련 모델은 unit의 수를 변화시켜보고, 배치 크기를 바꾸어 보았다.   \n",
    "배치가 작을 수록 같은 epoch당 더 빨리 학습되지만 한 epoch의 시간이 오래걸려, 비슷한 시간 동안 훈련할 경우 큰 배치로 더 많은 epoch를 학습하는 것이 효과가 좋았다.   \n",
    "GRU unit의 수가 클 수록 더 학습 효과가 좋았다."
   ]
  },
  {
   "cell_type": "code",
   "execution_count": null,
   "metadata": {},
   "outputs": [],
   "source": []
  }
 ],
 "metadata": {
  "kernelspec": {
   "display_name": "aiffel",
   "language": "python",
   "name": "aiffel"
  },
  "language_info": {
   "codemirror_mode": {
    "name": "ipython",
    "version": 3
   },
   "file_extension": ".py",
   "mimetype": "text/x-python",
   "name": "python",
   "nbconvert_exporter": "python",
   "pygments_lexer": "ipython3",
   "version": "3.7.9"
  }
 },
 "nbformat": 4,
 "nbformat_minor": 4
}

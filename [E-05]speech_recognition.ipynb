{
 "cells": [
  {
   "cell_type": "markdown",
   "metadata": {},
   "source": [
    "# 시작"
   ]
  },
  {
   "cell_type": "code",
   "execution_count": 1,
   "metadata": {},
   "outputs": [],
   "source": [
    "import os\n",
    "import numpy\n",
    "\n",
    "from sklearn.model_selection import train_test_split\n",
    "import tensorflow as tf\n",
    "from tensorflow.keras import layers\n",
    "\n",
    "import librosa, librosa.display\n",
    "import matplotlib.pyplot as pyplot"
   ]
  },
  {
   "cell_type": "markdown",
   "metadata": {},
   "source": [
    "# 데이터 준비 함수"
   ]
  },
  {
   "cell_type": "markdown",
   "metadata": {},
   "source": [
    "데이터의 전 처리 및 구분"
   ]
  },
  {
   "cell_type": "code",
   "execution_count": 2,
   "metadata": {},
   "outputs": [],
   "source": [
    "def wav2spec(wav, fft_size=512):\n",
    "    '''\n",
    "    소리 데이터 하나를 FFT하여 그 크기를 반환함\n",
    "    \n",
    "    wav      : 소리 데이터\n",
    "    fft_size : FFT를 할 구간 크기, librosa에서 기본값으로 512를 추천하고 있음\n",
    "    \n",
    "    return   : 소리의 FFT결과의 크기\n",
    "    '''\n",
    "    magnitude = numpy.abs(librosa.stft(wav, n_fft=fft_size))\n",
    "    return magnitude\n",
    "\n",
    "def spectrumize_waves(waves):\n",
    "    '''\n",
    "    소리 데이터들을 FFT하여 그 크기를 반환함. 반환형이 ndarray임에 주의\n",
    "    \n",
    "    waves : 소리 데이터들\n",
    "    \n",
    "    return : 소리의 FFT결과의 크기 리스트, ndarray\n",
    "    '''\n",
    "    results = []\n",
    "    for wave in waves:\n",
    "        results.append(wav2spec(wave))\n",
    "    print('{}개 소리 스펙트럼을 추출하였습니다'.format(len(results)))\n",
    "    return numpy.array(results)\n",
    "\n",
    "def encode_labels(labels):\n",
    "    '''\n",
    "    라벨값을 인코딩함\n",
    "    \n",
    "    labels : 인코딩할 라벨들\n",
    "    \n",
    "    return : 인코딩된 라벨과 인코딩에 사용된 맵\n",
    "    '''\n",
    "    unique_labels = numpy.unique(labels)\n",
    "    label_to_idx = {}\n",
    "    for i, label in enumerate(unique_labels):\n",
    "        label_to_idx[label] = i\n",
    "    \n",
    "    results = []\n",
    "    for label in labels:\n",
    "        results.append(label_to_idx[label[0]])\n",
    "    print('{}개 라벨값이 인코딩 되었습니다'.format(len(results)))\n",
    "    return numpy.array(results), label_to_idx\n",
    "\n",
    "def load_data(val_size=0.2, test_size=0.1):\n",
    "    '''\n",
    "    파일로부터 소리 데이터를 불러와서 FFT를 진행하고, 라벨들을 인코딩하여, \n",
    "    훈련 데이터, 검증 데이터, 시험 데이터로 구분함\n",
    "    비율은 (1 - val_size - test_size) : val_size : test_size\n",
    "    \n",
    "    val_size  : 검증 데이터의 비율\n",
    "    test_size : 시험 데이터의 비율\n",
    "    \n",
    "    return    : FFT된 소리 데이터(훈련, 검증, 시험 순), 인코딩된 라벨 데이터(훈련, 검증, 시험 순), 라벨 데이터의 인코딩 맵\n",
    "    '''\n",
    "    file_path = os.getenv('HOME') + '/aiffel/speech_recognition/data/speech_wav_8000.npz'\n",
    "    raw_data = numpy.load(file_path)\n",
    "    \n",
    "    raw_wav_vals = raw_data['wav_vals']\n",
    "    raw_label_vals = raw_data['label_vals']\n",
    "    \n",
    "    encoded_labels, label_to_idx = encode_labels(raw_label_vals)\n",
    "    wav_specs = spectrumize_waves(raw_wav_vals)\n",
    "    wav_specs = numpy.transpose(wav_specs, (0, 2, 1)) # LSTM을 위해서 추가\n",
    "    \n",
    "    train_x, test_x, train_y, test_y = train_test_split(wav_specs, encoded_labels, test_size=test_size, shuffle=True)\n",
    "    train_x, val_x, train_y, val_y = train_test_split(train_x, train_y, test_size=val_size/(1 - test_size), shuffle=True)\n",
    "    \n",
    "    return  train_x, val_x, test_x, train_y, val_y, test_y, label_to_idx"
   ]
  },
  {
   "cell_type": "markdown",
   "metadata": {},
   "source": [
    "텐서플로우용 데이터 준비"
   ]
  },
  {
   "cell_type": "code",
   "execution_count": 3,
   "metadata": {},
   "outputs": [],
   "source": [
    "def make_dataset(train_x, val_x, test_x, train_y, val_y, test_y, label_size, batch_size=64):\n",
    "    '''\n",
    "    배치 사이즈에 맞춰 데이터를 텐서플로우 데이터셋으로 준비함, 훈련 데이터는 repeat임에 주의\n",
    "    \n",
    "    train_x, val_x, test_x : 데이터(훈련, 검증, 시험 순)\n",
    "    train_y, val_y, test_y : 라벨(훈련, 검증, 시험 순)\n",
    "    label_size             : 라벨의 종류, one_hot에 사용\n",
    "    batch_size             : 원하는 배치 사이즈\n",
    "    \n",
    "    return                 : 데이터셋(훈련, 검증, 시험 순)\n",
    "    '''\n",
    "    shape_x, shape_y = train_x[0].shape\n",
    "    one_hot_mapper = lambda w, l: (w, tf.one_hot(l, depth=label_size))\n",
    "    \n",
    "    train_dataset = tf.data.Dataset.from_tensor_slices((train_x.reshape([-1, shape_x, shape_y, 1]), train_y))\n",
    "    train_dataset = train_dataset.map(one_hot_mapper)\n",
    "    train_dataset = train_dataset.repeat().batch(batch_size=batch_size)\n",
    "    print('훈련 데이터: ', train_dataset)\n",
    "    \n",
    "    val_dataset = tf.data.Dataset.from_tensor_slices((val_x.reshape([-1, shape_x, shape_y, 1]), val_y))\n",
    "    val_dataset = val_dataset.map(one_hot_mapper)\n",
    "    val_dataset = val_dataset.batch(batch_size=batch_size)\n",
    "    print('검증 데이터: ', val_dataset)\n",
    "    \n",
    "    test_dataset = tf.data.Dataset.from_tensor_slices((test_x.reshape([-1, shape_x, shape_y, 1]), test_y))\n",
    "    test_dataset = test_dataset.map(one_hot_mapper)\n",
    "    test_dataset = test_dataset.batch(batch_size=batch_size)\n",
    "    print('테스트 데이터: ', test_dataset)\n",
    "    \n",
    "    return train_dataset, val_dataset, test_dataset"
   ]
  },
  {
   "cell_type": "markdown",
   "metadata": {},
   "source": [
    "# 모델 생성 함수"
   ]
  },
  {
   "cell_type": "code",
   "execution_count": 4,
   "metadata": {},
   "outputs": [],
   "source": [
    "def make_modelLSTM(input_shape, need_dropout=False, need_batch_normalization=False):\n",
    "    input_tensor = layers.Input(shape=input_shape)\n",
    "    \n",
    "    x = layers.LSTM(64, return_sequences=True)(input_tensor)\n",
    "    x = layers.LSTM(64, return_sequences=True)(x)\n",
    "    if need_dropout:\n",
    "        x = layers.Dropout(0.2)(x)\n",
    "    \n",
    "    x = layers.LSTM(64, return_sequences=True)(x)\n",
    "    x = layers.LSTM(64)(x)\n",
    "    if need_dropout:\n",
    "        x = layers.Dropout(0.2)(x)\n",
    "    \n",
    "    x = layers.Dense(128)(x)\n",
    "    if need_batch_normalization:\n",
    "        x = layers.BatchNormalization()(x)\n",
    "    x = layers.Activation('sigmoid')(x)\n",
    "\n",
    "    output_tensor = layers.Dense(12)(x)\n",
    "\n",
    "    model = tf.keras.Model(input_tensor, output_tensor)\n",
    "\n",
    "    model.summary()\n",
    "    \n",
    "    optimizer=tf.keras.optimizers.Adam()\n",
    "    model.compile(loss=tf.keras.losses.CategoricalCrossentropy(from_logits=True), # logit이란 무엇인가...\n",
    "             optimizer=optimizer,\n",
    "             metrics=['accuracy'])\n",
    "    return model"
   ]
  },
  {
   "cell_type": "code",
   "execution_count": 5,
   "metadata": {},
   "outputs": [],
   "source": [
    "def make_model2D(input_shape, need_dropout=False, need_batch_normalization=False, need_skip_connection=False):\n",
    "    input_tensor = layers.Input(shape=input_shape)\n",
    "\n",
    "    x = layers.Conv2D(32, 9, padding='same', activation='relu')(input_tensor)\n",
    "    x_skip_1 = layers.MaxPool2D()(x)\n",
    "\n",
    "    x = layers.Conv2D(64, 9, padding='same', activation='relu')(x_skip_1)\n",
    "    if need_skip_connection:\n",
    "        x = tf.concat([x, x_skip_1], -1)\n",
    "    x_skip_2 = layers.MaxPool2D()(x)\n",
    "\n",
    "    x = layers.Conv2D(128, 9, padding='same', activation='relu')(x_skip_2)\n",
    "    if need_skip_connection:\n",
    "        x = tf.concat([x, x_skip_2], -1)\n",
    "    x = layers.MaxPool2D()(x)\n",
    "    \n",
    "    if need_dropout:\n",
    "        x = layers.Dropout(0.3)(x)\n",
    "    x = layers.Flatten()(x)\n",
    "    x = layers.Dense(128)(x)\n",
    "    if need_batch_normalization:\n",
    "        x = layers.BatchNormalization()(x)\n",
    "    x = layers.Activation('softmax')(x)\n",
    "\n",
    "    output_tensor = layers.Dense(12)(x)\n",
    "\n",
    "    model = tf.keras.Model(input_tensor, output_tensor)\n",
    "\n",
    "    model.summary()\n",
    "    \n",
    "    optimizer=tf.keras.optimizers.Adam()\n",
    "    model.compile(loss=tf.keras.losses.CategoricalCrossentropy(from_logits=True),\n",
    "             optimizer=optimizer,\n",
    "             metrics=['accuracy'])\n",
    "    return model"
   ]
  },
  {
   "cell_type": "markdown",
   "metadata": {},
   "source": [
    "# 결과 확인 함수"
   ]
  },
  {
   "cell_type": "markdown",
   "metadata": {},
   "source": [
    "FFT된 소리데이터를 확인"
   ]
  },
  {
   "cell_type": "code",
   "execution_count": 6,
   "metadata": {},
   "outputs": [],
   "source": [
    "def show_spectogram(spec):\n",
    "    db = librosa.amplitude_to_db(spec, ref=numpy.max)\n",
    "    librosa.display.specshow(db, y_axis='time')\n",
    "    pyplot.colorbar(format='%+2.0f dB')\n",
    "    pyplot.yticks(range(0, 1))\n",
    "    pyplot.tight_layout()\n",
    "    pyplot.show()"
   ]
  },
  {
   "cell_type": "markdown",
   "metadata": {},
   "source": [
    "모델의  훈련 과정을 확인"
   ]
  },
  {
   "cell_type": "code",
   "execution_count": 7,
   "metadata": {},
   "outputs": [],
   "source": [
    "def draw_graph(history):\n",
    "    acc = history.history['accuracy']\n",
    "    val_acc = history.history['val_accuracy']\n",
    "    loss = history.history['loss']\n",
    "    val_loss = history.history['val_loss']\n",
    "    epoch_range = range(len(acc))\n",
    "    \n",
    "    pyplot.figure(figsize=(10, 5))\n",
    "    pyplot.subplot(1,2,1)\n",
    "    pyplot.plot(epoch_range, acc, '--', label='Training Acc')\n",
    "    pyplot.plot(epoch_range, val_acc, label='Validation Acc')\n",
    "    \n",
    "    pyplot.subplot(1,2,2)\n",
    "    pyplot.plot(epoch_range, loss, '--', label='Training Loss')\n",
    "    pyplot.plot(epoch_range, val_loss, label='Validation Loss')\n",
    "    pyplot.show()"
   ]
  },
  {
   "cell_type": "markdown",
   "metadata": {},
   "source": [
    "훈련된 모델을 시험"
   ]
  },
  {
   "cell_type": "code",
   "execution_count": 8,
   "metadata": {},
   "outputs": [],
   "source": [
    "def evaluate_result(model, path, dataset):\n",
    "    model.load_weights(path)\n",
    "    result = model.evaluate(dataset)\n",
    "    print(result)"
   ]
  },
  {
   "cell_type": "code",
   "execution_count": 9,
   "metadata": {},
   "outputs": [],
   "source": [
    "def test_audio(model, dataset, labels, label_to_index):\n",
    "    index_to_label = { l: i for i, l in label_to_index.items() }\n",
    "    batch_index = numpy.random.choice(len(dataset), size=10, replace=False)\n",
    "\n",
    "    batch_xs = dataset[batch_index]\n",
    "    batch_ys = labels[batch_index]\n",
    "    y_preds = model(batch_xs, training=False)\n",
    "\n",
    "    for y_pred, batch_y in zip(y_preds, batch_ys): \n",
    "        print('예상값: ', str(index_to_label[numpy.argmax(y_pred)]))\n",
    "        print('실제값: ', str(index_to_label[batch_y]))\n",
    "        print('-------------------------------------')\n",
    "    "
   ]
  },
  {
   "cell_type": "markdown",
   "metadata": {},
   "source": [
    "# 메인"
   ]
  },
  {
   "cell_type": "markdown",
   "metadata": {},
   "source": [
    "데이터 준비"
   ]
  },
  {
   "cell_type": "code",
   "execution_count": 10,
   "metadata": {
    "scrolled": false
   },
   "outputs": [
    {
     "name": "stdout",
     "output_type": "stream",
     "text": [
      "50620개 라벨값이 인코딩 되었습니다\n",
      "50620개 소리 스펙트럼을 추출하였습니다\n"
     ]
    }
   ],
   "source": [
    "train_wavs, val_wavs, test_wavs, train_labels, val_labels, test_labels, label_to_idx = load_data()\n",
    "label_size = len(label_to_idx)"
   ]
  },
  {
   "cell_type": "markdown",
   "metadata": {},
   "source": [
    "STFT 결과 확인"
   ]
  },
  {
   "cell_type": "code",
   "execution_count": 11,
   "metadata": {
    "scrolled": true
   },
   "outputs": [
    {
     "data": {
      "image/png": "[encoded data removed]",
      "text/plain": [
       "<Figure size 432x288 with 2 Axes>"
      ]
     },
     "metadata": {
      "needs_background": "light"
     },
     "output_type": "display_data"
    }
   ],
   "source": [
    "show_spectogram(train_wavs[2])"
   ]
  },
  {
   "cell_type": "markdown",
   "metadata": {},
   "source": [
    "LSTM에 적용하기 위하여 시간축과 스펙트럼축을 바꾸었기 때문에, 시간축이 y축, db축이 x축임"
   ]
  },
  {
   "cell_type": "markdown",
   "metadata": {},
   "source": [
    "훈련 데이터 생성"
   ]
  },
  {
   "cell_type": "code",
   "execution_count": 12,
   "metadata": {
    "scrolled": true
   },
   "outputs": [
    {
     "name": "stdout",
     "output_type": "stream",
     "text": [
      "훈련 데이터:  <BatchDataset shapes: ((None, 63, 257, 1), (None, 12)), types: (tf.float32, tf.float32)>\n",
      "검증 데이터:  <BatchDataset shapes: ((None, 63, 257, 1), (None, 12)), types: (tf.float32, tf.float32)>\n",
      "테스트 데이터:  <BatchDataset shapes: ((None, 63, 257, 1), (None, 12)), types: (tf.float32, tf.float32)>\n"
     ]
    }
   ],
   "source": [
    "batch_size = 64\n",
    "train_dataset, val_dataset, test_dataset = make_dataset(train_wavs, val_wavs, test_wavs, train_labels, val_labels, test_labels, label_size, batch_size)"
   ]
  },
  {
   "cell_type": "markdown",
   "metadata": {},
   "source": [
    "# LSTM"
   ]
  },
  {
   "cell_type": "markdown",
   "metadata": {},
   "source": [
    "### dropout, batch normalization 모두 사용 안함"
   ]
  },
  {
   "cell_type": "markdown",
   "metadata": {},
   "source": [
    "모델 생성"
   ]
  },
  {
   "cell_type": "code",
   "execution_count": 13,
   "metadata": {
    "scrolled": true
   },
   "outputs": [
    {
     "name": "stdout",
     "output_type": "stream",
     "text": [
      "Model: \"model\"\n",
      "_________________________________________________________________\n",
      "Layer (type)                 Output Shape              Param #   \n",
      "=================================================================\n",
      "input_1 (InputLayer)         [(None, 63, 257)]         0         \n",
      "_________________________________________________________________\n",
      "lstm (LSTM)                  (None, 63, 64)            82432     \n",
      "_________________________________________________________________\n",
      "lstm_1 (LSTM)                (None, 63, 64)            33024     \n",
      "_________________________________________________________________\n",
      "lstm_2 (LSTM)                (None, 63, 64)            33024     \n",
      "_________________________________________________________________\n",
      "lstm_3 (LSTM)                (None, 64)                33024     \n",
      "_________________________________________________________________\n",
      "dense (Dense)                (None, 128)               8320      \n",
      "_________________________________________________________________\n",
      "activation (Activation)      (None, 128)               0         \n",
      "_________________________________________________________________\n",
      "dense_1 (Dense)              (None, 12)                1548      \n",
      "=================================================================\n",
      "Total params: 191,372\n",
      "Trainable params: 191,372\n",
      "Non-trainable params: 0\n",
      "_________________________________________________________________\n"
     ]
    }
   ],
   "source": [
    "shape_x, shape_y = train_wavs[0].shape\n",
    "model = make_modelLSTM((shape_x, shape_y))"
   ]
  },
  {
   "cell_type": "markdown",
   "metadata": {},
   "source": [
    "모델 훈련"
   ]
  },
  {
   "cell_type": "code",
   "execution_count": 14,
   "metadata": {
    "scrolled": true
   },
   "outputs": [
    {
     "name": "stdout",
     "output_type": "stream",
     "text": [
      "Epoch 1/100\n",
      "551/553 [============================>.] - ETA: 0s - loss: 1.7113 - accuracy: 0.3816\n",
      "Epoch 00001: val_loss improved from inf to 1.22596, saving model to /home/ssac5/aiffel/speech_recognition/models/wav\n",
      "553/553 [==============================] - 9s 16ms/step - loss: 1.7094 - accuracy: 0.3824 - val_loss: 1.2260 - val_accuracy: 0.5633\n",
      "Epoch 2/100\n",
      "549/553 [============================>.] - ETA: 0s - loss: 0.9708 - accuracy: 0.6685\n",
      "Epoch 00002: val_loss improved from 1.22596 to 0.78236, saving model to /home/ssac5/aiffel/speech_recognition/models/wav\n",
      "553/553 [==============================] - 8s 15ms/step - loss: 0.9694 - accuracy: 0.6692 - val_loss: 0.7824 - val_accuracy: 0.7433\n",
      "Epoch 3/100\n",
      "551/553 [============================>.] - ETA: 0s - loss: 0.6517 - accuracy: 0.7878\n",
      "Epoch 00003: val_loss improved from 0.78236 to 0.58318, saving model to /home/ssac5/aiffel/speech_recognition/models/wav\n",
      "553/553 [==============================] - 8s 15ms/step - loss: 0.6514 - accuracy: 0.7879 - val_loss: 0.5832 - val_accuracy: 0.8094\n",
      "Epoch 4/100\n",
      "551/553 [============================>.] - ETA: 0s - loss: 0.5017 - accuracy: 0.8379\n",
      "Epoch 00004: val_loss improved from 0.58318 to 0.47368, saving model to /home/ssac5/aiffel/speech_recognition/models/wav\n",
      "553/553 [==============================] - 8s 15ms/step - loss: 0.5018 - accuracy: 0.8379 - val_loss: 0.4737 - val_accuracy: 0.8460\n",
      "Epoch 5/100\n",
      "551/553 [============================>.] - ETA: 0s - loss: 0.3914 - accuracy: 0.8721\n",
      "Epoch 00005: val_loss improved from 0.47368 to 0.43836, saving model to /home/ssac5/aiffel/speech_recognition/models/wav\n",
      "553/553 [==============================] - 8s 15ms/step - loss: 0.3914 - accuracy: 0.8722 - val_loss: 0.4384 - val_accuracy: 0.8585\n",
      "Epoch 6/100\n",
      "550/553 [============================>.] - ETA: 0s - loss: 0.3267 - accuracy: 0.8946\n",
      "Epoch 00006: val_loss did not improve from 0.43836\n",
      "553/553 [==============================] - 8s 15ms/step - loss: 0.3272 - accuracy: 0.8946 - val_loss: 0.4459 - val_accuracy: 0.8591\n",
      "Epoch 7/100\n",
      "552/553 [============================>.] - ETA: 0s - loss: 0.2822 - accuracy: 0.9093\n",
      "Epoch 00007: val_loss improved from 0.43836 to 0.32878, saving model to /home/ssac5/aiffel/speech_recognition/models/wav\n",
      "553/553 [==============================] - 8s 15ms/step - loss: 0.2819 - accuracy: 0.9094 - val_loss: 0.3288 - val_accuracy: 0.8941\n",
      "Epoch 8/100\n",
      "552/553 [============================>.] - ETA: 0s - loss: 0.2461 - accuracy: 0.9192\n",
      "Epoch 00008: val_loss improved from 0.32878 to 0.30083, saving model to /home/ssac5/aiffel/speech_recognition/models/wav\n",
      "553/553 [==============================] - 8s 15ms/step - loss: 0.2458 - accuracy: 0.9192 - val_loss: 0.3008 - val_accuracy: 0.9063\n",
      "Epoch 9/100\n",
      "550/553 [============================>.] - ETA: 0s - loss: 0.2111 - accuracy: 0.9317\n",
      "Epoch 00009: val_loss improved from 0.30083 to 0.27685, saving model to /home/ssac5/aiffel/speech_recognition/models/wav\n",
      "553/553 [==============================] - 8s 15ms/step - loss: 0.2105 - accuracy: 0.9319 - val_loss: 0.2768 - val_accuracy: 0.9136\n",
      "Epoch 10/100\n",
      "553/553 [==============================] - ETA: 0s - loss: 0.1839 - accuracy: 0.9398\n",
      "Epoch 00010: val_loss improved from 0.27685 to 0.27058, saving model to /home/ssac5/aiffel/speech_recognition/models/wav\n",
      "553/553 [==============================] - 8s 15ms/step - loss: 0.1839 - accuracy: 0.9398 - val_loss: 0.2706 - val_accuracy: 0.9162\n",
      "Epoch 11/100\n",
      "551/553 [============================>.] - ETA: 0s - loss: 0.1698 - accuracy: 0.9441\n",
      "Epoch 00011: val_loss did not improve from 0.27058\n",
      "553/553 [==============================] - 8s 15ms/step - loss: 0.1695 - accuracy: 0.9443 - val_loss: 0.2771 - val_accuracy: 0.9118\n",
      "Epoch 12/100\n",
      "551/553 [============================>.] - ETA: 0s - loss: 0.1559 - accuracy: 0.9486\n",
      "Epoch 00012: val_loss improved from 0.27058 to 0.26314, saving model to /home/ssac5/aiffel/speech_recognition/models/wav\n",
      "553/553 [==============================] - 8s 15ms/step - loss: 0.1559 - accuracy: 0.9486 - val_loss: 0.2631 - val_accuracy: 0.9176\n",
      "Epoch 13/100\n",
      "553/553 [==============================] - ETA: 0s - loss: 0.1408 - accuracy: 0.9545\n",
      "Epoch 00013: val_loss did not improve from 0.26314\n",
      "553/553 [==============================] - 8s 15ms/step - loss: 0.1408 - accuracy: 0.9545 - val_loss: 0.2846 - val_accuracy: 0.9126\n",
      "Epoch 14/100\n",
      "553/553 [==============================] - ETA: 0s - loss: 0.1298 - accuracy: 0.9572\n",
      "Epoch 00014: val_loss improved from 0.26314 to 0.24457, saving model to /home/ssac5/aiffel/speech_recognition/models/wav\n",
      "553/553 [==============================] - 8s 15ms/step - loss: 0.1298 - accuracy: 0.9572 - val_loss: 0.2446 - val_accuracy: 0.9285\n",
      "Epoch 15/100\n",
      "552/553 [============================>.] - ETA: 0s - loss: 0.1303 - accuracy: 0.9569\n",
      "Epoch 00015: val_loss did not improve from 0.24457\n",
      "553/553 [==============================] - 8s 15ms/step - loss: 0.1304 - accuracy: 0.9568 - val_loss: 0.2556 - val_accuracy: 0.9215\n",
      "Epoch 16/100\n",
      "551/553 [============================>.] - ETA: 0s - loss: 0.1152 - accuracy: 0.9619\n",
      "Epoch 00016: val_loss did not improve from 0.24457\n",
      "553/553 [==============================] - 8s 15ms/step - loss: 0.1154 - accuracy: 0.9618 - val_loss: 0.2857 - val_accuracy: 0.9159\n",
      "Epoch 17/100\n",
      "549/553 [============================>.] - ETA: 0s - loss: 0.1195 - accuracy: 0.9600\n",
      "Epoch 00017: val_loss did not improve from 0.24457\n",
      "553/553 [==============================] - 8s 15ms/step - loss: 0.1193 - accuracy: 0.9601 - val_loss: 0.2470 - val_accuracy: 0.9254\n",
      "Epoch 18/100\n",
      "552/553 [============================>.] - ETA: 0s - loss: 0.1055 - accuracy: 0.9644\n",
      "Epoch 00018: val_loss did not improve from 0.24457\n",
      "553/553 [==============================] - 8s 15ms/step - loss: 0.1055 - accuracy: 0.9645 - val_loss: 0.2665 - val_accuracy: 0.9242\n",
      "Epoch 19/100\n",
      "552/553 [============================>.] - ETA: 0s - loss: 0.1052 - accuracy: 0.9651\n",
      "Epoch 00019: val_loss improved from 0.24457 to 0.23591, saving model to /home/ssac5/aiffel/speech_recognition/models/wav\n",
      "553/553 [==============================] - 8s 15ms/step - loss: 0.1051 - accuracy: 0.9651 - val_loss: 0.2359 - val_accuracy: 0.9332\n",
      "Epoch 20/100\n",
      "553/553 [==============================] - ETA: 0s - loss: 0.0973 - accuracy: 0.9674\n",
      "Epoch 00020: val_loss did not improve from 0.23591\n",
      "553/553 [==============================] - 8s 15ms/step - loss: 0.0973 - accuracy: 0.9674 - val_loss: 0.2655 - val_accuracy: 0.9288\n",
      "Epoch 21/100\n",
      "552/553 [============================>.] - ETA: 0s - loss: 0.0965 - accuracy: 0.9683\n",
      "Epoch 00021: val_loss did not improve from 0.23591\n",
      "553/553 [==============================] - 8s 15ms/step - loss: 0.0965 - accuracy: 0.9683 - val_loss: 0.2732 - val_accuracy: 0.9266\n",
      "Epoch 22/100\n",
      "550/553 [============================>.] - ETA: 0s - loss: 0.0914 - accuracy: 0.9695\n",
      "Epoch 00022: val_loss improved from 0.23591 to 0.23334, saving model to /home/ssac5/aiffel/speech_recognition/models/wav\n",
      "553/553 [==============================] - 8s 15ms/step - loss: 0.0911 - accuracy: 0.9696 - val_loss: 0.2333 - val_accuracy: 0.9307\n",
      "Epoch 23/100\n",
      "551/553 [============================>.] - ETA: 0s - loss: 0.0869 - accuracy: 0.9712\n",
      "Epoch 00023: val_loss did not improve from 0.23334\n",
      "553/553 [==============================] - 8s 15ms/step - loss: 0.0869 - accuracy: 0.9713 - val_loss: 0.2674 - val_accuracy: 0.9265\n",
      "Epoch 24/100\n",
      "551/553 [============================>.] - ETA: 0s - loss: 0.0889 - accuracy: 0.9697\n",
      "Epoch 00024: val_loss did not improve from 0.23334\n",
      "553/553 [==============================] - 8s 15ms/step - loss: 0.0886 - accuracy: 0.9698 - val_loss: 0.2766 - val_accuracy: 0.9247\n",
      "Epoch 25/100\n",
      "550/553 [============================>.] - ETA: 0s - loss: 0.0814 - accuracy: 0.9723\n",
      "Epoch 00025: val_loss did not improve from 0.23334\n",
      "553/553 [==============================] - 8s 15ms/step - loss: 0.0814 - accuracy: 0.9724 - val_loss: 0.2703 - val_accuracy: 0.9293\n",
      "Epoch 26/100\n",
      "551/553 [============================>.] - ETA: 0s - loss: 0.0825 - accuracy: 0.9730\n",
      "Epoch 00026: val_loss did not improve from 0.23334\n",
      "553/553 [==============================] - 8s 15ms/step - loss: 0.0824 - accuracy: 0.9730 - val_loss: 0.2470 - val_accuracy: 0.9314\n"
     ]
    },
    {
     "name": "stdout",
     "output_type": "stream",
     "text": [
      "Epoch 27/100\n",
      "550/553 [============================>.] - ETA: 0s - loss: 0.0731 - accuracy: 0.9756\n",
      "Epoch 00027: val_loss did not improve from 0.23334\n",
      "553/553 [==============================] - 8s 15ms/step - loss: 0.0730 - accuracy: 0.9756 - val_loss: 0.2414 - val_accuracy: 0.9365\n"
     ]
    }
   ],
   "source": [
    "checkpoint_dir = os.getenv('HOME')+'/aiffel/speech_recognition/models/wav'\n",
    "train_data_count = len(train_wavs)\n",
    "\n",
    "early_stopping = tf.keras.callbacks.EarlyStopping(patience=5)\n",
    "model_checkpoint = tf.keras.callbacks.ModelCheckpoint(checkpoint_dir,\n",
    "                                                 save_weights_only=True,\n",
    "                                                 monitor='val_loss',\n",
    "                                                 mode='auto',\n",
    "                                                 save_best_only=True,\n",
    "                                                 verbose=1)\n",
    "history = model.fit(train_dataset, epochs=100,\n",
    "                    steps_per_epoch=(train_data_count//batch_size),\n",
    "                    validation_data=val_dataset,\n",
    "                    callbacks=[early_stopping, model_checkpoint]\n",
    "                    )"
   ]
  },
  {
   "cell_type": "markdown",
   "metadata": {},
   "source": [
    "모델 훈련 과정 확인"
   ]
  },
  {
   "cell_type": "code",
   "execution_count": 15,
   "metadata": {
    "scrolled": false
   },
   "outputs": [
    {
     "data": {
      "image/png": "[encoded data removed]",
      "text/plain": [
       "<Figure size 720x360 with 2 Axes>"
      ]
     },
     "metadata": {
      "needs_background": "light"
     },
     "output_type": "display_data"
    }
   ],
   "source": [
    "draw_graph(history)"
   ]
  },
  {
   "cell_type": "markdown",
   "metadata": {},
   "source": [
    "모델 시험"
   ]
  },
  {
   "cell_type": "code",
   "execution_count": 16,
   "metadata": {
    "scrolled": false
   },
   "outputs": [
    {
     "name": "stdout",
     "output_type": "stream",
     "text": [
      "80/80 [==============================] - 0s 5ms/step - loss: 0.2165 - accuracy: 0.9360\n",
      "[0.21648845076560974, 0.9359936714172363]\n"
     ]
    }
   ],
   "source": [
    "evaluate_result(model, checkpoint_dir, test_dataset)"
   ]
  },
  {
   "cell_type": "markdown",
   "metadata": {},
   "source": [
    "임의의 결과 확인하기"
   ]
  },
  {
   "cell_type": "code",
   "execution_count": 17,
   "metadata": {
    "scrolled": true
   },
   "outputs": [
    {
     "name": "stdout",
     "output_type": "stream",
     "text": [
      "예상값:  down\n",
      "실제값:  down\n",
      "-------------------------------------\n",
      "예상값:  down\n",
      "실제값:  down\n",
      "-------------------------------------\n",
      "예상값:  right\n",
      "실제값:  right\n",
      "-------------------------------------\n",
      "예상값:  yes\n",
      "실제값:  yes\n",
      "-------------------------------------\n",
      "예상값:  yes\n",
      "실제값:  yes\n",
      "-------------------------------------\n",
      "예상값:  no\n",
      "실제값:  no\n",
      "-------------------------------------\n",
      "예상값:  silence\n",
      "실제값:  silence\n",
      "-------------------------------------\n",
      "예상값:  silence\n",
      "실제값:  silence\n",
      "-------------------------------------\n",
      "예상값:  up\n",
      "실제값:  up\n",
      "-------------------------------------\n",
      "예상값:  yes\n",
      "실제값:  yes\n",
      "-------------------------------------\n"
     ]
    }
   ],
   "source": [
    "test_audio(model, test_wavs, test_labels, label_to_idx)"
   ]
  },
  {
   "cell_type": "markdown",
   "metadata": {},
   "source": [
    "### dropout 사용, batch normalization 사용 안함"
   ]
  },
  {
   "cell_type": "markdown",
   "metadata": {},
   "source": [
    "모델 생성"
   ]
  },
  {
   "cell_type": "code",
   "execution_count": 18,
   "metadata": {
    "scrolled": true
   },
   "outputs": [
    {
     "name": "stdout",
     "output_type": "stream",
     "text": [
      "Model: \"model_1\"\n",
      "_________________________________________________________________\n",
      "Layer (type)                 Output Shape              Param #   \n",
      "=================================================================\n",
      "input_2 (InputLayer)         [(None, 63, 257)]         0         \n",
      "_________________________________________________________________\n",
      "lstm_4 (LSTM)                (None, 63, 64)            82432     \n",
      "_________________________________________________________________\n",
      "lstm_5 (LSTM)                (None, 63, 64)            33024     \n",
      "_________________________________________________________________\n",
      "dropout (Dropout)            (None, 63, 64)            0         \n",
      "_________________________________________________________________\n",
      "lstm_6 (LSTM)                (None, 63, 64)            33024     \n",
      "_________________________________________________________________\n",
      "lstm_7 (LSTM)                (None, 64)                33024     \n",
      "_________________________________________________________________\n",
      "dropout_1 (Dropout)          (None, 64)                0         \n",
      "_________________________________________________________________\n",
      "dense_2 (Dense)              (None, 128)               8320      \n",
      "_________________________________________________________________\n",
      "activation_1 (Activation)    (None, 128)               0         \n",
      "_________________________________________________________________\n",
      "dense_3 (Dense)              (None, 12)                1548      \n",
      "=================================================================\n",
      "Total params: 191,372\n",
      "Trainable params: 191,372\n",
      "Non-trainable params: 0\n",
      "_________________________________________________________________\n"
     ]
    }
   ],
   "source": [
    "shape_x, shape_y = train_wavs[0].shape\n",
    "model = make_modelLSTM((shape_x, shape_y), need_dropout=True)"
   ]
  },
  {
   "cell_type": "markdown",
   "metadata": {},
   "source": [
    "모델 훈련"
   ]
  },
  {
   "cell_type": "code",
   "execution_count": 19,
   "metadata": {
    "scrolled": true
   },
   "outputs": [
    {
     "name": "stdout",
     "output_type": "stream",
     "text": [
      "Epoch 1/100\n",
      "550/553 [============================>.] - ETA: 0s - loss: 1.8551 - accuracy: 0.3141\n",
      "Epoch 00001: val_loss improved from inf to 1.38018, saving model to /home/ssac5/aiffel/speech_recognition/models/wav\n",
      "553/553 [==============================] - 9s 16ms/step - loss: 1.8521 - accuracy: 0.3153 - val_loss: 1.3802 - val_accuracy: 0.5088\n",
      "Epoch 2/100\n",
      "549/553 [============================>.] - ETA: 0s - loss: 1.1157 - accuracy: 0.6165\n",
      "Epoch 00002: val_loss improved from 1.38018 to 0.82490, saving model to /home/ssac5/aiffel/speech_recognition/models/wav\n",
      "553/553 [==============================] - 8s 15ms/step - loss: 1.1137 - accuracy: 0.6174 - val_loss: 0.8249 - val_accuracy: 0.7299\n",
      "Epoch 3/100\n",
      "549/553 [============================>.] - ETA: 0s - loss: 0.7224 - accuracy: 0.7688\n",
      "Epoch 00003: val_loss improved from 0.82490 to 0.59901, saving model to /home/ssac5/aiffel/speech_recognition/models/wav\n",
      "553/553 [==============================] - 8s 15ms/step - loss: 0.7212 - accuracy: 0.7693 - val_loss: 0.5990 - val_accuracy: 0.8043\n",
      "Epoch 4/100\n",
      "550/553 [============================>.] - ETA: 0s - loss: 0.5354 - accuracy: 0.8315\n",
      "Epoch 00004: val_loss improved from 0.59901 to 0.49053, saving model to /home/ssac5/aiffel/speech_recognition/models/wav\n",
      "553/553 [==============================] - 8s 15ms/step - loss: 0.5351 - accuracy: 0.8316 - val_loss: 0.4905 - val_accuracy: 0.8410\n",
      "Epoch 5/100\n",
      "551/553 [============================>.] - ETA: 0s - loss: 0.4296 - accuracy: 0.8642\n",
      "Epoch 00005: val_loss improved from 0.49053 to 0.42321, saving model to /home/ssac5/aiffel/speech_recognition/models/wav\n",
      "553/553 [==============================] - 8s 15ms/step - loss: 0.4297 - accuracy: 0.8642 - val_loss: 0.4232 - val_accuracy: 0.8680\n",
      "Epoch 6/100\n",
      "549/553 [============================>.] - ETA: 0s - loss: 0.3491 - accuracy: 0.8899\n",
      "Epoch 00006: val_loss improved from 0.42321 to 0.37149, saving model to /home/ssac5/aiffel/speech_recognition/models/wav\n",
      "553/553 [==============================] - 8s 15ms/step - loss: 0.3489 - accuracy: 0.8900 - val_loss: 0.3715 - val_accuracy: 0.8812\n",
      "Epoch 7/100\n",
      "551/553 [============================>.] - ETA: 0s - loss: 0.3009 - accuracy: 0.9042\n",
      "Epoch 00007: val_loss improved from 0.37149 to 0.36748, saving model to /home/ssac5/aiffel/speech_recognition/models/wav\n",
      "553/553 [==============================] - 8s 15ms/step - loss: 0.3010 - accuracy: 0.9042 - val_loss: 0.3675 - val_accuracy: 0.8846\n",
      "Epoch 8/100\n",
      "552/553 [============================>.] - ETA: 0s - loss: 0.2640 - accuracy: 0.9151\n",
      "Epoch 00008: val_loss improved from 0.36748 to 0.31455, saving model to /home/ssac5/aiffel/speech_recognition/models/wav\n",
      "553/553 [==============================] - 8s 15ms/step - loss: 0.2639 - accuracy: 0.9151 - val_loss: 0.3145 - val_accuracy: 0.9020\n",
      "Epoch 9/100\n",
      "551/553 [============================>.] - ETA: 0s - loss: 0.2385 - accuracy: 0.9244\n",
      "Epoch 00009: val_loss did not improve from 0.31455\n",
      "553/553 [==============================] - 8s 15ms/step - loss: 0.2384 - accuracy: 0.9244 - val_loss: 0.3245 - val_accuracy: 0.8991\n",
      "Epoch 10/100\n",
      "552/553 [============================>.] - ETA: 0s - loss: 0.2078 - accuracy: 0.9314\n",
      "Epoch 00010: val_loss did not improve from 0.31455\n",
      "553/553 [==============================] - 8s 15ms/step - loss: 0.2077 - accuracy: 0.9315 - val_loss: 0.3185 - val_accuracy: 0.9014\n",
      "Epoch 11/100\n",
      "551/553 [============================>.] - ETA: 0s - loss: 0.1899 - accuracy: 0.9379\n",
      "Epoch 00011: val_loss improved from 0.31455 to 0.30603, saving model to /home/ssac5/aiffel/speech_recognition/models/wav\n",
      "553/553 [==============================] - 8s 15ms/step - loss: 0.1896 - accuracy: 0.9380 - val_loss: 0.3060 - val_accuracy: 0.9031\n",
      "Epoch 12/100\n",
      "549/553 [============================>.] - ETA: 0s - loss: 0.1795 - accuracy: 0.9421\n",
      "Epoch 00012: val_loss did not improve from 0.30603\n",
      "553/553 [==============================] - 8s 15ms/step - loss: 0.1794 - accuracy: 0.9421 - val_loss: 0.3067 - val_accuracy: 0.9082\n",
      "Epoch 13/100\n",
      "550/553 [============================>.] - ETA: 0s - loss: 0.1659 - accuracy: 0.9458\n",
      "Epoch 00013: val_loss improved from 0.30603 to 0.29089, saving model to /home/ssac5/aiffel/speech_recognition/models/wav\n",
      "553/553 [==============================] - 8s 15ms/step - loss: 0.1659 - accuracy: 0.9458 - val_loss: 0.2909 - val_accuracy: 0.9112\n",
      "Epoch 14/100\n",
      "550/553 [============================>.] - ETA: 0s - loss: 0.1563 - accuracy: 0.9484\n",
      "Epoch 00014: val_loss improved from 0.29089 to 0.27151, saving model to /home/ssac5/aiffel/speech_recognition/models/wav\n",
      "553/553 [==============================] - 8s 15ms/step - loss: 0.1566 - accuracy: 0.9483 - val_loss: 0.2715 - val_accuracy: 0.9164\n",
      "Epoch 15/100\n",
      "551/553 [============================>.] - ETA: 0s - loss: 0.1474 - accuracy: 0.9526\n",
      "Epoch 00015: val_loss did not improve from 0.27151\n",
      "553/553 [==============================] - 8s 15ms/step - loss: 0.1477 - accuracy: 0.9526 - val_loss: 0.2775 - val_accuracy: 0.9179\n",
      "Epoch 16/100\n",
      "553/553 [==============================] - ETA: 0s - loss: 0.1433 - accuracy: 0.9543\n",
      "Epoch 00016: val_loss did not improve from 0.27151\n",
      "553/553 [==============================] - 8s 15ms/step - loss: 0.1433 - accuracy: 0.9543 - val_loss: 0.2866 - val_accuracy: 0.9215\n",
      "Epoch 17/100\n",
      "550/553 [============================>.] - ETA: 0s - loss: 0.1280 - accuracy: 0.9576\n",
      "Epoch 00017: val_loss improved from 0.27151 to 0.25440, saving model to /home/ssac5/aiffel/speech_recognition/models/wav\n",
      "553/553 [==============================] - 8s 15ms/step - loss: 0.1278 - accuracy: 0.9577 - val_loss: 0.2544 - val_accuracy: 0.9266\n",
      "Epoch 18/100\n",
      "550/553 [============================>.] - ETA: 0s - loss: 0.1196 - accuracy: 0.9611\n",
      "Epoch 00018: val_loss did not improve from 0.25440\n",
      "553/553 [==============================] - 8s 15ms/step - loss: 0.1196 - accuracy: 0.9611 - val_loss: 0.2737 - val_accuracy: 0.9215\n",
      "Epoch 19/100\n",
      "553/553 [==============================] - ETA: 0s - loss: 0.1203 - accuracy: 0.9606\n",
      "Epoch 00019: val_loss did not improve from 0.25440\n",
      "553/553 [==============================] - 8s 15ms/step - loss: 0.1203 - accuracy: 0.9606 - val_loss: 0.2828 - val_accuracy: 0.9239\n",
      "Epoch 20/100\n",
      "550/553 [============================>.] - ETA: 0s - loss: 0.1092 - accuracy: 0.9646\n",
      "Epoch 00020: val_loss improved from 0.25440 to 0.24937, saving model to /home/ssac5/aiffel/speech_recognition/models/wav\n",
      "553/553 [==============================] - 8s 15ms/step - loss: 0.1091 - accuracy: 0.9646 - val_loss: 0.2494 - val_accuracy: 0.9291\n",
      "Epoch 21/100\n",
      "549/553 [============================>.] - ETA: 0s - loss: 0.1152 - accuracy: 0.9624\n",
      "Epoch 00021: val_loss did not improve from 0.24937\n",
      "553/553 [==============================] - 8s 15ms/step - loss: 0.1148 - accuracy: 0.9625 - val_loss: 0.2678 - val_accuracy: 0.9254\n",
      "Epoch 22/100\n",
      "551/553 [============================>.] - ETA: 0s - loss: 0.1035 - accuracy: 0.9661\n",
      "Epoch 00022: val_loss did not improve from 0.24937\n",
      "553/553 [==============================] - 8s 15ms/step - loss: 0.1033 - accuracy: 0.9662 - val_loss: 0.2583 - val_accuracy: 0.9296\n",
      "Epoch 23/100\n",
      "553/553 [==============================] - ETA: 0s - loss: 0.1026 - accuracy: 0.9661\n",
      "Epoch 00023: val_loss did not improve from 0.24937\n",
      "553/553 [==============================] - 8s 15ms/step - loss: 0.1026 - accuracy: 0.9661 - val_loss: 0.2569 - val_accuracy: 0.9253\n",
      "Epoch 24/100\n",
      "549/553 [============================>.] - ETA: 0s - loss: 0.0953 - accuracy: 0.9682\n",
      "Epoch 00024: val_loss did not improve from 0.24937\n",
      "553/553 [==============================] - 8s 15ms/step - loss: 0.0948 - accuracy: 0.9684 - val_loss: 0.2549 - val_accuracy: 0.9316\n",
      "Epoch 25/100\n",
      "550/553 [============================>.] - ETA: 0s - loss: 0.0993 - accuracy: 0.9672\n",
      "Epoch 00025: val_loss did not improve from 0.24937\n",
      "553/553 [==============================] - 8s 15ms/step - loss: 0.0991 - accuracy: 0.9673 - val_loss: 0.2885 - val_accuracy: 0.9267\n"
     ]
    }
   ],
   "source": [
    "checkpoint_dir = os.getenv('HOME')+'/aiffel/speech_recognition/models/wav'\n",
    "train_data_count = len(train_wavs)\n",
    "\n",
    "early_stopping = tf.keras.callbacks.EarlyStopping(patience=5)\n",
    "model_checkpoint = tf.keras.callbacks.ModelCheckpoint(checkpoint_dir,\n",
    "                                                 save_weights_only=True,\n",
    "                                                 monitor='val_loss',\n",
    "                                                 mode='auto',\n",
    "                                                 save_best_only=True,\n",
    "                                                 verbose=1)\n",
    "history = model.fit(train_dataset, epochs=100,\n",
    "                    steps_per_epoch=(train_data_count//batch_size),\n",
    "                    validation_data=val_dataset,\n",
    "                    callbacks=[early_stopping, model_checkpoint]\n",
    "                    )"
   ]
  },
  {
   "cell_type": "markdown",
   "metadata": {},
   "source": [
    "모델 훈련 과정 확인"
   ]
  },
  {
   "cell_type": "code",
   "execution_count": 20,
   "metadata": {
    "scrolled": false
   },
   "outputs": [
    {
     "data": {
      "image/png": "[encoded data removed]",
      "text/plain": [
       "<Figure size 720x360 with 2 Axes>"
      ]
     },
     "metadata": {
      "needs_background": "light"
     },
     "output_type": "display_data"
    }
   ],
   "source": [
    "draw_graph(history)"
   ]
  },
  {
   "cell_type": "markdown",
   "metadata": {},
   "source": [
    "모델 시험"
   ]
  },
  {
   "cell_type": "code",
   "execution_count": 21,
   "metadata": {
    "scrolled": false
   },
   "outputs": [
    {
     "name": "stdout",
     "output_type": "stream",
     "text": [
      "80/80 [==============================] - 0s 5ms/step - loss: 0.2251 - accuracy: 0.9334\n",
      "[0.22513443231582642, 0.9334255456924438]\n"
     ]
    }
   ],
   "source": [
    "evaluate_result(model, checkpoint_dir, test_dataset)"
   ]
  },
  {
   "cell_type": "markdown",
   "metadata": {},
   "source": [
    "임의의 결과 확인하기"
   ]
  },
  {
   "cell_type": "code",
   "execution_count": 22,
   "metadata": {
    "scrolled": true
   },
   "outputs": [
    {
     "name": "stdout",
     "output_type": "stream",
     "text": [
      "예상값:  right\n",
      "실제값:  right\n",
      "-------------------------------------\n",
      "예상값:  silence\n",
      "실제값:  silence\n",
      "-------------------------------------\n",
      "예상값:  up\n",
      "실제값:  up\n",
      "-------------------------------------\n",
      "예상값:  stop\n",
      "실제값:  stop\n",
      "-------------------------------------\n",
      "예상값:  left\n",
      "실제값:  left\n",
      "-------------------------------------\n",
      "예상값:  down\n",
      "실제값:  down\n",
      "-------------------------------------\n",
      "예상값:  stop\n",
      "실제값:  stop\n",
      "-------------------------------------\n",
      "예상값:  on\n",
      "실제값:  on\n",
      "-------------------------------------\n",
      "예상값:  go\n",
      "실제값:  right\n",
      "-------------------------------------\n",
      "예상값:  no\n",
      "실제값:  no\n",
      "-------------------------------------\n"
     ]
    }
   ],
   "source": [
    "test_audio(model, test_wavs, test_labels, label_to_idx)"
   ]
  },
  {
   "cell_type": "markdown",
   "metadata": {},
   "source": [
    "### batch normalization 사용, dropout 사용 안함"
   ]
  },
  {
   "cell_type": "markdown",
   "metadata": {},
   "source": [
    "모델 생성"
   ]
  },
  {
   "cell_type": "code",
   "execution_count": 23,
   "metadata": {
    "scrolled": true
   },
   "outputs": [
    {
     "name": "stdout",
     "output_type": "stream",
     "text": [
      "Model: \"model_2\"\n",
      "_________________________________________________________________\n",
      "Layer (type)                 Output Shape              Param #   \n",
      "=================================================================\n",
      "input_3 (InputLayer)         [(None, 63, 257)]         0         \n",
      "_________________________________________________________________\n",
      "lstm_8 (LSTM)                (None, 63, 64)            82432     \n",
      "_________________________________________________________________\n",
      "lstm_9 (LSTM)                (None, 63, 64)            33024     \n",
      "_________________________________________________________________\n",
      "lstm_10 (LSTM)               (None, 63, 64)            33024     \n",
      "_________________________________________________________________\n",
      "lstm_11 (LSTM)               (None, 64)                33024     \n",
      "_________________________________________________________________\n",
      "dense_4 (Dense)              (None, 128)               8320      \n",
      "_________________________________________________________________\n",
      "batch_normalization (BatchNo (None, 128)               512       \n",
      "_________________________________________________________________\n",
      "activation_2 (Activation)    (None, 128)               0         \n",
      "_________________________________________________________________\n",
      "dense_5 (Dense)              (None, 12)                1548      \n",
      "=================================================================\n",
      "Total params: 191,884\n",
      "Trainable params: 191,628\n",
      "Non-trainable params: 256\n",
      "_________________________________________________________________\n"
     ]
    }
   ],
   "source": [
    "shape_x, shape_y = train_wavs[0].shape\n",
    "model = make_modelLSTM((shape_x, shape_y), need_batch_normalization=True)"
   ]
  },
  {
   "cell_type": "markdown",
   "metadata": {},
   "source": [
    "모델 훈련"
   ]
  },
  {
   "cell_type": "code",
   "execution_count": 24,
   "metadata": {
    "scrolled": true
   },
   "outputs": [
    {
     "name": "stdout",
     "output_type": "stream",
     "text": [
      "Epoch 1/100\n",
      "551/553 [============================>.] - ETA: 0s - loss: 1.2822 - accuracy: 0.5733\n",
      "Epoch 00001: val_loss improved from inf to 0.78523, saving model to /home/ssac5/aiffel/speech_recognition/models/wav\n",
      "553/553 [==============================] - 9s 17ms/step - loss: 1.2800 - accuracy: 0.5741 - val_loss: 0.7852 - val_accuracy: 0.7521\n",
      "Epoch 2/100\n",
      "552/553 [============================>.] - ETA: 0s - loss: 0.6613 - accuracy: 0.7916\n",
      "Epoch 00002: val_loss improved from 0.78523 to 0.63188, saving model to /home/ssac5/aiffel/speech_recognition/models/wav\n",
      "553/553 [==============================] - 8s 15ms/step - loss: 0.6610 - accuracy: 0.7916 - val_loss: 0.6319 - val_accuracy: 0.8042\n",
      "Epoch 3/100\n",
      "552/553 [============================>.] - ETA: 0s - loss: 0.4694 - accuracy: 0.8532\n",
      "Epoch 00003: val_loss improved from 0.63188 to 0.47658, saving model to /home/ssac5/aiffel/speech_recognition/models/wav\n",
      "553/553 [==============================] - 8s 15ms/step - loss: 0.4694 - accuracy: 0.8532 - val_loss: 0.4766 - val_accuracy: 0.8480\n",
      "Epoch 4/100\n",
      "551/553 [============================>.] - ETA: 0s - loss: 0.3711 - accuracy: 0.8835\n",
      "Epoch 00004: val_loss improved from 0.47658 to 0.43898, saving model to /home/ssac5/aiffel/speech_recognition/models/wav\n",
      "553/553 [==============================] - 8s 15ms/step - loss: 0.3712 - accuracy: 0.8835 - val_loss: 0.4390 - val_accuracy: 0.8585\n",
      "Epoch 5/100\n",
      "551/553 [============================>.] - ETA: 0s - loss: 0.3029 - accuracy: 0.9021\n",
      "Epoch 00005: val_loss improved from 0.43898 to 0.36134, saving model to /home/ssac5/aiffel/speech_recognition/models/wav\n",
      "553/553 [==============================] - 8s 15ms/step - loss: 0.3030 - accuracy: 0.9021 - val_loss: 0.3613 - val_accuracy: 0.8862\n",
      "Epoch 6/100\n",
      "552/553 [============================>.] - ETA: 0s - loss: 0.2592 - accuracy: 0.9162\n",
      "Epoch 00006: val_loss improved from 0.36134 to 0.33158, saving model to /home/ssac5/aiffel/speech_recognition/models/wav\n",
      "553/553 [==============================] - 8s 15ms/step - loss: 0.2593 - accuracy: 0.9161 - val_loss: 0.3316 - val_accuracy: 0.8988\n",
      "Epoch 7/100\n",
      "552/553 [============================>.] - ETA: 0s - loss: 0.2286 - accuracy: 0.9271\n",
      "Epoch 00007: val_loss improved from 0.33158 to 0.30245, saving model to /home/ssac5/aiffel/speech_recognition/models/wav\n",
      "553/553 [==============================] - 8s 15ms/step - loss: 0.2284 - accuracy: 0.9272 - val_loss: 0.3025 - val_accuracy: 0.9070\n",
      "Epoch 8/100\n",
      "552/553 [============================>.] - ETA: 0s - loss: 0.1970 - accuracy: 0.9365\n",
      "Epoch 00008: val_loss did not improve from 0.30245\n",
      "553/553 [==============================] - 8s 15ms/step - loss: 0.1968 - accuracy: 0.9366 - val_loss: 0.3079 - val_accuracy: 0.9053\n",
      "Epoch 9/100\n",
      "549/553 [============================>.] - ETA: 0s - loss: 0.1789 - accuracy: 0.9421\n",
      "Epoch 00009: val_loss improved from 0.30245 to 0.28689, saving model to /home/ssac5/aiffel/speech_recognition/models/wav\n",
      "553/553 [==============================] - 8s 15ms/step - loss: 0.1790 - accuracy: 0.9419 - val_loss: 0.2869 - val_accuracy: 0.9122\n",
      "Epoch 10/100\n",
      "553/553 [==============================] - ETA: 0s - loss: 0.1648 - accuracy: 0.9469\n",
      "Epoch 00010: val_loss did not improve from 0.28689\n",
      "553/553 [==============================] - 8s 15ms/step - loss: 0.1648 - accuracy: 0.9469 - val_loss: 0.2987 - val_accuracy: 0.9138\n",
      "Epoch 11/100\n",
      "553/553 [==============================] - ETA: 0s - loss: 0.1522 - accuracy: 0.9505\n",
      "Epoch 00011: val_loss improved from 0.28689 to 0.27339, saving model to /home/ssac5/aiffel/speech_recognition/models/wav\n",
      "553/553 [==============================] - 8s 15ms/step - loss: 0.1522 - accuracy: 0.9505 - val_loss: 0.2734 - val_accuracy: 0.9191\n",
      "Epoch 12/100\n",
      "552/553 [============================>.] - ETA: 0s - loss: 0.1381 - accuracy: 0.9558\n",
      "Epoch 00012: val_loss did not improve from 0.27339\n",
      "553/553 [==============================] - 8s 15ms/step - loss: 0.1381 - accuracy: 0.9558 - val_loss: 0.2757 - val_accuracy: 0.9163\n",
      "Epoch 13/100\n",
      "550/553 [============================>.] - ETA: 0s - loss: 0.1326 - accuracy: 0.9575\n",
      "Epoch 00013: val_loss improved from 0.27339 to 0.25745, saving model to /home/ssac5/aiffel/speech_recognition/models/wav\n",
      "553/553 [==============================] - 8s 15ms/step - loss: 0.1327 - accuracy: 0.9574 - val_loss: 0.2575 - val_accuracy: 0.9229\n",
      "Epoch 14/100\n",
      "551/553 [============================>.] - ETA: 0s - loss: 0.1201 - accuracy: 0.9605\n",
      "Epoch 00014: val_loss improved from 0.25745 to 0.25378, saving model to /home/ssac5/aiffel/speech_recognition/models/wav\n",
      "553/553 [==============================] - 8s 15ms/step - loss: 0.1205 - accuracy: 0.9604 - val_loss: 0.2538 - val_accuracy: 0.9258\n",
      "Epoch 15/100\n",
      "551/553 [============================>.] - ETA: 0s - loss: 0.1152 - accuracy: 0.9623\n",
      "Epoch 00015: val_loss did not improve from 0.25378\n",
      "553/553 [==============================] - 8s 15ms/step - loss: 0.1153 - accuracy: 0.9622 - val_loss: 0.2546 - val_accuracy: 0.9258\n",
      "Epoch 16/100\n",
      "553/553 [==============================] - ETA: 0s - loss: 0.1104 - accuracy: 0.9632\n",
      "Epoch 00016: val_loss did not improve from 0.25378\n",
      "553/553 [==============================] - 8s 15ms/step - loss: 0.1104 - accuracy: 0.9632 - val_loss: 0.2756 - val_accuracy: 0.9208\n",
      "Epoch 17/100\n",
      "553/553 [==============================] - ETA: 0s - loss: 0.1020 - accuracy: 0.9660\n",
      "Epoch 00017: val_loss improved from 0.25378 to 0.23251, saving model to /home/ssac5/aiffel/speech_recognition/models/wav\n",
      "553/553 [==============================] - 8s 15ms/step - loss: 0.1020 - accuracy: 0.9660 - val_loss: 0.2325 - val_accuracy: 0.9315\n",
      "Epoch 18/100\n",
      "550/553 [============================>.] - ETA: 0s - loss: 0.0988 - accuracy: 0.9666\n",
      "Epoch 00018: val_loss did not improve from 0.23251\n",
      "553/553 [==============================] - 8s 15ms/step - loss: 0.0988 - accuracy: 0.9666 - val_loss: 0.2607 - val_accuracy: 0.9257\n",
      "Epoch 19/100\n",
      "550/553 [============================>.] - ETA: 0s - loss: 0.0968 - accuracy: 0.9674\n",
      "Epoch 00019: val_loss did not improve from 0.23251\n",
      "553/553 [==============================] - 8s 15ms/step - loss: 0.0965 - accuracy: 0.9675 - val_loss: 0.2807 - val_accuracy: 0.9237\n",
      "Epoch 20/100\n",
      "550/553 [============================>.] - ETA: 0s - loss: 0.0938 - accuracy: 0.9699\n",
      "Epoch 00020: val_loss did not improve from 0.23251\n",
      "553/553 [==============================] - 8s 15ms/step - loss: 0.0936 - accuracy: 0.9699 - val_loss: 0.2345 - val_accuracy: 0.9338\n",
      "Epoch 21/100\n",
      "550/553 [============================>.] - ETA: 0s - loss: 0.0853 - accuracy: 0.9711\n",
      "Epoch 00021: val_loss did not improve from 0.23251\n",
      "553/553 [==============================] - 8s 15ms/step - loss: 0.0852 - accuracy: 0.9711 - val_loss: 0.2474 - val_accuracy: 0.9314\n",
      "Epoch 22/100\n",
      "552/553 [============================>.] - ETA: 0s - loss: 0.0861 - accuracy: 0.9716\n",
      "Epoch 00022: val_loss improved from 0.23251 to 0.23110, saving model to /home/ssac5/aiffel/speech_recognition/models/wav\n",
      "553/553 [==============================] - 8s 15ms/step - loss: 0.0860 - accuracy: 0.9717 - val_loss: 0.2311 - val_accuracy: 0.9348\n",
      "Epoch 23/100\n",
      "549/553 [============================>.] - ETA: 0s - loss: 0.0821 - accuracy: 0.9726\n",
      "Epoch 00023: val_loss did not improve from 0.23110\n",
      "553/553 [==============================] - 8s 15ms/step - loss: 0.0818 - accuracy: 0.9728 - val_loss: 0.2558 - val_accuracy: 0.9312\n",
      "Epoch 24/100\n",
      "553/553 [==============================] - ETA: 0s - loss: 0.0687 - accuracy: 0.9765\n",
      "Epoch 00024: val_loss did not improve from 0.23110\n",
      "553/553 [==============================] - 8s 15ms/step - loss: 0.0687 - accuracy: 0.9765 - val_loss: 0.2341 - val_accuracy: 0.9368\n",
      "Epoch 25/100\n",
      "551/553 [============================>.] - ETA: 0s - loss: 0.0795 - accuracy: 0.9733\n",
      "Epoch 00025: val_loss did not improve from 0.23110\n",
      "553/553 [==============================] - 8s 15ms/step - loss: 0.0794 - accuracy: 0.9733 - val_loss: 0.2825 - val_accuracy: 0.9258\n",
      "Epoch 26/100\n",
      "553/553 [==============================] - ETA: 0s - loss: 0.0780 - accuracy: 0.9740\n",
      "Epoch 00026: val_loss did not improve from 0.23110\n",
      "553/553 [==============================] - 8s 15ms/step - loss: 0.0780 - accuracy: 0.9740 - val_loss: 0.2529 - val_accuracy: 0.9344\n"
     ]
    },
    {
     "name": "stdout",
     "output_type": "stream",
     "text": [
      "Epoch 27/100\n",
      "550/553 [============================>.] - ETA: 0s - loss: 0.0727 - accuracy: 0.9754\n",
      "Epoch 00027: val_loss did not improve from 0.23110\n",
      "553/553 [==============================] - 8s 15ms/step - loss: 0.0725 - accuracy: 0.9755 - val_loss: 0.2748 - val_accuracy: 0.9330\n"
     ]
    }
   ],
   "source": [
    "checkpoint_dir = os.getenv('HOME')+'/aiffel/speech_recognition/models/wav'\n",
    "train_data_count = len(train_wavs)\n",
    "\n",
    "early_stopping = tf.keras.callbacks.EarlyStopping(patience=5)\n",
    "model_checkpoint = tf.keras.callbacks.ModelCheckpoint(checkpoint_dir,\n",
    "                                                 save_weights_only=True,\n",
    "                                                 monitor='val_loss',\n",
    "                                                 mode='auto',\n",
    "                                                 save_best_only=True,\n",
    "                                                 verbose=1)\n",
    "history = model.fit(train_dataset, epochs=100,\n",
    "                    steps_per_epoch=(train_data_count//batch_size),\n",
    "                    validation_data=val_dataset,\n",
    "                    callbacks=[early_stopping, model_checkpoint]\n",
    "                    )"
   ]
  },
  {
   "cell_type": "markdown",
   "metadata": {},
   "source": [
    "모델 훈련 과정 확인"
   ]
  },
  {
   "cell_type": "code",
   "execution_count": 25,
   "metadata": {
    "scrolled": false
   },
   "outputs": [
    {
     "data": {
      "image/png": "[encoded data removed]",
      "text/plain": [
       "<Figure size 720x360 with 2 Axes>"
      ]
     },
     "metadata": {
      "needs_background": "light"
     },
     "output_type": "display_data"
    }
   ],
   "source": [
    "draw_graph(history)"
   ]
  },
  {
   "cell_type": "markdown",
   "metadata": {},
   "source": [
    "모델 시험"
   ]
  },
  {
   "cell_type": "code",
   "execution_count": 26,
   "metadata": {
    "scrolled": false
   },
   "outputs": [
    {
     "name": "stdout",
     "output_type": "stream",
     "text": [
      "80/80 [==============================] - 0s 5ms/step - loss: 0.2327 - accuracy: 0.9318\n",
      "[0.23274074494838715, 0.9318451285362244]\n"
     ]
    }
   ],
   "source": [
    "evaluate_result(model, checkpoint_dir, test_dataset)"
   ]
  },
  {
   "cell_type": "markdown",
   "metadata": {},
   "source": [
    "임의의 결과 확인하기"
   ]
  },
  {
   "cell_type": "code",
   "execution_count": 27,
   "metadata": {
    "scrolled": true
   },
   "outputs": [
    {
     "name": "stdout",
     "output_type": "stream",
     "text": [
      "예상값:  off\n",
      "실제값:  off\n",
      "-------------------------------------\n",
      "예상값:  go\n",
      "실제값:  go\n",
      "-------------------------------------\n",
      "예상값:  no\n",
      "실제값:  no\n",
      "-------------------------------------\n",
      "예상값:  off\n",
      "실제값:  off\n",
      "-------------------------------------\n",
      "예상값:  on\n",
      "실제값:  on\n",
      "-------------------------------------\n",
      "예상값:  down\n",
      "실제값:  down\n",
      "-------------------------------------\n",
      "예상값:  left\n",
      "실제값:  left\n",
      "-------------------------------------\n",
      "예상값:  down\n",
      "실제값:  down\n",
      "-------------------------------------\n",
      "예상값:  down\n",
      "실제값:  down\n",
      "-------------------------------------\n",
      "예상값:  yes\n",
      "실제값:  yes\n",
      "-------------------------------------\n"
     ]
    }
   ],
   "source": [
    "test_audio(model, test_wavs, test_labels, label_to_idx)"
   ]
  },
  {
   "cell_type": "markdown",
   "metadata": {},
   "source": [
    "### dropout, batch normalization 모두 사용"
   ]
  },
  {
   "cell_type": "markdown",
   "metadata": {},
   "source": [
    "모델 생성"
   ]
  },
  {
   "cell_type": "code",
   "execution_count": 28,
   "metadata": {
    "scrolled": true
   },
   "outputs": [
    {
     "name": "stdout",
     "output_type": "stream",
     "text": [
      "Model: \"model_3\"\n",
      "_________________________________________________________________\n",
      "Layer (type)                 Output Shape              Param #   \n",
      "=================================================================\n",
      "input_4 (InputLayer)         [(None, 63, 257)]         0         \n",
      "_________________________________________________________________\n",
      "lstm_12 (LSTM)               (None, 63, 64)            82432     \n",
      "_________________________________________________________________\n",
      "lstm_13 (LSTM)               (None, 63, 64)            33024     \n",
      "_________________________________________________________________\n",
      "dropout_2 (Dropout)          (None, 63, 64)            0         \n",
      "_________________________________________________________________\n",
      "lstm_14 (LSTM)               (None, 63, 64)            33024     \n",
      "_________________________________________________________________\n",
      "lstm_15 (LSTM)               (None, 64)                33024     \n",
      "_________________________________________________________________\n",
      "dropout_3 (Dropout)          (None, 64)                0         \n",
      "_________________________________________________________________\n",
      "dense_6 (Dense)              (None, 128)               8320      \n",
      "_________________________________________________________________\n",
      "batch_normalization_1 (Batch (None, 128)               512       \n",
      "_________________________________________________________________\n",
      "activation_3 (Activation)    (None, 128)               0         \n",
      "_________________________________________________________________\n",
      "dense_7 (Dense)              (None, 12)                1548      \n",
      "=================================================================\n",
      "Total params: 191,884\n",
      "Trainable params: 191,628\n",
      "Non-trainable params: 256\n",
      "_________________________________________________________________\n"
     ]
    }
   ],
   "source": [
    "shape_x, shape_y = train_wavs[0].shape\n",
    "model = make_modelLSTM((shape_x, shape_y), need_dropout=True, need_batch_normalization=True)"
   ]
  },
  {
   "cell_type": "markdown",
   "metadata": {},
   "source": [
    "모델 훈련"
   ]
  },
  {
   "cell_type": "code",
   "execution_count": 29,
   "metadata": {
    "scrolled": true
   },
   "outputs": [
    {
     "name": "stdout",
     "output_type": "stream",
     "text": [
      "Epoch 1/100\n",
      "550/553 [============================>.] - ETA: 0s - loss: 1.3586 - accuracy: 0.5500\n",
      "Epoch 00001: val_loss improved from inf to 0.81116, saving model to /home/ssac5/aiffel/speech_recognition/models/wav\n",
      "553/553 [==============================] - 9s 17ms/step - loss: 1.3556 - accuracy: 0.5511 - val_loss: 0.8112 - val_accuracy: 0.7382\n",
      "Epoch 2/100\n",
      "550/553 [============================>.] - ETA: 0s - loss: 0.7220 - accuracy: 0.7763\n",
      "Epoch 00002: val_loss improved from 0.81116 to 0.63497, saving model to /home/ssac5/aiffel/speech_recognition/models/wav\n",
      "553/553 [==============================] - 9s 15ms/step - loss: 0.7211 - accuracy: 0.7766 - val_loss: 0.6350 - val_accuracy: 0.8022\n",
      "Epoch 3/100\n",
      "550/553 [============================>.] - ETA: 0s - loss: 0.5150 - accuracy: 0.8391\n",
      "Epoch 00003: val_loss improved from 0.63497 to 0.49393, saving model to /home/ssac5/aiffel/speech_recognition/models/wav\n",
      "553/553 [==============================] - 9s 15ms/step - loss: 0.5147 - accuracy: 0.8391 - val_loss: 0.4939 - val_accuracy: 0.8477\n",
      "Epoch 4/100\n",
      "550/553 [============================>.] - ETA: 0s - loss: 0.4215 - accuracy: 0.8698\n",
      "Epoch 00004: val_loss improved from 0.49393 to 0.41606, saving model to /home/ssac5/aiffel/speech_recognition/models/wav\n",
      "553/553 [==============================] - 9s 16ms/step - loss: 0.4214 - accuracy: 0.8699 - val_loss: 0.4161 - val_accuracy: 0.8667\n",
      "Epoch 5/100\n",
      "552/553 [============================>.] - ETA: 0s - loss: 0.3471 - accuracy: 0.8909\n",
      "Epoch 00005: val_loss improved from 0.41606 to 0.41352, saving model to /home/ssac5/aiffel/speech_recognition/models/wav\n",
      "553/553 [==============================] - 9s 15ms/step - loss: 0.3471 - accuracy: 0.8909 - val_loss: 0.4135 - val_accuracy: 0.8729\n",
      "Epoch 6/100\n",
      "551/553 [============================>.] - ETA: 0s - loss: 0.2957 - accuracy: 0.9075\n",
      "Epoch 00006: val_loss improved from 0.41352 to 0.37395, saving model to /home/ssac5/aiffel/speech_recognition/models/wav\n",
      "553/553 [==============================] - 8s 15ms/step - loss: 0.2955 - accuracy: 0.9075 - val_loss: 0.3740 - val_accuracy: 0.8872\n",
      "Epoch 7/100\n",
      "553/553 [==============================] - ETA: 0s - loss: 0.2653 - accuracy: 0.9176\n",
      "Epoch 00007: val_loss improved from 0.37395 to 0.33799, saving model to /home/ssac5/aiffel/speech_recognition/models/wav\n",
      "553/553 [==============================] - 8s 15ms/step - loss: 0.2653 - accuracy: 0.9176 - val_loss: 0.3380 - val_accuracy: 0.8975\n",
      "Epoch 8/100\n",
      "553/553 [==============================] - ETA: 0s - loss: 0.2281 - accuracy: 0.9281\n",
      "Epoch 00008: val_loss improved from 0.33799 to 0.33477, saving model to /home/ssac5/aiffel/speech_recognition/models/wav\n",
      "553/553 [==============================] - 8s 15ms/step - loss: 0.2281 - accuracy: 0.9281 - val_loss: 0.3348 - val_accuracy: 0.9004\n",
      "Epoch 9/100\n",
      "552/553 [============================>.] - ETA: 0s - loss: 0.2082 - accuracy: 0.9348\n",
      "Epoch 00009: val_loss improved from 0.33477 to 0.31731, saving model to /home/ssac5/aiffel/speech_recognition/models/wav\n",
      "553/553 [==============================] - 8s 15ms/step - loss: 0.2080 - accuracy: 0.9348 - val_loss: 0.3173 - val_accuracy: 0.9088\n",
      "Epoch 10/100\n",
      "550/553 [============================>.] - ETA: 0s - loss: 0.1914 - accuracy: 0.9420\n",
      "Epoch 00010: val_loss improved from 0.31731 to 0.30814, saving model to /home/ssac5/aiffel/speech_recognition/models/wav\n",
      "553/553 [==============================] - 8s 15ms/step - loss: 0.1911 - accuracy: 0.9421 - val_loss: 0.3081 - val_accuracy: 0.9112\n",
      "Epoch 11/100\n",
      "550/553 [============================>.] - ETA: 0s - loss: 0.1820 - accuracy: 0.9421\n",
      "Epoch 00011: val_loss improved from 0.30814 to 0.28351, saving model to /home/ssac5/aiffel/speech_recognition/models/wav\n",
      "553/553 [==============================] - 8s 15ms/step - loss: 0.1822 - accuracy: 0.9421 - val_loss: 0.2835 - val_accuracy: 0.9155\n",
      "Epoch 12/100\n",
      "553/553 [==============================] - ETA: 0s - loss: 0.1721 - accuracy: 0.9453\n",
      "Epoch 00012: val_loss did not improve from 0.28351\n",
      "553/553 [==============================] - 8s 15ms/step - loss: 0.1721 - accuracy: 0.9453 - val_loss: 0.2862 - val_accuracy: 0.9166\n",
      "Epoch 13/100\n",
      "550/553 [============================>.] - ETA: 0s - loss: 0.1552 - accuracy: 0.9514\n",
      "Epoch 00013: val_loss improved from 0.28351 to 0.26621, saving model to /home/ssac5/aiffel/speech_recognition/models/wav\n",
      "553/553 [==============================] - 8s 15ms/step - loss: 0.1553 - accuracy: 0.9514 - val_loss: 0.2662 - val_accuracy: 0.9260\n",
      "Epoch 14/100\n",
      "553/553 [==============================] - ETA: 0s - loss: 0.1430 - accuracy: 0.9550\n",
      "Epoch 00014: val_loss did not improve from 0.26621\n",
      "553/553 [==============================] - 8s 15ms/step - loss: 0.1430 - accuracy: 0.9550 - val_loss: 0.2899 - val_accuracy: 0.9167\n",
      "Epoch 15/100\n",
      "551/553 [============================>.] - ETA: 0s - loss: 0.1389 - accuracy: 0.9559\n",
      "Epoch 00015: val_loss did not improve from 0.26621\n",
      "553/553 [==============================] - 8s 15ms/step - loss: 0.1391 - accuracy: 0.9559 - val_loss: 0.2769 - val_accuracy: 0.9168\n",
      "Epoch 16/100\n",
      "551/553 [============================>.] - ETA: 0s - loss: 0.1346 - accuracy: 0.9578\n",
      "Epoch 00016: val_loss did not improve from 0.26621\n",
      "553/553 [==============================] - 8s 15ms/step - loss: 0.1349 - accuracy: 0.9578 - val_loss: 0.2716 - val_accuracy: 0.9211\n",
      "Epoch 17/100\n",
      "550/553 [============================>.] - ETA: 0s - loss: 0.1223 - accuracy: 0.9617\n",
      "Epoch 00017: val_loss improved from 0.26621 to 0.25182, saving model to /home/ssac5/aiffel/speech_recognition/models/wav\n",
      "553/553 [==============================] - 8s 15ms/step - loss: 0.1225 - accuracy: 0.9616 - val_loss: 0.2518 - val_accuracy: 0.9292\n",
      "Epoch 18/100\n",
      "550/553 [============================>.] - ETA: 0s - loss: 0.1180 - accuracy: 0.9632\n",
      "Epoch 00018: val_loss did not improve from 0.25182\n",
      "553/553 [==============================] - 8s 15ms/step - loss: 0.1178 - accuracy: 0.9632 - val_loss: 0.2610 - val_accuracy: 0.9293\n",
      "Epoch 19/100\n",
      "552/553 [============================>.] - ETA: 0s - loss: 0.1286 - accuracy: 0.9596\n",
      "Epoch 00019: val_loss did not improve from 0.25182\n",
      "553/553 [==============================] - 8s 15ms/step - loss: 0.1286 - accuracy: 0.9596 - val_loss: 0.2789 - val_accuracy: 0.9195\n",
      "Epoch 20/100\n",
      "551/553 [============================>.] - ETA: 0s - loss: 0.1115 - accuracy: 0.9643\n",
      "Epoch 00020: val_loss did not improve from 0.25182\n",
      "553/553 [==============================] - 8s 15ms/step - loss: 0.1113 - accuracy: 0.9644 - val_loss: 0.2601 - val_accuracy: 0.9263\n",
      "Epoch 21/100\n",
      "551/553 [============================>.] - ETA: 0s - loss: 0.1020 - accuracy: 0.9683\n",
      "Epoch 00021: val_loss did not improve from 0.25182\n",
      "553/553 [==============================] - 8s 15ms/step - loss: 0.1020 - accuracy: 0.9684 - val_loss: 0.2598 - val_accuracy: 0.9300\n",
      "Epoch 22/100\n",
      "553/553 [==============================] - ETA: 0s - loss: 0.0963 - accuracy: 0.9695\n",
      "Epoch 00022: val_loss did not improve from 0.25182\n",
      "553/553 [==============================] - 8s 15ms/step - loss: 0.0963 - accuracy: 0.9695 - val_loss: 0.2626 - val_accuracy: 0.9325\n"
     ]
    }
   ],
   "source": [
    "checkpoint_dir = os.getenv('HOME')+'/aiffel/speech_recognition/models/wav'\n",
    "train_data_count = len(train_wavs)\n",
    "\n",
    "early_stopping = tf.keras.callbacks.EarlyStopping(patience=5)\n",
    "model_checkpoint = tf.keras.callbacks.ModelCheckpoint(checkpoint_dir,\n",
    "                                                 save_weights_only=True,\n",
    "                                                 monitor='val_loss',\n",
    "                                                 mode='auto',\n",
    "                                                 save_best_only=True,\n",
    "                                                 verbose=1)\n",
    "history = model.fit(train_dataset, epochs=100,\n",
    "                    steps_per_epoch=(train_data_count//batch_size),\n",
    "                    validation_data=val_dataset,\n",
    "                    callbacks=[early_stopping, model_checkpoint]\n",
    "                    )"
   ]
  },
  {
   "cell_type": "markdown",
   "metadata": {},
   "source": [
    "모델 훈련 과정 확인"
   ]
  },
  {
   "cell_type": "code",
   "execution_count": 30,
   "metadata": {
    "scrolled": false
   },
   "outputs": [
    {
     "data": {
      "image/png": "[encoded data removed]",
      "text/plain": [
       "<Figure size 720x360 with 2 Axes>"
      ]
     },
     "metadata": {
      "needs_background": "light"
     },
     "output_type": "display_data"
    }
   ],
   "source": [
    "draw_graph(history)"
   ]
  },
  {
   "cell_type": "markdown",
   "metadata": {},
   "source": [
    "모델 시험"
   ]
  },
  {
   "cell_type": "code",
   "execution_count": 31,
   "metadata": {
    "scrolled": false
   },
   "outputs": [
    {
     "name": "stdout",
     "output_type": "stream",
     "text": [
      "80/80 [==============================] - 0s 5ms/step - loss: 0.2397 - accuracy: 0.9336\n",
      "[0.23969145119190216, 0.9336230754852295]\n"
     ]
    }
   ],
   "source": [
    "evaluate_result(model, checkpoint_dir, test_dataset)"
   ]
  },
  {
   "cell_type": "markdown",
   "metadata": {},
   "source": [
    "임의의 결과 확인하기"
   ]
  },
  {
   "cell_type": "code",
   "execution_count": 32,
   "metadata": {
    "scrolled": true
   },
   "outputs": [
    {
     "name": "stdout",
     "output_type": "stream",
     "text": [
      "예상값:  up\n",
      "실제값:  up\n",
      "-------------------------------------\n",
      "예상값:  on\n",
      "실제값:  on\n",
      "-------------------------------------\n",
      "예상값:  up\n",
      "실제값:  up\n",
      "-------------------------------------\n",
      "예상값:  right\n",
      "실제값:  right\n",
      "-------------------------------------\n",
      "예상값:  right\n",
      "실제값:  right\n",
      "-------------------------------------\n",
      "예상값:  down\n",
      "실제값:  down\n",
      "-------------------------------------\n",
      "예상값:  yes\n",
      "실제값:  yes\n",
      "-------------------------------------\n",
      "예상값:  unknown\n",
      "실제값:  down\n",
      "-------------------------------------\n",
      "예상값:  stop\n",
      "실제값:  stop\n",
      "-------------------------------------\n",
      "예상값:  silence\n",
      "실제값:  silence\n",
      "-------------------------------------\n"
     ]
    }
   ],
   "source": [
    "test_audio(model, test_wavs, test_labels, label_to_idx)"
   ]
  },
  {
   "cell_type": "markdown",
   "metadata": {},
   "source": [
    "----------------------"
   ]
  },
  {
   "cell_type": "markdown",
   "metadata": {},
   "source": [
    "# Cov2D"
   ]
  },
  {
   "cell_type": "markdown",
   "metadata": {},
   "source": [
    "### dropout, batch normalization, skip connection 모두 사용 안함"
   ]
  },
  {
   "cell_type": "markdown",
   "metadata": {},
   "source": [
    "모델 생성"
   ]
  },
  {
   "cell_type": "code",
   "execution_count": 33,
   "metadata": {
    "scrolled": true
   },
   "outputs": [
    {
     "name": "stdout",
     "output_type": "stream",
     "text": [
      "Model: \"model_4\"\n",
      "_________________________________________________________________\n",
      "Layer (type)                 Output Shape              Param #   \n",
      "=================================================================\n",
      "input_5 (InputLayer)         [(None, 63, 257, 1)]      0         \n",
      "_________________________________________________________________\n",
      "conv2d (Conv2D)              (None, 63, 257, 32)       2624      \n",
      "_________________________________________________________________\n",
      "max_pooling2d (MaxPooling2D) (None, 31, 128, 32)       0         \n",
      "_________________________________________________________________\n",
      "conv2d_1 (Conv2D)            (None, 31, 128, 64)       165952    \n",
      "_________________________________________________________________\n",
      "max_pooling2d_1 (MaxPooling2 (None, 15, 64, 64)        0         \n",
      "_________________________________________________________________\n",
      "conv2d_2 (Conv2D)            (None, 15, 64, 128)       663680    \n",
      "_________________________________________________________________\n",
      "max_pooling2d_2 (MaxPooling2 (None, 7, 32, 128)        0         \n",
      "_________________________________________________________________\n",
      "flatten (Flatten)            (None, 28672)             0         \n",
      "_________________________________________________________________\n",
      "dense_8 (Dense)              (None, 128)               3670144   \n",
      "_________________________________________________________________\n",
      "activation_4 (Activation)    (None, 128)               0         \n",
      "_________________________________________________________________\n",
      "dense_9 (Dense)              (None, 12)                1548      \n",
      "=================================================================\n",
      "Total params: 4,503,948\n",
      "Trainable params: 4,503,948\n",
      "Non-trainable params: 0\n",
      "_________________________________________________________________\n"
     ]
    }
   ],
   "source": [
    "shape_x, shape_y = train_wavs[0].shape\n",
    "model = make_model2D((shape_x, shape_y, 1))"
   ]
  },
  {
   "cell_type": "markdown",
   "metadata": {},
   "source": [
    "모델 훈련"
   ]
  },
  {
   "cell_type": "code",
   "execution_count": 34,
   "metadata": {},
   "outputs": [
    {
     "name": "stdout",
     "output_type": "stream",
     "text": [
      "Epoch 1/20\n",
      "553/553 [==============================] - ETA: 0s - loss: 2.4845 - accuracy: 0.0848\n",
      "Epoch 00001: val_loss improved from inf to 2.48484, saving model to /home/ssac5/aiffel/speech_recognition/models/wav\n",
      "553/553 [==============================] - 49s 88ms/step - loss: 2.4845 - accuracy: 0.0848 - val_loss: 2.4848 - val_accuracy: 0.0863\n",
      "Epoch 2/20\n",
      "553/553 [==============================] - ETA: 0s - loss: 2.4848 - accuracy: 0.0830\n",
      "Epoch 00002: val_loss did not improve from 2.48484\n",
      "553/553 [==============================] - 43s 77ms/step - loss: 2.4848 - accuracy: 0.0830 - val_loss: 2.4851 - val_accuracy: 0.0888\n",
      "Epoch 3/20\n",
      "553/553 [==============================] - ETA: 0s - loss: 2.4848 - accuracy: 0.0832\n",
      "Epoch 00003: val_loss did not improve from 2.48484\n",
      "553/553 [==============================] - 43s 78ms/step - loss: 2.4848 - accuracy: 0.0832 - val_loss: 2.4851 - val_accuracy: 0.0888\n",
      "Epoch 4/20\n",
      "553/553 [==============================] - ETA: 0s - loss: 2.4847 - accuracy: 0.0831\n",
      "Epoch 00004: val_loss did not improve from 2.48484\n",
      "553/553 [==============================] - 43s 78ms/step - loss: 2.4847 - accuracy: 0.0831 - val_loss: 2.4851 - val_accuracy: 0.0888\n",
      "Epoch 5/20\n",
      "553/553 [==============================] - ETA: 0s - loss: 2.4848 - accuracy: 0.0830\n",
      "Epoch 00005: val_loss did not improve from 2.48484\n",
      "553/553 [==============================] - 43s 78ms/step - loss: 2.4848 - accuracy: 0.0830 - val_loss: 2.4851 - val_accuracy: 0.0888\n",
      "Epoch 6/20\n",
      "553/553 [==============================] - ETA: 0s - loss: 2.4847 - accuracy: 0.0831\n",
      "Epoch 00006: val_loss did not improve from 2.48484\n",
      "553/553 [==============================] - 43s 78ms/step - loss: 2.4847 - accuracy: 0.0831 - val_loss: 2.4851 - val_accuracy: 0.0888\n"
     ]
    }
   ],
   "source": [
    "checkpoint_dir = os.getenv('HOME')+'/aiffel/speech_recognition/models/wav'\n",
    "train_data_count = len(train_wavs)\n",
    "\n",
    "early_stopping = tf.keras.callbacks.EarlyStopping(patience=5)\n",
    "model_checkpoint = tf.keras.callbacks.ModelCheckpoint(checkpoint_dir,\n",
    "                                                 save_weights_only=True,\n",
    "                                                 monitor='val_loss',\n",
    "                                                 mode='auto',\n",
    "                                                 save_best_only=True,\n",
    "                                                 verbose=1)\n",
    "history = model.fit(train_dataset, epochs=20,\n",
    "                    steps_per_epoch=train_data_count // batch_size,\n",
    "                    validation_data=val_dataset,\n",
    "                    callbacks=[early_stopping, model_checkpoint]\n",
    "                    )"
   ]
  },
  {
   "cell_type": "markdown",
   "metadata": {},
   "source": [
    "모델 훈련 과정 확인"
   ]
  },
  {
   "cell_type": "code",
   "execution_count": 35,
   "metadata": {
    "scrolled": true
   },
   "outputs": [
    {
     "data": {
      "image/png": "[encoded data removed]",
      "text/plain": [
       "<Figure size 720x360 with 2 Axes>"
      ]
     },
     "metadata": {
      "needs_background": "light"
     },
     "output_type": "display_data"
    }
   ],
   "source": [
    "draw_graph(history)"
   ]
  },
  {
   "cell_type": "markdown",
   "metadata": {},
   "source": [
    "모델 시험"
   ]
  },
  {
   "cell_type": "code",
   "execution_count": 36,
   "metadata": {
    "scrolled": true
   },
   "outputs": [
    {
     "name": "stdout",
     "output_type": "stream",
     "text": [
      "80/80 [==============================] - 7s 89ms/step - loss: 2.4845 - accuracy: 0.0838\n",
      "[2.484524965286255, 0.08376135677099228]\n"
     ]
    }
   ],
   "source": [
    "evaluate_result(model, checkpoint_dir, test_dataset)"
   ]
  },
  {
   "cell_type": "markdown",
   "metadata": {},
   "source": [
    "임의의 결과 확인하기"
   ]
  },
  {
   "cell_type": "code",
   "execution_count": 37,
   "metadata": {
    "scrolled": true
   },
   "outputs": [
    {
     "name": "stdout",
     "output_type": "stream",
     "text": [
      "예상값:  yes\n",
      "실제값:  stop\n",
      "-------------------------------------\n",
      "예상값:  yes\n",
      "실제값:  up\n",
      "-------------------------------------\n",
      "예상값:  yes\n",
      "실제값:  unknown\n",
      "-------------------------------------\n",
      "예상값:  yes\n",
      "실제값:  silence\n",
      "-------------------------------------\n",
      "예상값:  yes\n",
      "실제값:  left\n",
      "-------------------------------------\n",
      "예상값:  yes\n",
      "실제값:  silence\n",
      "-------------------------------------\n",
      "예상값:  yes\n",
      "실제값:  silence\n",
      "-------------------------------------\n",
      "예상값:  yes\n",
      "실제값:  on\n",
      "-------------------------------------\n",
      "예상값:  yes\n",
      "실제값:  unknown\n",
      "-------------------------------------\n",
      "예상값:  yes\n",
      "실제값:  silence\n",
      "-------------------------------------\n"
     ]
    }
   ],
   "source": [
    "test_audio(model, test_wavs, test_labels, label_to_idx)"
   ]
  },
  {
   "cell_type": "markdown",
   "metadata": {},
   "source": [
    "### dropout  사용함, batch normalization, skip connection 사용 안함"
   ]
  },
  {
   "cell_type": "markdown",
   "metadata": {},
   "source": [
    "모델 생성"
   ]
  },
  {
   "cell_type": "code",
   "execution_count": 38,
   "metadata": {
    "scrolled": true
   },
   "outputs": [
    {
     "name": "stdout",
     "output_type": "stream",
     "text": [
      "Model: \"model_5\"\n",
      "_________________________________________________________________\n",
      "Layer (type)                 Output Shape              Param #   \n",
      "=================================================================\n",
      "input_6 (InputLayer)         [(None, 63, 257, 1)]      0         \n",
      "_________________________________________________________________\n",
      "conv2d_3 (Conv2D)            (None, 63, 257, 32)       2624      \n",
      "_________________________________________________________________\n",
      "max_pooling2d_3 (MaxPooling2 (None, 31, 128, 32)       0         \n",
      "_________________________________________________________________\n",
      "conv2d_4 (Conv2D)            (None, 31, 128, 64)       165952    \n",
      "_________________________________________________________________\n",
      "max_pooling2d_4 (MaxPooling2 (None, 15, 64, 64)        0         \n",
      "_________________________________________________________________\n",
      "conv2d_5 (Conv2D)            (None, 15, 64, 128)       663680    \n",
      "_________________________________________________________________\n",
      "max_pooling2d_5 (MaxPooling2 (None, 7, 32, 128)        0         \n",
      "_________________________________________________________________\n",
      "dropout_4 (Dropout)          (None, 7, 32, 128)        0         \n",
      "_________________________________________________________________\n",
      "flatten_1 (Flatten)          (None, 28672)             0         \n",
      "_________________________________________________________________\n",
      "dense_10 (Dense)             (None, 128)               3670144   \n",
      "_________________________________________________________________\n",
      "activation_5 (Activation)    (None, 128)               0         \n",
      "_________________________________________________________________\n",
      "dense_11 (Dense)             (None, 12)                1548      \n",
      "=================================================================\n",
      "Total params: 4,503,948\n",
      "Trainable params: 4,503,948\n",
      "Non-trainable params: 0\n",
      "_________________________________________________________________\n"
     ]
    }
   ],
   "source": [
    "shape_x, shape_y = train_wavs[0].shape\n",
    "model = make_model2D((shape_x, shape_y, 1), need_dropout=True)"
   ]
  },
  {
   "cell_type": "markdown",
   "metadata": {},
   "source": [
    "모델 훈련"
   ]
  },
  {
   "cell_type": "code",
   "execution_count": 39,
   "metadata": {},
   "outputs": [
    {
     "name": "stdout",
     "output_type": "stream",
     "text": [
      "Epoch 1/20\n",
      "553/553 [==============================] - ETA: 0s - loss: 2.4769 - accuracy: 0.0978\n",
      "Epoch 00001: val_loss improved from inf to 2.48484, saving model to /home/ssac5/aiffel/speech_recognition/models/wav\n",
      "553/553 [==============================] - 44s 79ms/step - loss: 2.4769 - accuracy: 0.0978 - val_loss: 2.4848 - val_accuracy: 0.0888\n",
      "Epoch 2/20\n",
      "553/553 [==============================] - ETA: 0s - loss: 2.4848 - accuracy: 0.0831\n",
      "Epoch 00002: val_loss did not improve from 2.48484\n",
      "553/553 [==============================] - 43s 78ms/step - loss: 2.4848 - accuracy: 0.0831 - val_loss: 2.4851 - val_accuracy: 0.0888\n",
      "Epoch 3/20\n",
      "553/553 [==============================] - ETA: 0s - loss: 2.4848 - accuracy: 0.0832\n",
      "Epoch 00003: val_loss did not improve from 2.48484\n",
      "553/553 [==============================] - 43s 78ms/step - loss: 2.4848 - accuracy: 0.0832 - val_loss: 2.4851 - val_accuracy: 0.0888\n",
      "Epoch 4/20\n",
      "553/553 [==============================] - ETA: 0s - loss: 2.4847 - accuracy: 0.0831\n",
      "Epoch 00004: val_loss did not improve from 2.48484\n",
      "553/553 [==============================] - 43s 78ms/step - loss: 2.4847 - accuracy: 0.0831 - val_loss: 2.4851 - val_accuracy: 0.0888\n",
      "Epoch 5/20\n",
      "553/553 [==============================] - ETA: 0s - loss: 2.4848 - accuracy: 0.0830\n",
      "Epoch 00005: val_loss did not improve from 2.48484\n",
      "553/553 [==============================] - 43s 78ms/step - loss: 2.4848 - accuracy: 0.0830 - val_loss: 2.4851 - val_accuracy: 0.0888\n",
      "Epoch 6/20\n",
      "553/553 [==============================] - ETA: 0s - loss: 2.4847 - accuracy: 0.0829\n",
      "Epoch 00006: val_loss did not improve from 2.48484\n",
      "553/553 [==============================] - 43s 78ms/step - loss: 2.4847 - accuracy: 0.0829 - val_loss: 2.4851 - val_accuracy: 0.0888\n"
     ]
    }
   ],
   "source": [
    "checkpoint_dir = os.getenv('HOME')+'/aiffel/speech_recognition/models/wav'\n",
    "train_data_count = len(train_wavs)\n",
    "\n",
    "early_stopping = tf.keras.callbacks.EarlyStopping(patience=5)\n",
    "model_checkpoint = tf.keras.callbacks.ModelCheckpoint(checkpoint_dir,\n",
    "                                                 save_weights_only=True,\n",
    "                                                 monitor='val_loss',\n",
    "                                                 mode='auto',\n",
    "                                                 save_best_only=True,\n",
    "                                                 verbose=1)\n",
    "history = model.fit(train_dataset, epochs=20,\n",
    "                    steps_per_epoch=train_data_count // batch_size,\n",
    "                    validation_data=val_dataset,\n",
    "                    callbacks=[early_stopping, model_checkpoint]\n",
    "                    )"
   ]
  },
  {
   "cell_type": "markdown",
   "metadata": {},
   "source": [
    "모델 훈련 과정 확인"
   ]
  },
  {
   "cell_type": "code",
   "execution_count": 40,
   "metadata": {
    "scrolled": true
   },
   "outputs": [
    {
     "data": {
      "image/png": "[encoded data removed]",
      "text/plain": [
       "<Figure size 720x360 with 2 Axes>"
      ]
     },
     "metadata": {
      "needs_background": "light"
     },
     "output_type": "display_data"
    }
   ],
   "source": [
    "draw_graph(history)"
   ]
  },
  {
   "cell_type": "markdown",
   "metadata": {},
   "source": [
    "모델 시험"
   ]
  },
  {
   "cell_type": "code",
   "execution_count": 41,
   "metadata": {
    "scrolled": true
   },
   "outputs": [
    {
     "name": "stdout",
     "output_type": "stream",
     "text": [
      "80/80 [==============================] - 1s 14ms/step - loss: 2.4847 - accuracy: 0.0849\n",
      "[2.484665870666504, 0.0849466621875763]\n"
     ]
    }
   ],
   "source": [
    "evaluate_result(model, checkpoint_dir, test_dataset)"
   ]
  },
  {
   "cell_type": "markdown",
   "metadata": {},
   "source": [
    "임의의 결과 확인하기"
   ]
  },
  {
   "cell_type": "code",
   "execution_count": 42,
   "metadata": {
    "scrolled": true
   },
   "outputs": [
    {
     "name": "stdout",
     "output_type": "stream",
     "text": [
      "예상값:  right\n",
      "실제값:  silence\n",
      "-------------------------------------\n",
      "예상값:  right\n",
      "실제값:  yes\n",
      "-------------------------------------\n",
      "예상값:  right\n",
      "실제값:  no\n",
      "-------------------------------------\n",
      "예상값:  right\n",
      "실제값:  yes\n",
      "-------------------------------------\n",
      "예상값:  right\n",
      "실제값:  left\n",
      "-------------------------------------\n",
      "예상값:  right\n",
      "실제값:  up\n",
      "-------------------------------------\n",
      "예상값:  right\n",
      "실제값:  right\n",
      "-------------------------------------\n",
      "예상값:  right\n",
      "실제값:  down\n",
      "-------------------------------------\n",
      "예상값:  right\n",
      "실제값:  silence\n",
      "-------------------------------------\n",
      "예상값:  right\n",
      "실제값:  unknown\n",
      "-------------------------------------\n"
     ]
    }
   ],
   "source": [
    "test_audio(model, test_wavs, test_labels, label_to_idx)"
   ]
  },
  {
   "cell_type": "markdown",
   "metadata": {},
   "source": [
    "### batch normalization 사용, dropout, skip connection 사용 안함"
   ]
  },
  {
   "cell_type": "markdown",
   "metadata": {},
   "source": [
    "모델 생성"
   ]
  },
  {
   "cell_type": "code",
   "execution_count": 43,
   "metadata": {
    "scrolled": true
   },
   "outputs": [
    {
     "name": "stdout",
     "output_type": "stream",
     "text": [
      "Model: \"model_6\"\n",
      "_________________________________________________________________\n",
      "Layer (type)                 Output Shape              Param #   \n",
      "=================================================================\n",
      "input_7 (InputLayer)         [(None, 63, 257, 1)]      0         \n",
      "_________________________________________________________________\n",
      "conv2d_6 (Conv2D)            (None, 63, 257, 32)       2624      \n",
      "_________________________________________________________________\n",
      "max_pooling2d_6 (MaxPooling2 (None, 31, 128, 32)       0         \n",
      "_________________________________________________________________\n",
      "conv2d_7 (Conv2D)            (None, 31, 128, 64)       165952    \n",
      "_________________________________________________________________\n",
      "max_pooling2d_7 (MaxPooling2 (None, 15, 64, 64)        0         \n",
      "_________________________________________________________________\n",
      "conv2d_8 (Conv2D)            (None, 15, 64, 128)       663680    \n",
      "_________________________________________________________________\n",
      "max_pooling2d_8 (MaxPooling2 (None, 7, 32, 128)        0         \n",
      "_________________________________________________________________\n",
      "flatten_2 (Flatten)          (None, 28672)             0         \n",
      "_________________________________________________________________\n",
      "dense_12 (Dense)             (None, 128)               3670144   \n",
      "_________________________________________________________________\n",
      "batch_normalization_2 (Batch (None, 128)               512       \n",
      "_________________________________________________________________\n",
      "activation_6 (Activation)    (None, 128)               0         \n",
      "_________________________________________________________________\n",
      "dense_13 (Dense)             (None, 12)                1548      \n",
      "=================================================================\n",
      "Total params: 4,504,460\n",
      "Trainable params: 4,504,204\n",
      "Non-trainable params: 256\n",
      "_________________________________________________________________\n"
     ]
    }
   ],
   "source": [
    "shape_x, shape_y = train_wavs[0].shape\n",
    "model = make_model2D((shape_x, shape_y, 1), need_batch_normalization=True)"
   ]
  },
  {
   "cell_type": "markdown",
   "metadata": {},
   "source": [
    "모델 훈련"
   ]
  },
  {
   "cell_type": "code",
   "execution_count": 44,
   "metadata": {},
   "outputs": [
    {
     "name": "stdout",
     "output_type": "stream",
     "text": [
      "Epoch 1/20\n",
      "553/553 [==============================] - ETA: 0s - loss: 2.1438 - accuracy: 0.6633\n",
      "Epoch 00001: val_loss improved from inf to 1.69291, saving model to /home/ssac5/aiffel/speech_recognition/models/wav\n",
      "553/553 [==============================] - 44s 79ms/step - loss: 2.1438 - accuracy: 0.6633 - val_loss: 1.6929 - val_accuracy: 0.8443\n",
      "Epoch 2/20\n",
      "553/553 [==============================] - ETA: 0s - loss: 1.3897 - accuracy: 0.8598\n",
      "Epoch 00002: val_loss improved from 1.69291 to 1.03964, saving model to /home/ssac5/aiffel/speech_recognition/models/wav\n",
      "553/553 [==============================] - 43s 79ms/step - loss: 1.3897 - accuracy: 0.8598 - val_loss: 1.0396 - val_accuracy: 0.9018\n",
      "Epoch 3/20\n",
      "553/553 [==============================] - ETA: 0s - loss: 0.8481 - accuracy: 0.9150\n",
      "Epoch 00003: val_loss improved from 1.03964 to 0.64671, saving model to /home/ssac5/aiffel/speech_recognition/models/wav\n",
      "553/553 [==============================] - 43s 79ms/step - loss: 0.8481 - accuracy: 0.9150 - val_loss: 0.6467 - val_accuracy: 0.9276\n",
      "Epoch 4/20\n",
      "553/553 [==============================] - ETA: 0s - loss: 0.5261 - accuracy: 0.9461\n",
      "Epoch 00004: val_loss improved from 0.64671 to 0.45413, saving model to /home/ssac5/aiffel/speech_recognition/models/wav\n",
      "553/553 [==============================] - 44s 80ms/step - loss: 0.5261 - accuracy: 0.9461 - val_loss: 0.4541 - val_accuracy: 0.9306\n",
      "Epoch 5/20\n",
      "553/553 [==============================] - ETA: 0s - loss: 0.3410 - accuracy: 0.9629\n",
      "Epoch 00005: val_loss improved from 0.45413 to 0.37184, saving model to /home/ssac5/aiffel/speech_recognition/models/wav\n",
      "553/553 [==============================] - 44s 79ms/step - loss: 0.3410 - accuracy: 0.9629 - val_loss: 0.3718 - val_accuracy: 0.9358\n",
      "Epoch 6/20\n",
      "553/553 [==============================] - ETA: 0s - loss: 0.2362 - accuracy: 0.9725\n",
      "Epoch 00006: val_loss improved from 0.37184 to 0.32649, saving model to /home/ssac5/aiffel/speech_recognition/models/wav\n",
      "553/553 [==============================] - 44s 80ms/step - loss: 0.2362 - accuracy: 0.9725 - val_loss: 0.3265 - val_accuracy: 0.9366\n",
      "Epoch 7/20\n",
      "553/553 [==============================] - ETA: 0s - loss: 0.1698 - accuracy: 0.9790\n",
      "Epoch 00007: val_loss improved from 0.32649 to 0.25997, saving model to /home/ssac5/aiffel/speech_recognition/models/wav\n",
      "553/553 [==============================] - 44s 79ms/step - loss: 0.1698 - accuracy: 0.9790 - val_loss: 0.2600 - val_accuracy: 0.9428\n",
      "Epoch 8/20\n",
      "553/553 [==============================] - ETA: 0s - loss: 0.1310 - accuracy: 0.9818\n",
      "Epoch 00008: val_loss improved from 0.25997 to 0.24199, saving model to /home/ssac5/aiffel/speech_recognition/models/wav\n",
      "553/553 [==============================] - 44s 80ms/step - loss: 0.1310 - accuracy: 0.9818 - val_loss: 0.2420 - val_accuracy: 0.9396\n",
      "Epoch 9/20\n",
      "553/553 [==============================] - ETA: 0s - loss: 0.1055 - accuracy: 0.9849\n",
      "Epoch 00009: val_loss improved from 0.24199 to 0.23615, saving model to /home/ssac5/aiffel/speech_recognition/models/wav\n",
      "553/553 [==============================] - 44s 80ms/step - loss: 0.1055 - accuracy: 0.9849 - val_loss: 0.2361 - val_accuracy: 0.9411\n",
      "Epoch 10/20\n",
      "553/553 [==============================] - ETA: 0s - loss: 0.0879 - accuracy: 0.9862\n",
      "Epoch 00010: val_loss improved from 0.23615 to 0.20854, saving model to /home/ssac5/aiffel/speech_recognition/models/wav\n",
      "553/553 [==============================] - 44s 80ms/step - loss: 0.0879 - accuracy: 0.9862 - val_loss: 0.2085 - val_accuracy: 0.9474\n",
      "Epoch 11/20\n",
      "553/553 [==============================] - ETA: 0s - loss: 0.0694 - accuracy: 0.9884\n",
      "Epoch 00011: val_loss improved from 0.20854 to 0.20228, saving model to /home/ssac5/aiffel/speech_recognition/models/wav\n",
      "553/553 [==============================] - 44s 80ms/step - loss: 0.0694 - accuracy: 0.9884 - val_loss: 0.2023 - val_accuracy: 0.9474\n",
      "Epoch 12/20\n",
      "553/553 [==============================] - ETA: 0s - loss: 0.0619 - accuracy: 0.9888\n",
      "Epoch 00012: val_loss improved from 0.20228 to 0.19239, saving model to /home/ssac5/aiffel/speech_recognition/models/wav\n",
      "553/553 [==============================] - 44s 80ms/step - loss: 0.0619 - accuracy: 0.9888 - val_loss: 0.1924 - val_accuracy: 0.9491\n",
      "Epoch 13/20\n",
      "553/553 [==============================] - ETA: 0s - loss: 0.0591 - accuracy: 0.9884\n",
      "Epoch 00013: val_loss did not improve from 0.19239\n",
      "553/553 [==============================] - 44s 80ms/step - loss: 0.0591 - accuracy: 0.9884 - val_loss: 0.2243 - val_accuracy: 0.9393\n",
      "Epoch 14/20\n",
      "553/553 [==============================] - ETA: 0s - loss: 0.0583 - accuracy: 0.9877\n",
      "Epoch 00014: val_loss did not improve from 0.19239\n",
      "553/553 [==============================] - 44s 80ms/step - loss: 0.0583 - accuracy: 0.9877 - val_loss: 0.2384 - val_accuracy: 0.9353\n",
      "Epoch 15/20\n",
      "553/553 [==============================] - ETA: 0s - loss: 0.0459 - accuracy: 0.9904\n",
      "Epoch 00015: val_loss did not improve from 0.19239\n",
      "553/553 [==============================] - 44s 80ms/step - loss: 0.0459 - accuracy: 0.9904 - val_loss: 0.1970 - val_accuracy: 0.9452\n",
      "Epoch 16/20\n",
      "553/553 [==============================] - ETA: 0s - loss: 0.0422 - accuracy: 0.9907\n",
      "Epoch 00016: val_loss did not improve from 0.19239\n",
      "553/553 [==============================] - 44s 80ms/step - loss: 0.0422 - accuracy: 0.9907 - val_loss: 0.2039 - val_accuracy: 0.9437\n",
      "Epoch 17/20\n",
      "553/553 [==============================] - ETA: 0s - loss: 0.0398 - accuracy: 0.9910\n",
      "Epoch 00017: val_loss did not improve from 0.19239\n",
      "553/553 [==============================] - 44s 80ms/step - loss: 0.0398 - accuracy: 0.9910 - val_loss: 0.2353 - val_accuracy: 0.9382\n"
     ]
    }
   ],
   "source": [
    "checkpoint_dir = os.getenv('HOME')+'/aiffel/speech_recognition/models/wav'\n",
    "train_data_count = len(train_wavs)\n",
    "\n",
    "early_stopping = tf.keras.callbacks.EarlyStopping(patience=5)\n",
    "model_checkpoint = tf.keras.callbacks.ModelCheckpoint(checkpoint_dir,\n",
    "                                                 save_weights_only=True,\n",
    "                                                 monitor='val_loss',\n",
    "                                                 mode='auto',\n",
    "                                                 save_best_only=True,\n",
    "                                                 verbose=1)\n",
    "history = model.fit(train_dataset, epochs=20,\n",
    "                    steps_per_epoch=train_data_count // batch_size,\n",
    "                    validation_data=val_dataset,\n",
    "                    callbacks=[early_stopping, model_checkpoint]\n",
    "                    )"
   ]
  },
  {
   "cell_type": "markdown",
   "metadata": {},
   "source": [
    "모델 훈련 과정 확인"
   ]
  },
  {
   "cell_type": "code",
   "execution_count": 45,
   "metadata": {
    "scrolled": true
   },
   "outputs": [
    {
     "data": {
      "image/png": "[encoded data removed]",
      "text/plain": [
       "<Figure size 720x360 with 2 Axes>"
      ]
     },
     "metadata": {
      "needs_background": "light"
     },
     "output_type": "display_data"
    }
   ],
   "source": [
    "draw_graph(history)"
   ]
  },
  {
   "cell_type": "markdown",
   "metadata": {},
   "source": [
    "모델 시험"
   ]
  },
  {
   "cell_type": "code",
   "execution_count": 46,
   "metadata": {
    "scrolled": true
   },
   "outputs": [
    {
     "name": "stdout",
     "output_type": "stream",
     "text": [
      "80/80 [==============================] - 1s 14ms/step - loss: 0.1815 - accuracy: 0.9522\n",
      "[0.18151302635669708, 0.9521927833557129]\n"
     ]
    }
   ],
   "source": [
    "evaluate_result(model, checkpoint_dir, test_dataset)"
   ]
  },
  {
   "cell_type": "markdown",
   "metadata": {},
   "source": [
    "임의의 결과 확인하기"
   ]
  },
  {
   "cell_type": "code",
   "execution_count": 47,
   "metadata": {
    "scrolled": true
   },
   "outputs": [
    {
     "name": "stdout",
     "output_type": "stream",
     "text": [
      "예상값:  unknown\n",
      "실제값:  unknown\n",
      "-------------------------------------\n",
      "예상값:  stop\n",
      "실제값:  stop\n",
      "-------------------------------------\n",
      "예상값:  no\n",
      "실제값:  no\n",
      "-------------------------------------\n",
      "예상값:  stop\n",
      "실제값:  stop\n",
      "-------------------------------------\n",
      "예상값:  yes\n",
      "실제값:  yes\n",
      "-------------------------------------\n",
      "예상값:  yes\n",
      "실제값:  yes\n",
      "-------------------------------------\n",
      "예상값:  unknown\n",
      "실제값:  unknown\n",
      "-------------------------------------\n",
      "예상값:  on\n",
      "실제값:  on\n",
      "-------------------------------------\n",
      "예상값:  silence\n",
      "실제값:  silence\n",
      "-------------------------------------\n",
      "예상값:  silence\n",
      "실제값:  silence\n",
      "-------------------------------------\n"
     ]
    }
   ],
   "source": [
    "test_audio(model, test_wavs, test_labels, label_to_idx)"
   ]
  },
  {
   "cell_type": "markdown",
   "metadata": {},
   "source": [
    "### skip connection 사용, dropout, batch normalization 사용 안함"
   ]
  },
  {
   "cell_type": "markdown",
   "metadata": {},
   "source": [
    "모델 생성"
   ]
  },
  {
   "cell_type": "code",
   "execution_count": 48,
   "metadata": {
    "scrolled": true
   },
   "outputs": [
    {
     "name": "stdout",
     "output_type": "stream",
     "text": [
      "Model: \"model_7\"\n",
      "__________________________________________________________________________________________________\n",
      "Layer (type)                    Output Shape         Param #     Connected to                     \n",
      "==================================================================================================\n",
      "input_8 (InputLayer)            [(None, 63, 257, 1)] 0                                            \n",
      "__________________________________________________________________________________________________\n",
      "conv2d_9 (Conv2D)               (None, 63, 257, 32)  2624        input_8[0][0]                    \n",
      "__________________________________________________________________________________________________\n",
      "max_pooling2d_9 (MaxPooling2D)  (None, 31, 128, 32)  0           conv2d_9[0][0]                   \n",
      "__________________________________________________________________________________________________\n",
      "conv2d_10 (Conv2D)              (None, 31, 128, 64)  165952      max_pooling2d_9[0][0]            \n",
      "__________________________________________________________________________________________________\n",
      "tf_op_layer_concat (TensorFlowO [(None, 31, 128, 96) 0           conv2d_10[0][0]                  \n",
      "                                                                 max_pooling2d_9[0][0]            \n",
      "__________________________________________________________________________________________________\n",
      "max_pooling2d_10 (MaxPooling2D) (None, 15, 64, 96)   0           tf_op_layer_concat[0][0]         \n",
      "__________________________________________________________________________________________________\n",
      "conv2d_11 (Conv2D)              (None, 15, 64, 128)  995456      max_pooling2d_10[0][0]           \n",
      "__________________________________________________________________________________________________\n",
      "tf_op_layer_concat_1 (TensorFlo [(None, 15, 64, 224) 0           conv2d_11[0][0]                  \n",
      "                                                                 max_pooling2d_10[0][0]           \n",
      "__________________________________________________________________________________________________\n",
      "max_pooling2d_11 (MaxPooling2D) (None, 7, 32, 224)   0           tf_op_layer_concat_1[0][0]       \n",
      "__________________________________________________________________________________________________\n",
      "flatten_3 (Flatten)             (None, 50176)        0           max_pooling2d_11[0][0]           \n",
      "__________________________________________________________________________________________________\n",
      "dense_14 (Dense)                (None, 128)          6422656     flatten_3[0][0]                  \n",
      "__________________________________________________________________________________________________\n",
      "activation_7 (Activation)       (None, 128)          0           dense_14[0][0]                   \n",
      "__________________________________________________________________________________________________\n",
      "dense_15 (Dense)                (None, 12)           1548        activation_7[0][0]               \n",
      "==================================================================================================\n",
      "Total params: 7,588,236\n",
      "Trainable params: 7,588,236\n",
      "Non-trainable params: 0\n",
      "__________________________________________________________________________________________________\n"
     ]
    }
   ],
   "source": [
    "shape_x, shape_y = train_wavs[0].shape\n",
    "model = make_model2D((shape_x, shape_y, 1), need_skip_connection=True)"
   ]
  },
  {
   "cell_type": "markdown",
   "metadata": {},
   "source": [
    "모델 훈련"
   ]
  },
  {
   "cell_type": "code",
   "execution_count": 49,
   "metadata": {},
   "outputs": [
    {
     "name": "stdout",
     "output_type": "stream",
     "text": [
      "Epoch 1/20\n",
      "553/553 [==============================] - ETA: 0s - loss: 2.4720 - accuracy: 0.1152\n",
      "Epoch 00001: val_loss improved from inf to 2.47808, saving model to /home/ssac5/aiffel/speech_recognition/models/wav\n",
      "553/553 [==============================] - 51s 92ms/step - loss: 2.4720 - accuracy: 0.1152 - val_loss: 2.4781 - val_accuracy: 0.0974\n",
      "Epoch 2/20\n",
      "553/553 [==============================] - ETA: 0s - loss: 2.4777 - accuracy: 0.1051\n",
      "Epoch 00002: val_loss improved from 2.47808 to 2.45349, saving model to /home/ssac5/aiffel/speech_recognition/models/wav\n",
      "553/553 [==============================] - 48s 88ms/step - loss: 2.4777 - accuracy: 0.1051 - val_loss: 2.4535 - val_accuracy: 0.1389\n",
      "Epoch 3/20\n",
      "553/553 [==============================] - ETA: 0s - loss: 2.4451 - accuracy: 0.1341\n",
      "Epoch 00003: val_loss did not improve from 2.45349\n",
      "553/553 [==============================] - 48s 87ms/step - loss: 2.4451 - accuracy: 0.1341 - val_loss: 2.4917 - val_accuracy: 0.0926\n",
      "Epoch 4/20\n",
      "553/553 [==============================] - ETA: 0s - loss: 2.4505 - accuracy: 0.1240\n",
      "Epoch 00004: val_loss did not improve from 2.45349\n",
      "553/553 [==============================] - 48s 87ms/step - loss: 2.4505 - accuracy: 0.1240 - val_loss: 2.4718 - val_accuracy: 0.1188\n",
      "Epoch 5/20\n",
      "553/553 [==============================] - ETA: 0s - loss: 2.4612 - accuracy: 0.1138\n",
      "Epoch 00005: val_loss did not improve from 2.45349\n",
      "553/553 [==============================] - 48s 87ms/step - loss: 2.4612 - accuracy: 0.1138 - val_loss: 2.4567 - val_accuracy: 0.1189\n",
      "Epoch 6/20\n",
      "553/553 [==============================] - ETA: 0s - loss: 2.4566 - accuracy: 0.1138\n",
      "Epoch 00006: val_loss did not improve from 2.45349\n",
      "553/553 [==============================] - 48s 87ms/step - loss: 2.4566 - accuracy: 0.1138 - val_loss: 2.4557 - val_accuracy: 0.1189\n",
      "Epoch 7/20\n",
      "553/553 [==============================] - ETA: 0s - loss: 2.4557 - accuracy: 0.1139\n",
      "Epoch 00007: val_loss did not improve from 2.45349\n",
      "553/553 [==============================] - 48s 87ms/step - loss: 2.4557 - accuracy: 0.1139 - val_loss: 2.4551 - val_accuracy: 0.1189\n"
     ]
    }
   ],
   "source": [
    "checkpoint_dir = os.getenv('HOME')+'/aiffel/speech_recognition/models/wav'\n",
    "train_data_count = len(train_wavs)\n",
    "\n",
    "early_stopping = tf.keras.callbacks.EarlyStopping(patience=5)\n",
    "model_checkpoint = tf.keras.callbacks.ModelCheckpoint(checkpoint_dir,\n",
    "                                                 save_weights_only=True,\n",
    "                                                 monitor='val_loss',\n",
    "                                                 mode='auto',\n",
    "                                                 save_best_only=True,\n",
    "                                                 verbose=1)\n",
    "history = model.fit(train_dataset, epochs=20,\n",
    "                    steps_per_epoch=train_data_count // batch_size,\n",
    "                    validation_data=val_dataset,\n",
    "                    callbacks=[early_stopping, model_checkpoint]\n",
    "                    )"
   ]
  },
  {
   "cell_type": "markdown",
   "metadata": {},
   "source": [
    "모델 훈련 과정 확인"
   ]
  },
  {
   "cell_type": "code",
   "execution_count": 50,
   "metadata": {
    "scrolled": true
   },
   "outputs": [
    {
     "data": {
      "image/png": "[encoded data removed]",
      "text/plain": [
       "<Figure size 720x360 with 2 Axes>"
      ]
     },
     "metadata": {
      "needs_background": "light"
     },
     "output_type": "display_data"
    }
   ],
   "source": [
    "draw_graph(history)"
   ]
  },
  {
   "cell_type": "markdown",
   "metadata": {},
   "source": [
    "모델 시험"
   ]
  },
  {
   "cell_type": "code",
   "execution_count": 51,
   "metadata": {
    "scrolled": true
   },
   "outputs": [
    {
     "name": "stdout",
     "output_type": "stream",
     "text": [
      "80/80 [==============================] - 3s 44ms/step - loss: 2.4568 - accuracy: 0.1282\n",
      "[2.4568357467651367, 0.128210186958313]\n"
     ]
    }
   ],
   "source": [
    "evaluate_result(model, checkpoint_dir, test_dataset)"
   ]
  },
  {
   "cell_type": "markdown",
   "metadata": {},
   "source": [
    "임의의 결과 확인하기"
   ]
  },
  {
   "cell_type": "code",
   "execution_count": 52,
   "metadata": {
    "scrolled": true
   },
   "outputs": [
    {
     "name": "stdout",
     "output_type": "stream",
     "text": [
      "예상값:  stop\n",
      "실제값:  yes\n",
      "-------------------------------------\n",
      "예상값:  yes\n",
      "실제값:  down\n",
      "-------------------------------------\n",
      "예상값:  stop\n",
      "실제값:  stop\n",
      "-------------------------------------\n",
      "예상값:  yes\n",
      "실제값:  left\n",
      "-------------------------------------\n",
      "예상값:  yes\n",
      "실제값:  silence\n",
      "-------------------------------------\n",
      "예상값:  yes\n",
      "실제값:  yes\n",
      "-------------------------------------\n",
      "예상값:  yes\n",
      "실제값:  stop\n",
      "-------------------------------------\n",
      "예상값:  yes\n",
      "실제값:  left\n",
      "-------------------------------------\n",
      "예상값:  yes\n",
      "실제값:  off\n",
      "-------------------------------------\n",
      "예상값:  stop\n",
      "실제값:  down\n",
      "-------------------------------------\n"
     ]
    }
   ],
   "source": [
    "test_audio(model, test_wavs, test_labels, label_to_idx)"
   ]
  },
  {
   "cell_type": "markdown",
   "metadata": {},
   "source": [
    "### dropout, batch normalization 사용, skip connection 사용 안함"
   ]
  },
  {
   "cell_type": "markdown",
   "metadata": {},
   "source": [
    "모델 생성"
   ]
  },
  {
   "cell_type": "code",
   "execution_count": 53,
   "metadata": {
    "scrolled": true
   },
   "outputs": [
    {
     "name": "stdout",
     "output_type": "stream",
     "text": [
      "Model: \"model_8\"\n",
      "_________________________________________________________________\n",
      "Layer (type)                 Output Shape              Param #   \n",
      "=================================================================\n",
      "input_9 (InputLayer)         [(None, 63, 257, 1)]      0         \n",
      "_________________________________________________________________\n",
      "conv2d_12 (Conv2D)           (None, 63, 257, 32)       2624      \n",
      "_________________________________________________________________\n",
      "max_pooling2d_12 (MaxPooling (None, 31, 128, 32)       0         \n",
      "_________________________________________________________________\n",
      "conv2d_13 (Conv2D)           (None, 31, 128, 64)       165952    \n",
      "_________________________________________________________________\n",
      "max_pooling2d_13 (MaxPooling (None, 15, 64, 64)        0         \n",
      "_________________________________________________________________\n",
      "conv2d_14 (Conv2D)           (None, 15, 64, 128)       663680    \n",
      "_________________________________________________________________\n",
      "max_pooling2d_14 (MaxPooling (None, 7, 32, 128)        0         \n",
      "_________________________________________________________________\n",
      "dropout_5 (Dropout)          (None, 7, 32, 128)        0         \n",
      "_________________________________________________________________\n",
      "flatten_4 (Flatten)          (None, 28672)             0         \n",
      "_________________________________________________________________\n",
      "dense_16 (Dense)             (None, 128)               3670144   \n",
      "_________________________________________________________________\n",
      "batch_normalization_3 (Batch (None, 128)               512       \n",
      "_________________________________________________________________\n",
      "activation_8 (Activation)    (None, 128)               0         \n",
      "_________________________________________________________________\n",
      "dense_17 (Dense)             (None, 12)                1548      \n",
      "=================================================================\n",
      "Total params: 4,504,460\n",
      "Trainable params: 4,504,204\n",
      "Non-trainable params: 256\n",
      "_________________________________________________________________\n"
     ]
    }
   ],
   "source": [
    "shape_x, shape_y = train_wavs[0].shape\n",
    "model = make_model2D((shape_x, shape_y, 1), need_dropout=True, need_batch_normalization=True)"
   ]
  },
  {
   "cell_type": "markdown",
   "metadata": {},
   "source": [
    "모델 훈련"
   ]
  },
  {
   "cell_type": "code",
   "execution_count": 54,
   "metadata": {},
   "outputs": [
    {
     "name": "stdout",
     "output_type": "stream",
     "text": [
      "Epoch 1/20\n",
      "553/553 [==============================] - ETA: 0s - loss: 2.1543 - accuracy: 0.6588\n",
      "Epoch 00001: val_loss improved from inf to 1.67925, saving model to /home/ssac5/aiffel/speech_recognition/models/wav\n",
      "553/553 [==============================] - 44s 79ms/step - loss: 2.1543 - accuracy: 0.6588 - val_loss: 1.6792 - val_accuracy: 0.8332\n",
      "Epoch 2/20\n",
      "553/553 [==============================] - ETA: 0s - loss: 1.4137 - accuracy: 0.8539\n",
      "Epoch 00002: val_loss improved from 1.67925 to 1.02504, saving model to /home/ssac5/aiffel/speech_recognition/models/wav\n",
      "553/553 [==============================] - 44s 79ms/step - loss: 1.4137 - accuracy: 0.8539 - val_loss: 1.0250 - val_accuracy: 0.8955\n",
      "Epoch 3/20\n",
      "553/553 [==============================] - ETA: 0s - loss: 0.8935 - accuracy: 0.9026\n",
      "Epoch 00003: val_loss improved from 1.02504 to 0.70865, saving model to /home/ssac5/aiffel/speech_recognition/models/wav\n",
      "553/553 [==============================] - 44s 79ms/step - loss: 0.8935 - accuracy: 0.9026 - val_loss: 0.7087 - val_accuracy: 0.9157\n",
      "Epoch 4/20\n",
      "553/553 [==============================] - ETA: 0s - loss: 0.5820 - accuracy: 0.9292\n",
      "Epoch 00004: val_loss improved from 0.70865 to 0.49485, saving model to /home/ssac5/aiffel/speech_recognition/models/wav\n",
      "553/553 [==============================] - 44s 79ms/step - loss: 0.5820 - accuracy: 0.9292 - val_loss: 0.4948 - val_accuracy: 0.9301\n",
      "Epoch 5/20\n",
      "553/553 [==============================] - ETA: 0s - loss: 0.3952 - accuracy: 0.9490\n",
      "Epoch 00005: val_loss improved from 0.49485 to 0.37548, saving model to /home/ssac5/aiffel/speech_recognition/models/wav\n",
      "553/553 [==============================] - 44s 79ms/step - loss: 0.3952 - accuracy: 0.9490 - val_loss: 0.3755 - val_accuracy: 0.9354\n",
      "Epoch 6/20\n",
      "553/553 [==============================] - ETA: 0s - loss: 0.2821 - accuracy: 0.9610\n",
      "Epoch 00006: val_loss improved from 0.37548 to 0.29329, saving model to /home/ssac5/aiffel/speech_recognition/models/wav\n",
      "553/553 [==============================] - 43s 79ms/step - loss: 0.2821 - accuracy: 0.9610 - val_loss: 0.2933 - val_accuracy: 0.9415\n",
      "Epoch 7/20\n",
      "553/553 [==============================] - ETA: 0s - loss: 0.2168 - accuracy: 0.9670\n",
      "Epoch 00007: val_loss improved from 0.29329 to 0.25377, saving model to /home/ssac5/aiffel/speech_recognition/models/wav\n",
      "553/553 [==============================] - 44s 79ms/step - loss: 0.2168 - accuracy: 0.9670 - val_loss: 0.2538 - val_accuracy: 0.9429\n",
      "Epoch 8/20\n",
      "553/553 [==============================] - ETA: 0s - loss: 0.1678 - accuracy: 0.9731\n",
      "Epoch 00008: val_loss improved from 0.25377 to 0.24435, saving model to /home/ssac5/aiffel/speech_recognition/models/wav\n",
      "553/553 [==============================] - 44s 79ms/step - loss: 0.1678 - accuracy: 0.9731 - val_loss: 0.2444 - val_accuracy: 0.9404\n",
      "Epoch 9/20\n",
      "553/553 [==============================] - ETA: 0s - loss: 0.1432 - accuracy: 0.9745\n",
      "Epoch 00009: val_loss improved from 0.24435 to 0.20365, saving model to /home/ssac5/aiffel/speech_recognition/models/wav\n",
      "553/553 [==============================] - 44s 79ms/step - loss: 0.1432 - accuracy: 0.9745 - val_loss: 0.2037 - val_accuracy: 0.9511\n",
      "Epoch 10/20\n",
      "553/553 [==============================] - ETA: 0s - loss: 0.1136 - accuracy: 0.9798\n",
      "Epoch 00010: val_loss did not improve from 0.20365\n",
      "553/553 [==============================] - 43s 78ms/step - loss: 0.1136 - accuracy: 0.9798 - val_loss: 0.2063 - val_accuracy: 0.9460\n",
      "Epoch 11/20\n",
      "553/553 [==============================] - ETA: 0s - loss: 0.1055 - accuracy: 0.9787\n",
      "Epoch 00011: val_loss improved from 0.20365 to 0.19807, saving model to /home/ssac5/aiffel/speech_recognition/models/wav\n",
      "553/553 [==============================] - 44s 79ms/step - loss: 0.1055 - accuracy: 0.9787 - val_loss: 0.1981 - val_accuracy: 0.9477\n",
      "Epoch 12/20\n",
      "553/553 [==============================] - ETA: 0s - loss: 0.0906 - accuracy: 0.9815\n",
      "Epoch 00012: val_loss did not improve from 0.19807\n",
      "553/553 [==============================] - 43s 78ms/step - loss: 0.0906 - accuracy: 0.9815 - val_loss: 0.2031 - val_accuracy: 0.9447\n",
      "Epoch 13/20\n",
      "553/553 [==============================] - ETA: 0s - loss: 0.0803 - accuracy: 0.9829\n",
      "Epoch 00013: val_loss did not improve from 0.19807\n",
      "553/553 [==============================] - 43s 79ms/step - loss: 0.0803 - accuracy: 0.9829 - val_loss: 0.2068 - val_accuracy: 0.9419\n",
      "Epoch 14/20\n",
      "553/553 [==============================] - ETA: 0s - loss: 0.0707 - accuracy: 0.9846\n",
      "Epoch 00014: val_loss improved from 0.19807 to 0.18255, saving model to /home/ssac5/aiffel/speech_recognition/models/wav\n",
      "553/553 [==============================] - 44s 79ms/step - loss: 0.0707 - accuracy: 0.9846 - val_loss: 0.1826 - val_accuracy: 0.9481\n",
      "Epoch 15/20\n",
      "553/553 [==============================] - ETA: 0s - loss: 0.0697 - accuracy: 0.9844\n",
      "Epoch 00015: val_loss improved from 0.18255 to 0.17694, saving model to /home/ssac5/aiffel/speech_recognition/models/wav\n",
      "553/553 [==============================] - 44s 79ms/step - loss: 0.0697 - accuracy: 0.9844 - val_loss: 0.1769 - val_accuracy: 0.9494\n",
      "Epoch 16/20\n",
      "553/553 [==============================] - ETA: 0s - loss: 0.0644 - accuracy: 0.9848\n",
      "Epoch 00016: val_loss did not improve from 0.17694\n",
      "553/553 [==============================] - 43s 79ms/step - loss: 0.0644 - accuracy: 0.9848 - val_loss: 0.1783 - val_accuracy: 0.9493\n",
      "Epoch 17/20\n",
      "553/553 [==============================] - ETA: 0s - loss: 0.0556 - accuracy: 0.9868\n",
      "Epoch 00017: val_loss did not improve from 0.17694\n",
      "553/553 [==============================] - 43s 78ms/step - loss: 0.0556 - accuracy: 0.9868 - val_loss: 0.1910 - val_accuracy: 0.9455\n",
      "Epoch 18/20\n",
      "553/553 [==============================] - ETA: 0s - loss: 0.0532 - accuracy: 0.9874\n",
      "Epoch 00018: val_loss did not improve from 0.17694\n",
      "553/553 [==============================] - 43s 78ms/step - loss: 0.0532 - accuracy: 0.9874 - val_loss: 0.1885 - val_accuracy: 0.9487\n",
      "Epoch 19/20\n",
      "553/553 [==============================] - ETA: 0s - loss: 0.0507 - accuracy: 0.9877\n",
      "Epoch 00019: val_loss did not improve from 0.17694\n",
      "553/553 [==============================] - 43s 79ms/step - loss: 0.0507 - accuracy: 0.9877 - val_loss: 0.1906 - val_accuracy: 0.9461\n",
      "Epoch 20/20\n",
      "553/553 [==============================] - ETA: 0s - loss: 0.0475 - accuracy: 0.9882\n",
      "Epoch 00020: val_loss did not improve from 0.17694\n",
      "553/553 [==============================] - 43s 78ms/step - loss: 0.0475 - accuracy: 0.9882 - val_loss: 0.1805 - val_accuracy: 0.9481\n"
     ]
    }
   ],
   "source": [
    "checkpoint_dir = os.getenv('HOME')+'/aiffel/speech_recognition/models/wav'\n",
    "train_data_count = len(train_wavs)\n",
    "\n",
    "early_stopping = tf.keras.callbacks.EarlyStopping(patience=5)\n",
    "model_checkpoint = tf.keras.callbacks.ModelCheckpoint(checkpoint_dir,\n",
    "                                                 save_weights_only=True,\n",
    "                                                 monitor='val_loss',\n",
    "                                                 mode='auto',\n",
    "                                                 save_best_only=True,\n",
    "                                                 verbose=1)\n",
    "history = model.fit(train_dataset, epochs=20,\n",
    "                    steps_per_epoch=train_data_count // batch_size,\n",
    "                    validation_data=val_dataset,\n",
    "                    callbacks=[early_stopping, model_checkpoint]\n",
    "                    )"
   ]
  },
  {
   "cell_type": "markdown",
   "metadata": {},
   "source": [
    "모델 훈련 과정 확인"
   ]
  },
  {
   "cell_type": "code",
   "execution_count": 55,
   "metadata": {
    "scrolled": true
   },
   "outputs": [
    {
     "data": {
      "image/png": "[encoded data removed]",
      "text/plain": [
       "<Figure size 720x360 with 2 Axes>"
      ]
     },
     "metadata": {
      "needs_background": "light"
     },
     "output_type": "display_data"
    }
   ],
   "source": [
    "draw_graph(history)"
   ]
  },
  {
   "cell_type": "markdown",
   "metadata": {},
   "source": [
    "모델 시험"
   ]
  },
  {
   "cell_type": "code",
   "execution_count": 56,
   "metadata": {
    "scrolled": true
   },
   "outputs": [
    {
     "name": "stdout",
     "output_type": "stream",
     "text": [
      "80/80 [==============================] - 1s 14ms/step - loss: 0.1635 - accuracy: 0.9528\n",
      "[0.16345654428005219, 0.9527854323387146]\n"
     ]
    }
   ],
   "source": [
    "evaluate_result(model, checkpoint_dir, test_dataset)"
   ]
  },
  {
   "cell_type": "markdown",
   "metadata": {},
   "source": [
    "임의의 결과 확인하기"
   ]
  },
  {
   "cell_type": "code",
   "execution_count": 57,
   "metadata": {
    "scrolled": false
   },
   "outputs": [
    {
     "name": "stdout",
     "output_type": "stream",
     "text": [
      "예상값:  down\n",
      "실제값:  down\n",
      "-------------------------------------\n",
      "예상값:  silence\n",
      "실제값:  silence\n",
      "-------------------------------------\n",
      "예상값:  left\n",
      "실제값:  left\n",
      "-------------------------------------\n",
      "예상값:  right\n",
      "실제값:  right\n",
      "-------------------------------------\n",
      "예상값:  no\n",
      "실제값:  no\n",
      "-------------------------------------\n",
      "예상값:  unknown\n",
      "실제값:  unknown\n",
      "-------------------------------------\n",
      "예상값:  yes\n",
      "실제값:  yes\n",
      "-------------------------------------\n",
      "예상값:  silence\n",
      "실제값:  silence\n",
      "-------------------------------------\n",
      "예상값:  up\n",
      "실제값:  up\n",
      "-------------------------------------\n",
      "예상값:  silence\n",
      "실제값:  silence\n",
      "-------------------------------------\n"
     ]
    }
   ],
   "source": [
    "test_audio(model, test_wavs, test_labels, label_to_idx)"
   ]
  },
  {
   "cell_type": "markdown",
   "metadata": {},
   "source": [
    "### dropout, skip connection 사용, batch normalization 사용 안함"
   ]
  },
  {
   "cell_type": "markdown",
   "metadata": {},
   "source": [
    "모델 생성"
   ]
  },
  {
   "cell_type": "code",
   "execution_count": 58,
   "metadata": {
    "scrolled": true
   },
   "outputs": [
    {
     "name": "stdout",
     "output_type": "stream",
     "text": [
      "Model: \"model_9\"\n",
      "__________________________________________________________________________________________________\n",
      "Layer (type)                    Output Shape         Param #     Connected to                     \n",
      "==================================================================================================\n",
      "input_10 (InputLayer)           [(None, 63, 257, 1)] 0                                            \n",
      "__________________________________________________________________________________________________\n",
      "conv2d_15 (Conv2D)              (None, 63, 257, 32)  2624        input_10[0][0]                   \n",
      "__________________________________________________________________________________________________\n",
      "max_pooling2d_15 (MaxPooling2D) (None, 31, 128, 32)  0           conv2d_15[0][0]                  \n",
      "__________________________________________________________________________________________________\n",
      "conv2d_16 (Conv2D)              (None, 31, 128, 64)  165952      max_pooling2d_15[0][0]           \n",
      "__________________________________________________________________________________________________\n",
      "tf_op_layer_concat_2 (TensorFlo [(None, 31, 128, 96) 0           conv2d_16[0][0]                  \n",
      "                                                                 max_pooling2d_15[0][0]           \n",
      "__________________________________________________________________________________________________\n",
      "max_pooling2d_16 (MaxPooling2D) (None, 15, 64, 96)   0           tf_op_layer_concat_2[0][0]       \n",
      "__________________________________________________________________________________________________\n",
      "conv2d_17 (Conv2D)              (None, 15, 64, 128)  995456      max_pooling2d_16[0][0]           \n",
      "__________________________________________________________________________________________________\n",
      "tf_op_layer_concat_3 (TensorFlo [(None, 15, 64, 224) 0           conv2d_17[0][0]                  \n",
      "                                                                 max_pooling2d_16[0][0]           \n",
      "__________________________________________________________________________________________________\n",
      "max_pooling2d_17 (MaxPooling2D) (None, 7, 32, 224)   0           tf_op_layer_concat_3[0][0]       \n",
      "__________________________________________________________________________________________________\n",
      "dropout_6 (Dropout)             (None, 7, 32, 224)   0           max_pooling2d_17[0][0]           \n",
      "__________________________________________________________________________________________________\n",
      "flatten_5 (Flatten)             (None, 50176)        0           dropout_6[0][0]                  \n",
      "__________________________________________________________________________________________________\n",
      "dense_18 (Dense)                (None, 128)          6422656     flatten_5[0][0]                  \n",
      "__________________________________________________________________________________________________\n",
      "activation_9 (Activation)       (None, 128)          0           dense_18[0][0]                   \n",
      "__________________________________________________________________________________________________\n",
      "dense_19 (Dense)                (None, 12)           1548        activation_9[0][0]               \n",
      "==================================================================================================\n",
      "Total params: 7,588,236\n",
      "Trainable params: 7,588,236\n",
      "Non-trainable params: 0\n",
      "__________________________________________________________________________________________________\n"
     ]
    }
   ],
   "source": [
    "shape_x, shape_y = train_wavs[0].shape\n",
    "model = make_model2D((shape_x, shape_y, 1), need_dropout=True, need_skip_connection=True)"
   ]
  },
  {
   "cell_type": "markdown",
   "metadata": {},
   "source": [
    "모델 훈련"
   ]
  },
  {
   "cell_type": "code",
   "execution_count": 59,
   "metadata": {},
   "outputs": [
    {
     "name": "stdout",
     "output_type": "stream",
     "text": [
      "Epoch 1/20\n",
      "553/553 [==============================] - ETA: 0s - loss: 2.4422 - accuracy: 0.1422\n",
      "Epoch 00001: val_loss improved from inf to 2.49055, saving model to /home/ssac5/aiffel/speech_recognition/models/wav\n",
      "553/553 [==============================] - 49s 88ms/step - loss: 2.4422 - accuracy: 0.1422 - val_loss: 2.4906 - val_accuracy: 0.0863\n",
      "Epoch 2/20\n",
      "553/553 [==============================] - ETA: 0s - loss: 2.4854 - accuracy: 0.0827\n",
      "Epoch 00002: val_loss improved from 2.49055 to 2.48511, saving model to /home/ssac5/aiffel/speech_recognition/models/wav\n",
      "553/553 [==============================] - 48s 88ms/step - loss: 2.4854 - accuracy: 0.0827 - val_loss: 2.4851 - val_accuracy: 0.0888\n",
      "Epoch 3/20\n",
      "553/553 [==============================] - ETA: 0s - loss: 2.4847 - accuracy: 0.0833\n",
      "Epoch 00003: val_loss improved from 2.48511 to 2.48508, saving model to /home/ssac5/aiffel/speech_recognition/models/wav\n",
      "553/553 [==============================] - 48s 88ms/step - loss: 2.4847 - accuracy: 0.0833 - val_loss: 2.4851 - val_accuracy: 0.0888\n",
      "Epoch 4/20\n",
      "553/553 [==============================] - ETA: 0s - loss: 2.4847 - accuracy: 0.0834\n",
      "Epoch 00004: val_loss did not improve from 2.48508\n",
      "553/553 [==============================] - 48s 87ms/step - loss: 2.4847 - accuracy: 0.0834 - val_loss: 2.4851 - val_accuracy: 0.0888\n",
      "Epoch 5/20\n",
      "553/553 [==============================] - ETA: 0s - loss: 2.4847 - accuracy: 0.0831\n",
      "Epoch 00005: val_loss did not improve from 2.48508\n",
      "553/553 [==============================] - 48s 87ms/step - loss: 2.4847 - accuracy: 0.0831 - val_loss: 2.4851 - val_accuracy: 0.0888\n",
      "Epoch 6/20\n",
      "553/553 [==============================] - ETA: 0s - loss: 2.4847 - accuracy: 0.0831\n",
      "Epoch 00006: val_loss did not improve from 2.48508\n",
      "553/553 [==============================] - 48s 87ms/step - loss: 2.4847 - accuracy: 0.0831 - val_loss: 2.4851 - val_accuracy: 0.0888\n",
      "Epoch 7/20\n",
      "553/553 [==============================] - ETA: 0s - loss: 2.4847 - accuracy: 0.0833\n",
      "Epoch 00007: val_loss did not improve from 2.48508\n",
      "553/553 [==============================] - 48s 87ms/step - loss: 2.4847 - accuracy: 0.0833 - val_loss: 2.4851 - val_accuracy: 0.0888\n",
      "Epoch 8/20\n",
      "553/553 [==============================] - ETA: 0s - loss: 2.4368 - accuracy: 0.1236\n",
      "Epoch 00008: val_loss improved from 2.48508 to 2.43323, saving model to /home/ssac5/aiffel/speech_recognition/models/wav\n",
      "553/553 [==============================] - 49s 88ms/step - loss: 2.4368 - accuracy: 0.1236 - val_loss: 2.4332 - val_accuracy: 0.1191\n",
      "Epoch 9/20\n",
      "553/553 [==============================] - ETA: 0s - loss: 2.4148 - accuracy: 0.1422\n",
      "Epoch 00009: val_loss improved from 2.43323 to 2.36490, saving model to /home/ssac5/aiffel/speech_recognition/models/wav\n",
      "553/553 [==============================] - 50s 91ms/step - loss: 2.4148 - accuracy: 0.1422 - val_loss: 2.3649 - val_accuracy: 0.1487\n",
      "Epoch 10/20\n",
      "553/553 [==============================] - ETA: 0s - loss: 2.4345 - accuracy: 0.1256\n",
      "Epoch 00010: val_loss did not improve from 2.36490\n",
      "553/553 [==============================] - 50s 90ms/step - loss: 2.4345 - accuracy: 0.1256 - val_loss: 2.5326 - val_accuracy: 0.0815\n",
      "Epoch 11/20\n",
      "553/553 [==============================] - ETA: 0s - loss: 2.4939 - accuracy: 0.0855\n",
      "Epoch 00011: val_loss did not improve from 2.36490\n",
      "553/553 [==============================] - 49s 89ms/step - loss: 2.4939 - accuracy: 0.0855 - val_loss: 2.4863 - val_accuracy: 0.0815\n",
      "Epoch 12/20\n",
      "553/553 [==============================] - ETA: 0s - loss: 2.4848 - accuracy: 0.0833\n",
      "Epoch 00012: val_loss did not improve from 2.36490\n",
      "553/553 [==============================] - 49s 89ms/step - loss: 2.4848 - accuracy: 0.0833 - val_loss: 2.4852 - val_accuracy: 0.0888\n",
      "Epoch 13/20\n",
      "553/553 [==============================] - ETA: 0s - loss: 2.4847 - accuracy: 0.0829\n",
      "Epoch 00013: val_loss did not improve from 2.36490\n",
      "553/553 [==============================] - 49s 89ms/step - loss: 2.4847 - accuracy: 0.0829 - val_loss: 2.4852 - val_accuracy: 0.0888\n",
      "Epoch 14/20\n",
      "553/553 [==============================] - ETA: 0s - loss: 2.4847 - accuracy: 0.0828\n",
      "Epoch 00014: val_loss did not improve from 2.36490\n",
      "553/553 [==============================] - 49s 89ms/step - loss: 2.4847 - accuracy: 0.0828 - val_loss: 2.4852 - val_accuracy: 0.0888\n"
     ]
    }
   ],
   "source": [
    "checkpoint_dir = os.getenv('HOME')+'/aiffel/speech_recognition/models/wav'\n",
    "train_data_count = len(train_wavs)\n",
    "\n",
    "early_stopping = tf.keras.callbacks.EarlyStopping(patience=5)\n",
    "model_checkpoint = tf.keras.callbacks.ModelCheckpoint(checkpoint_dir,\n",
    "                                                 save_weights_only=True,\n",
    "                                                 monitor='val_loss',\n",
    "                                                 mode='auto',\n",
    "                                                 save_best_only=True,\n",
    "                                                 verbose=1)\n",
    "history = model.fit(train_dataset, epochs=20,\n",
    "                    steps_per_epoch=train_data_count // batch_size,\n",
    "                    validation_data=val_dataset,\n",
    "                    callbacks=[early_stopping, model_checkpoint]\n",
    "                    )"
   ]
  },
  {
   "cell_type": "markdown",
   "metadata": {},
   "source": [
    "모델 훈련 과정 확인"
   ]
  },
  {
   "cell_type": "code",
   "execution_count": 60,
   "metadata": {
    "scrolled": true
   },
   "outputs": [
    {
     "data": {
      "image/png": "[encoded data removed]",
      "text/plain": [
       "<Figure size 720x360 with 2 Axes>"
      ]
     },
     "metadata": {
      "needs_background": "light"
     },
     "output_type": "display_data"
    }
   ],
   "source": [
    "draw_graph(history)"
   ]
  },
  {
   "cell_type": "markdown",
   "metadata": {},
   "source": [
    "모델 시험"
   ]
  },
  {
   "cell_type": "code",
   "execution_count": 61,
   "metadata": {
    "scrolled": true
   },
   "outputs": [
    {
     "name": "stdout",
     "output_type": "stream",
     "text": [
      "80/80 [==============================] - 1s 17ms/step - loss: 2.3670 - accuracy: 0.1454\n",
      "[2.367023229598999, 0.14539708197116852]\n"
     ]
    }
   ],
   "source": [
    "evaluate_result(model, checkpoint_dir, test_dataset)"
   ]
  },
  {
   "cell_type": "markdown",
   "metadata": {},
   "source": [
    "임의의 결과 확인하기"
   ]
  },
  {
   "cell_type": "code",
   "execution_count": 62,
   "metadata": {
    "scrolled": true
   },
   "outputs": [
    {
     "name": "stdout",
     "output_type": "stream",
     "text": [
      "예상값:  silence\n",
      "실제값:  down\n",
      "-------------------------------------\n",
      "예상값:  silence\n",
      "실제값:  right\n",
      "-------------------------------------\n",
      "예상값:  off\n",
      "실제값:  off\n",
      "-------------------------------------\n",
      "예상값:  off\n",
      "실제값:  off\n",
      "-------------------------------------\n",
      "예상값:  silence\n",
      "실제값:  right\n",
      "-------------------------------------\n",
      "예상값:  silence\n",
      "실제값:  yes\n",
      "-------------------------------------\n",
      "예상값:  silence\n",
      "실제값:  left\n",
      "-------------------------------------\n",
      "예상값:  off\n",
      "실제값:  off\n",
      "-------------------------------------\n",
      "예상값:  off\n",
      "실제값:  off\n",
      "-------------------------------------\n",
      "예상값:  off\n",
      "실제값:  on\n",
      "-------------------------------------\n"
     ]
    }
   ],
   "source": [
    "test_audio(model, test_wavs, test_labels, label_to_idx)"
   ]
  },
  {
   "cell_type": "markdown",
   "metadata": {},
   "source": [
    "### batch normalization, skip connection 사용, dropout 사용 안함"
   ]
  },
  {
   "cell_type": "markdown",
   "metadata": {},
   "source": [
    "모델 생성"
   ]
  },
  {
   "cell_type": "code",
   "execution_count": 63,
   "metadata": {
    "scrolled": true
   },
   "outputs": [
    {
     "name": "stdout",
     "output_type": "stream",
     "text": [
      "Model: \"model_10\"\n",
      "__________________________________________________________________________________________________\n",
      "Layer (type)                    Output Shape         Param #     Connected to                     \n",
      "==================================================================================================\n",
      "input_11 (InputLayer)           [(None, 63, 257, 1)] 0                                            \n",
      "__________________________________________________________________________________________________\n",
      "conv2d_18 (Conv2D)              (None, 63, 257, 32)  2624        input_11[0][0]                   \n",
      "__________________________________________________________________________________________________\n",
      "max_pooling2d_18 (MaxPooling2D) (None, 31, 128, 32)  0           conv2d_18[0][0]                  \n",
      "__________________________________________________________________________________________________\n",
      "conv2d_19 (Conv2D)              (None, 31, 128, 64)  165952      max_pooling2d_18[0][0]           \n",
      "__________________________________________________________________________________________________\n",
      "tf_op_layer_concat_4 (TensorFlo [(None, 31, 128, 96) 0           conv2d_19[0][0]                  \n",
      "                                                                 max_pooling2d_18[0][0]           \n",
      "__________________________________________________________________________________________________\n",
      "max_pooling2d_19 (MaxPooling2D) (None, 15, 64, 96)   0           tf_op_layer_concat_4[0][0]       \n",
      "__________________________________________________________________________________________________\n",
      "conv2d_20 (Conv2D)              (None, 15, 64, 128)  995456      max_pooling2d_19[0][0]           \n",
      "__________________________________________________________________________________________________\n",
      "tf_op_layer_concat_5 (TensorFlo [(None, 15, 64, 224) 0           conv2d_20[0][0]                  \n",
      "                                                                 max_pooling2d_19[0][0]           \n",
      "__________________________________________________________________________________________________\n",
      "max_pooling2d_20 (MaxPooling2D) (None, 7, 32, 224)   0           tf_op_layer_concat_5[0][0]       \n",
      "__________________________________________________________________________________________________\n",
      "flatten_6 (Flatten)             (None, 50176)        0           max_pooling2d_20[0][0]           \n",
      "__________________________________________________________________________________________________\n",
      "dense_20 (Dense)                (None, 128)          6422656     flatten_6[0][0]                  \n",
      "__________________________________________________________________________________________________\n",
      "batch_normalization_4 (BatchNor (None, 128)          512         dense_20[0][0]                   \n",
      "__________________________________________________________________________________________________\n",
      "activation_10 (Activation)      (None, 128)          0           batch_normalization_4[0][0]      \n",
      "__________________________________________________________________________________________________\n",
      "dense_21 (Dense)                (None, 12)           1548        activation_10[0][0]              \n",
      "==================================================================================================\n",
      "Total params: 7,588,748\n",
      "Trainable params: 7,588,492\n",
      "Non-trainable params: 256\n",
      "__________________________________________________________________________________________________\n"
     ]
    }
   ],
   "source": [
    "shape_x, shape_y = train_wavs[0].shape\n",
    "model = make_model2D((shape_x, shape_y, 1), need_batch_normalization=True, need_skip_connection=True)"
   ]
  },
  {
   "cell_type": "markdown",
   "metadata": {},
   "source": [
    "모델 훈련"
   ]
  },
  {
   "cell_type": "code",
   "execution_count": 64,
   "metadata": {},
   "outputs": [
    {
     "name": "stdout",
     "output_type": "stream",
     "text": [
      "Epoch 1/20\n",
      "553/553 [==============================] - ETA: 0s - loss: 2.1515 - accuracy: 0.6586\n",
      "Epoch 00001: val_loss improved from inf to 1.73735, saving model to /home/ssac5/aiffel/speech_recognition/models/wav\n",
      "553/553 [==============================] - 49s 89ms/step - loss: 2.1515 - accuracy: 0.6586 - val_loss: 1.7374 - val_accuracy: 0.8514\n",
      "Epoch 2/20\n",
      "553/553 [==============================] - ETA: 0s - loss: 1.3929 - accuracy: 0.8616\n",
      "Epoch 00002: val_loss improved from 1.73735 to 1.00823, saving model to /home/ssac5/aiffel/speech_recognition/models/wav\n",
      "553/553 [==============================] - 49s 89ms/step - loss: 1.3929 - accuracy: 0.8616 - val_loss: 1.0082 - val_accuracy: 0.9000\n",
      "Epoch 3/20\n",
      "553/553 [==============================] - ETA: 0s - loss: 0.8362 - accuracy: 0.9149\n",
      "Epoch 00003: val_loss improved from 1.00823 to 0.64665, saving model to /home/ssac5/aiffel/speech_recognition/models/wav\n",
      "553/553 [==============================] - 49s 89ms/step - loss: 0.8362 - accuracy: 0.9149 - val_loss: 0.6466 - val_accuracy: 0.9265\n",
      "Epoch 4/20\n",
      "553/553 [==============================] - ETA: 0s - loss: 0.5169 - accuracy: 0.9424\n",
      "Epoch 00004: val_loss improved from 0.64665 to 0.45410, saving model to /home/ssac5/aiffel/speech_recognition/models/wav\n",
      "553/553 [==============================] - 49s 89ms/step - loss: 0.5169 - accuracy: 0.9424 - val_loss: 0.4541 - val_accuracy: 0.9286\n",
      "Epoch 5/20\n",
      "553/553 [==============================] - ETA: 0s - loss: 0.3354 - accuracy: 0.9601\n",
      "Epoch 00005: val_loss improved from 0.45410 to 0.34319, saving model to /home/ssac5/aiffel/speech_recognition/models/wav\n",
      "553/553 [==============================] - 49s 89ms/step - loss: 0.3354 - accuracy: 0.9601 - val_loss: 0.3432 - val_accuracy: 0.9381\n",
      "Epoch 6/20\n",
      "553/553 [==============================] - ETA: 0s - loss: 0.2340 - accuracy: 0.9700\n",
      "Epoch 00006: val_loss improved from 0.34319 to 0.30279, saving model to /home/ssac5/aiffel/speech_recognition/models/wav\n",
      "553/553 [==============================] - 49s 89ms/step - loss: 0.2340 - accuracy: 0.9700 - val_loss: 0.3028 - val_accuracy: 0.9394\n",
      "Epoch 7/20\n",
      "553/553 [==============================] - ETA: 0s - loss: 0.1725 - accuracy: 0.9766\n",
      "Epoch 00007: val_loss improved from 0.30279 to 0.26778, saving model to /home/ssac5/aiffel/speech_recognition/models/wav\n",
      "553/553 [==============================] - 49s 89ms/step - loss: 0.1725 - accuracy: 0.9766 - val_loss: 0.2678 - val_accuracy: 0.9377\n",
      "Epoch 8/20\n",
      "553/553 [==============================] - ETA: 0s - loss: 0.1306 - accuracy: 0.9810\n",
      "Epoch 00008: val_loss improved from 0.26778 to 0.24963, saving model to /home/ssac5/aiffel/speech_recognition/models/wav\n",
      "553/553 [==============================] - 49s 89ms/step - loss: 0.1306 - accuracy: 0.9810 - val_loss: 0.2496 - val_accuracy: 0.9397\n",
      "Epoch 9/20\n",
      "553/553 [==============================] - ETA: 0s - loss: 0.1097 - accuracy: 0.9827\n",
      "Epoch 00009: val_loss did not improve from 0.24963\n",
      "553/553 [==============================] - 49s 88ms/step - loss: 0.1097 - accuracy: 0.9827 - val_loss: 0.2749 - val_accuracy: 0.9322\n",
      "Epoch 10/20\n",
      "553/553 [==============================] - ETA: 0s - loss: 0.0930 - accuracy: 0.9837\n",
      "Epoch 00010: val_loss improved from 0.24963 to 0.20801, saving model to /home/ssac5/aiffel/speech_recognition/models/wav\n",
      "553/553 [==============================] - 49s 89ms/step - loss: 0.0930 - accuracy: 0.9837 - val_loss: 0.2080 - val_accuracy: 0.9474\n",
      "Epoch 11/20\n",
      "553/553 [==============================] - ETA: 0s - loss: 0.0771 - accuracy: 0.9857\n",
      "Epoch 00011: val_loss did not improve from 0.20801\n",
      "553/553 [==============================] - 49s 88ms/step - loss: 0.0771 - accuracy: 0.9857 - val_loss: 0.2309 - val_accuracy: 0.9389\n",
      "Epoch 12/20\n",
      "553/553 [==============================] - ETA: 0s - loss: 0.0731 - accuracy: 0.9854\n",
      "Epoch 00012: val_loss did not improve from 0.20801\n",
      "553/553 [==============================] - 49s 88ms/step - loss: 0.0731 - accuracy: 0.9854 - val_loss: 0.2206 - val_accuracy: 0.9410\n",
      "Epoch 13/20\n",
      "553/553 [==============================] - ETA: 0s - loss: 0.0599 - accuracy: 0.9879\n",
      "Epoch 00013: val_loss did not improve from 0.20801\n",
      "553/553 [==============================] - 49s 88ms/step - loss: 0.0599 - accuracy: 0.9879 - val_loss: 0.2307 - val_accuracy: 0.9382\n",
      "Epoch 14/20\n",
      "553/553 [==============================] - ETA: 0s - loss: 0.0549 - accuracy: 0.9884\n",
      "Epoch 00014: val_loss improved from 0.20801 to 0.20229, saving model to /home/ssac5/aiffel/speech_recognition/models/wav\n",
      "553/553 [==============================] - 49s 89ms/step - loss: 0.0549 - accuracy: 0.9884 - val_loss: 0.2023 - val_accuracy: 0.9447\n",
      "Epoch 15/20\n",
      "553/553 [==============================] - ETA: 0s - loss: 0.0515 - accuracy: 0.9887\n",
      "Epoch 00015: val_loss did not improve from 0.20229\n",
      "553/553 [==============================] - 49s 88ms/step - loss: 0.0515 - accuracy: 0.9887 - val_loss: 0.2100 - val_accuracy: 0.9444\n",
      "Epoch 16/20\n",
      "553/553 [==============================] - ETA: 0s - loss: 0.0411 - accuracy: 0.9910\n",
      "Epoch 00016: val_loss did not improve from 0.20229\n",
      "553/553 [==============================] - 49s 88ms/step - loss: 0.0411 - accuracy: 0.9910 - val_loss: 0.2175 - val_accuracy: 0.9417\n",
      "Epoch 17/20\n",
      "553/553 [==============================] - ETA: 0s - loss: 0.0466 - accuracy: 0.9891\n",
      "Epoch 00017: val_loss did not improve from 0.20229\n",
      "553/553 [==============================] - 49s 88ms/step - loss: 0.0466 - accuracy: 0.9891 - val_loss: 0.2156 - val_accuracy: 0.9417\n",
      "Epoch 18/20\n",
      "553/553 [==============================] - ETA: 0s - loss: 0.0420 - accuracy: 0.9894\n",
      "Epoch 00018: val_loss did not improve from 0.20229\n",
      "553/553 [==============================] - 49s 88ms/step - loss: 0.0420 - accuracy: 0.9894 - val_loss: 0.2097 - val_accuracy: 0.9460\n",
      "Epoch 19/20\n",
      "553/553 [==============================] - ETA: 0s - loss: 0.0333 - accuracy: 0.9921\n",
      "Epoch 00019: val_loss improved from 0.20229 to 0.19738, saving model to /home/ssac5/aiffel/speech_recognition/models/wav\n",
      "553/553 [==============================] - 49s 89ms/step - loss: 0.0333 - accuracy: 0.9921 - val_loss: 0.1974 - val_accuracy: 0.9478\n",
      "Epoch 20/20\n",
      "553/553 [==============================] - ETA: 0s - loss: 0.0358 - accuracy: 0.9912\n",
      "Epoch 00020: val_loss did not improve from 0.19738\n",
      "553/553 [==============================] - 49s 88ms/step - loss: 0.0358 - accuracy: 0.9912 - val_loss: 0.2484 - val_accuracy: 0.9375\n"
     ]
    }
   ],
   "source": [
    "checkpoint_dir = os.getenv('HOME')+'/aiffel/speech_recognition/models/wav'\n",
    "train_data_count = len(train_wavs)\n",
    "\n",
    "early_stopping = tf.keras.callbacks.EarlyStopping(patience=5)\n",
    "model_checkpoint = tf.keras.callbacks.ModelCheckpoint(checkpoint_dir,\n",
    "                                                 save_weights_only=True,\n",
    "                                                 monitor='val_loss',\n",
    "                                                 mode='auto',\n",
    "                                                 save_best_only=True,\n",
    "                                                 verbose=1)\n",
    "history = model.fit(train_dataset, epochs=20,\n",
    "                    steps_per_epoch=train_data_count // batch_size,\n",
    "                    validation_data=val_dataset,\n",
    "                    callbacks=[early_stopping, model_checkpoint]\n",
    "                    )"
   ]
  },
  {
   "cell_type": "markdown",
   "metadata": {},
   "source": [
    "모델 훈련 과정 확인"
   ]
  },
  {
   "cell_type": "code",
   "execution_count": 65,
   "metadata": {
    "scrolled": true
   },
   "outputs": [
    {
     "data": {
      "image/png": "[encoded data removed]",
      "text/plain": [
       "<Figure size 720x360 with 2 Axes>"
      ]
     },
     "metadata": {
      "needs_background": "light"
     },
     "output_type": "display_data"
    }
   ],
   "source": [
    "draw_graph(history)"
   ]
  },
  {
   "cell_type": "markdown",
   "metadata": {},
   "source": [
    "모델 시험"
   ]
  },
  {
   "cell_type": "code",
   "execution_count": 66,
   "metadata": {
    "scrolled": true
   },
   "outputs": [
    {
     "name": "stdout",
     "output_type": "stream",
     "text": [
      "80/80 [==============================] - 1s 17ms/step - loss: 0.1829 - accuracy: 0.9510\n",
      "[0.18290798366069794, 0.9510074853897095]\n"
     ]
    }
   ],
   "source": [
    "evaluate_result(model, checkpoint_dir, test_dataset)"
   ]
  },
  {
   "cell_type": "markdown",
   "metadata": {},
   "source": [
    "임의의 결과 확인하기"
   ]
  },
  {
   "cell_type": "code",
   "execution_count": 67,
   "metadata": {
    "scrolled": true
   },
   "outputs": [
    {
     "name": "stdout",
     "output_type": "stream",
     "text": [
      "예상값:  left\n",
      "실제값:  right\n",
      "-------------------------------------\n",
      "예상값:  on\n",
      "실제값:  on\n",
      "-------------------------------------\n",
      "예상값:  down\n",
      "실제값:  down\n",
      "-------------------------------------\n",
      "예상값:  left\n",
      "실제값:  left\n",
      "-------------------------------------\n",
      "예상값:  unknown\n",
      "실제값:  unknown\n",
      "-------------------------------------\n",
      "예상값:  yes\n",
      "실제값:  yes\n",
      "-------------------------------------\n",
      "예상값:  on\n",
      "실제값:  on\n",
      "-------------------------------------\n",
      "예상값:  right\n",
      "실제값:  right\n",
      "-------------------------------------\n",
      "예상값:  yes\n",
      "실제값:  yes\n",
      "-------------------------------------\n",
      "예상값:  silence\n",
      "실제값:  silence\n",
      "-------------------------------------\n"
     ]
    }
   ],
   "source": [
    "test_audio(model, test_wavs, test_labels, label_to_idx)"
   ]
  },
  {
   "cell_type": "markdown",
   "metadata": {},
   "source": [
    "### dropout, batch normalization, skip connection 모두 사용"
   ]
  },
  {
   "cell_type": "markdown",
   "metadata": {},
   "source": [
    "모델 생성"
   ]
  },
  {
   "cell_type": "code",
   "execution_count": 68,
   "metadata": {
    "scrolled": true
   },
   "outputs": [
    {
     "name": "stdout",
     "output_type": "stream",
     "text": [
      "Model: \"model_11\"\n",
      "__________________________________________________________________________________________________\n",
      "Layer (type)                    Output Shape         Param #     Connected to                     \n",
      "==================================================================================================\n",
      "input_12 (InputLayer)           [(None, 63, 257, 1)] 0                                            \n",
      "__________________________________________________________________________________________________\n",
      "conv2d_21 (Conv2D)              (None, 63, 257, 32)  2624        input_12[0][0]                   \n",
      "__________________________________________________________________________________________________\n",
      "max_pooling2d_21 (MaxPooling2D) (None, 31, 128, 32)  0           conv2d_21[0][0]                  \n",
      "__________________________________________________________________________________________________\n",
      "conv2d_22 (Conv2D)              (None, 31, 128, 64)  165952      max_pooling2d_21[0][0]           \n",
      "__________________________________________________________________________________________________\n",
      "tf_op_layer_concat_6 (TensorFlo [(None, 31, 128, 96) 0           conv2d_22[0][0]                  \n",
      "                                                                 max_pooling2d_21[0][0]           \n",
      "__________________________________________________________________________________________________\n",
      "max_pooling2d_22 (MaxPooling2D) (None, 15, 64, 96)   0           tf_op_layer_concat_6[0][0]       \n",
      "__________________________________________________________________________________________________\n",
      "conv2d_23 (Conv2D)              (None, 15, 64, 128)  995456      max_pooling2d_22[0][0]           \n",
      "__________________________________________________________________________________________________\n",
      "tf_op_layer_concat_7 (TensorFlo [(None, 15, 64, 224) 0           conv2d_23[0][0]                  \n",
      "                                                                 max_pooling2d_22[0][0]           \n",
      "__________________________________________________________________________________________________\n",
      "max_pooling2d_23 (MaxPooling2D) (None, 7, 32, 224)   0           tf_op_layer_concat_7[0][0]       \n",
      "__________________________________________________________________________________________________\n",
      "dropout_7 (Dropout)             (None, 7, 32, 224)   0           max_pooling2d_23[0][0]           \n",
      "__________________________________________________________________________________________________\n",
      "flatten_7 (Flatten)             (None, 50176)        0           dropout_7[0][0]                  \n",
      "__________________________________________________________________________________________________\n",
      "dense_22 (Dense)                (None, 128)          6422656     flatten_7[0][0]                  \n",
      "__________________________________________________________________________________________________\n",
      "batch_normalization_5 (BatchNor (None, 128)          512         dense_22[0][0]                   \n",
      "__________________________________________________________________________________________________\n",
      "activation_11 (Activation)      (None, 128)          0           batch_normalization_5[0][0]      \n",
      "__________________________________________________________________________________________________\n",
      "dense_23 (Dense)                (None, 12)           1548        activation_11[0][0]              \n",
      "==================================================================================================\n",
      "Total params: 7,588,748\n",
      "Trainable params: 7,588,492\n",
      "Non-trainable params: 256\n",
      "__________________________________________________________________________________________________\n"
     ]
    }
   ],
   "source": [
    "shape_x, shape_y = train_wavs[0].shape\n",
    "model = make_model2D((shape_x, shape_y, 1), need_dropout=True, need_batch_normalization=True, need_skip_connection=True)"
   ]
  },
  {
   "cell_type": "markdown",
   "metadata": {},
   "source": [
    "모델 훈련"
   ]
  },
  {
   "cell_type": "code",
   "execution_count": 69,
   "metadata": {},
   "outputs": [
    {
     "name": "stdout",
     "output_type": "stream",
     "text": [
      "Epoch 1/20\n",
      "553/553 [==============================] - ETA: 0s - loss: 2.1667 - accuracy: 0.6387\n",
      "Epoch 00001: val_loss improved from inf to 1.71319, saving model to /home/ssac5/aiffel/speech_recognition/models/wav\n",
      "553/553 [==============================] - 50s 90ms/step - loss: 2.1667 - accuracy: 0.6387 - val_loss: 1.7132 - val_accuracy: 0.8321\n",
      "Epoch 2/20\n",
      "553/553 [==============================] - ETA: 0s - loss: 1.4228 - accuracy: 0.8496\n",
      "Epoch 00002: val_loss improved from 1.71319 to 1.05801, saving model to /home/ssac5/aiffel/speech_recognition/models/wav\n",
      "553/553 [==============================] - 50s 90ms/step - loss: 1.4228 - accuracy: 0.8496 - val_loss: 1.0580 - val_accuracy: 0.8896\n",
      "Epoch 3/20\n",
      "553/553 [==============================] - ETA: 0s - loss: 0.8733 - accuracy: 0.9058\n",
      "Epoch 00003: val_loss improved from 1.05801 to 0.67223, saving model to /home/ssac5/aiffel/speech_recognition/models/wav\n",
      "553/553 [==============================] - 50s 90ms/step - loss: 0.8733 - accuracy: 0.9058 - val_loss: 0.6722 - val_accuracy: 0.9239\n",
      "Epoch 4/20\n",
      "553/553 [==============================] - ETA: 0s - loss: 0.5515 - accuracy: 0.9341\n",
      "Epoch 00004: val_loss improved from 0.67223 to 0.47017, saving model to /home/ssac5/aiffel/speech_recognition/models/wav\n",
      "553/553 [==============================] - 50s 90ms/step - loss: 0.5515 - accuracy: 0.9341 - val_loss: 0.4702 - val_accuracy: 0.9268\n",
      "Epoch 5/20\n",
      "553/553 [==============================] - ETA: 0s - loss: 0.3675 - accuracy: 0.9525\n",
      "Epoch 00005: val_loss improved from 0.47017 to 0.37039, saving model to /home/ssac5/aiffel/speech_recognition/models/wav\n",
      "553/553 [==============================] - 50s 90ms/step - loss: 0.3675 - accuracy: 0.9525 - val_loss: 0.3704 - val_accuracy: 0.9378\n",
      "Epoch 6/20\n",
      "553/553 [==============================] - ETA: 0s - loss: 0.2611 - accuracy: 0.9639\n",
      "Epoch 00006: val_loss improved from 0.37039 to 0.28938, saving model to /home/ssac5/aiffel/speech_recognition/models/wav\n",
      "553/553 [==============================] - 50s 90ms/step - loss: 0.2611 - accuracy: 0.9639 - val_loss: 0.2894 - val_accuracy: 0.9449\n",
      "Epoch 7/20\n",
      "553/553 [==============================] - ETA: 0s - loss: 0.1974 - accuracy: 0.9706\n",
      "Epoch 00007: val_loss improved from 0.28938 to 0.25570, saving model to /home/ssac5/aiffel/speech_recognition/models/wav\n",
      "553/553 [==============================] - 49s 90ms/step - loss: 0.1974 - accuracy: 0.9706 - val_loss: 0.2557 - val_accuracy: 0.9425\n",
      "Epoch 8/20\n",
      "553/553 [==============================] - ETA: 0s - loss: 0.1580 - accuracy: 0.9744\n",
      "Epoch 00008: val_loss improved from 0.25570 to 0.23020, saving model to /home/ssac5/aiffel/speech_recognition/models/wav\n",
      "553/553 [==============================] - 50s 90ms/step - loss: 0.1580 - accuracy: 0.9744 - val_loss: 0.2302 - val_accuracy: 0.9447\n",
      "Epoch 9/20\n",
      "553/553 [==============================] - ETA: 0s - loss: 0.1284 - accuracy: 0.9778\n",
      "Epoch 00009: val_loss improved from 0.23020 to 0.22098, saving model to /home/ssac5/aiffel/speech_recognition/models/wav\n",
      "553/553 [==============================] - 50s 90ms/step - loss: 0.1284 - accuracy: 0.9778 - val_loss: 0.2210 - val_accuracy: 0.9437\n",
      "Epoch 10/20\n",
      "553/553 [==============================] - ETA: 0s - loss: 0.1123 - accuracy: 0.9786\n",
      "Epoch 00010: val_loss improved from 0.22098 to 0.21251, saving model to /home/ssac5/aiffel/speech_recognition/models/wav\n",
      "553/553 [==============================] - 50s 90ms/step - loss: 0.1123 - accuracy: 0.9786 - val_loss: 0.2125 - val_accuracy: 0.9448\n",
      "Epoch 11/20\n",
      "553/553 [==============================] - ETA: 0s - loss: 0.0997 - accuracy: 0.9798\n",
      "Epoch 00011: val_loss improved from 0.21251 to 0.19935, saving model to /home/ssac5/aiffel/speech_recognition/models/wav\n",
      "553/553 [==============================] - 49s 89ms/step - loss: 0.0997 - accuracy: 0.9798 - val_loss: 0.1993 - val_accuracy: 0.9476\n",
      "Epoch 12/20\n",
      "553/553 [==============================] - ETA: 0s - loss: 0.0843 - accuracy: 0.9825\n",
      "Epoch 00012: val_loss did not improve from 0.19935\n",
      "553/553 [==============================] - 49s 89ms/step - loss: 0.0843 - accuracy: 0.9825 - val_loss: 0.2044 - val_accuracy: 0.9455\n",
      "Epoch 13/20\n",
      "553/553 [==============================] - ETA: 0s - loss: 0.0738 - accuracy: 0.9842\n",
      "Epoch 00013: val_loss improved from 0.19935 to 0.18445, saving model to /home/ssac5/aiffel/speech_recognition/models/wav\n",
      "553/553 [==============================] - 50s 90ms/step - loss: 0.0738 - accuracy: 0.9842 - val_loss: 0.1844 - val_accuracy: 0.9488\n",
      "Epoch 14/20\n",
      "553/553 [==============================] - ETA: 0s - loss: 0.0680 - accuracy: 0.9845\n",
      "Epoch 00014: val_loss did not improve from 0.18445\n",
      "553/553 [==============================] - 49s 89ms/step - loss: 0.0680 - accuracy: 0.9845 - val_loss: 0.2022 - val_accuracy: 0.9439\n",
      "Epoch 15/20\n",
      "553/553 [==============================] - ETA: 0s - loss: 0.0609 - accuracy: 0.9862\n",
      "Epoch 00015: val_loss did not improve from 0.18445\n",
      "553/553 [==============================] - 49s 89ms/step - loss: 0.0609 - accuracy: 0.9862 - val_loss: 0.1956 - val_accuracy: 0.9449\n",
      "Epoch 16/20\n",
      "553/553 [==============================] - ETA: 0s - loss: 0.0569 - accuracy: 0.9867\n",
      "Epoch 00016: val_loss did not improve from 0.18445\n",
      "553/553 [==============================] - 49s 89ms/step - loss: 0.0569 - accuracy: 0.9867 - val_loss: 0.1957 - val_accuracy: 0.9481\n",
      "Epoch 17/20\n",
      "553/553 [==============================] - ETA: 0s - loss: 0.0562 - accuracy: 0.9862\n",
      "Epoch 00017: val_loss did not improve from 0.18445\n",
      "553/553 [==============================] - 49s 89ms/step - loss: 0.0562 - accuracy: 0.9862 - val_loss: 0.2134 - val_accuracy: 0.9407\n",
      "Epoch 18/20\n",
      "553/553 [==============================] - ETA: 0s - loss: 0.0508 - accuracy: 0.9873\n",
      "Epoch 00018: val_loss did not improve from 0.18445\n",
      "553/553 [==============================] - 49s 89ms/step - loss: 0.0508 - accuracy: 0.9873 - val_loss: 0.1887 - val_accuracy: 0.9467\n"
     ]
    }
   ],
   "source": [
    "checkpoint_dir = os.getenv('HOME')+'/aiffel/speech_recognition/models/wav'\n",
    "train_data_count = len(train_wavs)\n",
    "\n",
    "early_stopping = tf.keras.callbacks.EarlyStopping(patience=5)\n",
    "model_checkpoint = tf.keras.callbacks.ModelCheckpoint(checkpoint_dir,\n",
    "                                                 save_weights_only=True,\n",
    "                                                 monitor='val_loss',\n",
    "                                                 mode='auto',\n",
    "                                                 save_best_only=True,\n",
    "                                                 verbose=1)\n",
    "history = model.fit(train_dataset, epochs=20,\n",
    "                    steps_per_epoch=train_data_count // batch_size,\n",
    "                    validation_data=val_dataset,\n",
    "                    callbacks=[early_stopping, model_checkpoint]\n",
    "                    )"
   ]
  },
  {
   "cell_type": "markdown",
   "metadata": {},
   "source": [
    "모델 훈련 과정 확인"
   ]
  },
  {
   "cell_type": "code",
   "execution_count": 70,
   "metadata": {
    "scrolled": true
   },
   "outputs": [
    {
     "data": {
      "image/png": "[encoded data removed]",
      "text/plain": [
       "<Figure size 720x360 with 2 Axes>"
      ]
     },
     "metadata": {
      "needs_background": "light"
     },
     "output_type": "display_data"
    }
   ],
   "source": [
    "draw_graph(history)"
   ]
  },
  {
   "cell_type": "markdown",
   "metadata": {},
   "source": [
    "모델 시험"
   ]
  },
  {
   "cell_type": "code",
   "execution_count": 71,
   "metadata": {
    "scrolled": true
   },
   "outputs": [
    {
     "name": "stdout",
     "output_type": "stream",
     "text": [
      "80/80 [==============================] - 1s 17ms/step - loss: 0.1674 - accuracy: 0.9534\n",
      "[0.16744129359722137, 0.9533781409263611]\n"
     ]
    }
   ],
   "source": [
    "evaluate_result(model, checkpoint_dir, test_dataset)"
   ]
  },
  {
   "cell_type": "markdown",
   "metadata": {},
   "source": [
    "임의의 결과 확인하기"
   ]
  },
  {
   "cell_type": "code",
   "execution_count": 72,
   "metadata": {
    "scrolled": true
   },
   "outputs": [
    {
     "name": "stdout",
     "output_type": "stream",
     "text": [
      "예상값:  silence\n",
      "실제값:  silence\n",
      "-------------------------------------\n",
      "예상값:  down\n",
      "실제값:  down\n",
      "-------------------------------------\n",
      "예상값:  left\n",
      "실제값:  left\n",
      "-------------------------------------\n",
      "예상값:  up\n",
      "실제값:  up\n",
      "-------------------------------------\n",
      "예상값:  left\n",
      "실제값:  left\n",
      "-------------------------------------\n",
      "예상값:  silence\n",
      "실제값:  silence\n",
      "-------------------------------------\n",
      "예상값:  down\n",
      "실제값:  down\n",
      "-------------------------------------\n",
      "예상값:  right\n",
      "실제값:  right\n",
      "-------------------------------------\n",
      "예상값:  off\n",
      "실제값:  off\n",
      "-------------------------------------\n",
      "예상값:  up\n",
      "실제값:  up\n",
      "-------------------------------------\n"
     ]
    }
   ],
   "source": [
    "test_audio(model, test_wavs, test_labels, label_to_idx)"
   ]
  },
  {
   "cell_type": "markdown",
   "metadata": {},
   "source": [
    "------------------------------------"
   ]
  },
  {
   "cell_type": "markdown",
   "metadata": {},
   "source": [
    "# 결론"
   ]
  },
  {
   "cell_type": "markdown",
   "metadata": {},
   "source": [
    "LSTM과 Conv2D를 사용하여 모델을 만들었다   \n",
    "   \n",
    "LSTM을 사용한 모델은 약 93% 정도의 성능을 얻었고, dropout과 batch normalization등의 영향은 적었다.   \n",
    "오히려 dropout과  batch normalization 모두 사용하지 않은 경우가 약간이라도 더 좋은 성능을 보였다.   \n",
    "성능에 더 큰 영향을 끼친 것은 LSTM층의 갯수였다. LSTM층이 많아질수록 높은 성능을 보였고 4개 이상에서는 성능 증가가 없거나 하락하였다.   \n",
    "LSTM이후 dropout과 skip connection을 모두 적용하는 방법을 찾지 못해 skip connection은 제외하였다.   \n",
    "\n",
    "Conv2D를 사용한 모델은 batch normalization을 사용하지 않은 경우 학습이 전혀 이루어지지 않았다.   \n",
    "훈련 데이터가 batch로 입력되기 때문이지 않을까 추측된다.   \n",
    "batch normalization을 사용한 경우 약 95% 정도의 성능을 얻었고, dropout과 skip connection의 영향은 미미했다.   \n",
    "\n",
    "두가지 모델 모두 아웃풋이 one-hot 디코딩이기 때문에 활성화 함수로 relu를 사용하지 않고, softmax와 sigmoid를 사용하였다.   \n",
    "softmax를 사용한 경우와 sigmoid를 사용한 경우는 큰 차이를 보이지 않았지만, relu를 사용한 경우에는 성능이 크게 하락했다."
   ]
  },
  {
   "cell_type": "code",
   "execution_count": null,
   "metadata": {},
   "outputs": [],
   "source": []
  }
 ],
 "metadata": {
  "kernelspec": {
   "display_name": "aiffel",
   "language": "python",
   "name": "aiffel"
  },
  "language_info": {
   "codemirror_mode": {
    "name": "ipython",
    "version": 3
   },
   "file_extension": ".py",
   "mimetype": "text/x-python",
   "name": "python",
   "nbconvert_exporter": "python",
   "pygments_lexer": "ipython3",
   "version": "3.7.9"
  }
 },
 "nbformat": 4,
 "nbformat_minor": 4
}

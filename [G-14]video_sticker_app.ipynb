{
 "cells": [
  {
   "cell_type": "markdown",
   "id": "variable-polls",
   "metadata": {},
   "source": [
    "# 문제점 해결"
   ]
  },
  {
   "cell_type": "markdown",
   "id": "generous-toddler",
   "metadata": {},
   "source": [
    "### 얼굴의 회전/기울임에 따른 문제"
   ]
  },
  {
   "cell_type": "markdown",
   "id": "unknown-sight",
   "metadata": {},
   "source": [
    "얼굴이 좌우, 위아래로 회전/기울어질 경우 스티커의 모양은 그대로이므로 부자연스럽다.  \n",
    "얼굴의 회전/기울임에 따라 스티커의 모양도 변형해주면 자연스럽게 보일 것으로 보인다.   \n",
    "이를 위한 방법으로는 dlib에서 제공하는 얼굴의 포인트중 좌상, 좌하, 우상, 우하단의 점을 뽑아 사각형으로 행렬을 얻어낸다.   \n",
    "이 행렬을 기준으로 스티커이미지를 AFFINE 변환하면 얼굴형 사각형에 따라 스티커도 동일하게 변화하므로 자연스럽게 보일 수 있다.   "
   ]
  },
  {
   "cell_type": "markdown",
   "id": "relative-fifth",
   "metadata": {},
   "source": [
    "### 얼굴 크기에 따른 문제"
   ]
  },
  {
   "cell_type": "markdown",
   "id": "imported-nylon",
   "metadata": {},
   "source": [
    "LMS에 제공된 소스 중 얼굴 영역 사각형의 넓이가 100 이하인 경우 추론하지 않도록 하고 있다.   \n",
    "이 제한을 제외하면 일부 해소 된다.   \n",
    "다만, dlib자체가 가진 분해 능력은 여전히 제한점으로 남게 된다."
   ]
  },
  {
   "cell_type": "markdown",
   "id": "shaped-mineral",
   "metadata": {},
   "source": [
    "### 사람 수에 따른 문제"
   ]
  },
  {
   "cell_type": "markdown",
   "id": "happy-angel",
   "metadata": {},
   "source": [
    "dlib가 제공하는 detection갯수를 조정한다.   "
   ]
  },
  {
   "cell_type": "markdown",
   "id": "aggregate-entry",
   "metadata": {},
   "source": [
    "# 수정된 코드"
   ]
  },
  {
   "cell_type": "markdown",
   "id": "interracial-clinton",
   "metadata": {},
   "source": [
    "LMS에 제공된 파일 중 newaddsticker.py만 수정되었다.   \n",
    "좌우 영역을 넘어갔을때 발생되는 오류의 수정은 이미 되어 있으므로 칼만 필터 적용만 수정되었다."
   ]
  },
  {
   "cell_type": "code",
   "execution_count": null,
   "id": "confused-institution",
   "metadata": {},
   "outputs": [],
   "source": [
    "import dlib\n",
    "import cv2\n",
    "\n",
    "import numpy as np          # 추가\n",
    "from kpkf import tracker    # 추가\n",
    "\n",
    "box_tracker = tracker(num_points=2, sys_err=0.5, measure_err=1000) # 추가\n",
    "\n",
    "def img2sticker(img_orig, img_sticker, detector_hog, landmark_predictor):\n",
    "    img_rgb = cv2.cvtColor(img_orig, cv2.COLOR_BGR2RGB)\n",
    "    \n",
    "    img_rgb_vga = cv2.resize(img_rgb, (640, 360))\n",
    "    dlib_rects = detector_hog(img_rgb_vga, 1)\n",
    "    if len(dlib_rects) < 1:\n",
    "        return img_orig\n",
    "\n",
    "    # 추가\n",
    "    if len(dlib_rects) == 1:\n",
    "        bbox = dlib_rects[0]\n",
    "        list_input = [(bbox.left(), bbox.top()), (bbox.right(), bbox.bottom())]\n",
    "        np_estimate = np.array(box_tracker.process(list_input))\n",
    "        np_est_points = np_estimate.reshape(2, 3)[:,:2].astype(int)\n",
    "        l,t,r,b = np_est_points.flatten()\n",
    "        # if (b-t)*(r-l) > 100: 제외\n",
    "        dlib_rects[0] = dlib.rectangle(left=l,top=t,right=r,bottom=b)\n",
    "    \n",
    "    list_landmarks = []\n",
    "    for dlib_rect in dlib_rects:\n",
    "        points = landmark_predictor(img_rgb, dlib_rect)\n",
    "        list_points = list(map(lambda p: (p.x, p.y), points.parts()))\n",
    "        list_landmarks.append(list_points)\n",
    "    \n",
    "    for dlib_rect, landmark in zip(dlib_rects, list_landmarks):\n",
    "        x = landmark[30][0]\n",
    "        y = landmark[30][1] - dlib_rect.width()//2\n",
    "        w = dlib_rect.width()\n",
    "        h = dlib_rect.width()\n",
    "        break\n",
    "    \n",
    "    img_sticker = cv2.resize(img_sticker, (w,h), interpolation=cv2.INTER_NEAREST)\n",
    "    \n",
    "    refined_x = x - w // 2\n",
    "    refined_y = y - h\n",
    "    \n",
    "    if refined_y < 0:\n",
    "        img_sticker = img_sticker[-refined_y:]\n",
    "        refined_y = 0\n",
    "\n",
    "    if refined_x < 0:\n",
    "        img_sticker = img_sticker[:, -refined_x:]\n",
    "        refined_x = 0\n",
    "    elif refined_x + img_sticker.shape[1] >= img_orig.shape[1]:\n",
    "        img_sticker = img_sticker[:, :-(img_sticker.shape[1]+refined_x-img_orig.shape[1])]\n",
    "\n",
    "    img_bgr = img_orig.copy()\n",
    "    sticker_area = img_bgr[refined_y:refined_y+img_sticker.shape[0], refined_x:refined_x+img_sticker.shape[1]]\n",
    "\n",
    "    img_bgr[refined_y:refined_y+img_sticker.shape[0], refined_x:refined_x+img_sticker.shape[1]] = \\\n",
    "        cv2.addWeighted(sticker_area, 1.0, img_sticker, 0.7, 0)\n",
    "\n",
    "    return img_bgr"
   ]
  },
  {
   "cell_type": "markdown",
   "id": "professional-nudist",
   "metadata": {},
   "source": [
    "# 결론"
   ]
  },
  {
   "cell_type": "markdown",
   "id": "spiritual-respondent",
   "metadata": {},
   "source": [
    "칼만 필터가 적용되었을 때 스티커의 흔들림은 줄어들었다. 하지만 약간의 흔들림은 지속 되었다.   \n",
    "또한, 프레임 중간에 얼굴 영역이 검출되지 않는 프레임이 있는 경우 스티커가 깜빡이는 현상을 없앨 수 없었다.   "
   ]
  },
  {
   "cell_type": "code",
   "execution_count": null,
   "id": "loved-judges",
   "metadata": {},
   "outputs": [],
   "source": []
  }
 ],
 "metadata": {
  "kernelspec": {
   "display_name": "aiffel",
   "language": "python",
   "name": "aiffel"
  },
  "language_info": {
   "codemirror_mode": {
    "name": "ipython",
    "version": 3
   },
   "file_extension": ".py",
   "mimetype": "text/x-python",
   "name": "python",
   "nbconvert_exporter": "python",
   "pygments_lexer": "ipython3",
   "version": "3.7.9"
  }
 },
 "nbformat": 4,
 "nbformat_minor": 5
}
